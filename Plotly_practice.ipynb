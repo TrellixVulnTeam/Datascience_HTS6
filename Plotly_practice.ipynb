{
 "cells": [
  {
   "cell_type": "code",
   "execution_count": 15,
   "metadata": {},
   "outputs": [
    {
     "name": "stderr",
     "output_type": "stream",
     "text": [
      "/home/akshay/anaconda3/lib/python3.7/site-packages/IPython/core/interactiveshell.py:3057: DtypeWarning:\n",
      "\n",
      "Columns (23) have mixed types. Specify dtype option on import or set low_memory=False.\n",
      "\n"
     ]
    },
    {
     "data": {
      "text/html": [
       "<div>\n",
       "<style scoped>\n",
       "    .dataframe tbody tr th:only-of-type {\n",
       "        vertical-align: middle;\n",
       "    }\n",
       "\n",
       "    .dataframe tbody tr th {\n",
       "        vertical-align: top;\n",
       "    }\n",
       "\n",
       "    .dataframe thead th {\n",
       "        text-align: right;\n",
       "    }\n",
       "</style>\n",
       "<table border=\"1\" class=\"dataframe\">\n",
       "  <thead>\n",
       "    <tr style=\"text-align: right;\">\n",
       "      <th></th>\n",
       "      <th>Unnamed: 0</th>\n",
       "      <th>Season</th>\n",
       "      <th>Player</th>\n",
       "      <th>Age</th>\n",
       "      <th>Tm</th>\n",
       "      <th>Pos</th>\n",
       "      <th>GP</th>\n",
       "      <th>G</th>\n",
       "      <th>GPG</th>\n",
       "      <th>A</th>\n",
       "      <th>...</th>\n",
       "      <th>SHA</th>\n",
       "      <th>S</th>\n",
       "      <th>S%</th>\n",
       "      <th>TOI</th>\n",
       "      <th>ATOI</th>\n",
       "      <th>BLK</th>\n",
       "      <th>HIT</th>\n",
       "      <th>FOwin</th>\n",
       "      <th>FOloss</th>\n",
       "      <th>FO%</th>\n",
       "    </tr>\n",
       "  </thead>\n",
       "  <tbody>\n",
       "    <tr>\n",
       "      <th>0</th>\n",
       "      <td>2018Justin Abdelkader</td>\n",
       "      <td>2018</td>\n",
       "      <td>Justin Abdelkader</td>\n",
       "      <td>30.0</td>\n",
       "      <td>DET</td>\n",
       "      <td>LW</td>\n",
       "      <td>75</td>\n",
       "      <td>13</td>\n",
       "      <td>0.1733</td>\n",
       "      <td>22</td>\n",
       "      <td>...</td>\n",
       "      <td>-</td>\n",
       "      <td>110</td>\n",
       "      <td>12</td>\n",
       "      <td>1241.0</td>\n",
       "      <td>16:33</td>\n",
       "      <td>40.0</td>\n",
       "      <td>174.0</td>\n",
       "      <td>47.0</td>\n",
       "      <td>50.0</td>\n",
       "      <td>48.5</td>\n",
       "    </tr>\n",
       "    <tr>\n",
       "      <th>1</th>\n",
       "      <td>2018Pontus Aberg</td>\n",
       "      <td>2018</td>\n",
       "      <td>Pontus Aberg</td>\n",
       "      <td>24.0</td>\n",
       "      <td>TOT</td>\n",
       "      <td>LW</td>\n",
       "      <td>53</td>\n",
       "      <td>4</td>\n",
       "      <td>0.0755</td>\n",
       "      <td>12</td>\n",
       "      <td>...</td>\n",
       "      <td>-</td>\n",
       "      <td>70</td>\n",
       "      <td>6</td>\n",
       "      <td>645.0</td>\n",
       "      <td>12:10</td>\n",
       "      <td>8.0</td>\n",
       "      <td>24.0</td>\n",
       "      <td>4.0</td>\n",
       "      <td>8.0</td>\n",
       "      <td>33.3</td>\n",
       "    </tr>\n",
       "    <tr>\n",
       "      <th>2</th>\n",
       "      <td>2018Noel Acciari</td>\n",
       "      <td>2018</td>\n",
       "      <td>Noel Acciari</td>\n",
       "      <td>26.0</td>\n",
       "      <td>BOS</td>\n",
       "      <td>C</td>\n",
       "      <td>60</td>\n",
       "      <td>10</td>\n",
       "      <td>0.1667</td>\n",
       "      <td>1</td>\n",
       "      <td>...</td>\n",
       "      <td>-</td>\n",
       "      <td>66</td>\n",
       "      <td>15</td>\n",
       "      <td>775.0</td>\n",
       "      <td>12:55</td>\n",
       "      <td>41.0</td>\n",
       "      <td>152.0</td>\n",
       "      <td>42.0</td>\n",
       "      <td>51.0</td>\n",
       "      <td>45.2</td>\n",
       "    </tr>\n",
       "    <tr>\n",
       "      <th>3</th>\n",
       "      <td>2018Kenny Agostino</td>\n",
       "      <td>2018</td>\n",
       "      <td>Kenny Agostino</td>\n",
       "      <td>25.0</td>\n",
       "      <td>BOS</td>\n",
       "      <td>LW</td>\n",
       "      <td>5</td>\n",
       "      <td>-</td>\n",
       "      <td>0.0000</td>\n",
       "      <td>1</td>\n",
       "      <td>...</td>\n",
       "      <td>-</td>\n",
       "      <td>11</td>\n",
       "      <td>-</td>\n",
       "      <td>60.0</td>\n",
       "      <td>12:03</td>\n",
       "      <td>1.0</td>\n",
       "      <td>4.0</td>\n",
       "      <td>0.0</td>\n",
       "      <td>1.0</td>\n",
       "      <td>0.0</td>\n",
       "    </tr>\n",
       "    <tr>\n",
       "      <th>4</th>\n",
       "      <td>2018Sebastian Aho</td>\n",
       "      <td>2018</td>\n",
       "      <td>Sebastian Aho</td>\n",
       "      <td>20.0</td>\n",
       "      <td>CAR</td>\n",
       "      <td>RW</td>\n",
       "      <td>78</td>\n",
       "      <td>29</td>\n",
       "      <td>0.3718</td>\n",
       "      <td>36</td>\n",
       "      <td>...</td>\n",
       "      <td>-</td>\n",
       "      <td>200</td>\n",
       "      <td>15</td>\n",
       "      <td>1398.0</td>\n",
       "      <td>17:55</td>\n",
       "      <td>17.0</td>\n",
       "      <td>65.0</td>\n",
       "      <td>78.0</td>\n",
       "      <td>94.0</td>\n",
       "      <td>45.3</td>\n",
       "    </tr>\n",
       "  </tbody>\n",
       "</table>\n",
       "<p>5 rows × 29 columns</p>\n",
       "</div>"
      ],
      "text/plain": [
       "              Unnamed: 0  Season             Player   Age     Tm   Pos  GP  \\\n",
       "0  2018Justin Abdelkader    2018  Justin Abdelkader  30.0   DET    LW   75   \n",
       "1       2018Pontus Aberg    2018       Pontus Aberg  24.0   TOT    LW   53   \n",
       "2       2018Noel Acciari    2018       Noel Acciari  26.0   BOS     C   60   \n",
       "3     2018Kenny Agostino    2018     Kenny Agostino  25.0   BOS    LW    5   \n",
       "4      2018Sebastian Aho    2018      Sebastian Aho  20.0   CAR    RW   78   \n",
       "\n",
       "       G     GPG   A  ...    SHA    S     S%     TOI   ATOI   BLK    HIT  \\\n",
       "0     13  0.1733  22  ...   -     110     12  1241.0  16:33  40.0  174.0   \n",
       "1      4  0.0755  12  ...   -      70      6   645.0  12:10   8.0   24.0   \n",
       "2     10  0.1667   1  ...   -      66     15   775.0  12:55  41.0  152.0   \n",
       "3   -     0.0000   1  ...   -      11   -       60.0  12:03   1.0    4.0   \n",
       "4     29  0.3718  36  ...   -     200     15  1398.0  17:55  17.0   65.0   \n",
       "\n",
       "  FOwin FOloss   FO%  \n",
       "0  47.0   50.0  48.5  \n",
       "1   4.0    8.0  33.3  \n",
       "2  42.0   51.0  45.2  \n",
       "3   0.0    1.0   0.0  \n",
       "4  78.0   94.0  45.3  \n",
       "\n",
       "[5 rows x 29 columns]"
      ]
     },
     "execution_count": 15,
     "metadata": {},
     "output_type": "execute_result"
    }
   ],
   "source": [
    "import pandas as pd\n",
    "\n",
    "data = pd.read_csv('skater_stats.csv', delimiter=',',encoding='utf-8')\n",
    "data.head()\n",
    "\n",
    "\n",
    "\n",
    "# data_2018 = data[data['Season']==2018]\n",
    "# data_1980 = data[data['Season']==1980]\n",
    "# data_2000 = data[data['Season']==2000]\n"
   ]
  },
  {
   "cell_type": "code",
   "execution_count": 2,
   "metadata": {},
   "outputs": [
    {
     "data": {
      "text/plain": [
       "Index(['Unnamed: 0', 'Season', 'Player', 'Age', 'Tm', 'Pos', 'GP', 'G', 'GPG',\n",
       "       'A', 'PTS', '+/-', 'PIM', 'EVG', 'PPG', 'SHG', 'GWG', 'EVA', 'PPA',\n",
       "       'SHA', 'S', 'S%', 'TOI', 'ATOI', 'BLK', 'HIT', 'FOwin', 'FOloss',\n",
       "       'FO%'],\n",
       "      dtype='object')"
      ]
     },
     "execution_count": 2,
     "metadata": {},
     "output_type": "execute_result"
    }
   ],
   "source": [
    "data.columns"
   ]
  },
  {
   "cell_type": "code",
   "execution_count": 16,
   "metadata": {},
   "outputs": [
    {
     "data": {
      "application/vnd.plotly.v1+json": {
       "config": {
        "plotlyServerURL": "https://plot.ly"
       },
       "data": [
        {
         "type": "histogram",
         "x": [
          "35",
          "16",
          "11",
          "1",
          "65",
          "4",
          " -   ",
          "12",
          "8",
          "30",
          "2",
          " -   ",
          "9",
          "22",
          "31",
          "10",
          "9",
          "11",
          "29",
          "61",
          "6",
          "33",
          "46",
          " -   ",
          "9",
          "33",
          "45",
          "71",
          "29",
          "71",
          "4",
          " -   ",
          "6",
          "13",
          "13",
          "78",
          "57",
          "3",
          "85",
          "22",
          "4",
          "17",
          "9",
          "36",
          " -   ",
          "16",
          "2",
          "79",
          "15",
          " -   ",
          "26",
          "21",
          "63",
          "26",
          " -   ",
          " -   ",
          "24",
          "9",
          "8",
          "1",
          "3",
          "12",
          "40",
          "49",
          "3",
          " -   ",
          " -   ",
          " -   ",
          "37",
          "55",
          "1",
          "1",
          "25",
          "5",
          "11",
          "1",
          "11",
          "13",
          "5",
          "9",
          " -   ",
          "11",
          "7",
          "12",
          "18",
          "1",
          "23",
          "43",
          "46",
          "35",
          "33",
          "12",
          "1",
          " -   ",
          "32",
          "21",
          "33",
          "6",
          "22",
          "28",
          "61",
          "7",
          "1",
          "43",
          "25",
          "1",
          "6",
          "67",
          "14",
          "44",
          " -   ",
          "45",
          "35",
          "20",
          "18",
          "24",
          "29",
          " -   ",
          "14",
          "6",
          "68",
          "2",
          "15",
          "16",
          "12",
          " -   ",
          "3",
          "22",
          " -   ",
          " -   ",
          "19",
          "2",
          "25",
          " -   ",
          "24",
          "14",
          "18",
          "13",
          "4",
          "4",
          "14",
          "3",
          "11",
          "17",
          "7",
          "2",
          "10",
          "18",
          "15",
          "35",
          "20",
          "25",
          "34",
          "23",
          "12",
          "21",
          "27",
          "57",
          "28",
          " -   ",
          "19",
          "61",
          "76",
          "37",
          " -   ",
          " -   ",
          " -   ",
          "89",
          "1",
          "22",
          "4",
          "65",
          "5",
          "3",
          " -   ",
          "16",
          " -   ",
          "25",
          "3",
          " -   ",
          "7",
          "12",
          "12",
          "1",
          "8",
          "52",
          "43",
          "12",
          "22",
          "20",
          "20",
          "13",
          "28",
          "14",
          "13",
          "2",
          "10",
          "22",
          "14",
          "45",
          "9",
          "32",
          "9",
          "11",
          "60",
          "4",
          "70",
          "46",
          "16",
          "48",
          "59",
          "23",
          "50",
          "2",
          "18",
          "24",
          "37",
          "41",
          "27",
          "1",
          "59",
          "34",
          "17",
          "60",
          "64",
          "1",
          "38",
          "34",
          "42",
          "14",
          "38",
          "32",
          "9",
          "23",
          " -   ",
          "22",
          "6",
          "13",
          "23",
          "16",
          "4",
          "33",
          "2",
          "9",
          " -   ",
          "33",
          "31",
          "1",
          "4",
          "41",
          "1",
          "48",
          "33",
          " -   ",
          "33",
          "4",
          "8",
          "3",
          " -   ",
          "23",
          "33",
          "13",
          "2",
          "18",
          " -   ",
          "64",
          "13",
          "32",
          "7",
          "7",
          "25",
          "11",
          "25",
          "21",
          "31",
          "51",
          "54",
          " -   ",
          "52",
          "1",
          " -   ",
          "3",
          "84",
          "6",
          "1",
          " -   ",
          "1",
          "61",
          "26",
          "5",
          "7",
          "38",
          "23",
          "18",
          "15",
          "102",
          " -   ",
          "19",
          "14",
          "35",
          "14",
          "2",
          "65",
          " -   ",
          "64",
          "36",
          "12",
          "67",
          "24",
          " -   ",
          "3",
          "33",
          "13",
          "1",
          "3",
          "3",
          "3",
          "2",
          "15",
          "16",
          "5",
          "48",
          "5",
          "9",
          "16",
          "1",
          "31",
          "9",
          "23",
          "9",
          "93",
          "24",
          "44",
          "1",
          "11",
          "32",
          " -   ",
          "6",
          "14",
          "10",
          "1",
          "5",
          "31",
          "24",
          "13",
          "55",
          "13",
          "9",
          "44",
          "1",
          "63",
          "11",
          "47",
          "31",
          " -   ",
          "13",
          "50",
          "46",
          "3",
          "25",
          "2",
          "1",
          "25",
          "52",
          "9",
          "12",
          "56",
          "17",
          "2",
          "4",
          " -   ",
          " -   ",
          "4",
          "49",
          "44",
          " -   ",
          "69",
          "30",
          "18",
          "1",
          "10",
          "6",
          "3",
          "40",
          "25",
          "8",
          "7",
          "25",
          "34",
          "35",
          " -   ",
          "17",
          "32",
          "15",
          "8",
          "54",
          "14",
          "15",
          "25",
          "11",
          "50",
          "3",
          "6",
          "17",
          "57",
          "6",
          "4",
          "53",
          "22",
          "10",
          "3",
          "55",
          " -   ",
          "11",
          "1",
          "54",
          "76",
          "9",
          "62",
          "19",
          "78",
          "38",
          "19",
          "32",
          "65",
          "2",
          "37",
          "4",
          "10",
          " -   ",
          "43",
          "3",
          "14",
          "92",
          "21",
          "47",
          "21",
          " -   ",
          "67",
          " -   ",
          "8",
          "45",
          "19",
          "47",
          "92",
          "2",
          "37",
          "44",
          "27",
          "59",
          "6",
          "100",
          "8",
          "4",
          "8",
          "3",
          "11",
          "4",
          "29",
          " -   ",
          "14",
          "83",
          "40",
          "29",
          "4",
          "1",
          "70",
          "62",
          "1",
          "63",
          "13",
          "17",
          " -   ",
          "20",
          "12",
          "42",
          "62",
          "21",
          "8",
          "5",
          "22",
          "4",
          "1",
          "1",
          "51",
          "23",
          "5",
          "26",
          "1",
          "11",
          "6",
          "27",
          "4",
          "44",
          "31",
          "43",
          "1",
          "8",
          " -   ",
          "21",
          "34",
          "29",
          "4",
          "21",
          "14",
          "97",
          "22",
          "98",
          " -   ",
          "4",
          " -   ",
          "19",
          "37",
          "48",
          "85",
          "75",
          " -   ",
          "47",
          "69",
          "43",
          " -   ",
          "12",
          "2",
          "25",
          "15",
          "1",
          "27",
          "1",
          "63",
          "3",
          "12",
          "32",
          "12",
          "28",
          "1",
          "5",
          "4",
          "108",
          "29",
          "30",
          "29",
          "4",
          "2",
          "3",
          "4",
          "15",
          "4",
          " -   ",
          "1",
          " -   ",
          "36",
          " -   ",
          " -   ",
          "3",
          "7",
          "3",
          "22",
          "41",
          "58",
          "16",
          "3",
          "11",
          "5",
          "5",
          "64",
          "32",
          "12",
          "18",
          " -   ",
          "26",
          "16",
          "7",
          " -   ",
          "4",
          "14",
          "5",
          "3",
          "12",
          "42",
          "36",
          "48",
          "34",
          "41",
          "44",
          " -   ",
          "35",
          "8",
          "15",
          "1",
          "32",
          "33",
          "26",
          "9",
          "1",
          "29",
          "27",
          "8",
          "7",
          "15",
          "48",
          "26",
          "23",
          "1",
          "61",
          "40",
          "1",
          " -   ",
          "3",
          " -   ",
          "4",
          " -   ",
          "61",
          "8",
          "15",
          "44",
          "17",
          "8",
          "31",
          "10",
          "47",
          "7",
          "87",
          "12",
          "37",
          "29",
          "3",
          "35",
          "44",
          "82",
          "35",
          "9",
          "35",
          "24",
          "80",
          "13",
          "30",
          "1",
          "66",
          "40",
          "5",
          "19",
          " -   ",
          "30",
          "39",
          "66",
          "49",
          "19",
          "2",
          "13",
          "42",
          "4",
          "26",
          " -   ",
          "54",
          "14",
          "3",
          "27",
          "26",
          "66",
          "12",
          "34",
          "2",
          "1",
          "19",
          "22",
          "2",
          "9",
          " -   ",
          "41",
          "20",
          "32",
          "22",
          "16",
          " -   ",
          "3",
          "3",
          "72",
          "22",
          "69",
          "84",
          "31",
          "4",
          "9",
          "1",
          "1",
          "10",
          " -   ",
          "18",
          "50",
          " -   ",
          "15",
          "25",
          "52",
          "7",
          "41",
          "14",
          "27",
          " -   ",
          " -   ",
          "25",
          " -   ",
          "1",
          "14",
          "17",
          "5",
          "7",
          " -   ",
          "5",
          "21",
          "38",
          "20",
          "33",
          "38",
          "12",
          "2",
          "35",
          "8",
          "10",
          "10",
          "2",
          "16",
          "14",
          "22",
          "24",
          "22",
          "60",
          "70",
          "7",
          "6",
          "5",
          "1",
          "52",
          "36",
          "2",
          "27",
          "59",
          "26",
          "55",
          "50",
          "8",
          "4",
          "78",
          "5",
          "8",
          "40",
          "24",
          " -   ",
          "21",
          "23",
          "20",
          "14",
          "32",
          "30",
          "1",
          "32",
          "19",
          "1",
          "2",
          "3",
          "40",
          "46",
          "12",
          "27",
          "49",
          "25",
          "30",
          "12",
          "8",
          "51",
          "11",
          "60",
          "19",
          "16",
          "31",
          "37",
          "7",
          "2",
          " -   ",
          "26",
          "41",
          "3",
          "5",
          "37",
          "76",
          "46",
          "8",
          "15",
          "12",
          "86",
          "53",
          "11",
          "46",
          "9",
          "56",
          "18",
          "16",
          "62",
          "10",
          "18",
          " -   ",
          "9",
          "34",
          "59",
          "5",
          "7",
          "51",
          "26",
          "4",
          "3",
          "18",
          "11",
          "66",
          "34",
          "84",
          " -   ",
          "64",
          " -   ",
          "29",
          "17",
          "9",
          "7",
          "36",
          "40",
          "1",
          "49",
          "52",
          "47",
          " -   ",
          "2",
          "75",
          " -   ",
          "24",
          "37",
          " -   ",
          "51",
          "19",
          " -   ",
          " -   ",
          "54",
          "16",
          "56",
          "32",
          "10",
          "16",
          "8",
          "28",
          "20",
          "32",
          "85",
          "27",
          "14",
          "16",
          "1",
          "1",
          "12",
          "5",
          "19",
          "21",
          "16",
          "5",
          "8",
          "8",
          "2",
          "35",
          "37",
          "91",
          "6",
          " -   ",
          "8",
          "51",
          "18",
          "14",
          "35",
          "17",
          "23",
          "4",
          "3",
          "32",
          "16",
          "3",
          "56",
          "25",
          "20",
          "13",
          "26",
          "56",
          "47",
          "53",
          "64",
          "7"
         ]
        }
       ],
       "layout": {
        "template": {
         "data": {
          "bar": [
           {
            "error_x": {
             "color": "#2a3f5f"
            },
            "error_y": {
             "color": "#2a3f5f"
            },
            "marker": {
             "line": {
              "color": "#E5ECF6",
              "width": 0.5
             }
            },
            "type": "bar"
           }
          ],
          "barpolar": [
           {
            "marker": {
             "line": {
              "color": "#E5ECF6",
              "width": 0.5
             }
            },
            "type": "barpolar"
           }
          ],
          "carpet": [
           {
            "aaxis": {
             "endlinecolor": "#2a3f5f",
             "gridcolor": "white",
             "linecolor": "white",
             "minorgridcolor": "white",
             "startlinecolor": "#2a3f5f"
            },
            "baxis": {
             "endlinecolor": "#2a3f5f",
             "gridcolor": "white",
             "linecolor": "white",
             "minorgridcolor": "white",
             "startlinecolor": "#2a3f5f"
            },
            "type": "carpet"
           }
          ],
          "choropleth": [
           {
            "colorbar": {
             "outlinewidth": 0,
             "ticks": ""
            },
            "type": "choropleth"
           }
          ],
          "contour": [
           {
            "colorbar": {
             "outlinewidth": 0,
             "ticks": ""
            },
            "colorscale": [
             [
              0,
              "#0d0887"
             ],
             [
              0.1111111111111111,
              "#46039f"
             ],
             [
              0.2222222222222222,
              "#7201a8"
             ],
             [
              0.3333333333333333,
              "#9c179e"
             ],
             [
              0.4444444444444444,
              "#bd3786"
             ],
             [
              0.5555555555555556,
              "#d8576b"
             ],
             [
              0.6666666666666666,
              "#ed7953"
             ],
             [
              0.7777777777777778,
              "#fb9f3a"
             ],
             [
              0.8888888888888888,
              "#fdca26"
             ],
             [
              1,
              "#f0f921"
             ]
            ],
            "type": "contour"
           }
          ],
          "contourcarpet": [
           {
            "colorbar": {
             "outlinewidth": 0,
             "ticks": ""
            },
            "type": "contourcarpet"
           }
          ],
          "heatmap": [
           {
            "colorbar": {
             "outlinewidth": 0,
             "ticks": ""
            },
            "colorscale": [
             [
              0,
              "#0d0887"
             ],
             [
              0.1111111111111111,
              "#46039f"
             ],
             [
              0.2222222222222222,
              "#7201a8"
             ],
             [
              0.3333333333333333,
              "#9c179e"
             ],
             [
              0.4444444444444444,
              "#bd3786"
             ],
             [
              0.5555555555555556,
              "#d8576b"
             ],
             [
              0.6666666666666666,
              "#ed7953"
             ],
             [
              0.7777777777777778,
              "#fb9f3a"
             ],
             [
              0.8888888888888888,
              "#fdca26"
             ],
             [
              1,
              "#f0f921"
             ]
            ],
            "type": "heatmap"
           }
          ],
          "heatmapgl": [
           {
            "colorbar": {
             "outlinewidth": 0,
             "ticks": ""
            },
            "colorscale": [
             [
              0,
              "#0d0887"
             ],
             [
              0.1111111111111111,
              "#46039f"
             ],
             [
              0.2222222222222222,
              "#7201a8"
             ],
             [
              0.3333333333333333,
              "#9c179e"
             ],
             [
              0.4444444444444444,
              "#bd3786"
             ],
             [
              0.5555555555555556,
              "#d8576b"
             ],
             [
              0.6666666666666666,
              "#ed7953"
             ],
             [
              0.7777777777777778,
              "#fb9f3a"
             ],
             [
              0.8888888888888888,
              "#fdca26"
             ],
             [
              1,
              "#f0f921"
             ]
            ],
            "type": "heatmapgl"
           }
          ],
          "histogram": [
           {
            "marker": {
             "colorbar": {
              "outlinewidth": 0,
              "ticks": ""
             }
            },
            "type": "histogram"
           }
          ],
          "histogram2d": [
           {
            "colorbar": {
             "outlinewidth": 0,
             "ticks": ""
            },
            "colorscale": [
             [
              0,
              "#0d0887"
             ],
             [
              0.1111111111111111,
              "#46039f"
             ],
             [
              0.2222222222222222,
              "#7201a8"
             ],
             [
              0.3333333333333333,
              "#9c179e"
             ],
             [
              0.4444444444444444,
              "#bd3786"
             ],
             [
              0.5555555555555556,
              "#d8576b"
             ],
             [
              0.6666666666666666,
              "#ed7953"
             ],
             [
              0.7777777777777778,
              "#fb9f3a"
             ],
             [
              0.8888888888888888,
              "#fdca26"
             ],
             [
              1,
              "#f0f921"
             ]
            ],
            "type": "histogram2d"
           }
          ],
          "histogram2dcontour": [
           {
            "colorbar": {
             "outlinewidth": 0,
             "ticks": ""
            },
            "colorscale": [
             [
              0,
              "#0d0887"
             ],
             [
              0.1111111111111111,
              "#46039f"
             ],
             [
              0.2222222222222222,
              "#7201a8"
             ],
             [
              0.3333333333333333,
              "#9c179e"
             ],
             [
              0.4444444444444444,
              "#bd3786"
             ],
             [
              0.5555555555555556,
              "#d8576b"
             ],
             [
              0.6666666666666666,
              "#ed7953"
             ],
             [
              0.7777777777777778,
              "#fb9f3a"
             ],
             [
              0.8888888888888888,
              "#fdca26"
             ],
             [
              1,
              "#f0f921"
             ]
            ],
            "type": "histogram2dcontour"
           }
          ],
          "mesh3d": [
           {
            "colorbar": {
             "outlinewidth": 0,
             "ticks": ""
            },
            "type": "mesh3d"
           }
          ],
          "parcoords": [
           {
            "line": {
             "colorbar": {
              "outlinewidth": 0,
              "ticks": ""
             }
            },
            "type": "parcoords"
           }
          ],
          "scatter": [
           {
            "marker": {
             "colorbar": {
              "outlinewidth": 0,
              "ticks": ""
             }
            },
            "type": "scatter"
           }
          ],
          "scatter3d": [
           {
            "line": {
             "colorbar": {
              "outlinewidth": 0,
              "ticks": ""
             }
            },
            "marker": {
             "colorbar": {
              "outlinewidth": 0,
              "ticks": ""
             }
            },
            "type": "scatter3d"
           }
          ],
          "scattercarpet": [
           {
            "marker": {
             "colorbar": {
              "outlinewidth": 0,
              "ticks": ""
             }
            },
            "type": "scattercarpet"
           }
          ],
          "scattergeo": [
           {
            "marker": {
             "colorbar": {
              "outlinewidth": 0,
              "ticks": ""
             }
            },
            "type": "scattergeo"
           }
          ],
          "scattergl": [
           {
            "marker": {
             "colorbar": {
              "outlinewidth": 0,
              "ticks": ""
             }
            },
            "type": "scattergl"
           }
          ],
          "scattermapbox": [
           {
            "marker": {
             "colorbar": {
              "outlinewidth": 0,
              "ticks": ""
             }
            },
            "type": "scattermapbox"
           }
          ],
          "scatterpolar": [
           {
            "marker": {
             "colorbar": {
              "outlinewidth": 0,
              "ticks": ""
             }
            },
            "type": "scatterpolar"
           }
          ],
          "scatterpolargl": [
           {
            "marker": {
             "colorbar": {
              "outlinewidth": 0,
              "ticks": ""
             }
            },
            "type": "scatterpolargl"
           }
          ],
          "scatterternary": [
           {
            "marker": {
             "colorbar": {
              "outlinewidth": 0,
              "ticks": ""
             }
            },
            "type": "scatterternary"
           }
          ],
          "surface": [
           {
            "colorbar": {
             "outlinewidth": 0,
             "ticks": ""
            },
            "colorscale": [
             [
              0,
              "#0d0887"
             ],
             [
              0.1111111111111111,
              "#46039f"
             ],
             [
              0.2222222222222222,
              "#7201a8"
             ],
             [
              0.3333333333333333,
              "#9c179e"
             ],
             [
              0.4444444444444444,
              "#bd3786"
             ],
             [
              0.5555555555555556,
              "#d8576b"
             ],
             [
              0.6666666666666666,
              "#ed7953"
             ],
             [
              0.7777777777777778,
              "#fb9f3a"
             ],
             [
              0.8888888888888888,
              "#fdca26"
             ],
             [
              1,
              "#f0f921"
             ]
            ],
            "type": "surface"
           }
          ],
          "table": [
           {
            "cells": {
             "fill": {
              "color": "#EBF0F8"
             },
             "line": {
              "color": "white"
             }
            },
            "header": {
             "fill": {
              "color": "#C8D4E3"
             },
             "line": {
              "color": "white"
             }
            },
            "type": "table"
           }
          ]
         },
         "layout": {
          "annotationdefaults": {
           "arrowcolor": "#2a3f5f",
           "arrowhead": 0,
           "arrowwidth": 1
          },
          "colorscale": {
           "diverging": [
            [
             0,
             "#8e0152"
            ],
            [
             0.1,
             "#c51b7d"
            ],
            [
             0.2,
             "#de77ae"
            ],
            [
             0.3,
             "#f1b6da"
            ],
            [
             0.4,
             "#fde0ef"
            ],
            [
             0.5,
             "#f7f7f7"
            ],
            [
             0.6,
             "#e6f5d0"
            ],
            [
             0.7,
             "#b8e186"
            ],
            [
             0.8,
             "#7fbc41"
            ],
            [
             0.9,
             "#4d9221"
            ],
            [
             1,
             "#276419"
            ]
           ],
           "sequential": [
            [
             0,
             "#0d0887"
            ],
            [
             0.1111111111111111,
             "#46039f"
            ],
            [
             0.2222222222222222,
             "#7201a8"
            ],
            [
             0.3333333333333333,
             "#9c179e"
            ],
            [
             0.4444444444444444,
             "#bd3786"
            ],
            [
             0.5555555555555556,
             "#d8576b"
            ],
            [
             0.6666666666666666,
             "#ed7953"
            ],
            [
             0.7777777777777778,
             "#fb9f3a"
            ],
            [
             0.8888888888888888,
             "#fdca26"
            ],
            [
             1,
             "#f0f921"
            ]
           ],
           "sequentialminus": [
            [
             0,
             "#0d0887"
            ],
            [
             0.1111111111111111,
             "#46039f"
            ],
            [
             0.2222222222222222,
             "#7201a8"
            ],
            [
             0.3333333333333333,
             "#9c179e"
            ],
            [
             0.4444444444444444,
             "#bd3786"
            ],
            [
             0.5555555555555556,
             "#d8576b"
            ],
            [
             0.6666666666666666,
             "#ed7953"
            ],
            [
             0.7777777777777778,
             "#fb9f3a"
            ],
            [
             0.8888888888888888,
             "#fdca26"
            ],
            [
             1,
             "#f0f921"
            ]
           ]
          },
          "colorway": [
           "#636efa",
           "#EF553B",
           "#00cc96",
           "#ab63fa",
           "#FFA15A",
           "#19d3f3",
           "#FF6692",
           "#B6E880",
           "#FF97FF",
           "#FECB52"
          ],
          "font": {
           "color": "#2a3f5f"
          },
          "geo": {
           "bgcolor": "white",
           "lakecolor": "white",
           "landcolor": "#E5ECF6",
           "showlakes": true,
           "showland": true,
           "subunitcolor": "white"
          },
          "hoverlabel": {
           "align": "left"
          },
          "hovermode": "closest",
          "mapbox": {
           "style": "light"
          },
          "paper_bgcolor": "white",
          "plot_bgcolor": "#E5ECF6",
          "polar": {
           "angularaxis": {
            "gridcolor": "white",
            "linecolor": "white",
            "ticks": ""
           },
           "bgcolor": "#E5ECF6",
           "radialaxis": {
            "gridcolor": "white",
            "linecolor": "white",
            "ticks": ""
           }
          },
          "scene": {
           "xaxis": {
            "backgroundcolor": "#E5ECF6",
            "gridcolor": "white",
            "gridwidth": 2,
            "linecolor": "white",
            "showbackground": true,
            "ticks": "",
            "zerolinecolor": "white"
           },
           "yaxis": {
            "backgroundcolor": "#E5ECF6",
            "gridcolor": "white",
            "gridwidth": 2,
            "linecolor": "white",
            "showbackground": true,
            "ticks": "",
            "zerolinecolor": "white"
           },
           "zaxis": {
            "backgroundcolor": "#E5ECF6",
            "gridcolor": "white",
            "gridwidth": 2,
            "linecolor": "white",
            "showbackground": true,
            "ticks": "",
            "zerolinecolor": "white"
           }
          },
          "shapedefaults": {
           "line": {
            "color": "#2a3f5f"
           }
          },
          "ternary": {
           "aaxis": {
            "gridcolor": "white",
            "linecolor": "white",
            "ticks": ""
           },
           "baxis": {
            "gridcolor": "white",
            "linecolor": "white",
            "ticks": ""
           },
           "bgcolor": "#E5ECF6",
           "caxis": {
            "gridcolor": "white",
            "linecolor": "white",
            "ticks": ""
           }
          },
          "title": {
           "x": 0.05
          },
          "xaxis": {
           "automargin": true,
           "gridcolor": "white",
           "linecolor": "white",
           "ticks": "",
           "zerolinecolor": "white",
           "zerolinewidth": 2
          },
          "yaxis": {
           "automargin": true,
           "gridcolor": "white",
           "linecolor": "white",
           "ticks": "",
           "zerolinecolor": "white",
           "zerolinewidth": 2
          }
         }
        }
       }
      },
      "text/html": [
       "<div>\n",
       "        \n",
       "        \n",
       "            <div id=\"46a105d8-006a-48a7-bca8-3fc58aeb33e2\" class=\"plotly-graph-div\" style=\"height:525px; width:100%;\"></div>\n",
       "            <script type=\"text/javascript\">\n",
       "                require([\"plotly\"], function(Plotly) {\n",
       "                    window.PLOTLYENV=window.PLOTLYENV || {};\n",
       "                    \n",
       "                if (document.getElementById(\"46a105d8-006a-48a7-bca8-3fc58aeb33e2\")) {\n",
       "                    Plotly.newPlot(\n",
       "                        '46a105d8-006a-48a7-bca8-3fc58aeb33e2',\n",
       "                        [{\"type\": \"histogram\", \"x\": [\"35\", \"16\", \"11\", \"1\", \"65\", \"4\", \" -   \", \"12\", \"8\", \"30\", \"2\", \" -   \", \"9\", \"22\", \"31\", \"10\", \"9\", \"11\", \"29\", \"61\", \"6\", \"33\", \"46\", \" -   \", \"9\", \"33\", \"45\", \"71\", \"29\", \"71\", \"4\", \" -   \", \"6\", \"13\", \"13\", \"78\", \"57\", \"3\", \"85\", \"22\", \"4\", \"17\", \"9\", \"36\", \" -   \", \"16\", \"2\", \"79\", \"15\", \" -   \", \"26\", \"21\", \"63\", \"26\", \" -   \", \" -   \", \"24\", \"9\", \"8\", \"1\", \"3\", \"12\", \"40\", \"49\", \"3\", \" -   \", \" -   \", \" -   \", \"37\", \"55\", \"1\", \"1\", \"25\", \"5\", \"11\", \"1\", \"11\", \"13\", \"5\", \"9\", \" -   \", \"11\", \"7\", \"12\", \"18\", \"1\", \"23\", \"43\", \"46\", \"35\", \"33\", \"12\", \"1\", \" -   \", \"32\", \"21\", \"33\", \"6\", \"22\", \"28\", \"61\", \"7\", \"1\", \"43\", \"25\", \"1\", \"6\", \"67\", \"14\", \"44\", \" -   \", \"45\", \"35\", \"20\", \"18\", \"24\", \"29\", \" -   \", \"14\", \"6\", \"68\", \"2\", \"15\", \"16\", \"12\", \" -   \", \"3\", \"22\", \" -   \", \" -   \", \"19\", \"2\", \"25\", \" -   \", \"24\", \"14\", \"18\", \"13\", \"4\", \"4\", \"14\", \"3\", \"11\", \"17\", \"7\", \"2\", \"10\", \"18\", \"15\", \"35\", \"20\", \"25\", \"34\", \"23\", \"12\", \"21\", \"27\", \"57\", \"28\", \" -   \", \"19\", \"61\", \"76\", \"37\", \" -   \", \" -   \", \" -   \", \"89\", \"1\", \"22\", \"4\", \"65\", \"5\", \"3\", \" -   \", \"16\", \" -   \", \"25\", \"3\", \" -   \", \"7\", \"12\", \"12\", \"1\", \"8\", \"52\", \"43\", \"12\", \"22\", \"20\", \"20\", \"13\", \"28\", \"14\", \"13\", \"2\", \"10\", \"22\", \"14\", \"45\", \"9\", \"32\", \"9\", \"11\", \"60\", \"4\", \"70\", \"46\", \"16\", \"48\", \"59\", \"23\", \"50\", \"2\", \"18\", \"24\", \"37\", \"41\", \"27\", \"1\", \"59\", \"34\", \"17\", \"60\", \"64\", \"1\", \"38\", \"34\", \"42\", \"14\", \"38\", \"32\", \"9\", \"23\", \" -   \", \"22\", \"6\", \"13\", \"23\", \"16\", \"4\", \"33\", \"2\", \"9\", \" -   \", \"33\", \"31\", \"1\", \"4\", \"41\", \"1\", \"48\", \"33\", \" -   \", \"33\", \"4\", \"8\", \"3\", \" -   \", \"23\", \"33\", \"13\", \"2\", \"18\", \" -   \", \"64\", \"13\", \"32\", \"7\", \"7\", \"25\", \"11\", \"25\", \"21\", \"31\", \"51\", \"54\", \" -   \", \"52\", \"1\", \" -   \", \"3\", \"84\", \"6\", \"1\", \" -   \", \"1\", \"61\", \"26\", \"5\", \"7\", \"38\", \"23\", \"18\", \"15\", \"102\", \" -   \", \"19\", \"14\", \"35\", \"14\", \"2\", \"65\", \" -   \", \"64\", \"36\", \"12\", \"67\", \"24\", \" -   \", \"3\", \"33\", \"13\", \"1\", \"3\", \"3\", \"3\", \"2\", \"15\", \"16\", \"5\", \"48\", \"5\", \"9\", \"16\", \"1\", \"31\", \"9\", \"23\", \"9\", \"93\", \"24\", \"44\", \"1\", \"11\", \"32\", \" -   \", \"6\", \"14\", \"10\", \"1\", \"5\", \"31\", \"24\", \"13\", \"55\", \"13\", \"9\", \"44\", \"1\", \"63\", \"11\", \"47\", \"31\", \" -   \", \"13\", \"50\", \"46\", \"3\", \"25\", \"2\", \"1\", \"25\", \"52\", \"9\", \"12\", \"56\", \"17\", \"2\", \"4\", \" -   \", \" -   \", \"4\", \"49\", \"44\", \" -   \", \"69\", \"30\", \"18\", \"1\", \"10\", \"6\", \"3\", \"40\", \"25\", \"8\", \"7\", \"25\", \"34\", \"35\", \" -   \", \"17\", \"32\", \"15\", \"8\", \"54\", \"14\", \"15\", \"25\", \"11\", \"50\", \"3\", \"6\", \"17\", \"57\", \"6\", \"4\", \"53\", \"22\", \"10\", \"3\", \"55\", \" -   \", \"11\", \"1\", \"54\", \"76\", \"9\", \"62\", \"19\", \"78\", \"38\", \"19\", \"32\", \"65\", \"2\", \"37\", \"4\", \"10\", \" -   \", \"43\", \"3\", \"14\", \"92\", \"21\", \"47\", \"21\", \" -   \", \"67\", \" -   \", \"8\", \"45\", \"19\", \"47\", \"92\", \"2\", \"37\", \"44\", \"27\", \"59\", \"6\", \"100\", \"8\", \"4\", \"8\", \"3\", \"11\", \"4\", \"29\", \" -   \", \"14\", \"83\", \"40\", \"29\", \"4\", \"1\", \"70\", \"62\", \"1\", \"63\", \"13\", \"17\", \" -   \", \"20\", \"12\", \"42\", \"62\", \"21\", \"8\", \"5\", \"22\", \"4\", \"1\", \"1\", \"51\", \"23\", \"5\", \"26\", \"1\", \"11\", \"6\", \"27\", \"4\", \"44\", \"31\", \"43\", \"1\", \"8\", \" -   \", \"21\", \"34\", \"29\", \"4\", \"21\", \"14\", \"97\", \"22\", \"98\", \" -   \", \"4\", \" -   \", \"19\", \"37\", \"48\", \"85\", \"75\", \" -   \", \"47\", \"69\", \"43\", \" -   \", \"12\", \"2\", \"25\", \"15\", \"1\", \"27\", \"1\", \"63\", \"3\", \"12\", \"32\", \"12\", \"28\", \"1\", \"5\", \"4\", \"108\", \"29\", \"30\", \"29\", \"4\", \"2\", \"3\", \"4\", \"15\", \"4\", \" -   \", \"1\", \" -   \", \"36\", \" -   \", \" -   \", \"3\", \"7\", \"3\", \"22\", \"41\", \"58\", \"16\", \"3\", \"11\", \"5\", \"5\", \"64\", \"32\", \"12\", \"18\", \" -   \", \"26\", \"16\", \"7\", \" -   \", \"4\", \"14\", \"5\", \"3\", \"12\", \"42\", \"36\", \"48\", \"34\", \"41\", \"44\", \" -   \", \"35\", \"8\", \"15\", \"1\", \"32\", \"33\", \"26\", \"9\", \"1\", \"29\", \"27\", \"8\", \"7\", \"15\", \"48\", \"26\", \"23\", \"1\", \"61\", \"40\", \"1\", \" -   \", \"3\", \" -   \", \"4\", \" -   \", \"61\", \"8\", \"15\", \"44\", \"17\", \"8\", \"31\", \"10\", \"47\", \"7\", \"87\", \"12\", \"37\", \"29\", \"3\", \"35\", \"44\", \"82\", \"35\", \"9\", \"35\", \"24\", \"80\", \"13\", \"30\", \"1\", \"66\", \"40\", \"5\", \"19\", \" -   \", \"30\", \"39\", \"66\", \"49\", \"19\", \"2\", \"13\", \"42\", \"4\", \"26\", \" -   \", \"54\", \"14\", \"3\", \"27\", \"26\", \"66\", \"12\", \"34\", \"2\", \"1\", \"19\", \"22\", \"2\", \"9\", \" -   \", \"41\", \"20\", \"32\", \"22\", \"16\", \" -   \", \"3\", \"3\", \"72\", \"22\", \"69\", \"84\", \"31\", \"4\", \"9\", \"1\", \"1\", \"10\", \" -   \", \"18\", \"50\", \" -   \", \"15\", \"25\", \"52\", \"7\", \"41\", \"14\", \"27\", \" -   \", \" -   \", \"25\", \" -   \", \"1\", \"14\", \"17\", \"5\", \"7\", \" -   \", \"5\", \"21\", \"38\", \"20\", \"33\", \"38\", \"12\", \"2\", \"35\", \"8\", \"10\", \"10\", \"2\", \"16\", \"14\", \"22\", \"24\", \"22\", \"60\", \"70\", \"7\", \"6\", \"5\", \"1\", \"52\", \"36\", \"2\", \"27\", \"59\", \"26\", \"55\", \"50\", \"8\", \"4\", \"78\", \"5\", \"8\", \"40\", \"24\", \" -   \", \"21\", \"23\", \"20\", \"14\", \"32\", \"30\", \"1\", \"32\", \"19\", \"1\", \"2\", \"3\", \"40\", \"46\", \"12\", \"27\", \"49\", \"25\", \"30\", \"12\", \"8\", \"51\", \"11\", \"60\", \"19\", \"16\", \"31\", \"37\", \"7\", \"2\", \" -   \", \"26\", \"41\", \"3\", \"5\", \"37\", \"76\", \"46\", \"8\", \"15\", \"12\", \"86\", \"53\", \"11\", \"46\", \"9\", \"56\", \"18\", \"16\", \"62\", \"10\", \"18\", \" -   \", \"9\", \"34\", \"59\", \"5\", \"7\", \"51\", \"26\", \"4\", \"3\", \"18\", \"11\", \"66\", \"34\", \"84\", \" -   \", \"64\", \" -   \", \"29\", \"17\", \"9\", \"7\", \"36\", \"40\", \"1\", \"49\", \"52\", \"47\", \" -   \", \"2\", \"75\", \" -   \", \"24\", \"37\", \" -   \", \"51\", \"19\", \" -   \", \" -   \", \"54\", \"16\", \"56\", \"32\", \"10\", \"16\", \"8\", \"28\", \"20\", \"32\", \"85\", \"27\", \"14\", \"16\", \"1\", \"1\", \"12\", \"5\", \"19\", \"21\", \"16\", \"5\", \"8\", \"8\", \"2\", \"35\", \"37\", \"91\", \"6\", \" -   \", \"8\", \"51\", \"18\", \"14\", \"35\", \"17\", \"23\", \"4\", \"3\", \"32\", \"16\", \"3\", \"56\", \"25\", \"20\", \"13\", \"26\", \"56\", \"47\", \"53\", \"64\", \"7\"]}],\n",
       "                        {\"template\": {\"data\": {\"bar\": [{\"error_x\": {\"color\": \"#2a3f5f\"}, \"error_y\": {\"color\": \"#2a3f5f\"}, \"marker\": {\"line\": {\"color\": \"#E5ECF6\", \"width\": 0.5}}, \"type\": \"bar\"}], \"barpolar\": [{\"marker\": {\"line\": {\"color\": \"#E5ECF6\", \"width\": 0.5}}, \"type\": \"barpolar\"}], \"carpet\": [{\"aaxis\": {\"endlinecolor\": \"#2a3f5f\", \"gridcolor\": \"white\", \"linecolor\": \"white\", \"minorgridcolor\": \"white\", \"startlinecolor\": \"#2a3f5f\"}, \"baxis\": {\"endlinecolor\": \"#2a3f5f\", \"gridcolor\": \"white\", \"linecolor\": \"white\", \"minorgridcolor\": \"white\", \"startlinecolor\": \"#2a3f5f\"}, \"type\": \"carpet\"}], \"choropleth\": [{\"colorbar\": {\"outlinewidth\": 0, \"ticks\": \"\"}, \"type\": \"choropleth\"}], \"contour\": [{\"colorbar\": {\"outlinewidth\": 0, \"ticks\": \"\"}, \"colorscale\": [[0.0, \"#0d0887\"], [0.1111111111111111, \"#46039f\"], [0.2222222222222222, \"#7201a8\"], [0.3333333333333333, \"#9c179e\"], [0.4444444444444444, \"#bd3786\"], [0.5555555555555556, \"#d8576b\"], [0.6666666666666666, \"#ed7953\"], [0.7777777777777778, \"#fb9f3a\"], [0.8888888888888888, \"#fdca26\"], [1.0, \"#f0f921\"]], \"type\": \"contour\"}], \"contourcarpet\": [{\"colorbar\": {\"outlinewidth\": 0, \"ticks\": \"\"}, \"type\": \"contourcarpet\"}], \"heatmap\": [{\"colorbar\": {\"outlinewidth\": 0, \"ticks\": \"\"}, \"colorscale\": [[0.0, \"#0d0887\"], [0.1111111111111111, \"#46039f\"], [0.2222222222222222, \"#7201a8\"], [0.3333333333333333, \"#9c179e\"], [0.4444444444444444, \"#bd3786\"], [0.5555555555555556, \"#d8576b\"], [0.6666666666666666, \"#ed7953\"], [0.7777777777777778, \"#fb9f3a\"], [0.8888888888888888, \"#fdca26\"], [1.0, \"#f0f921\"]], \"type\": \"heatmap\"}], \"heatmapgl\": [{\"colorbar\": {\"outlinewidth\": 0, \"ticks\": \"\"}, \"colorscale\": [[0.0, \"#0d0887\"], [0.1111111111111111, \"#46039f\"], [0.2222222222222222, \"#7201a8\"], [0.3333333333333333, \"#9c179e\"], [0.4444444444444444, \"#bd3786\"], [0.5555555555555556, \"#d8576b\"], [0.6666666666666666, \"#ed7953\"], [0.7777777777777778, \"#fb9f3a\"], [0.8888888888888888, \"#fdca26\"], [1.0, \"#f0f921\"]], \"type\": \"heatmapgl\"}], \"histogram\": [{\"marker\": {\"colorbar\": {\"outlinewidth\": 0, \"ticks\": \"\"}}, \"type\": \"histogram\"}], \"histogram2d\": [{\"colorbar\": {\"outlinewidth\": 0, \"ticks\": \"\"}, \"colorscale\": [[0.0, \"#0d0887\"], [0.1111111111111111, \"#46039f\"], [0.2222222222222222, \"#7201a8\"], [0.3333333333333333, \"#9c179e\"], [0.4444444444444444, \"#bd3786\"], [0.5555555555555556, \"#d8576b\"], [0.6666666666666666, \"#ed7953\"], [0.7777777777777778, \"#fb9f3a\"], [0.8888888888888888, \"#fdca26\"], [1.0, \"#f0f921\"]], \"type\": \"histogram2d\"}], \"histogram2dcontour\": [{\"colorbar\": {\"outlinewidth\": 0, \"ticks\": \"\"}, \"colorscale\": [[0.0, \"#0d0887\"], [0.1111111111111111, \"#46039f\"], [0.2222222222222222, \"#7201a8\"], [0.3333333333333333, \"#9c179e\"], [0.4444444444444444, \"#bd3786\"], [0.5555555555555556, \"#d8576b\"], [0.6666666666666666, \"#ed7953\"], [0.7777777777777778, \"#fb9f3a\"], [0.8888888888888888, \"#fdca26\"], [1.0, \"#f0f921\"]], \"type\": \"histogram2dcontour\"}], \"mesh3d\": [{\"colorbar\": {\"outlinewidth\": 0, \"ticks\": \"\"}, \"type\": \"mesh3d\"}], \"parcoords\": [{\"line\": {\"colorbar\": {\"outlinewidth\": 0, \"ticks\": \"\"}}, \"type\": \"parcoords\"}], \"scatter\": [{\"marker\": {\"colorbar\": {\"outlinewidth\": 0, \"ticks\": \"\"}}, \"type\": \"scatter\"}], \"scatter3d\": [{\"line\": {\"colorbar\": {\"outlinewidth\": 0, \"ticks\": \"\"}}, \"marker\": {\"colorbar\": {\"outlinewidth\": 0, \"ticks\": \"\"}}, \"type\": \"scatter3d\"}], \"scattercarpet\": [{\"marker\": {\"colorbar\": {\"outlinewidth\": 0, \"ticks\": \"\"}}, \"type\": \"scattercarpet\"}], \"scattergeo\": [{\"marker\": {\"colorbar\": {\"outlinewidth\": 0, \"ticks\": \"\"}}, \"type\": \"scattergeo\"}], \"scattergl\": [{\"marker\": {\"colorbar\": {\"outlinewidth\": 0, \"ticks\": \"\"}}, \"type\": \"scattergl\"}], \"scattermapbox\": [{\"marker\": {\"colorbar\": {\"outlinewidth\": 0, \"ticks\": \"\"}}, \"type\": \"scattermapbox\"}], \"scatterpolar\": [{\"marker\": {\"colorbar\": {\"outlinewidth\": 0, \"ticks\": \"\"}}, \"type\": \"scatterpolar\"}], \"scatterpolargl\": [{\"marker\": {\"colorbar\": {\"outlinewidth\": 0, \"ticks\": \"\"}}, \"type\": \"scatterpolargl\"}], \"scatterternary\": [{\"marker\": {\"colorbar\": {\"outlinewidth\": 0, \"ticks\": \"\"}}, \"type\": \"scatterternary\"}], \"surface\": [{\"colorbar\": {\"outlinewidth\": 0, \"ticks\": \"\"}, \"colorscale\": [[0.0, \"#0d0887\"], [0.1111111111111111, \"#46039f\"], [0.2222222222222222, \"#7201a8\"], [0.3333333333333333, \"#9c179e\"], [0.4444444444444444, \"#bd3786\"], [0.5555555555555556, \"#d8576b\"], [0.6666666666666666, \"#ed7953\"], [0.7777777777777778, \"#fb9f3a\"], [0.8888888888888888, \"#fdca26\"], [1.0, \"#f0f921\"]], \"type\": \"surface\"}], \"table\": [{\"cells\": {\"fill\": {\"color\": \"#EBF0F8\"}, \"line\": {\"color\": \"white\"}}, \"header\": {\"fill\": {\"color\": \"#C8D4E3\"}, \"line\": {\"color\": \"white\"}}, \"type\": \"table\"}]}, \"layout\": {\"annotationdefaults\": {\"arrowcolor\": \"#2a3f5f\", \"arrowhead\": 0, \"arrowwidth\": 1}, \"colorscale\": {\"diverging\": [[0, \"#8e0152\"], [0.1, \"#c51b7d\"], [0.2, \"#de77ae\"], [0.3, \"#f1b6da\"], [0.4, \"#fde0ef\"], [0.5, \"#f7f7f7\"], [0.6, \"#e6f5d0\"], [0.7, \"#b8e186\"], [0.8, \"#7fbc41\"], [0.9, \"#4d9221\"], [1, \"#276419\"]], \"sequential\": [[0.0, \"#0d0887\"], [0.1111111111111111, \"#46039f\"], [0.2222222222222222, \"#7201a8\"], [0.3333333333333333, \"#9c179e\"], [0.4444444444444444, \"#bd3786\"], [0.5555555555555556, \"#d8576b\"], [0.6666666666666666, \"#ed7953\"], [0.7777777777777778, \"#fb9f3a\"], [0.8888888888888888, \"#fdca26\"], [1.0, \"#f0f921\"]], \"sequentialminus\": [[0.0, \"#0d0887\"], [0.1111111111111111, \"#46039f\"], [0.2222222222222222, \"#7201a8\"], [0.3333333333333333, \"#9c179e\"], [0.4444444444444444, \"#bd3786\"], [0.5555555555555556, \"#d8576b\"], [0.6666666666666666, \"#ed7953\"], [0.7777777777777778, \"#fb9f3a\"], [0.8888888888888888, \"#fdca26\"], [1.0, \"#f0f921\"]]}, \"colorway\": [\"#636efa\", \"#EF553B\", \"#00cc96\", \"#ab63fa\", \"#FFA15A\", \"#19d3f3\", \"#FF6692\", \"#B6E880\", \"#FF97FF\", \"#FECB52\"], \"font\": {\"color\": \"#2a3f5f\"}, \"geo\": {\"bgcolor\": \"white\", \"lakecolor\": \"white\", \"landcolor\": \"#E5ECF6\", \"showlakes\": true, \"showland\": true, \"subunitcolor\": \"white\"}, \"hoverlabel\": {\"align\": \"left\"}, \"hovermode\": \"closest\", \"mapbox\": {\"style\": \"light\"}, \"paper_bgcolor\": \"white\", \"plot_bgcolor\": \"#E5ECF6\", \"polar\": {\"angularaxis\": {\"gridcolor\": \"white\", \"linecolor\": \"white\", \"ticks\": \"\"}, \"bgcolor\": \"#E5ECF6\", \"radialaxis\": {\"gridcolor\": \"white\", \"linecolor\": \"white\", \"ticks\": \"\"}}, \"scene\": {\"xaxis\": {\"backgroundcolor\": \"#E5ECF6\", \"gridcolor\": \"white\", \"gridwidth\": 2, \"linecolor\": \"white\", \"showbackground\": true, \"ticks\": \"\", \"zerolinecolor\": \"white\"}, \"yaxis\": {\"backgroundcolor\": \"#E5ECF6\", \"gridcolor\": \"white\", \"gridwidth\": 2, \"linecolor\": \"white\", \"showbackground\": true, \"ticks\": \"\", \"zerolinecolor\": \"white\"}, \"zaxis\": {\"backgroundcolor\": \"#E5ECF6\", \"gridcolor\": \"white\", \"gridwidth\": 2, \"linecolor\": \"white\", \"showbackground\": true, \"ticks\": \"\", \"zerolinecolor\": \"white\"}}, \"shapedefaults\": {\"line\": {\"color\": \"#2a3f5f\"}}, \"ternary\": {\"aaxis\": {\"gridcolor\": \"white\", \"linecolor\": \"white\", \"ticks\": \"\"}, \"baxis\": {\"gridcolor\": \"white\", \"linecolor\": \"white\", \"ticks\": \"\"}, \"bgcolor\": \"#E5ECF6\", \"caxis\": {\"gridcolor\": \"white\", \"linecolor\": \"white\", \"ticks\": \"\"}}, \"title\": {\"x\": 0.05}, \"xaxis\": {\"automargin\": true, \"gridcolor\": \"white\", \"linecolor\": \"white\", \"ticks\": \"\", \"zerolinecolor\": \"white\", \"zerolinewidth\": 2}, \"yaxis\": {\"automargin\": true, \"gridcolor\": \"white\", \"linecolor\": \"white\", \"ticks\": \"\", \"zerolinecolor\": \"white\", \"zerolinewidth\": 2}}}},\n",
       "                        {\"responsive\": true}\n",
       "                    ).then(function(){\n",
       "                            \n",
       "var gd = document.getElementById('46a105d8-006a-48a7-bca8-3fc58aeb33e2');\n",
       "var x = new MutationObserver(function (mutations, observer) {{\n",
       "        var display = window.getComputedStyle(gd).display;\n",
       "        if (!display || display === 'none') {{\n",
       "            console.log([gd, 'removed!']);\n",
       "            Plotly.purge(gd);\n",
       "            observer.disconnect();\n",
       "        }}\n",
       "}});\n",
       "\n",
       "// Listen for the removal of the full notebook cells\n",
       "var notebookContainer = gd.closest('#notebook-container');\n",
       "if (notebookContainer) {{\n",
       "    x.observe(notebookContainer, {childList: true});\n",
       "}}\n",
       "\n",
       "// Listen for the clearing of the current output cell\n",
       "var outputEl = gd.closest('.output');\n",
       "if (outputEl) {{\n",
       "    x.observe(outputEl, {childList: true});\n",
       "}}\n",
       "\n",
       "                        })\n",
       "                };\n",
       "                });\n",
       "            </script>\n",
       "        </div>"
      ]
     },
     "metadata": {},
     "output_type": "display_data"
    }
   ],
   "source": [
    "import plotly.graph_objects as go\n",
    "\n",
    "data_2018 = data[data['Season']==2018]\n",
    "data_1980 = data[data['Season']==1980]\n",
    "data_2000 = data[data['Season']==2000]\n",
    "fig = go.Figure(data = [go.Histogram(x=data_2018['PTS'])])\n",
    "\n",
    "fig.show()"
   ]
  },
  {
   "cell_type": "code",
   "execution_count": 17,
   "metadata": {},
   "outputs": [
    {
     "data": {
      "application/vnd.plotly.v1+json": {
       "config": {
        "plotlyServerURL": "https://plot.ly"
       },
       "data": [
        {
         "type": "histogram",
         "x": [
          "35",
          "16",
          "11",
          "1",
          "65",
          "4",
          " -   ",
          "12",
          "8",
          "30",
          "2",
          " -   ",
          "9",
          "22",
          "31",
          "10",
          "9",
          "11",
          "29",
          "61",
          "6",
          "33",
          "46",
          " -   ",
          "9",
          "33",
          "45",
          "71",
          "29",
          "71",
          "4",
          " -   ",
          "6",
          "13",
          "13",
          "78",
          "57",
          "3",
          "85",
          "22",
          "4",
          "17",
          "9",
          "36",
          " -   ",
          "16",
          "2",
          "79",
          "15",
          " -   ",
          "26",
          "21",
          "63",
          "26",
          " -   ",
          " -   ",
          "24",
          "9",
          "8",
          "1",
          "3",
          "12",
          "40",
          "49",
          "3",
          " -   ",
          " -   ",
          " -   ",
          "37",
          "55",
          "1",
          "1",
          "25",
          "5",
          "11",
          "1",
          "11",
          "13",
          "5",
          "9",
          " -   ",
          "11",
          "7",
          "12",
          "18",
          "1",
          "23",
          "43",
          "46",
          "35",
          "33",
          "12",
          "1",
          " -   ",
          "32",
          "21",
          "33",
          "6",
          "22",
          "28",
          "61",
          "7",
          "1",
          "43",
          "25",
          "1",
          "6",
          "67",
          "14",
          "44",
          " -   ",
          "45",
          "35",
          "20",
          "18",
          "24",
          "29",
          " -   ",
          "14",
          "6",
          "68",
          "2",
          "15",
          "16",
          "12",
          " -   ",
          "3",
          "22",
          " -   ",
          " -   ",
          "19",
          "2",
          "25",
          " -   ",
          "24",
          "14",
          "18",
          "13",
          "4",
          "4",
          "14",
          "3",
          "11",
          "17",
          "7",
          "2",
          "10",
          "18",
          "15",
          "35",
          "20",
          "25",
          "34",
          "23",
          "12",
          "21",
          "27",
          "57",
          "28",
          " -   ",
          "19",
          "61",
          "76",
          "37",
          " -   ",
          " -   ",
          " -   ",
          "89",
          "1",
          "22",
          "4",
          "65",
          "5",
          "3",
          " -   ",
          "16",
          " -   ",
          "25",
          "3",
          " -   ",
          "7",
          "12",
          "12",
          "1",
          "8",
          "52",
          "43",
          "12",
          "22",
          "20",
          "20",
          "13",
          "28",
          "14",
          "13",
          "2",
          "10",
          "22",
          "14",
          "45",
          "9",
          "32",
          "9",
          "11",
          "60",
          "4",
          "70",
          "46",
          "16",
          "48",
          "59",
          "23",
          "50",
          "2",
          "18",
          "24",
          "37",
          "41",
          "27",
          "1",
          "59",
          "34",
          "17",
          "60",
          "64",
          "1",
          "38",
          "34",
          "42",
          "14",
          "38",
          "32",
          "9",
          "23",
          " -   ",
          "22",
          "6",
          "13",
          "23",
          "16",
          "4",
          "33",
          "2",
          "9",
          " -   ",
          "33",
          "31",
          "1",
          "4",
          "41",
          "1",
          "48",
          "33",
          " -   ",
          "33",
          "4",
          "8",
          "3",
          " -   ",
          "23",
          "33",
          "13",
          "2",
          "18",
          " -   ",
          "64",
          "13",
          "32",
          "7",
          "7",
          "25",
          "11",
          "25",
          "21",
          "31",
          "51",
          "54",
          " -   ",
          "52",
          "1",
          " -   ",
          "3",
          "84",
          "6",
          "1",
          " -   ",
          "1",
          "61",
          "26",
          "5",
          "7",
          "38",
          "23",
          "18",
          "15",
          "102",
          " -   ",
          "19",
          "14",
          "35",
          "14",
          "2",
          "65",
          " -   ",
          "64",
          "36",
          "12",
          "67",
          "24",
          " -   ",
          "3",
          "33",
          "13",
          "1",
          "3",
          "3",
          "3",
          "2",
          "15",
          "16",
          "5",
          "48",
          "5",
          "9",
          "16",
          "1",
          "31",
          "9",
          "23",
          "9",
          "93",
          "24",
          "44",
          "1",
          "11",
          "32",
          " -   ",
          "6",
          "14",
          "10",
          "1",
          "5",
          "31",
          "24",
          "13",
          "55",
          "13",
          "9",
          "44",
          "1",
          "63",
          "11",
          "47",
          "31",
          " -   ",
          "13",
          "50",
          "46",
          "3",
          "25",
          "2",
          "1",
          "25",
          "52",
          "9",
          "12",
          "56",
          "17",
          "2",
          "4",
          " -   ",
          " -   ",
          "4",
          "49",
          "44",
          " -   ",
          "69",
          "30",
          "18",
          "1",
          "10",
          "6",
          "3",
          "40",
          "25",
          "8",
          "7",
          "25",
          "34",
          "35",
          " -   ",
          "17",
          "32",
          "15",
          "8",
          "54",
          "14",
          "15",
          "25",
          "11",
          "50",
          "3",
          "6",
          "17",
          "57",
          "6",
          "4",
          "53",
          "22",
          "10",
          "3",
          "55",
          " -   ",
          "11",
          "1",
          "54",
          "76",
          "9",
          "62",
          "19",
          "78",
          "38",
          "19",
          "32",
          "65",
          "2",
          "37",
          "4",
          "10",
          " -   ",
          "43",
          "3",
          "14",
          "92",
          "21",
          "47",
          "21",
          " -   ",
          "67",
          " -   ",
          "8",
          "45",
          "19",
          "47",
          "92",
          "2",
          "37",
          "44",
          "27",
          "59",
          "6",
          "100",
          "8",
          "4",
          "8",
          "3",
          "11",
          "4",
          "29",
          " -   ",
          "14",
          "83",
          "40",
          "29",
          "4",
          "1",
          "70",
          "62",
          "1",
          "63",
          "13",
          "17",
          " -   ",
          "20",
          "12",
          "42",
          "62",
          "21",
          "8",
          "5",
          "22",
          "4",
          "1",
          "1",
          "51",
          "23",
          "5",
          "26",
          "1",
          "11",
          "6",
          "27",
          "4",
          "44",
          "31",
          "43",
          "1",
          "8",
          " -   ",
          "21",
          "34",
          "29",
          "4",
          "21",
          "14",
          "97",
          "22",
          "98",
          " -   ",
          "4",
          " -   ",
          "19",
          "37",
          "48",
          "85",
          "75",
          " -   ",
          "47",
          "69",
          "43",
          " -   ",
          "12",
          "2",
          "25",
          "15",
          "1",
          "27",
          "1",
          "63",
          "3",
          "12",
          "32",
          "12",
          "28",
          "1",
          "5",
          "4",
          "108",
          "29",
          "30",
          "29",
          "4",
          "2",
          "3",
          "4",
          "15",
          "4",
          " -   ",
          "1",
          " -   ",
          "36",
          " -   ",
          " -   ",
          "3",
          "7",
          "3",
          "22",
          "41",
          "58",
          "16",
          "3",
          "11",
          "5",
          "5",
          "64",
          "32",
          "12",
          "18",
          " -   ",
          "26",
          "16",
          "7",
          " -   ",
          "4",
          "14",
          "5",
          "3",
          "12",
          "42",
          "36",
          "48",
          "34",
          "41",
          "44",
          " -   ",
          "35",
          "8",
          "15",
          "1",
          "32",
          "33",
          "26",
          "9",
          "1",
          "29",
          "27",
          "8",
          "7",
          "15",
          "48",
          "26",
          "23",
          "1",
          "61",
          "40",
          "1",
          " -   ",
          "3",
          " -   ",
          "4",
          " -   ",
          "61",
          "8",
          "15",
          "44",
          "17",
          "8",
          "31",
          "10",
          "47",
          "7",
          "87",
          "12",
          "37",
          "29",
          "3",
          "35",
          "44",
          "82",
          "35",
          "9",
          "35",
          "24",
          "80",
          "13",
          "30",
          "1",
          "66",
          "40",
          "5",
          "19",
          " -   ",
          "30",
          "39",
          "66",
          "49",
          "19",
          "2",
          "13",
          "42",
          "4",
          "26",
          " -   ",
          "54",
          "14",
          "3",
          "27",
          "26",
          "66",
          "12",
          "34",
          "2",
          "1",
          "19",
          "22",
          "2",
          "9",
          " -   ",
          "41",
          "20",
          "32",
          "22",
          "16",
          " -   ",
          "3",
          "3",
          "72",
          "22",
          "69",
          "84",
          "31",
          "4",
          "9",
          "1",
          "1",
          "10",
          " -   ",
          "18",
          "50",
          " -   ",
          "15",
          "25",
          "52",
          "7",
          "41",
          "14",
          "27",
          " -   ",
          " -   ",
          "25",
          " -   ",
          "1",
          "14",
          "17",
          "5",
          "7",
          " -   ",
          "5",
          "21",
          "38",
          "20",
          "33",
          "38",
          "12",
          "2",
          "35",
          "8",
          "10",
          "10",
          "2",
          "16",
          "14",
          "22",
          "24",
          "22",
          "60",
          "70",
          "7",
          "6",
          "5",
          "1",
          "52",
          "36",
          "2",
          "27",
          "59",
          "26",
          "55",
          "50",
          "8",
          "4",
          "78",
          "5",
          "8",
          "40",
          "24",
          " -   ",
          "21",
          "23",
          "20",
          "14",
          "32",
          "30",
          "1",
          "32",
          "19",
          "1",
          "2",
          "3",
          "40",
          "46",
          "12",
          "27",
          "49",
          "25",
          "30",
          "12",
          "8",
          "51",
          "11",
          "60",
          "19",
          "16",
          "31",
          "37",
          "7",
          "2",
          " -   ",
          "26",
          "41",
          "3",
          "5",
          "37",
          "76",
          "46",
          "8",
          "15",
          "12",
          "86",
          "53",
          "11",
          "46",
          "9",
          "56",
          "18",
          "16",
          "62",
          "10",
          "18",
          " -   ",
          "9",
          "34",
          "59",
          "5",
          "7",
          "51",
          "26",
          "4",
          "3",
          "18",
          "11",
          "66",
          "34",
          "84",
          " -   ",
          "64",
          " -   ",
          "29",
          "17",
          "9",
          "7",
          "36",
          "40",
          "1",
          "49",
          "52",
          "47",
          " -   ",
          "2",
          "75",
          " -   ",
          "24",
          "37",
          " -   ",
          "51",
          "19",
          " -   ",
          " -   ",
          "54",
          "16",
          "56",
          "32",
          "10",
          "16",
          "8",
          "28",
          "20",
          "32",
          "85",
          "27",
          "14",
          "16",
          "1",
          "1",
          "12",
          "5",
          "19",
          "21",
          "16",
          "5",
          "8",
          "8",
          "2",
          "35",
          "37",
          "91",
          "6",
          " -   ",
          "8",
          "51",
          "18",
          "14",
          "35",
          "17",
          "23",
          "4",
          "3",
          "32",
          "16",
          "3",
          "56",
          "25",
          "20",
          "13",
          "26",
          "56",
          "47",
          "53",
          "64",
          "7"
         ],
         "xbins": {
          "end": 120,
          "size": 5,
          "start": 0
         }
        }
       ],
       "layout": {
        "template": {
         "data": {
          "bar": [
           {
            "error_x": {
             "color": "#2a3f5f"
            },
            "error_y": {
             "color": "#2a3f5f"
            },
            "marker": {
             "line": {
              "color": "#E5ECF6",
              "width": 0.5
             }
            },
            "type": "bar"
           }
          ],
          "barpolar": [
           {
            "marker": {
             "line": {
              "color": "#E5ECF6",
              "width": 0.5
             }
            },
            "type": "barpolar"
           }
          ],
          "carpet": [
           {
            "aaxis": {
             "endlinecolor": "#2a3f5f",
             "gridcolor": "white",
             "linecolor": "white",
             "minorgridcolor": "white",
             "startlinecolor": "#2a3f5f"
            },
            "baxis": {
             "endlinecolor": "#2a3f5f",
             "gridcolor": "white",
             "linecolor": "white",
             "minorgridcolor": "white",
             "startlinecolor": "#2a3f5f"
            },
            "type": "carpet"
           }
          ],
          "choropleth": [
           {
            "colorbar": {
             "outlinewidth": 0,
             "ticks": ""
            },
            "type": "choropleth"
           }
          ],
          "contour": [
           {
            "colorbar": {
             "outlinewidth": 0,
             "ticks": ""
            },
            "colorscale": [
             [
              0,
              "#0d0887"
             ],
             [
              0.1111111111111111,
              "#46039f"
             ],
             [
              0.2222222222222222,
              "#7201a8"
             ],
             [
              0.3333333333333333,
              "#9c179e"
             ],
             [
              0.4444444444444444,
              "#bd3786"
             ],
             [
              0.5555555555555556,
              "#d8576b"
             ],
             [
              0.6666666666666666,
              "#ed7953"
             ],
             [
              0.7777777777777778,
              "#fb9f3a"
             ],
             [
              0.8888888888888888,
              "#fdca26"
             ],
             [
              1,
              "#f0f921"
             ]
            ],
            "type": "contour"
           }
          ],
          "contourcarpet": [
           {
            "colorbar": {
             "outlinewidth": 0,
             "ticks": ""
            },
            "type": "contourcarpet"
           }
          ],
          "heatmap": [
           {
            "colorbar": {
             "outlinewidth": 0,
             "ticks": ""
            },
            "colorscale": [
             [
              0,
              "#0d0887"
             ],
             [
              0.1111111111111111,
              "#46039f"
             ],
             [
              0.2222222222222222,
              "#7201a8"
             ],
             [
              0.3333333333333333,
              "#9c179e"
             ],
             [
              0.4444444444444444,
              "#bd3786"
             ],
             [
              0.5555555555555556,
              "#d8576b"
             ],
             [
              0.6666666666666666,
              "#ed7953"
             ],
             [
              0.7777777777777778,
              "#fb9f3a"
             ],
             [
              0.8888888888888888,
              "#fdca26"
             ],
             [
              1,
              "#f0f921"
             ]
            ],
            "type": "heatmap"
           }
          ],
          "heatmapgl": [
           {
            "colorbar": {
             "outlinewidth": 0,
             "ticks": ""
            },
            "colorscale": [
             [
              0,
              "#0d0887"
             ],
             [
              0.1111111111111111,
              "#46039f"
             ],
             [
              0.2222222222222222,
              "#7201a8"
             ],
             [
              0.3333333333333333,
              "#9c179e"
             ],
             [
              0.4444444444444444,
              "#bd3786"
             ],
             [
              0.5555555555555556,
              "#d8576b"
             ],
             [
              0.6666666666666666,
              "#ed7953"
             ],
             [
              0.7777777777777778,
              "#fb9f3a"
             ],
             [
              0.8888888888888888,
              "#fdca26"
             ],
             [
              1,
              "#f0f921"
             ]
            ],
            "type": "heatmapgl"
           }
          ],
          "histogram": [
           {
            "marker": {
             "colorbar": {
              "outlinewidth": 0,
              "ticks": ""
             }
            },
            "type": "histogram"
           }
          ],
          "histogram2d": [
           {
            "colorbar": {
             "outlinewidth": 0,
             "ticks": ""
            },
            "colorscale": [
             [
              0,
              "#0d0887"
             ],
             [
              0.1111111111111111,
              "#46039f"
             ],
             [
              0.2222222222222222,
              "#7201a8"
             ],
             [
              0.3333333333333333,
              "#9c179e"
             ],
             [
              0.4444444444444444,
              "#bd3786"
             ],
             [
              0.5555555555555556,
              "#d8576b"
             ],
             [
              0.6666666666666666,
              "#ed7953"
             ],
             [
              0.7777777777777778,
              "#fb9f3a"
             ],
             [
              0.8888888888888888,
              "#fdca26"
             ],
             [
              1,
              "#f0f921"
             ]
            ],
            "type": "histogram2d"
           }
          ],
          "histogram2dcontour": [
           {
            "colorbar": {
             "outlinewidth": 0,
             "ticks": ""
            },
            "colorscale": [
             [
              0,
              "#0d0887"
             ],
             [
              0.1111111111111111,
              "#46039f"
             ],
             [
              0.2222222222222222,
              "#7201a8"
             ],
             [
              0.3333333333333333,
              "#9c179e"
             ],
             [
              0.4444444444444444,
              "#bd3786"
             ],
             [
              0.5555555555555556,
              "#d8576b"
             ],
             [
              0.6666666666666666,
              "#ed7953"
             ],
             [
              0.7777777777777778,
              "#fb9f3a"
             ],
             [
              0.8888888888888888,
              "#fdca26"
             ],
             [
              1,
              "#f0f921"
             ]
            ],
            "type": "histogram2dcontour"
           }
          ],
          "mesh3d": [
           {
            "colorbar": {
             "outlinewidth": 0,
             "ticks": ""
            },
            "type": "mesh3d"
           }
          ],
          "parcoords": [
           {
            "line": {
             "colorbar": {
              "outlinewidth": 0,
              "ticks": ""
             }
            },
            "type": "parcoords"
           }
          ],
          "scatter": [
           {
            "marker": {
             "colorbar": {
              "outlinewidth": 0,
              "ticks": ""
             }
            },
            "type": "scatter"
           }
          ],
          "scatter3d": [
           {
            "line": {
             "colorbar": {
              "outlinewidth": 0,
              "ticks": ""
             }
            },
            "marker": {
             "colorbar": {
              "outlinewidth": 0,
              "ticks": ""
             }
            },
            "type": "scatter3d"
           }
          ],
          "scattercarpet": [
           {
            "marker": {
             "colorbar": {
              "outlinewidth": 0,
              "ticks": ""
             }
            },
            "type": "scattercarpet"
           }
          ],
          "scattergeo": [
           {
            "marker": {
             "colorbar": {
              "outlinewidth": 0,
              "ticks": ""
             }
            },
            "type": "scattergeo"
           }
          ],
          "scattergl": [
           {
            "marker": {
             "colorbar": {
              "outlinewidth": 0,
              "ticks": ""
             }
            },
            "type": "scattergl"
           }
          ],
          "scattermapbox": [
           {
            "marker": {
             "colorbar": {
              "outlinewidth": 0,
              "ticks": ""
             }
            },
            "type": "scattermapbox"
           }
          ],
          "scatterpolar": [
           {
            "marker": {
             "colorbar": {
              "outlinewidth": 0,
              "ticks": ""
             }
            },
            "type": "scatterpolar"
           }
          ],
          "scatterpolargl": [
           {
            "marker": {
             "colorbar": {
              "outlinewidth": 0,
              "ticks": ""
             }
            },
            "type": "scatterpolargl"
           }
          ],
          "scatterternary": [
           {
            "marker": {
             "colorbar": {
              "outlinewidth": 0,
              "ticks": ""
             }
            },
            "type": "scatterternary"
           }
          ],
          "surface": [
           {
            "colorbar": {
             "outlinewidth": 0,
             "ticks": ""
            },
            "colorscale": [
             [
              0,
              "#0d0887"
             ],
             [
              0.1111111111111111,
              "#46039f"
             ],
             [
              0.2222222222222222,
              "#7201a8"
             ],
             [
              0.3333333333333333,
              "#9c179e"
             ],
             [
              0.4444444444444444,
              "#bd3786"
             ],
             [
              0.5555555555555556,
              "#d8576b"
             ],
             [
              0.6666666666666666,
              "#ed7953"
             ],
             [
              0.7777777777777778,
              "#fb9f3a"
             ],
             [
              0.8888888888888888,
              "#fdca26"
             ],
             [
              1,
              "#f0f921"
             ]
            ],
            "type": "surface"
           }
          ],
          "table": [
           {
            "cells": {
             "fill": {
              "color": "#EBF0F8"
             },
             "line": {
              "color": "white"
             }
            },
            "header": {
             "fill": {
              "color": "#C8D4E3"
             },
             "line": {
              "color": "white"
             }
            },
            "type": "table"
           }
          ]
         },
         "layout": {
          "annotationdefaults": {
           "arrowcolor": "#2a3f5f",
           "arrowhead": 0,
           "arrowwidth": 1
          },
          "colorscale": {
           "diverging": [
            [
             0,
             "#8e0152"
            ],
            [
             0.1,
             "#c51b7d"
            ],
            [
             0.2,
             "#de77ae"
            ],
            [
             0.3,
             "#f1b6da"
            ],
            [
             0.4,
             "#fde0ef"
            ],
            [
             0.5,
             "#f7f7f7"
            ],
            [
             0.6,
             "#e6f5d0"
            ],
            [
             0.7,
             "#b8e186"
            ],
            [
             0.8,
             "#7fbc41"
            ],
            [
             0.9,
             "#4d9221"
            ],
            [
             1,
             "#276419"
            ]
           ],
           "sequential": [
            [
             0,
             "#0d0887"
            ],
            [
             0.1111111111111111,
             "#46039f"
            ],
            [
             0.2222222222222222,
             "#7201a8"
            ],
            [
             0.3333333333333333,
             "#9c179e"
            ],
            [
             0.4444444444444444,
             "#bd3786"
            ],
            [
             0.5555555555555556,
             "#d8576b"
            ],
            [
             0.6666666666666666,
             "#ed7953"
            ],
            [
             0.7777777777777778,
             "#fb9f3a"
            ],
            [
             0.8888888888888888,
             "#fdca26"
            ],
            [
             1,
             "#f0f921"
            ]
           ],
           "sequentialminus": [
            [
             0,
             "#0d0887"
            ],
            [
             0.1111111111111111,
             "#46039f"
            ],
            [
             0.2222222222222222,
             "#7201a8"
            ],
            [
             0.3333333333333333,
             "#9c179e"
            ],
            [
             0.4444444444444444,
             "#bd3786"
            ],
            [
             0.5555555555555556,
             "#d8576b"
            ],
            [
             0.6666666666666666,
             "#ed7953"
            ],
            [
             0.7777777777777778,
             "#fb9f3a"
            ],
            [
             0.8888888888888888,
             "#fdca26"
            ],
            [
             1,
             "#f0f921"
            ]
           ]
          },
          "colorway": [
           "#636efa",
           "#EF553B",
           "#00cc96",
           "#ab63fa",
           "#FFA15A",
           "#19d3f3",
           "#FF6692",
           "#B6E880",
           "#FF97FF",
           "#FECB52"
          ],
          "font": {
           "color": "#2a3f5f"
          },
          "geo": {
           "bgcolor": "white",
           "lakecolor": "white",
           "landcolor": "#E5ECF6",
           "showlakes": true,
           "showland": true,
           "subunitcolor": "white"
          },
          "hoverlabel": {
           "align": "left"
          },
          "hovermode": "closest",
          "mapbox": {
           "style": "light"
          },
          "paper_bgcolor": "white",
          "plot_bgcolor": "#E5ECF6",
          "polar": {
           "angularaxis": {
            "gridcolor": "white",
            "linecolor": "white",
            "ticks": ""
           },
           "bgcolor": "#E5ECF6",
           "radialaxis": {
            "gridcolor": "white",
            "linecolor": "white",
            "ticks": ""
           }
          },
          "scene": {
           "xaxis": {
            "backgroundcolor": "#E5ECF6",
            "gridcolor": "white",
            "gridwidth": 2,
            "linecolor": "white",
            "showbackground": true,
            "ticks": "",
            "zerolinecolor": "white"
           },
           "yaxis": {
            "backgroundcolor": "#E5ECF6",
            "gridcolor": "white",
            "gridwidth": 2,
            "linecolor": "white",
            "showbackground": true,
            "ticks": "",
            "zerolinecolor": "white"
           },
           "zaxis": {
            "backgroundcolor": "#E5ECF6",
            "gridcolor": "white",
            "gridwidth": 2,
            "linecolor": "white",
            "showbackground": true,
            "ticks": "",
            "zerolinecolor": "white"
           }
          },
          "shapedefaults": {
           "line": {
            "color": "#2a3f5f"
           }
          },
          "ternary": {
           "aaxis": {
            "gridcolor": "white",
            "linecolor": "white",
            "ticks": ""
           },
           "baxis": {
            "gridcolor": "white",
            "linecolor": "white",
            "ticks": ""
           },
           "bgcolor": "#E5ECF6",
           "caxis": {
            "gridcolor": "white",
            "linecolor": "white",
            "ticks": ""
           }
          },
          "title": {
           "x": 0.05
          },
          "xaxis": {
           "automargin": true,
           "gridcolor": "white",
           "linecolor": "white",
           "ticks": "",
           "zerolinecolor": "white",
           "zerolinewidth": 2
          },
          "yaxis": {
           "automargin": true,
           "gridcolor": "white",
           "linecolor": "white",
           "ticks": "",
           "zerolinecolor": "white",
           "zerolinewidth": 2
          }
         }
        }
       }
      },
      "text/html": [
       "<div>\n",
       "        \n",
       "        \n",
       "            <div id=\"ebcd05f5-af5a-4b3b-9865-01be41bffd26\" class=\"plotly-graph-div\" style=\"height:525px; width:100%;\"></div>\n",
       "            <script type=\"text/javascript\">\n",
       "                require([\"plotly\"], function(Plotly) {\n",
       "                    window.PLOTLYENV=window.PLOTLYENV || {};\n",
       "                    \n",
       "                if (document.getElementById(\"ebcd05f5-af5a-4b3b-9865-01be41bffd26\")) {\n",
       "                    Plotly.newPlot(\n",
       "                        'ebcd05f5-af5a-4b3b-9865-01be41bffd26',\n",
       "                        [{\"type\": \"histogram\", \"x\": [\"35\", \"16\", \"11\", \"1\", \"65\", \"4\", \" -   \", \"12\", \"8\", \"30\", \"2\", \" -   \", \"9\", \"22\", \"31\", \"10\", \"9\", \"11\", \"29\", \"61\", \"6\", \"33\", \"46\", \" -   \", \"9\", \"33\", \"45\", \"71\", \"29\", \"71\", \"4\", \" -   \", \"6\", \"13\", \"13\", \"78\", \"57\", \"3\", \"85\", \"22\", \"4\", \"17\", \"9\", \"36\", \" -   \", \"16\", \"2\", \"79\", \"15\", \" -   \", \"26\", \"21\", \"63\", \"26\", \" -   \", \" -   \", \"24\", \"9\", \"8\", \"1\", \"3\", \"12\", \"40\", \"49\", \"3\", \" -   \", \" -   \", \" -   \", \"37\", \"55\", \"1\", \"1\", \"25\", \"5\", \"11\", \"1\", \"11\", \"13\", \"5\", \"9\", \" -   \", \"11\", \"7\", \"12\", \"18\", \"1\", \"23\", \"43\", \"46\", \"35\", \"33\", \"12\", \"1\", \" -   \", \"32\", \"21\", \"33\", \"6\", \"22\", \"28\", \"61\", \"7\", \"1\", \"43\", \"25\", \"1\", \"6\", \"67\", \"14\", \"44\", \" -   \", \"45\", \"35\", \"20\", \"18\", \"24\", \"29\", \" -   \", \"14\", \"6\", \"68\", \"2\", \"15\", \"16\", \"12\", \" -   \", \"3\", \"22\", \" -   \", \" -   \", \"19\", \"2\", \"25\", \" -   \", \"24\", \"14\", \"18\", \"13\", \"4\", \"4\", \"14\", \"3\", \"11\", \"17\", \"7\", \"2\", \"10\", \"18\", \"15\", \"35\", \"20\", \"25\", \"34\", \"23\", \"12\", \"21\", \"27\", \"57\", \"28\", \" -   \", \"19\", \"61\", \"76\", \"37\", \" -   \", \" -   \", \" -   \", \"89\", \"1\", \"22\", \"4\", \"65\", \"5\", \"3\", \" -   \", \"16\", \" -   \", \"25\", \"3\", \" -   \", \"7\", \"12\", \"12\", \"1\", \"8\", \"52\", \"43\", \"12\", \"22\", \"20\", \"20\", \"13\", \"28\", \"14\", \"13\", \"2\", \"10\", \"22\", \"14\", \"45\", \"9\", \"32\", \"9\", \"11\", \"60\", \"4\", \"70\", \"46\", \"16\", \"48\", \"59\", \"23\", \"50\", \"2\", \"18\", \"24\", \"37\", \"41\", \"27\", \"1\", \"59\", \"34\", \"17\", \"60\", \"64\", \"1\", \"38\", \"34\", \"42\", \"14\", \"38\", \"32\", \"9\", \"23\", \" -   \", \"22\", \"6\", \"13\", \"23\", \"16\", \"4\", \"33\", \"2\", \"9\", \" -   \", \"33\", \"31\", \"1\", \"4\", \"41\", \"1\", \"48\", \"33\", \" -   \", \"33\", \"4\", \"8\", \"3\", \" -   \", \"23\", \"33\", \"13\", \"2\", \"18\", \" -   \", \"64\", \"13\", \"32\", \"7\", \"7\", \"25\", \"11\", \"25\", \"21\", \"31\", \"51\", \"54\", \" -   \", \"52\", \"1\", \" -   \", \"3\", \"84\", \"6\", \"1\", \" -   \", \"1\", \"61\", \"26\", \"5\", \"7\", \"38\", \"23\", \"18\", \"15\", \"102\", \" -   \", \"19\", \"14\", \"35\", \"14\", \"2\", \"65\", \" -   \", \"64\", \"36\", \"12\", \"67\", \"24\", \" -   \", \"3\", \"33\", \"13\", \"1\", \"3\", \"3\", \"3\", \"2\", \"15\", \"16\", \"5\", \"48\", \"5\", \"9\", \"16\", \"1\", \"31\", \"9\", \"23\", \"9\", \"93\", \"24\", \"44\", \"1\", \"11\", \"32\", \" -   \", \"6\", \"14\", \"10\", \"1\", \"5\", \"31\", \"24\", \"13\", \"55\", \"13\", \"9\", \"44\", \"1\", \"63\", \"11\", \"47\", \"31\", \" -   \", \"13\", \"50\", \"46\", \"3\", \"25\", \"2\", \"1\", \"25\", \"52\", \"9\", \"12\", \"56\", \"17\", \"2\", \"4\", \" -   \", \" -   \", \"4\", \"49\", \"44\", \" -   \", \"69\", \"30\", \"18\", \"1\", \"10\", \"6\", \"3\", \"40\", \"25\", \"8\", \"7\", \"25\", \"34\", \"35\", \" -   \", \"17\", \"32\", \"15\", \"8\", \"54\", \"14\", \"15\", \"25\", \"11\", \"50\", \"3\", \"6\", \"17\", \"57\", \"6\", \"4\", \"53\", \"22\", \"10\", \"3\", \"55\", \" -   \", \"11\", \"1\", \"54\", \"76\", \"9\", \"62\", \"19\", \"78\", \"38\", \"19\", \"32\", \"65\", \"2\", \"37\", \"4\", \"10\", \" -   \", \"43\", \"3\", \"14\", \"92\", \"21\", \"47\", \"21\", \" -   \", \"67\", \" -   \", \"8\", \"45\", \"19\", \"47\", \"92\", \"2\", \"37\", \"44\", \"27\", \"59\", \"6\", \"100\", \"8\", \"4\", \"8\", \"3\", \"11\", \"4\", \"29\", \" -   \", \"14\", \"83\", \"40\", \"29\", \"4\", \"1\", \"70\", \"62\", \"1\", \"63\", \"13\", \"17\", \" -   \", \"20\", \"12\", \"42\", \"62\", \"21\", \"8\", \"5\", \"22\", \"4\", \"1\", \"1\", \"51\", \"23\", \"5\", \"26\", \"1\", \"11\", \"6\", \"27\", \"4\", \"44\", \"31\", \"43\", \"1\", \"8\", \" -   \", \"21\", \"34\", \"29\", \"4\", \"21\", \"14\", \"97\", \"22\", \"98\", \" -   \", \"4\", \" -   \", \"19\", \"37\", \"48\", \"85\", \"75\", \" -   \", \"47\", \"69\", \"43\", \" -   \", \"12\", \"2\", \"25\", \"15\", \"1\", \"27\", \"1\", \"63\", \"3\", \"12\", \"32\", \"12\", \"28\", \"1\", \"5\", \"4\", \"108\", \"29\", \"30\", \"29\", \"4\", \"2\", \"3\", \"4\", \"15\", \"4\", \" -   \", \"1\", \" -   \", \"36\", \" -   \", \" -   \", \"3\", \"7\", \"3\", \"22\", \"41\", \"58\", \"16\", \"3\", \"11\", \"5\", \"5\", \"64\", \"32\", \"12\", \"18\", \" -   \", \"26\", \"16\", \"7\", \" -   \", \"4\", \"14\", \"5\", \"3\", \"12\", \"42\", \"36\", \"48\", \"34\", \"41\", \"44\", \" -   \", \"35\", \"8\", \"15\", \"1\", \"32\", \"33\", \"26\", \"9\", \"1\", \"29\", \"27\", \"8\", \"7\", \"15\", \"48\", \"26\", \"23\", \"1\", \"61\", \"40\", \"1\", \" -   \", \"3\", \" -   \", \"4\", \" -   \", \"61\", \"8\", \"15\", \"44\", \"17\", \"8\", \"31\", \"10\", \"47\", \"7\", \"87\", \"12\", \"37\", \"29\", \"3\", \"35\", \"44\", \"82\", \"35\", \"9\", \"35\", \"24\", \"80\", \"13\", \"30\", \"1\", \"66\", \"40\", \"5\", \"19\", \" -   \", \"30\", \"39\", \"66\", \"49\", \"19\", \"2\", \"13\", \"42\", \"4\", \"26\", \" -   \", \"54\", \"14\", \"3\", \"27\", \"26\", \"66\", \"12\", \"34\", \"2\", \"1\", \"19\", \"22\", \"2\", \"9\", \" -   \", \"41\", \"20\", \"32\", \"22\", \"16\", \" -   \", \"3\", \"3\", \"72\", \"22\", \"69\", \"84\", \"31\", \"4\", \"9\", \"1\", \"1\", \"10\", \" -   \", \"18\", \"50\", \" -   \", \"15\", \"25\", \"52\", \"7\", \"41\", \"14\", \"27\", \" -   \", \" -   \", \"25\", \" -   \", \"1\", \"14\", \"17\", \"5\", \"7\", \" -   \", \"5\", \"21\", \"38\", \"20\", \"33\", \"38\", \"12\", \"2\", \"35\", \"8\", \"10\", \"10\", \"2\", \"16\", \"14\", \"22\", \"24\", \"22\", \"60\", \"70\", \"7\", \"6\", \"5\", \"1\", \"52\", \"36\", \"2\", \"27\", \"59\", \"26\", \"55\", \"50\", \"8\", \"4\", \"78\", \"5\", \"8\", \"40\", \"24\", \" -   \", \"21\", \"23\", \"20\", \"14\", \"32\", \"30\", \"1\", \"32\", \"19\", \"1\", \"2\", \"3\", \"40\", \"46\", \"12\", \"27\", \"49\", \"25\", \"30\", \"12\", \"8\", \"51\", \"11\", \"60\", \"19\", \"16\", \"31\", \"37\", \"7\", \"2\", \" -   \", \"26\", \"41\", \"3\", \"5\", \"37\", \"76\", \"46\", \"8\", \"15\", \"12\", \"86\", \"53\", \"11\", \"46\", \"9\", \"56\", \"18\", \"16\", \"62\", \"10\", \"18\", \" -   \", \"9\", \"34\", \"59\", \"5\", \"7\", \"51\", \"26\", \"4\", \"3\", \"18\", \"11\", \"66\", \"34\", \"84\", \" -   \", \"64\", \" -   \", \"29\", \"17\", \"9\", \"7\", \"36\", \"40\", \"1\", \"49\", \"52\", \"47\", \" -   \", \"2\", \"75\", \" -   \", \"24\", \"37\", \" -   \", \"51\", \"19\", \" -   \", \" -   \", \"54\", \"16\", \"56\", \"32\", \"10\", \"16\", \"8\", \"28\", \"20\", \"32\", \"85\", \"27\", \"14\", \"16\", \"1\", \"1\", \"12\", \"5\", \"19\", \"21\", \"16\", \"5\", \"8\", \"8\", \"2\", \"35\", \"37\", \"91\", \"6\", \" -   \", \"8\", \"51\", \"18\", \"14\", \"35\", \"17\", \"23\", \"4\", \"3\", \"32\", \"16\", \"3\", \"56\", \"25\", \"20\", \"13\", \"26\", \"56\", \"47\", \"53\", \"64\", \"7\"], \"xbins\": {\"end\": 120, \"size\": 5, \"start\": 0}}],\n",
       "                        {\"template\": {\"data\": {\"bar\": [{\"error_x\": {\"color\": \"#2a3f5f\"}, \"error_y\": {\"color\": \"#2a3f5f\"}, \"marker\": {\"line\": {\"color\": \"#E5ECF6\", \"width\": 0.5}}, \"type\": \"bar\"}], \"barpolar\": [{\"marker\": {\"line\": {\"color\": \"#E5ECF6\", \"width\": 0.5}}, \"type\": \"barpolar\"}], \"carpet\": [{\"aaxis\": {\"endlinecolor\": \"#2a3f5f\", \"gridcolor\": \"white\", \"linecolor\": \"white\", \"minorgridcolor\": \"white\", \"startlinecolor\": \"#2a3f5f\"}, \"baxis\": {\"endlinecolor\": \"#2a3f5f\", \"gridcolor\": \"white\", \"linecolor\": \"white\", \"minorgridcolor\": \"white\", \"startlinecolor\": \"#2a3f5f\"}, \"type\": \"carpet\"}], \"choropleth\": [{\"colorbar\": {\"outlinewidth\": 0, \"ticks\": \"\"}, \"type\": \"choropleth\"}], \"contour\": [{\"colorbar\": {\"outlinewidth\": 0, \"ticks\": \"\"}, \"colorscale\": [[0.0, \"#0d0887\"], [0.1111111111111111, \"#46039f\"], [0.2222222222222222, \"#7201a8\"], [0.3333333333333333, \"#9c179e\"], [0.4444444444444444, \"#bd3786\"], [0.5555555555555556, \"#d8576b\"], [0.6666666666666666, \"#ed7953\"], [0.7777777777777778, \"#fb9f3a\"], [0.8888888888888888, \"#fdca26\"], [1.0, \"#f0f921\"]], \"type\": \"contour\"}], \"contourcarpet\": [{\"colorbar\": {\"outlinewidth\": 0, \"ticks\": \"\"}, \"type\": \"contourcarpet\"}], \"heatmap\": [{\"colorbar\": {\"outlinewidth\": 0, \"ticks\": \"\"}, \"colorscale\": [[0.0, \"#0d0887\"], [0.1111111111111111, \"#46039f\"], [0.2222222222222222, \"#7201a8\"], [0.3333333333333333, \"#9c179e\"], [0.4444444444444444, \"#bd3786\"], [0.5555555555555556, \"#d8576b\"], [0.6666666666666666, \"#ed7953\"], [0.7777777777777778, \"#fb9f3a\"], [0.8888888888888888, \"#fdca26\"], [1.0, \"#f0f921\"]], \"type\": \"heatmap\"}], \"heatmapgl\": [{\"colorbar\": {\"outlinewidth\": 0, \"ticks\": \"\"}, \"colorscale\": [[0.0, \"#0d0887\"], [0.1111111111111111, \"#46039f\"], [0.2222222222222222, \"#7201a8\"], [0.3333333333333333, \"#9c179e\"], [0.4444444444444444, \"#bd3786\"], [0.5555555555555556, \"#d8576b\"], [0.6666666666666666, \"#ed7953\"], [0.7777777777777778, \"#fb9f3a\"], [0.8888888888888888, \"#fdca26\"], [1.0, \"#f0f921\"]], \"type\": \"heatmapgl\"}], \"histogram\": [{\"marker\": {\"colorbar\": {\"outlinewidth\": 0, \"ticks\": \"\"}}, \"type\": \"histogram\"}], \"histogram2d\": [{\"colorbar\": {\"outlinewidth\": 0, \"ticks\": \"\"}, \"colorscale\": [[0.0, \"#0d0887\"], [0.1111111111111111, \"#46039f\"], [0.2222222222222222, \"#7201a8\"], [0.3333333333333333, \"#9c179e\"], [0.4444444444444444, \"#bd3786\"], [0.5555555555555556, \"#d8576b\"], [0.6666666666666666, \"#ed7953\"], [0.7777777777777778, \"#fb9f3a\"], [0.8888888888888888, \"#fdca26\"], [1.0, \"#f0f921\"]], \"type\": \"histogram2d\"}], \"histogram2dcontour\": [{\"colorbar\": {\"outlinewidth\": 0, \"ticks\": \"\"}, \"colorscale\": [[0.0, \"#0d0887\"], [0.1111111111111111, \"#46039f\"], [0.2222222222222222, \"#7201a8\"], [0.3333333333333333, \"#9c179e\"], [0.4444444444444444, \"#bd3786\"], [0.5555555555555556, \"#d8576b\"], [0.6666666666666666, \"#ed7953\"], [0.7777777777777778, \"#fb9f3a\"], [0.8888888888888888, \"#fdca26\"], [1.0, \"#f0f921\"]], \"type\": \"histogram2dcontour\"}], \"mesh3d\": [{\"colorbar\": {\"outlinewidth\": 0, \"ticks\": \"\"}, \"type\": \"mesh3d\"}], \"parcoords\": [{\"line\": {\"colorbar\": {\"outlinewidth\": 0, \"ticks\": \"\"}}, \"type\": \"parcoords\"}], \"scatter\": [{\"marker\": {\"colorbar\": {\"outlinewidth\": 0, \"ticks\": \"\"}}, \"type\": \"scatter\"}], \"scatter3d\": [{\"line\": {\"colorbar\": {\"outlinewidth\": 0, \"ticks\": \"\"}}, \"marker\": {\"colorbar\": {\"outlinewidth\": 0, \"ticks\": \"\"}}, \"type\": \"scatter3d\"}], \"scattercarpet\": [{\"marker\": {\"colorbar\": {\"outlinewidth\": 0, \"ticks\": \"\"}}, \"type\": \"scattercarpet\"}], \"scattergeo\": [{\"marker\": {\"colorbar\": {\"outlinewidth\": 0, \"ticks\": \"\"}}, \"type\": \"scattergeo\"}], \"scattergl\": [{\"marker\": {\"colorbar\": {\"outlinewidth\": 0, \"ticks\": \"\"}}, \"type\": \"scattergl\"}], \"scattermapbox\": [{\"marker\": {\"colorbar\": {\"outlinewidth\": 0, \"ticks\": \"\"}}, \"type\": \"scattermapbox\"}], \"scatterpolar\": [{\"marker\": {\"colorbar\": {\"outlinewidth\": 0, \"ticks\": \"\"}}, \"type\": \"scatterpolar\"}], \"scatterpolargl\": [{\"marker\": {\"colorbar\": {\"outlinewidth\": 0, \"ticks\": \"\"}}, \"type\": \"scatterpolargl\"}], \"scatterternary\": [{\"marker\": {\"colorbar\": {\"outlinewidth\": 0, \"ticks\": \"\"}}, \"type\": \"scatterternary\"}], \"surface\": [{\"colorbar\": {\"outlinewidth\": 0, \"ticks\": \"\"}, \"colorscale\": [[0.0, \"#0d0887\"], [0.1111111111111111, \"#46039f\"], [0.2222222222222222, \"#7201a8\"], [0.3333333333333333, \"#9c179e\"], [0.4444444444444444, \"#bd3786\"], [0.5555555555555556, \"#d8576b\"], [0.6666666666666666, \"#ed7953\"], [0.7777777777777778, \"#fb9f3a\"], [0.8888888888888888, \"#fdca26\"], [1.0, \"#f0f921\"]], \"type\": \"surface\"}], \"table\": [{\"cells\": {\"fill\": {\"color\": \"#EBF0F8\"}, \"line\": {\"color\": \"white\"}}, \"header\": {\"fill\": {\"color\": \"#C8D4E3\"}, \"line\": {\"color\": \"white\"}}, \"type\": \"table\"}]}, \"layout\": {\"annotationdefaults\": {\"arrowcolor\": \"#2a3f5f\", \"arrowhead\": 0, \"arrowwidth\": 1}, \"colorscale\": {\"diverging\": [[0, \"#8e0152\"], [0.1, \"#c51b7d\"], [0.2, \"#de77ae\"], [0.3, \"#f1b6da\"], [0.4, \"#fde0ef\"], [0.5, \"#f7f7f7\"], [0.6, \"#e6f5d0\"], [0.7, \"#b8e186\"], [0.8, \"#7fbc41\"], [0.9, \"#4d9221\"], [1, \"#276419\"]], \"sequential\": [[0.0, \"#0d0887\"], [0.1111111111111111, \"#46039f\"], [0.2222222222222222, \"#7201a8\"], [0.3333333333333333, \"#9c179e\"], [0.4444444444444444, \"#bd3786\"], [0.5555555555555556, \"#d8576b\"], [0.6666666666666666, \"#ed7953\"], [0.7777777777777778, \"#fb9f3a\"], [0.8888888888888888, \"#fdca26\"], [1.0, \"#f0f921\"]], \"sequentialminus\": [[0.0, \"#0d0887\"], [0.1111111111111111, \"#46039f\"], [0.2222222222222222, \"#7201a8\"], [0.3333333333333333, \"#9c179e\"], [0.4444444444444444, \"#bd3786\"], [0.5555555555555556, \"#d8576b\"], [0.6666666666666666, \"#ed7953\"], [0.7777777777777778, \"#fb9f3a\"], [0.8888888888888888, \"#fdca26\"], [1.0, \"#f0f921\"]]}, \"colorway\": [\"#636efa\", \"#EF553B\", \"#00cc96\", \"#ab63fa\", \"#FFA15A\", \"#19d3f3\", \"#FF6692\", \"#B6E880\", \"#FF97FF\", \"#FECB52\"], \"font\": {\"color\": \"#2a3f5f\"}, \"geo\": {\"bgcolor\": \"white\", \"lakecolor\": \"white\", \"landcolor\": \"#E5ECF6\", \"showlakes\": true, \"showland\": true, \"subunitcolor\": \"white\"}, \"hoverlabel\": {\"align\": \"left\"}, \"hovermode\": \"closest\", \"mapbox\": {\"style\": \"light\"}, \"paper_bgcolor\": \"white\", \"plot_bgcolor\": \"#E5ECF6\", \"polar\": {\"angularaxis\": {\"gridcolor\": \"white\", \"linecolor\": \"white\", \"ticks\": \"\"}, \"bgcolor\": \"#E5ECF6\", \"radialaxis\": {\"gridcolor\": \"white\", \"linecolor\": \"white\", \"ticks\": \"\"}}, \"scene\": {\"xaxis\": {\"backgroundcolor\": \"#E5ECF6\", \"gridcolor\": \"white\", \"gridwidth\": 2, \"linecolor\": \"white\", \"showbackground\": true, \"ticks\": \"\", \"zerolinecolor\": \"white\"}, \"yaxis\": {\"backgroundcolor\": \"#E5ECF6\", \"gridcolor\": \"white\", \"gridwidth\": 2, \"linecolor\": \"white\", \"showbackground\": true, \"ticks\": \"\", \"zerolinecolor\": \"white\"}, \"zaxis\": {\"backgroundcolor\": \"#E5ECF6\", \"gridcolor\": \"white\", \"gridwidth\": 2, \"linecolor\": \"white\", \"showbackground\": true, \"ticks\": \"\", \"zerolinecolor\": \"white\"}}, \"shapedefaults\": {\"line\": {\"color\": \"#2a3f5f\"}}, \"ternary\": {\"aaxis\": {\"gridcolor\": \"white\", \"linecolor\": \"white\", \"ticks\": \"\"}, \"baxis\": {\"gridcolor\": \"white\", \"linecolor\": \"white\", \"ticks\": \"\"}, \"bgcolor\": \"#E5ECF6\", \"caxis\": {\"gridcolor\": \"white\", \"linecolor\": \"white\", \"ticks\": \"\"}}, \"title\": {\"x\": 0.05}, \"xaxis\": {\"automargin\": true, \"gridcolor\": \"white\", \"linecolor\": \"white\", \"ticks\": \"\", \"zerolinecolor\": \"white\", \"zerolinewidth\": 2}, \"yaxis\": {\"automargin\": true, \"gridcolor\": \"white\", \"linecolor\": \"white\", \"ticks\": \"\", \"zerolinecolor\": \"white\", \"zerolinewidth\": 2}}}},\n",
       "                        {\"responsive\": true}\n",
       "                    ).then(function(){\n",
       "                            \n",
       "var gd = document.getElementById('ebcd05f5-af5a-4b3b-9865-01be41bffd26');\n",
       "var x = new MutationObserver(function (mutations, observer) {{\n",
       "        var display = window.getComputedStyle(gd).display;\n",
       "        if (!display || display === 'none') {{\n",
       "            console.log([gd, 'removed!']);\n",
       "            Plotly.purge(gd);\n",
       "            observer.disconnect();\n",
       "        }}\n",
       "}});\n",
       "\n",
       "// Listen for the removal of the full notebook cells\n",
       "var notebookContainer = gd.closest('#notebook-container');\n",
       "if (notebookContainer) {{\n",
       "    x.observe(notebookContainer, {childList: true});\n",
       "}}\n",
       "\n",
       "// Listen for the clearing of the current output cell\n",
       "var outputEl = gd.closest('.output');\n",
       "if (outputEl) {{\n",
       "    x.observe(outputEl, {childList: true});\n",
       "}}\n",
       "\n",
       "                        })\n",
       "                };\n",
       "                });\n",
       "            </script>\n",
       "        </div>"
      ]
     },
     "metadata": {},
     "output_type": "display_data"
    }
   ],
   "source": [
    "fig = go.Figure(data=[go.Histogram(\n",
    "         x=data_2018['PTS'],\n",
    "         xbins=dict(start=0,\n",
    "                    end=120,\n",
    "                    size=5))\n",
    "])\n",
    "\n",
    "fig.show()"
   ]
  },
  {
   "cell_type": "code",
   "execution_count": 18,
   "metadata": {},
   "outputs": [
    {
     "data": {
      "application/vnd.plotly.v1+json": {
       "config": {
        "plotlyServerURL": "https://plot.ly"
       },
       "data": [
        {
         "type": "histogram",
         "x": [
          "35",
          "16",
          "11",
          "1",
          "65",
          "4",
          " -   ",
          "12",
          "8",
          "30",
          "2",
          " -   ",
          "9",
          "22",
          "31",
          "10",
          "9",
          "11",
          "29",
          "61",
          "6",
          "33",
          "46",
          " -   ",
          "9",
          "33",
          "45",
          "71",
          "29",
          "71",
          "4",
          " -   ",
          "6",
          "13",
          "13",
          "78",
          "57",
          "3",
          "85",
          "22",
          "4",
          "17",
          "9",
          "36",
          " -   ",
          "16",
          "2",
          "79",
          "15",
          " -   ",
          "26",
          "21",
          "63",
          "26",
          " -   ",
          " -   ",
          "24",
          "9",
          "8",
          "1",
          "3",
          "12",
          "40",
          "49",
          "3",
          " -   ",
          " -   ",
          " -   ",
          "37",
          "55",
          "1",
          "1",
          "25",
          "5",
          "11",
          "1",
          "11",
          "13",
          "5",
          "9",
          " -   ",
          "11",
          "7",
          "12",
          "18",
          "1",
          "23",
          "43",
          "46",
          "35",
          "33",
          "12",
          "1",
          " -   ",
          "32",
          "21",
          "33",
          "6",
          "22",
          "28",
          "61",
          "7",
          "1",
          "43",
          "25",
          "1",
          "6",
          "67",
          "14",
          "44",
          " -   ",
          "45",
          "35",
          "20",
          "18",
          "24",
          "29",
          " -   ",
          "14",
          "6",
          "68",
          "2",
          "15",
          "16",
          "12",
          " -   ",
          "3",
          "22",
          " -   ",
          " -   ",
          "19",
          "2",
          "25",
          " -   ",
          "24",
          "14",
          "18",
          "13",
          "4",
          "4",
          "14",
          "3",
          "11",
          "17",
          "7",
          "2",
          "10",
          "18",
          "15",
          "35",
          "20",
          "25",
          "34",
          "23",
          "12",
          "21",
          "27",
          "57",
          "28",
          " -   ",
          "19",
          "61",
          "76",
          "37",
          " -   ",
          " -   ",
          " -   ",
          "89",
          "1",
          "22",
          "4",
          "65",
          "5",
          "3",
          " -   ",
          "16",
          " -   ",
          "25",
          "3",
          " -   ",
          "7",
          "12",
          "12",
          "1",
          "8",
          "52",
          "43",
          "12",
          "22",
          "20",
          "20",
          "13",
          "28",
          "14",
          "13",
          "2",
          "10",
          "22",
          "14",
          "45",
          "9",
          "32",
          "9",
          "11",
          "60",
          "4",
          "70",
          "46",
          "16",
          "48",
          "59",
          "23",
          "50",
          "2",
          "18",
          "24",
          "37",
          "41",
          "27",
          "1",
          "59",
          "34",
          "17",
          "60",
          "64",
          "1",
          "38",
          "34",
          "42",
          "14",
          "38",
          "32",
          "9",
          "23",
          " -   ",
          "22",
          "6",
          "13",
          "23",
          "16",
          "4",
          "33",
          "2",
          "9",
          " -   ",
          "33",
          "31",
          "1",
          "4",
          "41",
          "1",
          "48",
          "33",
          " -   ",
          "33",
          "4",
          "8",
          "3",
          " -   ",
          "23",
          "33",
          "13",
          "2",
          "18",
          " -   ",
          "64",
          "13",
          "32",
          "7",
          "7",
          "25",
          "11",
          "25",
          "21",
          "31",
          "51",
          "54",
          " -   ",
          "52",
          "1",
          " -   ",
          "3",
          "84",
          "6",
          "1",
          " -   ",
          "1",
          "61",
          "26",
          "5",
          "7",
          "38",
          "23",
          "18",
          "15",
          "102",
          " -   ",
          "19",
          "14",
          "35",
          "14",
          "2",
          "65",
          " -   ",
          "64",
          "36",
          "12",
          "67",
          "24",
          " -   ",
          "3",
          "33",
          "13",
          "1",
          "3",
          "3",
          "3",
          "2",
          "15",
          "16",
          "5",
          "48",
          "5",
          "9",
          "16",
          "1",
          "31",
          "9",
          "23",
          "9",
          "93",
          "24",
          "44",
          "1",
          "11",
          "32",
          " -   ",
          "6",
          "14",
          "10",
          "1",
          "5",
          "31",
          "24",
          "13",
          "55",
          "13",
          "9",
          "44",
          "1",
          "63",
          "11",
          "47",
          "31",
          " -   ",
          "13",
          "50",
          "46",
          "3",
          "25",
          "2",
          "1",
          "25",
          "52",
          "9",
          "12",
          "56",
          "17",
          "2",
          "4",
          " -   ",
          " -   ",
          "4",
          "49",
          "44",
          " -   ",
          "69",
          "30",
          "18",
          "1",
          "10",
          "6",
          "3",
          "40",
          "25",
          "8",
          "7",
          "25",
          "34",
          "35",
          " -   ",
          "17",
          "32",
          "15",
          "8",
          "54",
          "14",
          "15",
          "25",
          "11",
          "50",
          "3",
          "6",
          "17",
          "57",
          "6",
          "4",
          "53",
          "22",
          "10",
          "3",
          "55",
          " -   ",
          "11",
          "1",
          "54",
          "76",
          "9",
          "62",
          "19",
          "78",
          "38",
          "19",
          "32",
          "65",
          "2",
          "37",
          "4",
          "10",
          " -   ",
          "43",
          "3",
          "14",
          "92",
          "21",
          "47",
          "21",
          " -   ",
          "67",
          " -   ",
          "8",
          "45",
          "19",
          "47",
          "92",
          "2",
          "37",
          "44",
          "27",
          "59",
          "6",
          "100",
          "8",
          "4",
          "8",
          "3",
          "11",
          "4",
          "29",
          " -   ",
          "14",
          "83",
          "40",
          "29",
          "4",
          "1",
          "70",
          "62",
          "1",
          "63",
          "13",
          "17",
          " -   ",
          "20",
          "12",
          "42",
          "62",
          "21",
          "8",
          "5",
          "22",
          "4",
          "1",
          "1",
          "51",
          "23",
          "5",
          "26",
          "1",
          "11",
          "6",
          "27",
          "4",
          "44",
          "31",
          "43",
          "1",
          "8",
          " -   ",
          "21",
          "34",
          "29",
          "4",
          "21",
          "14",
          "97",
          "22",
          "98",
          " -   ",
          "4",
          " -   ",
          "19",
          "37",
          "48",
          "85",
          "75",
          " -   ",
          "47",
          "69",
          "43",
          " -   ",
          "12",
          "2",
          "25",
          "15",
          "1",
          "27",
          "1",
          "63",
          "3",
          "12",
          "32",
          "12",
          "28",
          "1",
          "5",
          "4",
          "108",
          "29",
          "30",
          "29",
          "4",
          "2",
          "3",
          "4",
          "15",
          "4",
          " -   ",
          "1",
          " -   ",
          "36",
          " -   ",
          " -   ",
          "3",
          "7",
          "3",
          "22",
          "41",
          "58",
          "16",
          "3",
          "11",
          "5",
          "5",
          "64",
          "32",
          "12",
          "18",
          " -   ",
          "26",
          "16",
          "7",
          " -   ",
          "4",
          "14",
          "5",
          "3",
          "12",
          "42",
          "36",
          "48",
          "34",
          "41",
          "44",
          " -   ",
          "35",
          "8",
          "15",
          "1",
          "32",
          "33",
          "26",
          "9",
          "1",
          "29",
          "27",
          "8",
          "7",
          "15",
          "48",
          "26",
          "23",
          "1",
          "61",
          "40",
          "1",
          " -   ",
          "3",
          " -   ",
          "4",
          " -   ",
          "61",
          "8",
          "15",
          "44",
          "17",
          "8",
          "31",
          "10",
          "47",
          "7",
          "87",
          "12",
          "37",
          "29",
          "3",
          "35",
          "44",
          "82",
          "35",
          "9",
          "35",
          "24",
          "80",
          "13",
          "30",
          "1",
          "66",
          "40",
          "5",
          "19",
          " -   ",
          "30",
          "39",
          "66",
          "49",
          "19",
          "2",
          "13",
          "42",
          "4",
          "26",
          " -   ",
          "54",
          "14",
          "3",
          "27",
          "26",
          "66",
          "12",
          "34",
          "2",
          "1",
          "19",
          "22",
          "2",
          "9",
          " -   ",
          "41",
          "20",
          "32",
          "22",
          "16",
          " -   ",
          "3",
          "3",
          "72",
          "22",
          "69",
          "84",
          "31",
          "4",
          "9",
          "1",
          "1",
          "10",
          " -   ",
          "18",
          "50",
          " -   ",
          "15",
          "25",
          "52",
          "7",
          "41",
          "14",
          "27",
          " -   ",
          " -   ",
          "25",
          " -   ",
          "1",
          "14",
          "17",
          "5",
          "7",
          " -   ",
          "5",
          "21",
          "38",
          "20",
          "33",
          "38",
          "12",
          "2",
          "35",
          "8",
          "10",
          "10",
          "2",
          "16",
          "14",
          "22",
          "24",
          "22",
          "60",
          "70",
          "7",
          "6",
          "5",
          "1",
          "52",
          "36",
          "2",
          "27",
          "59",
          "26",
          "55",
          "50",
          "8",
          "4",
          "78",
          "5",
          "8",
          "40",
          "24",
          " -   ",
          "21",
          "23",
          "20",
          "14",
          "32",
          "30",
          "1",
          "32",
          "19",
          "1",
          "2",
          "3",
          "40",
          "46",
          "12",
          "27",
          "49",
          "25",
          "30",
          "12",
          "8",
          "51",
          "11",
          "60",
          "19",
          "16",
          "31",
          "37",
          "7",
          "2",
          " -   ",
          "26",
          "41",
          "3",
          "5",
          "37",
          "76",
          "46",
          "8",
          "15",
          "12",
          "86",
          "53",
          "11",
          "46",
          "9",
          "56",
          "18",
          "16",
          "62",
          "10",
          "18",
          " -   ",
          "9",
          "34",
          "59",
          "5",
          "7",
          "51",
          "26",
          "4",
          "3",
          "18",
          "11",
          "66",
          "34",
          "84",
          " -   ",
          "64",
          " -   ",
          "29",
          "17",
          "9",
          "7",
          "36",
          "40",
          "1",
          "49",
          "52",
          "47",
          " -   ",
          "2",
          "75",
          " -   ",
          "24",
          "37",
          " -   ",
          "51",
          "19",
          " -   ",
          " -   ",
          "54",
          "16",
          "56",
          "32",
          "10",
          "16",
          "8",
          "28",
          "20",
          "32",
          "85",
          "27",
          "14",
          "16",
          "1",
          "1",
          "12",
          "5",
          "19",
          "21",
          "16",
          "5",
          "8",
          "8",
          "2",
          "35",
          "37",
          "91",
          "6",
          " -   ",
          "8",
          "51",
          "18",
          "14",
          "35",
          "17",
          "23",
          "4",
          "3",
          "32",
          "16",
          "3",
          "56",
          "25",
          "20",
          "13",
          "26",
          "56",
          "47",
          "53",
          "64",
          "7"
         ],
         "xbins": {
          "end": 120,
          "size": 5,
          "start": 0
         }
        }
       ],
       "layout": {
        "template": {
         "data": {
          "bar": [
           {
            "error_x": {
             "color": "#2a3f5f"
            },
            "error_y": {
             "color": "#2a3f5f"
            },
            "marker": {
             "line": {
              "color": "#E5ECF6",
              "width": 0.5
             }
            },
            "type": "bar"
           }
          ],
          "barpolar": [
           {
            "marker": {
             "line": {
              "color": "#E5ECF6",
              "width": 0.5
             }
            },
            "type": "barpolar"
           }
          ],
          "carpet": [
           {
            "aaxis": {
             "endlinecolor": "#2a3f5f",
             "gridcolor": "white",
             "linecolor": "white",
             "minorgridcolor": "white",
             "startlinecolor": "#2a3f5f"
            },
            "baxis": {
             "endlinecolor": "#2a3f5f",
             "gridcolor": "white",
             "linecolor": "white",
             "minorgridcolor": "white",
             "startlinecolor": "#2a3f5f"
            },
            "type": "carpet"
           }
          ],
          "choropleth": [
           {
            "colorbar": {
             "outlinewidth": 0,
             "ticks": ""
            },
            "type": "choropleth"
           }
          ],
          "contour": [
           {
            "colorbar": {
             "outlinewidth": 0,
             "ticks": ""
            },
            "colorscale": [
             [
              0,
              "#0d0887"
             ],
             [
              0.1111111111111111,
              "#46039f"
             ],
             [
              0.2222222222222222,
              "#7201a8"
             ],
             [
              0.3333333333333333,
              "#9c179e"
             ],
             [
              0.4444444444444444,
              "#bd3786"
             ],
             [
              0.5555555555555556,
              "#d8576b"
             ],
             [
              0.6666666666666666,
              "#ed7953"
             ],
             [
              0.7777777777777778,
              "#fb9f3a"
             ],
             [
              0.8888888888888888,
              "#fdca26"
             ],
             [
              1,
              "#f0f921"
             ]
            ],
            "type": "contour"
           }
          ],
          "contourcarpet": [
           {
            "colorbar": {
             "outlinewidth": 0,
             "ticks": ""
            },
            "type": "contourcarpet"
           }
          ],
          "heatmap": [
           {
            "colorbar": {
             "outlinewidth": 0,
             "ticks": ""
            },
            "colorscale": [
             [
              0,
              "#0d0887"
             ],
             [
              0.1111111111111111,
              "#46039f"
             ],
             [
              0.2222222222222222,
              "#7201a8"
             ],
             [
              0.3333333333333333,
              "#9c179e"
             ],
             [
              0.4444444444444444,
              "#bd3786"
             ],
             [
              0.5555555555555556,
              "#d8576b"
             ],
             [
              0.6666666666666666,
              "#ed7953"
             ],
             [
              0.7777777777777778,
              "#fb9f3a"
             ],
             [
              0.8888888888888888,
              "#fdca26"
             ],
             [
              1,
              "#f0f921"
             ]
            ],
            "type": "heatmap"
           }
          ],
          "heatmapgl": [
           {
            "colorbar": {
             "outlinewidth": 0,
             "ticks": ""
            },
            "colorscale": [
             [
              0,
              "#0d0887"
             ],
             [
              0.1111111111111111,
              "#46039f"
             ],
             [
              0.2222222222222222,
              "#7201a8"
             ],
             [
              0.3333333333333333,
              "#9c179e"
             ],
             [
              0.4444444444444444,
              "#bd3786"
             ],
             [
              0.5555555555555556,
              "#d8576b"
             ],
             [
              0.6666666666666666,
              "#ed7953"
             ],
             [
              0.7777777777777778,
              "#fb9f3a"
             ],
             [
              0.8888888888888888,
              "#fdca26"
             ],
             [
              1,
              "#f0f921"
             ]
            ],
            "type": "heatmapgl"
           }
          ],
          "histogram": [
           {
            "marker": {
             "colorbar": {
              "outlinewidth": 0,
              "ticks": ""
             }
            },
            "type": "histogram"
           }
          ],
          "histogram2d": [
           {
            "colorbar": {
             "outlinewidth": 0,
             "ticks": ""
            },
            "colorscale": [
             [
              0,
              "#0d0887"
             ],
             [
              0.1111111111111111,
              "#46039f"
             ],
             [
              0.2222222222222222,
              "#7201a8"
             ],
             [
              0.3333333333333333,
              "#9c179e"
             ],
             [
              0.4444444444444444,
              "#bd3786"
             ],
             [
              0.5555555555555556,
              "#d8576b"
             ],
             [
              0.6666666666666666,
              "#ed7953"
             ],
             [
              0.7777777777777778,
              "#fb9f3a"
             ],
             [
              0.8888888888888888,
              "#fdca26"
             ],
             [
              1,
              "#f0f921"
             ]
            ],
            "type": "histogram2d"
           }
          ],
          "histogram2dcontour": [
           {
            "colorbar": {
             "outlinewidth": 0,
             "ticks": ""
            },
            "colorscale": [
             [
              0,
              "#0d0887"
             ],
             [
              0.1111111111111111,
              "#46039f"
             ],
             [
              0.2222222222222222,
              "#7201a8"
             ],
             [
              0.3333333333333333,
              "#9c179e"
             ],
             [
              0.4444444444444444,
              "#bd3786"
             ],
             [
              0.5555555555555556,
              "#d8576b"
             ],
             [
              0.6666666666666666,
              "#ed7953"
             ],
             [
              0.7777777777777778,
              "#fb9f3a"
             ],
             [
              0.8888888888888888,
              "#fdca26"
             ],
             [
              1,
              "#f0f921"
             ]
            ],
            "type": "histogram2dcontour"
           }
          ],
          "mesh3d": [
           {
            "colorbar": {
             "outlinewidth": 0,
             "ticks": ""
            },
            "type": "mesh3d"
           }
          ],
          "parcoords": [
           {
            "line": {
             "colorbar": {
              "outlinewidth": 0,
              "ticks": ""
             }
            },
            "type": "parcoords"
           }
          ],
          "scatter": [
           {
            "marker": {
             "colorbar": {
              "outlinewidth": 0,
              "ticks": ""
             }
            },
            "type": "scatter"
           }
          ],
          "scatter3d": [
           {
            "line": {
             "colorbar": {
              "outlinewidth": 0,
              "ticks": ""
             }
            },
            "marker": {
             "colorbar": {
              "outlinewidth": 0,
              "ticks": ""
             }
            },
            "type": "scatter3d"
           }
          ],
          "scattercarpet": [
           {
            "marker": {
             "colorbar": {
              "outlinewidth": 0,
              "ticks": ""
             }
            },
            "type": "scattercarpet"
           }
          ],
          "scattergeo": [
           {
            "marker": {
             "colorbar": {
              "outlinewidth": 0,
              "ticks": ""
             }
            },
            "type": "scattergeo"
           }
          ],
          "scattergl": [
           {
            "marker": {
             "colorbar": {
              "outlinewidth": 0,
              "ticks": ""
             }
            },
            "type": "scattergl"
           }
          ],
          "scattermapbox": [
           {
            "marker": {
             "colorbar": {
              "outlinewidth": 0,
              "ticks": ""
             }
            },
            "type": "scattermapbox"
           }
          ],
          "scatterpolar": [
           {
            "marker": {
             "colorbar": {
              "outlinewidth": 0,
              "ticks": ""
             }
            },
            "type": "scatterpolar"
           }
          ],
          "scatterpolargl": [
           {
            "marker": {
             "colorbar": {
              "outlinewidth": 0,
              "ticks": ""
             }
            },
            "type": "scatterpolargl"
           }
          ],
          "scatterternary": [
           {
            "marker": {
             "colorbar": {
              "outlinewidth": 0,
              "ticks": ""
             }
            },
            "type": "scatterternary"
           }
          ],
          "surface": [
           {
            "colorbar": {
             "outlinewidth": 0,
             "ticks": ""
            },
            "colorscale": [
             [
              0,
              "#0d0887"
             ],
             [
              0.1111111111111111,
              "#46039f"
             ],
             [
              0.2222222222222222,
              "#7201a8"
             ],
             [
              0.3333333333333333,
              "#9c179e"
             ],
             [
              0.4444444444444444,
              "#bd3786"
             ],
             [
              0.5555555555555556,
              "#d8576b"
             ],
             [
              0.6666666666666666,
              "#ed7953"
             ],
             [
              0.7777777777777778,
              "#fb9f3a"
             ],
             [
              0.8888888888888888,
              "#fdca26"
             ],
             [
              1,
              "#f0f921"
             ]
            ],
            "type": "surface"
           }
          ],
          "table": [
           {
            "cells": {
             "fill": {
              "color": "#EBF0F8"
             },
             "line": {
              "color": "white"
             }
            },
            "header": {
             "fill": {
              "color": "#C8D4E3"
             },
             "line": {
              "color": "white"
             }
            },
            "type": "table"
           }
          ]
         },
         "layout": {
          "annotationdefaults": {
           "arrowcolor": "#2a3f5f",
           "arrowhead": 0,
           "arrowwidth": 1
          },
          "colorscale": {
           "diverging": [
            [
             0,
             "#8e0152"
            ],
            [
             0.1,
             "#c51b7d"
            ],
            [
             0.2,
             "#de77ae"
            ],
            [
             0.3,
             "#f1b6da"
            ],
            [
             0.4,
             "#fde0ef"
            ],
            [
             0.5,
             "#f7f7f7"
            ],
            [
             0.6,
             "#e6f5d0"
            ],
            [
             0.7,
             "#b8e186"
            ],
            [
             0.8,
             "#7fbc41"
            ],
            [
             0.9,
             "#4d9221"
            ],
            [
             1,
             "#276419"
            ]
           ],
           "sequential": [
            [
             0,
             "#0d0887"
            ],
            [
             0.1111111111111111,
             "#46039f"
            ],
            [
             0.2222222222222222,
             "#7201a8"
            ],
            [
             0.3333333333333333,
             "#9c179e"
            ],
            [
             0.4444444444444444,
             "#bd3786"
            ],
            [
             0.5555555555555556,
             "#d8576b"
            ],
            [
             0.6666666666666666,
             "#ed7953"
            ],
            [
             0.7777777777777778,
             "#fb9f3a"
            ],
            [
             0.8888888888888888,
             "#fdca26"
            ],
            [
             1,
             "#f0f921"
            ]
           ],
           "sequentialminus": [
            [
             0,
             "#0d0887"
            ],
            [
             0.1111111111111111,
             "#46039f"
            ],
            [
             0.2222222222222222,
             "#7201a8"
            ],
            [
             0.3333333333333333,
             "#9c179e"
            ],
            [
             0.4444444444444444,
             "#bd3786"
            ],
            [
             0.5555555555555556,
             "#d8576b"
            ],
            [
             0.6666666666666666,
             "#ed7953"
            ],
            [
             0.7777777777777778,
             "#fb9f3a"
            ],
            [
             0.8888888888888888,
             "#fdca26"
            ],
            [
             1,
             "#f0f921"
            ]
           ]
          },
          "colorway": [
           "#636efa",
           "#EF553B",
           "#00cc96",
           "#ab63fa",
           "#FFA15A",
           "#19d3f3",
           "#FF6692",
           "#B6E880",
           "#FF97FF",
           "#FECB52"
          ],
          "font": {
           "color": "#2a3f5f"
          },
          "geo": {
           "bgcolor": "white",
           "lakecolor": "white",
           "landcolor": "#E5ECF6",
           "showlakes": true,
           "showland": true,
           "subunitcolor": "white"
          },
          "hoverlabel": {
           "align": "left"
          },
          "hovermode": "closest",
          "mapbox": {
           "style": "light"
          },
          "paper_bgcolor": "white",
          "plot_bgcolor": "#E5ECF6",
          "polar": {
           "angularaxis": {
            "gridcolor": "white",
            "linecolor": "white",
            "ticks": ""
           },
           "bgcolor": "#E5ECF6",
           "radialaxis": {
            "gridcolor": "white",
            "linecolor": "white",
            "ticks": ""
           }
          },
          "scene": {
           "xaxis": {
            "backgroundcolor": "#E5ECF6",
            "gridcolor": "white",
            "gridwidth": 2,
            "linecolor": "white",
            "showbackground": true,
            "ticks": "",
            "zerolinecolor": "white"
           },
           "yaxis": {
            "backgroundcolor": "#E5ECF6",
            "gridcolor": "white",
            "gridwidth": 2,
            "linecolor": "white",
            "showbackground": true,
            "ticks": "",
            "zerolinecolor": "white"
           },
           "zaxis": {
            "backgroundcolor": "#E5ECF6",
            "gridcolor": "white",
            "gridwidth": 2,
            "linecolor": "white",
            "showbackground": true,
            "ticks": "",
            "zerolinecolor": "white"
           }
          },
          "shapedefaults": {
           "line": {
            "color": "#2a3f5f"
           }
          },
          "ternary": {
           "aaxis": {
            "gridcolor": "white",
            "linecolor": "white",
            "ticks": ""
           },
           "baxis": {
            "gridcolor": "white",
            "linecolor": "white",
            "ticks": ""
           },
           "bgcolor": "#E5ECF6",
           "caxis": {
            "gridcolor": "white",
            "linecolor": "white",
            "ticks": ""
           }
          },
          "title": {
           "x": 0.05
          },
          "xaxis": {
           "automargin": true,
           "gridcolor": "white",
           "linecolor": "white",
           "ticks": "",
           "zerolinecolor": "white",
           "zerolinewidth": 2
          },
          "yaxis": {
           "automargin": true,
           "gridcolor": "white",
           "linecolor": "white",
           "ticks": "",
           "zerolinecolor": "white",
           "zerolinewidth": 2
          }
         }
        },
        "title": {
         "text": "2018 NHL Points by Player"
        },
        "xaxis": {
         "title": {
          "text": "Value"
         }
        },
        "yaxis": {
         "title": {
          "text": "Count"
         }
        }
       }
      },
      "text/html": [
       "<div>\n",
       "        \n",
       "        \n",
       "            <div id=\"9f92be5c-5ecf-4dac-853e-f20c50bf8091\" class=\"plotly-graph-div\" style=\"height:525px; width:100%;\"></div>\n",
       "            <script type=\"text/javascript\">\n",
       "                require([\"plotly\"], function(Plotly) {\n",
       "                    window.PLOTLYENV=window.PLOTLYENV || {};\n",
       "                    \n",
       "                if (document.getElementById(\"9f92be5c-5ecf-4dac-853e-f20c50bf8091\")) {\n",
       "                    Plotly.newPlot(\n",
       "                        '9f92be5c-5ecf-4dac-853e-f20c50bf8091',\n",
       "                        [{\"type\": \"histogram\", \"x\": [\"35\", \"16\", \"11\", \"1\", \"65\", \"4\", \" -   \", \"12\", \"8\", \"30\", \"2\", \" -   \", \"9\", \"22\", \"31\", \"10\", \"9\", \"11\", \"29\", \"61\", \"6\", \"33\", \"46\", \" -   \", \"9\", \"33\", \"45\", \"71\", \"29\", \"71\", \"4\", \" -   \", \"6\", \"13\", \"13\", \"78\", \"57\", \"3\", \"85\", \"22\", \"4\", \"17\", \"9\", \"36\", \" -   \", \"16\", \"2\", \"79\", \"15\", \" -   \", \"26\", \"21\", \"63\", \"26\", \" -   \", \" -   \", \"24\", \"9\", \"8\", \"1\", \"3\", \"12\", \"40\", \"49\", \"3\", \" -   \", \" -   \", \" -   \", \"37\", \"55\", \"1\", \"1\", \"25\", \"5\", \"11\", \"1\", \"11\", \"13\", \"5\", \"9\", \" -   \", \"11\", \"7\", \"12\", \"18\", \"1\", \"23\", \"43\", \"46\", \"35\", \"33\", \"12\", \"1\", \" -   \", \"32\", \"21\", \"33\", \"6\", \"22\", \"28\", \"61\", \"7\", \"1\", \"43\", \"25\", \"1\", \"6\", \"67\", \"14\", \"44\", \" -   \", \"45\", \"35\", \"20\", \"18\", \"24\", \"29\", \" -   \", \"14\", \"6\", \"68\", \"2\", \"15\", \"16\", \"12\", \" -   \", \"3\", \"22\", \" -   \", \" -   \", \"19\", \"2\", \"25\", \" -   \", \"24\", \"14\", \"18\", \"13\", \"4\", \"4\", \"14\", \"3\", \"11\", \"17\", \"7\", \"2\", \"10\", \"18\", \"15\", \"35\", \"20\", \"25\", \"34\", \"23\", \"12\", \"21\", \"27\", \"57\", \"28\", \" -   \", \"19\", \"61\", \"76\", \"37\", \" -   \", \" -   \", \" -   \", \"89\", \"1\", \"22\", \"4\", \"65\", \"5\", \"3\", \" -   \", \"16\", \" -   \", \"25\", \"3\", \" -   \", \"7\", \"12\", \"12\", \"1\", \"8\", \"52\", \"43\", \"12\", \"22\", \"20\", \"20\", \"13\", \"28\", \"14\", \"13\", \"2\", \"10\", \"22\", \"14\", \"45\", \"9\", \"32\", \"9\", \"11\", \"60\", \"4\", \"70\", \"46\", \"16\", \"48\", \"59\", \"23\", \"50\", \"2\", \"18\", \"24\", \"37\", \"41\", \"27\", \"1\", \"59\", \"34\", \"17\", \"60\", \"64\", \"1\", \"38\", \"34\", \"42\", \"14\", \"38\", \"32\", \"9\", \"23\", \" -   \", \"22\", \"6\", \"13\", \"23\", \"16\", \"4\", \"33\", \"2\", \"9\", \" -   \", \"33\", \"31\", \"1\", \"4\", \"41\", \"1\", \"48\", \"33\", \" -   \", \"33\", \"4\", \"8\", \"3\", \" -   \", \"23\", \"33\", \"13\", \"2\", \"18\", \" -   \", \"64\", \"13\", \"32\", \"7\", \"7\", \"25\", \"11\", \"25\", \"21\", \"31\", \"51\", \"54\", \" -   \", \"52\", \"1\", \" -   \", \"3\", \"84\", \"6\", \"1\", \" -   \", \"1\", \"61\", \"26\", \"5\", \"7\", \"38\", \"23\", \"18\", \"15\", \"102\", \" -   \", \"19\", \"14\", \"35\", \"14\", \"2\", \"65\", \" -   \", \"64\", \"36\", \"12\", \"67\", \"24\", \" -   \", \"3\", \"33\", \"13\", \"1\", \"3\", \"3\", \"3\", \"2\", \"15\", \"16\", \"5\", \"48\", \"5\", \"9\", \"16\", \"1\", \"31\", \"9\", \"23\", \"9\", \"93\", \"24\", \"44\", \"1\", \"11\", \"32\", \" -   \", \"6\", \"14\", \"10\", \"1\", \"5\", \"31\", \"24\", \"13\", \"55\", \"13\", \"9\", \"44\", \"1\", \"63\", \"11\", \"47\", \"31\", \" -   \", \"13\", \"50\", \"46\", \"3\", \"25\", \"2\", \"1\", \"25\", \"52\", \"9\", \"12\", \"56\", \"17\", \"2\", \"4\", \" -   \", \" -   \", \"4\", \"49\", \"44\", \" -   \", \"69\", \"30\", \"18\", \"1\", \"10\", \"6\", \"3\", \"40\", \"25\", \"8\", \"7\", \"25\", \"34\", \"35\", \" -   \", \"17\", \"32\", \"15\", \"8\", \"54\", \"14\", \"15\", \"25\", \"11\", \"50\", \"3\", \"6\", \"17\", \"57\", \"6\", \"4\", \"53\", \"22\", \"10\", \"3\", \"55\", \" -   \", \"11\", \"1\", \"54\", \"76\", \"9\", \"62\", \"19\", \"78\", \"38\", \"19\", \"32\", \"65\", \"2\", \"37\", \"4\", \"10\", \" -   \", \"43\", \"3\", \"14\", \"92\", \"21\", \"47\", \"21\", \" -   \", \"67\", \" -   \", \"8\", \"45\", \"19\", \"47\", \"92\", \"2\", \"37\", \"44\", \"27\", \"59\", \"6\", \"100\", \"8\", \"4\", \"8\", \"3\", \"11\", \"4\", \"29\", \" -   \", \"14\", \"83\", \"40\", \"29\", \"4\", \"1\", \"70\", \"62\", \"1\", \"63\", \"13\", \"17\", \" -   \", \"20\", \"12\", \"42\", \"62\", \"21\", \"8\", \"5\", \"22\", \"4\", \"1\", \"1\", \"51\", \"23\", \"5\", \"26\", \"1\", \"11\", \"6\", \"27\", \"4\", \"44\", \"31\", \"43\", \"1\", \"8\", \" -   \", \"21\", \"34\", \"29\", \"4\", \"21\", \"14\", \"97\", \"22\", \"98\", \" -   \", \"4\", \" -   \", \"19\", \"37\", \"48\", \"85\", \"75\", \" -   \", \"47\", \"69\", \"43\", \" -   \", \"12\", \"2\", \"25\", \"15\", \"1\", \"27\", \"1\", \"63\", \"3\", \"12\", \"32\", \"12\", \"28\", \"1\", \"5\", \"4\", \"108\", \"29\", \"30\", \"29\", \"4\", \"2\", \"3\", \"4\", \"15\", \"4\", \" -   \", \"1\", \" -   \", \"36\", \" -   \", \" -   \", \"3\", \"7\", \"3\", \"22\", \"41\", \"58\", \"16\", \"3\", \"11\", \"5\", \"5\", \"64\", \"32\", \"12\", \"18\", \" -   \", \"26\", \"16\", \"7\", \" -   \", \"4\", \"14\", \"5\", \"3\", \"12\", \"42\", \"36\", \"48\", \"34\", \"41\", \"44\", \" -   \", \"35\", \"8\", \"15\", \"1\", \"32\", \"33\", \"26\", \"9\", \"1\", \"29\", \"27\", \"8\", \"7\", \"15\", \"48\", \"26\", \"23\", \"1\", \"61\", \"40\", \"1\", \" -   \", \"3\", \" -   \", \"4\", \" -   \", \"61\", \"8\", \"15\", \"44\", \"17\", \"8\", \"31\", \"10\", \"47\", \"7\", \"87\", \"12\", \"37\", \"29\", \"3\", \"35\", \"44\", \"82\", \"35\", \"9\", \"35\", \"24\", \"80\", \"13\", \"30\", \"1\", \"66\", \"40\", \"5\", \"19\", \" -   \", \"30\", \"39\", \"66\", \"49\", \"19\", \"2\", \"13\", \"42\", \"4\", \"26\", \" -   \", \"54\", \"14\", \"3\", \"27\", \"26\", \"66\", \"12\", \"34\", \"2\", \"1\", \"19\", \"22\", \"2\", \"9\", \" -   \", \"41\", \"20\", \"32\", \"22\", \"16\", \" -   \", \"3\", \"3\", \"72\", \"22\", \"69\", \"84\", \"31\", \"4\", \"9\", \"1\", \"1\", \"10\", \" -   \", \"18\", \"50\", \" -   \", \"15\", \"25\", \"52\", \"7\", \"41\", \"14\", \"27\", \" -   \", \" -   \", \"25\", \" -   \", \"1\", \"14\", \"17\", \"5\", \"7\", \" -   \", \"5\", \"21\", \"38\", \"20\", \"33\", \"38\", \"12\", \"2\", \"35\", \"8\", \"10\", \"10\", \"2\", \"16\", \"14\", \"22\", \"24\", \"22\", \"60\", \"70\", \"7\", \"6\", \"5\", \"1\", \"52\", \"36\", \"2\", \"27\", \"59\", \"26\", \"55\", \"50\", \"8\", \"4\", \"78\", \"5\", \"8\", \"40\", \"24\", \" -   \", \"21\", \"23\", \"20\", \"14\", \"32\", \"30\", \"1\", \"32\", \"19\", \"1\", \"2\", \"3\", \"40\", \"46\", \"12\", \"27\", \"49\", \"25\", \"30\", \"12\", \"8\", \"51\", \"11\", \"60\", \"19\", \"16\", \"31\", \"37\", \"7\", \"2\", \" -   \", \"26\", \"41\", \"3\", \"5\", \"37\", \"76\", \"46\", \"8\", \"15\", \"12\", \"86\", \"53\", \"11\", \"46\", \"9\", \"56\", \"18\", \"16\", \"62\", \"10\", \"18\", \" -   \", \"9\", \"34\", \"59\", \"5\", \"7\", \"51\", \"26\", \"4\", \"3\", \"18\", \"11\", \"66\", \"34\", \"84\", \" -   \", \"64\", \" -   \", \"29\", \"17\", \"9\", \"7\", \"36\", \"40\", \"1\", \"49\", \"52\", \"47\", \" -   \", \"2\", \"75\", \" -   \", \"24\", \"37\", \" -   \", \"51\", \"19\", \" -   \", \" -   \", \"54\", \"16\", \"56\", \"32\", \"10\", \"16\", \"8\", \"28\", \"20\", \"32\", \"85\", \"27\", \"14\", \"16\", \"1\", \"1\", \"12\", \"5\", \"19\", \"21\", \"16\", \"5\", \"8\", \"8\", \"2\", \"35\", \"37\", \"91\", \"6\", \" -   \", \"8\", \"51\", \"18\", \"14\", \"35\", \"17\", \"23\", \"4\", \"3\", \"32\", \"16\", \"3\", \"56\", \"25\", \"20\", \"13\", \"26\", \"56\", \"47\", \"53\", \"64\", \"7\"], \"xbins\": {\"end\": 120, \"size\": 5, \"start\": 0}}],\n",
       "                        {\"template\": {\"data\": {\"bar\": [{\"error_x\": {\"color\": \"#2a3f5f\"}, \"error_y\": {\"color\": \"#2a3f5f\"}, \"marker\": {\"line\": {\"color\": \"#E5ECF6\", \"width\": 0.5}}, \"type\": \"bar\"}], \"barpolar\": [{\"marker\": {\"line\": {\"color\": \"#E5ECF6\", \"width\": 0.5}}, \"type\": \"barpolar\"}], \"carpet\": [{\"aaxis\": {\"endlinecolor\": \"#2a3f5f\", \"gridcolor\": \"white\", \"linecolor\": \"white\", \"minorgridcolor\": \"white\", \"startlinecolor\": \"#2a3f5f\"}, \"baxis\": {\"endlinecolor\": \"#2a3f5f\", \"gridcolor\": \"white\", \"linecolor\": \"white\", \"minorgridcolor\": \"white\", \"startlinecolor\": \"#2a3f5f\"}, \"type\": \"carpet\"}], \"choropleth\": [{\"colorbar\": {\"outlinewidth\": 0, \"ticks\": \"\"}, \"type\": \"choropleth\"}], \"contour\": [{\"colorbar\": {\"outlinewidth\": 0, \"ticks\": \"\"}, \"colorscale\": [[0.0, \"#0d0887\"], [0.1111111111111111, \"#46039f\"], [0.2222222222222222, \"#7201a8\"], [0.3333333333333333, \"#9c179e\"], [0.4444444444444444, \"#bd3786\"], [0.5555555555555556, \"#d8576b\"], [0.6666666666666666, \"#ed7953\"], [0.7777777777777778, \"#fb9f3a\"], [0.8888888888888888, \"#fdca26\"], [1.0, \"#f0f921\"]], \"type\": \"contour\"}], \"contourcarpet\": [{\"colorbar\": {\"outlinewidth\": 0, \"ticks\": \"\"}, \"type\": \"contourcarpet\"}], \"heatmap\": [{\"colorbar\": {\"outlinewidth\": 0, \"ticks\": \"\"}, \"colorscale\": [[0.0, \"#0d0887\"], [0.1111111111111111, \"#46039f\"], [0.2222222222222222, \"#7201a8\"], [0.3333333333333333, \"#9c179e\"], [0.4444444444444444, \"#bd3786\"], [0.5555555555555556, \"#d8576b\"], [0.6666666666666666, \"#ed7953\"], [0.7777777777777778, \"#fb9f3a\"], [0.8888888888888888, \"#fdca26\"], [1.0, \"#f0f921\"]], \"type\": \"heatmap\"}], \"heatmapgl\": [{\"colorbar\": {\"outlinewidth\": 0, \"ticks\": \"\"}, \"colorscale\": [[0.0, \"#0d0887\"], [0.1111111111111111, \"#46039f\"], [0.2222222222222222, \"#7201a8\"], [0.3333333333333333, \"#9c179e\"], [0.4444444444444444, \"#bd3786\"], [0.5555555555555556, \"#d8576b\"], [0.6666666666666666, \"#ed7953\"], [0.7777777777777778, \"#fb9f3a\"], [0.8888888888888888, \"#fdca26\"], [1.0, \"#f0f921\"]], \"type\": \"heatmapgl\"}], \"histogram\": [{\"marker\": {\"colorbar\": {\"outlinewidth\": 0, \"ticks\": \"\"}}, \"type\": \"histogram\"}], \"histogram2d\": [{\"colorbar\": {\"outlinewidth\": 0, \"ticks\": \"\"}, \"colorscale\": [[0.0, \"#0d0887\"], [0.1111111111111111, \"#46039f\"], [0.2222222222222222, \"#7201a8\"], [0.3333333333333333, \"#9c179e\"], [0.4444444444444444, \"#bd3786\"], [0.5555555555555556, \"#d8576b\"], [0.6666666666666666, \"#ed7953\"], [0.7777777777777778, \"#fb9f3a\"], [0.8888888888888888, \"#fdca26\"], [1.0, \"#f0f921\"]], \"type\": \"histogram2d\"}], \"histogram2dcontour\": [{\"colorbar\": {\"outlinewidth\": 0, \"ticks\": \"\"}, \"colorscale\": [[0.0, \"#0d0887\"], [0.1111111111111111, \"#46039f\"], [0.2222222222222222, \"#7201a8\"], [0.3333333333333333, \"#9c179e\"], [0.4444444444444444, \"#bd3786\"], [0.5555555555555556, \"#d8576b\"], [0.6666666666666666, \"#ed7953\"], [0.7777777777777778, \"#fb9f3a\"], [0.8888888888888888, \"#fdca26\"], [1.0, \"#f0f921\"]], \"type\": \"histogram2dcontour\"}], \"mesh3d\": [{\"colorbar\": {\"outlinewidth\": 0, \"ticks\": \"\"}, \"type\": \"mesh3d\"}], \"parcoords\": [{\"line\": {\"colorbar\": {\"outlinewidth\": 0, \"ticks\": \"\"}}, \"type\": \"parcoords\"}], \"scatter\": [{\"marker\": {\"colorbar\": {\"outlinewidth\": 0, \"ticks\": \"\"}}, \"type\": \"scatter\"}], \"scatter3d\": [{\"line\": {\"colorbar\": {\"outlinewidth\": 0, \"ticks\": \"\"}}, \"marker\": {\"colorbar\": {\"outlinewidth\": 0, \"ticks\": \"\"}}, \"type\": \"scatter3d\"}], \"scattercarpet\": [{\"marker\": {\"colorbar\": {\"outlinewidth\": 0, \"ticks\": \"\"}}, \"type\": \"scattercarpet\"}], \"scattergeo\": [{\"marker\": {\"colorbar\": {\"outlinewidth\": 0, \"ticks\": \"\"}}, \"type\": \"scattergeo\"}], \"scattergl\": [{\"marker\": {\"colorbar\": {\"outlinewidth\": 0, \"ticks\": \"\"}}, \"type\": \"scattergl\"}], \"scattermapbox\": [{\"marker\": {\"colorbar\": {\"outlinewidth\": 0, \"ticks\": \"\"}}, \"type\": \"scattermapbox\"}], \"scatterpolar\": [{\"marker\": {\"colorbar\": {\"outlinewidth\": 0, \"ticks\": \"\"}}, \"type\": \"scatterpolar\"}], \"scatterpolargl\": [{\"marker\": {\"colorbar\": {\"outlinewidth\": 0, \"ticks\": \"\"}}, \"type\": \"scatterpolargl\"}], \"scatterternary\": [{\"marker\": {\"colorbar\": {\"outlinewidth\": 0, \"ticks\": \"\"}}, \"type\": \"scatterternary\"}], \"surface\": [{\"colorbar\": {\"outlinewidth\": 0, \"ticks\": \"\"}, \"colorscale\": [[0.0, \"#0d0887\"], [0.1111111111111111, \"#46039f\"], [0.2222222222222222, \"#7201a8\"], [0.3333333333333333, \"#9c179e\"], [0.4444444444444444, \"#bd3786\"], [0.5555555555555556, \"#d8576b\"], [0.6666666666666666, \"#ed7953\"], [0.7777777777777778, \"#fb9f3a\"], [0.8888888888888888, \"#fdca26\"], [1.0, \"#f0f921\"]], \"type\": \"surface\"}], \"table\": [{\"cells\": {\"fill\": {\"color\": \"#EBF0F8\"}, \"line\": {\"color\": \"white\"}}, \"header\": {\"fill\": {\"color\": \"#C8D4E3\"}, \"line\": {\"color\": \"white\"}}, \"type\": \"table\"}]}, \"layout\": {\"annotationdefaults\": {\"arrowcolor\": \"#2a3f5f\", \"arrowhead\": 0, \"arrowwidth\": 1}, \"colorscale\": {\"diverging\": [[0, \"#8e0152\"], [0.1, \"#c51b7d\"], [0.2, \"#de77ae\"], [0.3, \"#f1b6da\"], [0.4, \"#fde0ef\"], [0.5, \"#f7f7f7\"], [0.6, \"#e6f5d0\"], [0.7, \"#b8e186\"], [0.8, \"#7fbc41\"], [0.9, \"#4d9221\"], [1, \"#276419\"]], \"sequential\": [[0.0, \"#0d0887\"], [0.1111111111111111, \"#46039f\"], [0.2222222222222222, \"#7201a8\"], [0.3333333333333333, \"#9c179e\"], [0.4444444444444444, \"#bd3786\"], [0.5555555555555556, \"#d8576b\"], [0.6666666666666666, \"#ed7953\"], [0.7777777777777778, \"#fb9f3a\"], [0.8888888888888888, \"#fdca26\"], [1.0, \"#f0f921\"]], \"sequentialminus\": [[0.0, \"#0d0887\"], [0.1111111111111111, \"#46039f\"], [0.2222222222222222, \"#7201a8\"], [0.3333333333333333, \"#9c179e\"], [0.4444444444444444, \"#bd3786\"], [0.5555555555555556, \"#d8576b\"], [0.6666666666666666, \"#ed7953\"], [0.7777777777777778, \"#fb9f3a\"], [0.8888888888888888, \"#fdca26\"], [1.0, \"#f0f921\"]]}, \"colorway\": [\"#636efa\", \"#EF553B\", \"#00cc96\", \"#ab63fa\", \"#FFA15A\", \"#19d3f3\", \"#FF6692\", \"#B6E880\", \"#FF97FF\", \"#FECB52\"], \"font\": {\"color\": \"#2a3f5f\"}, \"geo\": {\"bgcolor\": \"white\", \"lakecolor\": \"white\", \"landcolor\": \"#E5ECF6\", \"showlakes\": true, \"showland\": true, \"subunitcolor\": \"white\"}, \"hoverlabel\": {\"align\": \"left\"}, \"hovermode\": \"closest\", \"mapbox\": {\"style\": \"light\"}, \"paper_bgcolor\": \"white\", \"plot_bgcolor\": \"#E5ECF6\", \"polar\": {\"angularaxis\": {\"gridcolor\": \"white\", \"linecolor\": \"white\", \"ticks\": \"\"}, \"bgcolor\": \"#E5ECF6\", \"radialaxis\": {\"gridcolor\": \"white\", \"linecolor\": \"white\", \"ticks\": \"\"}}, \"scene\": {\"xaxis\": {\"backgroundcolor\": \"#E5ECF6\", \"gridcolor\": \"white\", \"gridwidth\": 2, \"linecolor\": \"white\", \"showbackground\": true, \"ticks\": \"\", \"zerolinecolor\": \"white\"}, \"yaxis\": {\"backgroundcolor\": \"#E5ECF6\", \"gridcolor\": \"white\", \"gridwidth\": 2, \"linecolor\": \"white\", \"showbackground\": true, \"ticks\": \"\", \"zerolinecolor\": \"white\"}, \"zaxis\": {\"backgroundcolor\": \"#E5ECF6\", \"gridcolor\": \"white\", \"gridwidth\": 2, \"linecolor\": \"white\", \"showbackground\": true, \"ticks\": \"\", \"zerolinecolor\": \"white\"}}, \"shapedefaults\": {\"line\": {\"color\": \"#2a3f5f\"}}, \"ternary\": {\"aaxis\": {\"gridcolor\": \"white\", \"linecolor\": \"white\", \"ticks\": \"\"}, \"baxis\": {\"gridcolor\": \"white\", \"linecolor\": \"white\", \"ticks\": \"\"}, \"bgcolor\": \"#E5ECF6\", \"caxis\": {\"gridcolor\": \"white\", \"linecolor\": \"white\", \"ticks\": \"\"}}, \"title\": {\"x\": 0.05}, \"xaxis\": {\"automargin\": true, \"gridcolor\": \"white\", \"linecolor\": \"white\", \"ticks\": \"\", \"zerolinecolor\": \"white\", \"zerolinewidth\": 2}, \"yaxis\": {\"automargin\": true, \"gridcolor\": \"white\", \"linecolor\": \"white\", \"ticks\": \"\", \"zerolinecolor\": \"white\", \"zerolinewidth\": 2}}}, \"title\": {\"text\": \"2018 NHL Points by Player\"}, \"xaxis\": {\"title\": {\"text\": \"Value\"}}, \"yaxis\": {\"title\": {\"text\": \"Count\"}}},\n",
       "                        {\"responsive\": true}\n",
       "                    ).then(function(){\n",
       "                            \n",
       "var gd = document.getElementById('9f92be5c-5ecf-4dac-853e-f20c50bf8091');\n",
       "var x = new MutationObserver(function (mutations, observer) {{\n",
       "        var display = window.getComputedStyle(gd).display;\n",
       "        if (!display || display === 'none') {{\n",
       "            console.log([gd, 'removed!']);\n",
       "            Plotly.purge(gd);\n",
       "            observer.disconnect();\n",
       "        }}\n",
       "}});\n",
       "\n",
       "// Listen for the removal of the full notebook cells\n",
       "var notebookContainer = gd.closest('#notebook-container');\n",
       "if (notebookContainer) {{\n",
       "    x.observe(notebookContainer, {childList: true});\n",
       "}}\n",
       "\n",
       "// Listen for the clearing of the current output cell\n",
       "var outputEl = gd.closest('.output');\n",
       "if (outputEl) {{\n",
       "    x.observe(outputEl, {childList: true});\n",
       "}}\n",
       "\n",
       "                        })\n",
       "                };\n",
       "                });\n",
       "            </script>\n",
       "        </div>"
      ]
     },
     "metadata": {},
     "output_type": "display_data"
    }
   ],
   "source": [
    "fig = go.Figure(data=[go.Histogram(\n",
    "         x=data_2018['PTS'],\n",
    "         xbins=dict(start=0,\n",
    "                    end=120,\n",
    "                    size=5))\n",
    "])\n",
    "\n",
    "fig.update_layout(\n",
    "    title_text='2018 NHL Points by Player',\n",
    "    xaxis_title_text='Value',\n",
    "    yaxis_title_text='Count',\n",
    ")\n",
    "\n",
    "fig.show()"
   ]
  },
  {
   "cell_type": "code",
   "execution_count": 19,
   "metadata": {},
   "outputs": [
    {
     "data": {
      "application/vnd.plotly.v1+json": {
       "config": {
        "plotlyServerURL": "https://plot.ly"
       },
       "data": [
        {
         "name": "2018",
         "opacity": 0.4,
         "type": "histogram",
         "x": [
          "35",
          "16",
          "11",
          "1",
          "65",
          "4",
          " -   ",
          "12",
          "8",
          "30",
          "2",
          " -   ",
          "9",
          "22",
          "31",
          "10",
          "9",
          "11",
          "29",
          "61",
          "6",
          "33",
          "46",
          " -   ",
          "9",
          "33",
          "45",
          "71",
          "29",
          "71",
          "4",
          " -   ",
          "6",
          "13",
          "13",
          "78",
          "57",
          "3",
          "85",
          "22",
          "4",
          "17",
          "9",
          "36",
          " -   ",
          "16",
          "2",
          "79",
          "15",
          " -   ",
          "26",
          "21",
          "63",
          "26",
          " -   ",
          " -   ",
          "24",
          "9",
          "8",
          "1",
          "3",
          "12",
          "40",
          "49",
          "3",
          " -   ",
          " -   ",
          " -   ",
          "37",
          "55",
          "1",
          "1",
          "25",
          "5",
          "11",
          "1",
          "11",
          "13",
          "5",
          "9",
          " -   ",
          "11",
          "7",
          "12",
          "18",
          "1",
          "23",
          "43",
          "46",
          "35",
          "33",
          "12",
          "1",
          " -   ",
          "32",
          "21",
          "33",
          "6",
          "22",
          "28",
          "61",
          "7",
          "1",
          "43",
          "25",
          "1",
          "6",
          "67",
          "14",
          "44",
          " -   ",
          "45",
          "35",
          "20",
          "18",
          "24",
          "29",
          " -   ",
          "14",
          "6",
          "68",
          "2",
          "15",
          "16",
          "12",
          " -   ",
          "3",
          "22",
          " -   ",
          " -   ",
          "19",
          "2",
          "25",
          " -   ",
          "24",
          "14",
          "18",
          "13",
          "4",
          "4",
          "14",
          "3",
          "11",
          "17",
          "7",
          "2",
          "10",
          "18",
          "15",
          "35",
          "20",
          "25",
          "34",
          "23",
          "12",
          "21",
          "27",
          "57",
          "28",
          " -   ",
          "19",
          "61",
          "76",
          "37",
          " -   ",
          " -   ",
          " -   ",
          "89",
          "1",
          "22",
          "4",
          "65",
          "5",
          "3",
          " -   ",
          "16",
          " -   ",
          "25",
          "3",
          " -   ",
          "7",
          "12",
          "12",
          "1",
          "8",
          "52",
          "43",
          "12",
          "22",
          "20",
          "20",
          "13",
          "28",
          "14",
          "13",
          "2",
          "10",
          "22",
          "14",
          "45",
          "9",
          "32",
          "9",
          "11",
          "60",
          "4",
          "70",
          "46",
          "16",
          "48",
          "59",
          "23",
          "50",
          "2",
          "18",
          "24",
          "37",
          "41",
          "27",
          "1",
          "59",
          "34",
          "17",
          "60",
          "64",
          "1",
          "38",
          "34",
          "42",
          "14",
          "38",
          "32",
          "9",
          "23",
          " -   ",
          "22",
          "6",
          "13",
          "23",
          "16",
          "4",
          "33",
          "2",
          "9",
          " -   ",
          "33",
          "31",
          "1",
          "4",
          "41",
          "1",
          "48",
          "33",
          " -   ",
          "33",
          "4",
          "8",
          "3",
          " -   ",
          "23",
          "33",
          "13",
          "2",
          "18",
          " -   ",
          "64",
          "13",
          "32",
          "7",
          "7",
          "25",
          "11",
          "25",
          "21",
          "31",
          "51",
          "54",
          " -   ",
          "52",
          "1",
          " -   ",
          "3",
          "84",
          "6",
          "1",
          " -   ",
          "1",
          "61",
          "26",
          "5",
          "7",
          "38",
          "23",
          "18",
          "15",
          "102",
          " -   ",
          "19",
          "14",
          "35",
          "14",
          "2",
          "65",
          " -   ",
          "64",
          "36",
          "12",
          "67",
          "24",
          " -   ",
          "3",
          "33",
          "13",
          "1",
          "3",
          "3",
          "3",
          "2",
          "15",
          "16",
          "5",
          "48",
          "5",
          "9",
          "16",
          "1",
          "31",
          "9",
          "23",
          "9",
          "93",
          "24",
          "44",
          "1",
          "11",
          "32",
          " -   ",
          "6",
          "14",
          "10",
          "1",
          "5",
          "31",
          "24",
          "13",
          "55",
          "13",
          "9",
          "44",
          "1",
          "63",
          "11",
          "47",
          "31",
          " -   ",
          "13",
          "50",
          "46",
          "3",
          "25",
          "2",
          "1",
          "25",
          "52",
          "9",
          "12",
          "56",
          "17",
          "2",
          "4",
          " -   ",
          " -   ",
          "4",
          "49",
          "44",
          " -   ",
          "69",
          "30",
          "18",
          "1",
          "10",
          "6",
          "3",
          "40",
          "25",
          "8",
          "7",
          "25",
          "34",
          "35",
          " -   ",
          "17",
          "32",
          "15",
          "8",
          "54",
          "14",
          "15",
          "25",
          "11",
          "50",
          "3",
          "6",
          "17",
          "57",
          "6",
          "4",
          "53",
          "22",
          "10",
          "3",
          "55",
          " -   ",
          "11",
          "1",
          "54",
          "76",
          "9",
          "62",
          "19",
          "78",
          "38",
          "19",
          "32",
          "65",
          "2",
          "37",
          "4",
          "10",
          " -   ",
          "43",
          "3",
          "14",
          "92",
          "21",
          "47",
          "21",
          " -   ",
          "67",
          " -   ",
          "8",
          "45",
          "19",
          "47",
          "92",
          "2",
          "37",
          "44",
          "27",
          "59",
          "6",
          "100",
          "8",
          "4",
          "8",
          "3",
          "11",
          "4",
          "29",
          " -   ",
          "14",
          "83",
          "40",
          "29",
          "4",
          "1",
          "70",
          "62",
          "1",
          "63",
          "13",
          "17",
          " -   ",
          "20",
          "12",
          "42",
          "62",
          "21",
          "8",
          "5",
          "22",
          "4",
          "1",
          "1",
          "51",
          "23",
          "5",
          "26",
          "1",
          "11",
          "6",
          "27",
          "4",
          "44",
          "31",
          "43",
          "1",
          "8",
          " -   ",
          "21",
          "34",
          "29",
          "4",
          "21",
          "14",
          "97",
          "22",
          "98",
          " -   ",
          "4",
          " -   ",
          "19",
          "37",
          "48",
          "85",
          "75",
          " -   ",
          "47",
          "69",
          "43",
          " -   ",
          "12",
          "2",
          "25",
          "15",
          "1",
          "27",
          "1",
          "63",
          "3",
          "12",
          "32",
          "12",
          "28",
          "1",
          "5",
          "4",
          "108",
          "29",
          "30",
          "29",
          "4",
          "2",
          "3",
          "4",
          "15",
          "4",
          " -   ",
          "1",
          " -   ",
          "36",
          " -   ",
          " -   ",
          "3",
          "7",
          "3",
          "22",
          "41",
          "58",
          "16",
          "3",
          "11",
          "5",
          "5",
          "64",
          "32",
          "12",
          "18",
          " -   ",
          "26",
          "16",
          "7",
          " -   ",
          "4",
          "14",
          "5",
          "3",
          "12",
          "42",
          "36",
          "48",
          "34",
          "41",
          "44",
          " -   ",
          "35",
          "8",
          "15",
          "1",
          "32",
          "33",
          "26",
          "9",
          "1",
          "29",
          "27",
          "8",
          "7",
          "15",
          "48",
          "26",
          "23",
          "1",
          "61",
          "40",
          "1",
          " -   ",
          "3",
          " -   ",
          "4",
          " -   ",
          "61",
          "8",
          "15",
          "44",
          "17",
          "8",
          "31",
          "10",
          "47",
          "7",
          "87",
          "12",
          "37",
          "29",
          "3",
          "35",
          "44",
          "82",
          "35",
          "9",
          "35",
          "24",
          "80",
          "13",
          "30",
          "1",
          "66",
          "40",
          "5",
          "19",
          " -   ",
          "30",
          "39",
          "66",
          "49",
          "19",
          "2",
          "13",
          "42",
          "4",
          "26",
          " -   ",
          "54",
          "14",
          "3",
          "27",
          "26",
          "66",
          "12",
          "34",
          "2",
          "1",
          "19",
          "22",
          "2",
          "9",
          " -   ",
          "41",
          "20",
          "32",
          "22",
          "16",
          " -   ",
          "3",
          "3",
          "72",
          "22",
          "69",
          "84",
          "31",
          "4",
          "9",
          "1",
          "1",
          "10",
          " -   ",
          "18",
          "50",
          " -   ",
          "15",
          "25",
          "52",
          "7",
          "41",
          "14",
          "27",
          " -   ",
          " -   ",
          "25",
          " -   ",
          "1",
          "14",
          "17",
          "5",
          "7",
          " -   ",
          "5",
          "21",
          "38",
          "20",
          "33",
          "38",
          "12",
          "2",
          "35",
          "8",
          "10",
          "10",
          "2",
          "16",
          "14",
          "22",
          "24",
          "22",
          "60",
          "70",
          "7",
          "6",
          "5",
          "1",
          "52",
          "36",
          "2",
          "27",
          "59",
          "26",
          "55",
          "50",
          "8",
          "4",
          "78",
          "5",
          "8",
          "40",
          "24",
          " -   ",
          "21",
          "23",
          "20",
          "14",
          "32",
          "30",
          "1",
          "32",
          "19",
          "1",
          "2",
          "3",
          "40",
          "46",
          "12",
          "27",
          "49",
          "25",
          "30",
          "12",
          "8",
          "51",
          "11",
          "60",
          "19",
          "16",
          "31",
          "37",
          "7",
          "2",
          " -   ",
          "26",
          "41",
          "3",
          "5",
          "37",
          "76",
          "46",
          "8",
          "15",
          "12",
          "86",
          "53",
          "11",
          "46",
          "9",
          "56",
          "18",
          "16",
          "62",
          "10",
          "18",
          " -   ",
          "9",
          "34",
          "59",
          "5",
          "7",
          "51",
          "26",
          "4",
          "3",
          "18",
          "11",
          "66",
          "34",
          "84",
          " -   ",
          "64",
          " -   ",
          "29",
          "17",
          "9",
          "7",
          "36",
          "40",
          "1",
          "49",
          "52",
          "47",
          " -   ",
          "2",
          "75",
          " -   ",
          "24",
          "37",
          " -   ",
          "51",
          "19",
          " -   ",
          " -   ",
          "54",
          "16",
          "56",
          "32",
          "10",
          "16",
          "8",
          "28",
          "20",
          "32",
          "85",
          "27",
          "14",
          "16",
          "1",
          "1",
          "12",
          "5",
          "19",
          "21",
          "16",
          "5",
          "8",
          "8",
          "2",
          "35",
          "37",
          "91",
          "6",
          " -   ",
          "8",
          "51",
          "18",
          "14",
          "35",
          "17",
          "23",
          "4",
          "3",
          "32",
          "16",
          "3",
          "56",
          "25",
          "20",
          "13",
          "26",
          "56",
          "47",
          "53",
          "64",
          "7"
         ],
         "xbins": {
          "end": 120,
          "size": 5,
          "start": 0
         }
        },
        {
         "name": "2000",
         "opacity": 0.4,
         "type": "histogram",
         "x": [
          " -   ",
          " -   ",
          " -   ",
          " -   ",
          " -   ",
          " -   ",
          " -   ",
          " -   ",
          " -   ",
          " -   ",
          " -   ",
          " -   ",
          " -   ",
          " -   ",
          " -   ",
          " -   ",
          " -   ",
          " -   ",
          " -   ",
          " -   ",
          " -   ",
          " -   ",
          " -   ",
          " -   ",
          " -   ",
          " -   ",
          " -   ",
          " -   ",
          " -   ",
          " -   ",
          " -   ",
          " -   ",
          " -   ",
          " -   ",
          " -   ",
          " -   ",
          " -   ",
          " -   ",
          " -   ",
          " -   ",
          " -   ",
          " -   ",
          " -   ",
          " -   ",
          " -   ",
          " -   ",
          " -   ",
          " -   ",
          " -   ",
          " -   ",
          " -   ",
          " -   ",
          " -   ",
          " -   ",
          " -   ",
          " -   ",
          " -   ",
          " -   ",
          " -   ",
          " -   ",
          " -   ",
          " -   ",
          " -   ",
          " -   ",
          " -   ",
          " -   ",
          " -   ",
          " -   ",
          " -   ",
          " -   ",
          " -   ",
          " -   ",
          " -   ",
          " -   ",
          " -   ",
          " -   ",
          " -   ",
          " -   ",
          " -   ",
          " -   ",
          " -   ",
          " -   ",
          " -   ",
          " -   ",
          " -   ",
          " -   ",
          " -   ",
          " -   ",
          " -   ",
          " -   ",
          " -   ",
          " -   ",
          " -   ",
          " -   ",
          " -   ",
          " -   ",
          " -   ",
          " -   ",
          "1",
          "1",
          "1",
          "1",
          "1",
          "1",
          "1",
          "1",
          "1",
          "1",
          "1",
          "1",
          "1",
          "1",
          "1",
          "1",
          "1",
          "1",
          "1",
          "1",
          "1",
          "1",
          "1",
          "1",
          "1",
          "1",
          "1",
          "1",
          "1",
          "1",
          "1",
          "1",
          "1",
          "1",
          "1",
          "1",
          "1",
          "1",
          "1",
          "1",
          "1",
          "1",
          "1",
          "2",
          "2",
          "2",
          "2",
          "2",
          "2",
          "2",
          "2",
          "2",
          "2",
          "2",
          "2",
          "2",
          "2",
          "2",
          "2",
          "2",
          "2",
          "2",
          "2",
          "2",
          "2",
          "2",
          "2",
          "2",
          "2",
          "2",
          "2",
          "2",
          "2",
          "2",
          "2",
          "2",
          "2",
          "2",
          "2",
          "2",
          "2",
          "2",
          "2",
          "2",
          "3",
          "3",
          "3",
          "3",
          "3",
          "3",
          "3",
          "3",
          "3",
          "3",
          "3",
          "3",
          "3",
          "3",
          "3",
          "3",
          "3",
          "3",
          "3",
          "3",
          "3",
          "3",
          "3",
          "3",
          "3",
          "3",
          "3",
          "3",
          "3",
          "3",
          "3",
          "3",
          "4",
          "4",
          "4",
          "4",
          "4",
          "4",
          "4",
          "4",
          "4",
          "4",
          "4",
          "4",
          "4",
          "4",
          "4",
          "4",
          "4",
          "4",
          "4",
          "4",
          "4",
          "4",
          "4",
          "4",
          "4",
          "4",
          "4",
          "4",
          "5",
          "5",
          "5",
          "5",
          "5",
          "5",
          "5",
          "5",
          "5",
          "5",
          "5",
          "5",
          "5",
          "5",
          "5",
          "5",
          "5",
          "5",
          "5",
          "5",
          "5",
          "5",
          "6",
          "6",
          "6",
          "6",
          "6",
          "6",
          "6",
          "6",
          "6",
          "6",
          "6",
          "6",
          "6",
          "6",
          "6",
          "6",
          "6",
          "6",
          "6",
          "6",
          "6",
          "6",
          "6",
          "6",
          "6",
          "7",
          "7",
          "7",
          "7",
          "7",
          "7",
          "7",
          "7",
          "7",
          "7",
          "7",
          "7",
          "7",
          "7",
          "7",
          "7",
          "7",
          "7",
          "7",
          "7",
          "7",
          "8",
          "8",
          "8",
          "8",
          "8",
          "8",
          "8",
          "8",
          "8",
          "8",
          "8",
          "8",
          "8",
          "8",
          "8",
          "8",
          "8",
          "8",
          "8",
          "8",
          "8",
          "9",
          "9",
          "9",
          "9",
          "9",
          "9",
          "9",
          "9",
          "9",
          "9",
          "9",
          "9",
          "9",
          "9",
          "9",
          "9",
          "9",
          "9",
          "9",
          "9",
          "9",
          "9",
          "10",
          "10",
          "10",
          "10",
          "10",
          "10",
          "10",
          "10",
          "10",
          "10",
          "10",
          "10",
          "11",
          "11",
          "11",
          "11",
          "11",
          "11",
          "11",
          "11",
          "11",
          "11",
          "11",
          "11",
          "11",
          "11",
          "11",
          "11",
          "11",
          "11",
          "11",
          "11",
          "12",
          "12",
          "12",
          "12",
          "12",
          "12",
          "12",
          "12",
          "12",
          "12",
          "12",
          "12",
          "12",
          "12",
          "12",
          "12",
          "12",
          "12",
          "12",
          "12",
          "12",
          "13",
          "13",
          "13",
          "13",
          "13",
          "13",
          "13",
          "13",
          "13",
          "13",
          "13",
          "13",
          "13",
          "13",
          "14",
          "14",
          "14",
          "14",
          "14",
          "14",
          "14",
          "14",
          "14",
          "14",
          "14",
          "14",
          "14",
          "14",
          "14",
          "15",
          "15",
          "15",
          "15",
          "15",
          "15",
          "15",
          "15",
          "16",
          "16",
          "16",
          "16",
          "16",
          "16",
          "16",
          "16",
          "16",
          "16",
          "16",
          "16",
          "16",
          "16",
          "16",
          "16",
          "16",
          "17",
          "17",
          "17",
          "17",
          "17",
          "17",
          "17",
          "17",
          "17",
          "17",
          "17",
          "17",
          "17",
          "17",
          "17",
          "17",
          "18",
          "18",
          "18",
          "18",
          "18",
          "18",
          "18",
          "18",
          "18",
          "18",
          "18",
          "18",
          "18",
          "18",
          "19",
          "19",
          "19",
          "19",
          "19",
          "19",
          "19",
          "19",
          "19",
          "20",
          "20",
          "20",
          "20",
          "20",
          "20",
          "20",
          "20",
          "20",
          "20",
          "20",
          "20",
          "20",
          "20",
          "20",
          "21",
          "21",
          "21",
          "21",
          "21",
          "21",
          "21",
          "21",
          "22",
          "22",
          "22",
          "22",
          "22",
          "22",
          "22",
          "22",
          "22",
          "22",
          "22",
          "22",
          "22",
          "22",
          "23",
          "23",
          "23",
          "23",
          "23",
          "23",
          "23",
          "23",
          "23",
          "23",
          "24",
          "24",
          "24",
          "24",
          "24",
          "24",
          "24",
          "24",
          "24",
          "25",
          "25",
          "25",
          "25",
          "25",
          "25",
          "25",
          "25",
          "25",
          "25",
          "25",
          "25",
          "25",
          "25",
          "25",
          "25",
          "26",
          "26",
          "26",
          "26",
          "26",
          "26",
          "26",
          "26",
          "26",
          "26",
          "27",
          "27",
          "27",
          "27",
          "27",
          "27",
          "27",
          "27",
          "28",
          "28",
          "28",
          "28",
          "28",
          "28",
          "28",
          "28",
          "28",
          "28",
          "28",
          "29",
          "29",
          "29",
          "29",
          "29",
          "29",
          "29",
          "29",
          "30",
          "30",
          "30",
          "30",
          "30",
          "30",
          "30",
          "30",
          "30",
          "30",
          "30",
          "31",
          "31",
          "31",
          "31",
          "31",
          "31",
          "31",
          "31",
          "31",
          "31",
          "31",
          "32",
          "32",
          "32",
          "32",
          "32",
          "32",
          "32",
          "32",
          "32",
          "33",
          "33",
          "33",
          "33",
          "33",
          "33",
          "34",
          "34",
          "34",
          "34",
          "34",
          "34",
          "34",
          "34",
          "34",
          "34",
          "34",
          "35",
          "35",
          "35",
          "35",
          "35",
          "35",
          "35",
          "35",
          "35",
          "35",
          "35",
          "36",
          "36",
          "36",
          "36",
          "36",
          "36",
          "37",
          "37",
          "37",
          "37",
          "37",
          "37",
          "38",
          "38",
          "38",
          "38",
          "38",
          "39",
          "39",
          "39",
          "39",
          "39",
          "39",
          "39",
          "39",
          "39",
          "40",
          "40",
          "40",
          "40",
          "40",
          "40",
          "40",
          "40",
          "40",
          "41",
          "41",
          "41",
          "42",
          "42",
          "42",
          "42",
          "42",
          "42",
          "42",
          "43",
          "43",
          "43",
          "44",
          "44",
          "44",
          "44",
          "44",
          "44",
          "45",
          "45",
          "45",
          "45",
          "45",
          "45",
          "46",
          "46",
          "46",
          "46",
          "46",
          "46",
          "46",
          "46",
          "46",
          "47",
          "47",
          "47",
          "47",
          "47",
          "48",
          "48",
          "48",
          "48",
          "49",
          "49",
          "49",
          "49",
          "50",
          "50",
          "50",
          "50",
          "50",
          "51",
          "51",
          "51",
          "51",
          "51",
          "51",
          "51",
          "52",
          "52",
          "52",
          "53",
          "53",
          "53",
          "54",
          "54",
          "54",
          "54",
          "55",
          "55",
          "55",
          "56",
          "56",
          "56",
          "56",
          "57",
          "57",
          "58",
          "59",
          "59",
          "59",
          "59",
          "60",
          "60",
          "60",
          "61",
          "62",
          "62",
          "62",
          "62",
          "62",
          "63",
          "63",
          "63",
          "64",
          "65",
          "65",
          "65",
          "66",
          "66",
          "66",
          "67",
          "67",
          "67",
          "68",
          "68",
          "70",
          "70",
          "70",
          "70",
          "71",
          "71",
          "72",
          "72",
          "72",
          "73",
          "73",
          "73",
          "73",
          "74",
          "75",
          "75",
          "77",
          "78",
          "78",
          "79",
          "81",
          "81",
          "84",
          "84",
          "85",
          "86",
          "91",
          "94",
          "96"
         ]
        },
        {
         "name": "1980",
         "opacity": 0.4,
         "type": "histogram",
         "x": [
          " -   ",
          " -   ",
          " -   ",
          " -   ",
          " -   ",
          " -   ",
          " -   ",
          " -   ",
          " -   ",
          " -   ",
          " -   ",
          " -   ",
          " -   ",
          " -   ",
          " -   ",
          " -   ",
          " -   ",
          " -   ",
          " -   ",
          " -   ",
          " -   ",
          " -   ",
          " -   ",
          " -   ",
          " -   ",
          " -   ",
          " -   ",
          " -   ",
          " -   ",
          " -   ",
          " -   ",
          " -   ",
          " -   ",
          " -   ",
          " -   ",
          " -   ",
          " -   ",
          " -   ",
          " -   ",
          " -   ",
          " -   ",
          " -   ",
          " -   ",
          " -   ",
          " -   ",
          " -   ",
          " -   ",
          " -   ",
          " -   ",
          " -   ",
          " -   ",
          " -   ",
          " -   ",
          " -   ",
          " -   ",
          " -   ",
          " -   ",
          " -   ",
          " -   ",
          " -   ",
          " -   ",
          " -   ",
          " -   ",
          " -   ",
          " -   ",
          " -   ",
          " -   ",
          " -   ",
          " -   ",
          " -   ",
          "1",
          "1",
          "1",
          "1",
          "1",
          "1",
          "1",
          "1",
          "1",
          "1",
          "1",
          "1",
          "1",
          "1",
          "1",
          "1",
          "1",
          "1",
          "1",
          "1",
          "1",
          "1",
          "1",
          "1",
          "1",
          "1",
          "1",
          "1",
          "1",
          "1",
          "1",
          "1",
          "1",
          "1",
          "1",
          "2",
          "2",
          "2",
          "2",
          "2",
          "2",
          "2",
          "2",
          "2",
          "2",
          "2",
          "2",
          "2",
          "2",
          "2",
          "2",
          "2",
          "2",
          "2",
          "2",
          "2",
          "2",
          "2",
          "2",
          "3",
          "3",
          "3",
          "3",
          "3",
          "3",
          "3",
          "3",
          "3",
          "3",
          "3",
          "3",
          "4",
          "4",
          "4",
          "4",
          "4",
          "4",
          "4",
          "4",
          "4",
          "4",
          "4",
          "5",
          "5",
          "5",
          "5",
          "5",
          "5",
          "5",
          "5",
          "5",
          "5",
          "5",
          "5",
          "6",
          "6",
          "6",
          "6",
          "6",
          "6",
          "6",
          "6",
          "6",
          "7",
          "7",
          "7",
          "7",
          "7",
          "7",
          "7",
          "7",
          "7",
          "7",
          "7",
          "7",
          "7",
          "7",
          "7",
          "8",
          "8",
          "8",
          "8",
          "8",
          "8",
          "8",
          "8",
          "9",
          "9",
          "9",
          "9",
          "9",
          "9",
          "10",
          "10",
          "10",
          "10",
          "10",
          "10",
          "10",
          "10",
          "10",
          "11",
          "11",
          "11",
          "11",
          "11",
          "11",
          "11",
          "11",
          "11",
          "11",
          "11",
          "12",
          "12",
          "12",
          "12",
          "12",
          "12",
          "12",
          "13",
          "13",
          "13",
          "13",
          "13",
          "13",
          "13",
          "13",
          "13",
          "13",
          "13",
          "13",
          "14",
          "14",
          "14",
          "14",
          "14",
          "14",
          "14",
          "14",
          "15",
          "15",
          "15",
          "15",
          "15",
          "15",
          "15",
          "15",
          "15",
          "15",
          "15",
          "16",
          "16",
          "16",
          "16",
          "16",
          "16",
          "16",
          "16",
          "16",
          "16",
          "17",
          "17",
          "17",
          "17",
          "17",
          "17",
          "17",
          "17",
          "18",
          "18",
          "18",
          "18",
          "18",
          "18",
          "18",
          "18",
          "18",
          "18",
          "18",
          "18",
          "19",
          "19",
          "19",
          "19",
          "19",
          "19",
          "19",
          "19",
          "19",
          "19",
          "20",
          "20",
          "20",
          "20",
          "20",
          "20",
          "20",
          "20",
          "20",
          "21",
          "21",
          "21",
          "21",
          "21",
          "21",
          "21",
          "21",
          "21",
          "21",
          "21",
          "21",
          "21",
          "21",
          "21",
          "22",
          "22",
          "22",
          "22",
          "23",
          "23",
          "23",
          "23",
          "23",
          "23",
          "23",
          "23",
          "23",
          "24",
          "24",
          "24",
          "24",
          "24",
          "24",
          "25",
          "25",
          "25",
          "25",
          "26",
          "26",
          "26",
          "26",
          "26",
          "26",
          "26",
          "26",
          "27",
          "27",
          "28",
          "28",
          "28",
          "28",
          "29",
          "30",
          "30",
          "30",
          "30",
          "30",
          "30",
          "30",
          "30",
          "31",
          "31",
          "31",
          "31",
          "31",
          "32",
          "32",
          "32",
          "32",
          "32",
          "32",
          "32",
          "33",
          "33",
          "33",
          "33",
          "33",
          "33",
          "33",
          "33",
          "33",
          "34",
          "34",
          "34",
          "34",
          "34",
          "34",
          "35",
          "35",
          "35",
          "35",
          "35",
          "35",
          "35",
          "36",
          "36",
          "36",
          "36",
          "36",
          "36",
          "36",
          "36",
          "37",
          "37",
          "37",
          "37",
          "37",
          "37",
          "37",
          "37",
          "38",
          "38",
          "38",
          "39",
          "39",
          "39",
          "39",
          "39",
          "39",
          "39",
          "39",
          "40",
          "40",
          "40",
          "40",
          "40",
          "40",
          "41",
          "41",
          "41",
          "41",
          "41",
          "42",
          "42",
          "43",
          "43",
          "43",
          "43",
          "43",
          "43",
          "44",
          "44",
          "44",
          "45",
          "45",
          "45",
          "45",
          "45",
          "45",
          "45",
          "46",
          "46",
          "46",
          "47",
          "47",
          "47",
          "47",
          "47",
          "47",
          "47",
          "48",
          "48",
          "48",
          "48",
          "49",
          "49",
          "49",
          "49",
          "49",
          "50",
          "50",
          "50",
          "51",
          "51",
          "51",
          "51",
          "52",
          "52",
          "53",
          "53",
          "53",
          "53",
          "54",
          "54",
          "54",
          "54",
          "56",
          "57",
          "57",
          "57",
          "58",
          "58",
          "58",
          "58",
          "58",
          "58",
          "59",
          "59",
          "60",
          "60",
          "60",
          "60",
          "61",
          "61",
          "61",
          "61",
          "61",
          "62",
          "62",
          "63",
          "63",
          "64",
          "65",
          "65",
          "65",
          "65",
          "66",
          "66",
          "66",
          "66",
          "66",
          "66",
          "67",
          "68",
          "68",
          "68",
          "69",
          "69",
          "70",
          "71",
          "71",
          "71",
          "72",
          "73",
          "73",
          "74",
          "74",
          "74",
          "74",
          "75",
          "75",
          "75",
          "75",
          "76",
          "77",
          "78",
          "78",
          "78",
          "79",
          "79",
          "79",
          "80",
          "81",
          "83",
          "85",
          "89",
          "89",
          "89",
          "90",
          "91",
          "92",
          "92",
          "93",
          "93",
          "94",
          "94",
          "97",
          "100",
          "101",
          "104",
          "105",
          "106",
          "125",
          "137",
          "137"
         ]
        }
       ],
       "layout": {
        "barmode": "overlay",
        "template": {
         "data": {
          "bar": [
           {
            "error_x": {
             "color": "#2a3f5f"
            },
            "error_y": {
             "color": "#2a3f5f"
            },
            "marker": {
             "line": {
              "color": "#E5ECF6",
              "width": 0.5
             }
            },
            "type": "bar"
           }
          ],
          "barpolar": [
           {
            "marker": {
             "line": {
              "color": "#E5ECF6",
              "width": 0.5
             }
            },
            "type": "barpolar"
           }
          ],
          "carpet": [
           {
            "aaxis": {
             "endlinecolor": "#2a3f5f",
             "gridcolor": "white",
             "linecolor": "white",
             "minorgridcolor": "white",
             "startlinecolor": "#2a3f5f"
            },
            "baxis": {
             "endlinecolor": "#2a3f5f",
             "gridcolor": "white",
             "linecolor": "white",
             "minorgridcolor": "white",
             "startlinecolor": "#2a3f5f"
            },
            "type": "carpet"
           }
          ],
          "choropleth": [
           {
            "colorbar": {
             "outlinewidth": 0,
             "ticks": ""
            },
            "type": "choropleth"
           }
          ],
          "contour": [
           {
            "colorbar": {
             "outlinewidth": 0,
             "ticks": ""
            },
            "colorscale": [
             [
              0,
              "#0d0887"
             ],
             [
              0.1111111111111111,
              "#46039f"
             ],
             [
              0.2222222222222222,
              "#7201a8"
             ],
             [
              0.3333333333333333,
              "#9c179e"
             ],
             [
              0.4444444444444444,
              "#bd3786"
             ],
             [
              0.5555555555555556,
              "#d8576b"
             ],
             [
              0.6666666666666666,
              "#ed7953"
             ],
             [
              0.7777777777777778,
              "#fb9f3a"
             ],
             [
              0.8888888888888888,
              "#fdca26"
             ],
             [
              1,
              "#f0f921"
             ]
            ],
            "type": "contour"
           }
          ],
          "contourcarpet": [
           {
            "colorbar": {
             "outlinewidth": 0,
             "ticks": ""
            },
            "type": "contourcarpet"
           }
          ],
          "heatmap": [
           {
            "colorbar": {
             "outlinewidth": 0,
             "ticks": ""
            },
            "colorscale": [
             [
              0,
              "#0d0887"
             ],
             [
              0.1111111111111111,
              "#46039f"
             ],
             [
              0.2222222222222222,
              "#7201a8"
             ],
             [
              0.3333333333333333,
              "#9c179e"
             ],
             [
              0.4444444444444444,
              "#bd3786"
             ],
             [
              0.5555555555555556,
              "#d8576b"
             ],
             [
              0.6666666666666666,
              "#ed7953"
             ],
             [
              0.7777777777777778,
              "#fb9f3a"
             ],
             [
              0.8888888888888888,
              "#fdca26"
             ],
             [
              1,
              "#f0f921"
             ]
            ],
            "type": "heatmap"
           }
          ],
          "heatmapgl": [
           {
            "colorbar": {
             "outlinewidth": 0,
             "ticks": ""
            },
            "colorscale": [
             [
              0,
              "#0d0887"
             ],
             [
              0.1111111111111111,
              "#46039f"
             ],
             [
              0.2222222222222222,
              "#7201a8"
             ],
             [
              0.3333333333333333,
              "#9c179e"
             ],
             [
              0.4444444444444444,
              "#bd3786"
             ],
             [
              0.5555555555555556,
              "#d8576b"
             ],
             [
              0.6666666666666666,
              "#ed7953"
             ],
             [
              0.7777777777777778,
              "#fb9f3a"
             ],
             [
              0.8888888888888888,
              "#fdca26"
             ],
             [
              1,
              "#f0f921"
             ]
            ],
            "type": "heatmapgl"
           }
          ],
          "histogram": [
           {
            "marker": {
             "colorbar": {
              "outlinewidth": 0,
              "ticks": ""
             }
            },
            "type": "histogram"
           }
          ],
          "histogram2d": [
           {
            "colorbar": {
             "outlinewidth": 0,
             "ticks": ""
            },
            "colorscale": [
             [
              0,
              "#0d0887"
             ],
             [
              0.1111111111111111,
              "#46039f"
             ],
             [
              0.2222222222222222,
              "#7201a8"
             ],
             [
              0.3333333333333333,
              "#9c179e"
             ],
             [
              0.4444444444444444,
              "#bd3786"
             ],
             [
              0.5555555555555556,
              "#d8576b"
             ],
             [
              0.6666666666666666,
              "#ed7953"
             ],
             [
              0.7777777777777778,
              "#fb9f3a"
             ],
             [
              0.8888888888888888,
              "#fdca26"
             ],
             [
              1,
              "#f0f921"
             ]
            ],
            "type": "histogram2d"
           }
          ],
          "histogram2dcontour": [
           {
            "colorbar": {
             "outlinewidth": 0,
             "ticks": ""
            },
            "colorscale": [
             [
              0,
              "#0d0887"
             ],
             [
              0.1111111111111111,
              "#46039f"
             ],
             [
              0.2222222222222222,
              "#7201a8"
             ],
             [
              0.3333333333333333,
              "#9c179e"
             ],
             [
              0.4444444444444444,
              "#bd3786"
             ],
             [
              0.5555555555555556,
              "#d8576b"
             ],
             [
              0.6666666666666666,
              "#ed7953"
             ],
             [
              0.7777777777777778,
              "#fb9f3a"
             ],
             [
              0.8888888888888888,
              "#fdca26"
             ],
             [
              1,
              "#f0f921"
             ]
            ],
            "type": "histogram2dcontour"
           }
          ],
          "mesh3d": [
           {
            "colorbar": {
             "outlinewidth": 0,
             "ticks": ""
            },
            "type": "mesh3d"
           }
          ],
          "parcoords": [
           {
            "line": {
             "colorbar": {
              "outlinewidth": 0,
              "ticks": ""
             }
            },
            "type": "parcoords"
           }
          ],
          "scatter": [
           {
            "marker": {
             "colorbar": {
              "outlinewidth": 0,
              "ticks": ""
             }
            },
            "type": "scatter"
           }
          ],
          "scatter3d": [
           {
            "line": {
             "colorbar": {
              "outlinewidth": 0,
              "ticks": ""
             }
            },
            "marker": {
             "colorbar": {
              "outlinewidth": 0,
              "ticks": ""
             }
            },
            "type": "scatter3d"
           }
          ],
          "scattercarpet": [
           {
            "marker": {
             "colorbar": {
              "outlinewidth": 0,
              "ticks": ""
             }
            },
            "type": "scattercarpet"
           }
          ],
          "scattergeo": [
           {
            "marker": {
             "colorbar": {
              "outlinewidth": 0,
              "ticks": ""
             }
            },
            "type": "scattergeo"
           }
          ],
          "scattergl": [
           {
            "marker": {
             "colorbar": {
              "outlinewidth": 0,
              "ticks": ""
             }
            },
            "type": "scattergl"
           }
          ],
          "scattermapbox": [
           {
            "marker": {
             "colorbar": {
              "outlinewidth": 0,
              "ticks": ""
             }
            },
            "type": "scattermapbox"
           }
          ],
          "scatterpolar": [
           {
            "marker": {
             "colorbar": {
              "outlinewidth": 0,
              "ticks": ""
             }
            },
            "type": "scatterpolar"
           }
          ],
          "scatterpolargl": [
           {
            "marker": {
             "colorbar": {
              "outlinewidth": 0,
              "ticks": ""
             }
            },
            "type": "scatterpolargl"
           }
          ],
          "scatterternary": [
           {
            "marker": {
             "colorbar": {
              "outlinewidth": 0,
              "ticks": ""
             }
            },
            "type": "scatterternary"
           }
          ],
          "surface": [
           {
            "colorbar": {
             "outlinewidth": 0,
             "ticks": ""
            },
            "colorscale": [
             [
              0,
              "#0d0887"
             ],
             [
              0.1111111111111111,
              "#46039f"
             ],
             [
              0.2222222222222222,
              "#7201a8"
             ],
             [
              0.3333333333333333,
              "#9c179e"
             ],
             [
              0.4444444444444444,
              "#bd3786"
             ],
             [
              0.5555555555555556,
              "#d8576b"
             ],
             [
              0.6666666666666666,
              "#ed7953"
             ],
             [
              0.7777777777777778,
              "#fb9f3a"
             ],
             [
              0.8888888888888888,
              "#fdca26"
             ],
             [
              1,
              "#f0f921"
             ]
            ],
            "type": "surface"
           }
          ],
          "table": [
           {
            "cells": {
             "fill": {
              "color": "#EBF0F8"
             },
             "line": {
              "color": "white"
             }
            },
            "header": {
             "fill": {
              "color": "#C8D4E3"
             },
             "line": {
              "color": "white"
             }
            },
            "type": "table"
           }
          ]
         },
         "layout": {
          "annotationdefaults": {
           "arrowcolor": "#2a3f5f",
           "arrowhead": 0,
           "arrowwidth": 1
          },
          "colorscale": {
           "diverging": [
            [
             0,
             "#8e0152"
            ],
            [
             0.1,
             "#c51b7d"
            ],
            [
             0.2,
             "#de77ae"
            ],
            [
             0.3,
             "#f1b6da"
            ],
            [
             0.4,
             "#fde0ef"
            ],
            [
             0.5,
             "#f7f7f7"
            ],
            [
             0.6,
             "#e6f5d0"
            ],
            [
             0.7,
             "#b8e186"
            ],
            [
             0.8,
             "#7fbc41"
            ],
            [
             0.9,
             "#4d9221"
            ],
            [
             1,
             "#276419"
            ]
           ],
           "sequential": [
            [
             0,
             "#0d0887"
            ],
            [
             0.1111111111111111,
             "#46039f"
            ],
            [
             0.2222222222222222,
             "#7201a8"
            ],
            [
             0.3333333333333333,
             "#9c179e"
            ],
            [
             0.4444444444444444,
             "#bd3786"
            ],
            [
             0.5555555555555556,
             "#d8576b"
            ],
            [
             0.6666666666666666,
             "#ed7953"
            ],
            [
             0.7777777777777778,
             "#fb9f3a"
            ],
            [
             0.8888888888888888,
             "#fdca26"
            ],
            [
             1,
             "#f0f921"
            ]
           ],
           "sequentialminus": [
            [
             0,
             "#0d0887"
            ],
            [
             0.1111111111111111,
             "#46039f"
            ],
            [
             0.2222222222222222,
             "#7201a8"
            ],
            [
             0.3333333333333333,
             "#9c179e"
            ],
            [
             0.4444444444444444,
             "#bd3786"
            ],
            [
             0.5555555555555556,
             "#d8576b"
            ],
            [
             0.6666666666666666,
             "#ed7953"
            ],
            [
             0.7777777777777778,
             "#fb9f3a"
            ],
            [
             0.8888888888888888,
             "#fdca26"
            ],
            [
             1,
             "#f0f921"
            ]
           ]
          },
          "colorway": [
           "#636efa",
           "#EF553B",
           "#00cc96",
           "#ab63fa",
           "#FFA15A",
           "#19d3f3",
           "#FF6692",
           "#B6E880",
           "#FF97FF",
           "#FECB52"
          ],
          "font": {
           "color": "#2a3f5f"
          },
          "geo": {
           "bgcolor": "white",
           "lakecolor": "white",
           "landcolor": "#E5ECF6",
           "showlakes": true,
           "showland": true,
           "subunitcolor": "white"
          },
          "hoverlabel": {
           "align": "left"
          },
          "hovermode": "closest",
          "mapbox": {
           "style": "light"
          },
          "paper_bgcolor": "white",
          "plot_bgcolor": "#E5ECF6",
          "polar": {
           "angularaxis": {
            "gridcolor": "white",
            "linecolor": "white",
            "ticks": ""
           },
           "bgcolor": "#E5ECF6",
           "radialaxis": {
            "gridcolor": "white",
            "linecolor": "white",
            "ticks": ""
           }
          },
          "scene": {
           "xaxis": {
            "backgroundcolor": "#E5ECF6",
            "gridcolor": "white",
            "gridwidth": 2,
            "linecolor": "white",
            "showbackground": true,
            "ticks": "",
            "zerolinecolor": "white"
           },
           "yaxis": {
            "backgroundcolor": "#E5ECF6",
            "gridcolor": "white",
            "gridwidth": 2,
            "linecolor": "white",
            "showbackground": true,
            "ticks": "",
            "zerolinecolor": "white"
           },
           "zaxis": {
            "backgroundcolor": "#E5ECF6",
            "gridcolor": "white",
            "gridwidth": 2,
            "linecolor": "white",
            "showbackground": true,
            "ticks": "",
            "zerolinecolor": "white"
           }
          },
          "shapedefaults": {
           "line": {
            "color": "#2a3f5f"
           }
          },
          "ternary": {
           "aaxis": {
            "gridcolor": "white",
            "linecolor": "white",
            "ticks": ""
           },
           "baxis": {
            "gridcolor": "white",
            "linecolor": "white",
            "ticks": ""
           },
           "bgcolor": "#E5ECF6",
           "caxis": {
            "gridcolor": "white",
            "linecolor": "white",
            "ticks": ""
           }
          },
          "title": {
           "x": 0.05
          },
          "xaxis": {
           "automargin": true,
           "gridcolor": "white",
           "linecolor": "white",
           "ticks": "",
           "zerolinecolor": "white",
           "zerolinewidth": 2
          },
          "yaxis": {
           "automargin": true,
           "gridcolor": "white",
           "linecolor": "white",
           "ticks": "",
           "zerolinecolor": "white",
           "zerolinewidth": 2
          }
         }
        },
        "title": {
         "text": "NHL Points by Player - 1980, 2000, 2018"
        },
        "xaxis": {
         "title": {
          "text": "Value"
         }
        },
        "yaxis": {
         "title": {
          "text": "Count"
         }
        }
       }
      },
      "text/html": [
       "<div>\n",
       "        \n",
       "        \n",
       "            <div id=\"448a0b43-0a28-43d6-8c6b-754220b4eb0e\" class=\"plotly-graph-div\" style=\"height:525px; width:100%;\"></div>\n",
       "            <script type=\"text/javascript\">\n",
       "                require([\"plotly\"], function(Plotly) {\n",
       "                    window.PLOTLYENV=window.PLOTLYENV || {};\n",
       "                    \n",
       "                if (document.getElementById(\"448a0b43-0a28-43d6-8c6b-754220b4eb0e\")) {\n",
       "                    Plotly.newPlot(\n",
       "                        '448a0b43-0a28-43d6-8c6b-754220b4eb0e',\n",
       "                        [{\"name\": \"2018\", \"opacity\": 0.4, \"type\": \"histogram\", \"x\": [\"35\", \"16\", \"11\", \"1\", \"65\", \"4\", \" -   \", \"12\", \"8\", \"30\", \"2\", \" -   \", \"9\", \"22\", \"31\", \"10\", \"9\", \"11\", \"29\", \"61\", \"6\", \"33\", \"46\", \" -   \", \"9\", \"33\", \"45\", \"71\", \"29\", \"71\", \"4\", \" -   \", \"6\", \"13\", \"13\", \"78\", \"57\", \"3\", \"85\", \"22\", \"4\", \"17\", \"9\", \"36\", \" -   \", \"16\", \"2\", \"79\", \"15\", \" -   \", \"26\", \"21\", \"63\", \"26\", \" -   \", \" -   \", \"24\", \"9\", \"8\", \"1\", \"3\", \"12\", \"40\", \"49\", \"3\", \" -   \", \" -   \", \" -   \", \"37\", \"55\", \"1\", \"1\", \"25\", \"5\", \"11\", \"1\", \"11\", \"13\", \"5\", \"9\", \" -   \", \"11\", \"7\", \"12\", \"18\", \"1\", \"23\", \"43\", \"46\", \"35\", \"33\", \"12\", \"1\", \" -   \", \"32\", \"21\", \"33\", \"6\", \"22\", \"28\", \"61\", \"7\", \"1\", \"43\", \"25\", \"1\", \"6\", \"67\", \"14\", \"44\", \" -   \", \"45\", \"35\", \"20\", \"18\", \"24\", \"29\", \" -   \", \"14\", \"6\", \"68\", \"2\", \"15\", \"16\", \"12\", \" -   \", \"3\", \"22\", \" -   \", \" -   \", \"19\", \"2\", \"25\", \" -   \", \"24\", \"14\", \"18\", \"13\", \"4\", \"4\", \"14\", \"3\", \"11\", \"17\", \"7\", \"2\", \"10\", \"18\", \"15\", \"35\", \"20\", \"25\", \"34\", \"23\", \"12\", \"21\", \"27\", \"57\", \"28\", \" -   \", \"19\", \"61\", \"76\", \"37\", \" -   \", \" -   \", \" -   \", \"89\", \"1\", \"22\", \"4\", \"65\", \"5\", \"3\", \" -   \", \"16\", \" -   \", \"25\", \"3\", \" -   \", \"7\", \"12\", \"12\", \"1\", \"8\", \"52\", \"43\", \"12\", \"22\", \"20\", \"20\", \"13\", \"28\", \"14\", \"13\", \"2\", \"10\", \"22\", \"14\", \"45\", \"9\", \"32\", \"9\", \"11\", \"60\", \"4\", \"70\", \"46\", \"16\", \"48\", \"59\", \"23\", \"50\", \"2\", \"18\", \"24\", \"37\", \"41\", \"27\", \"1\", \"59\", \"34\", \"17\", \"60\", \"64\", \"1\", \"38\", \"34\", \"42\", \"14\", \"38\", \"32\", \"9\", \"23\", \" -   \", \"22\", \"6\", \"13\", \"23\", \"16\", \"4\", \"33\", \"2\", \"9\", \" -   \", \"33\", \"31\", \"1\", \"4\", \"41\", \"1\", \"48\", \"33\", \" -   \", \"33\", \"4\", \"8\", \"3\", \" -   \", \"23\", \"33\", \"13\", \"2\", \"18\", \" -   \", \"64\", \"13\", \"32\", \"7\", \"7\", \"25\", \"11\", \"25\", \"21\", \"31\", \"51\", \"54\", \" -   \", \"52\", \"1\", \" -   \", \"3\", \"84\", \"6\", \"1\", \" -   \", \"1\", \"61\", \"26\", \"5\", \"7\", \"38\", \"23\", \"18\", \"15\", \"102\", \" -   \", \"19\", \"14\", \"35\", \"14\", \"2\", \"65\", \" -   \", \"64\", \"36\", \"12\", \"67\", \"24\", \" -   \", \"3\", \"33\", \"13\", \"1\", \"3\", \"3\", \"3\", \"2\", \"15\", \"16\", \"5\", \"48\", \"5\", \"9\", \"16\", \"1\", \"31\", \"9\", \"23\", \"9\", \"93\", \"24\", \"44\", \"1\", \"11\", \"32\", \" -   \", \"6\", \"14\", \"10\", \"1\", \"5\", \"31\", \"24\", \"13\", \"55\", \"13\", \"9\", \"44\", \"1\", \"63\", \"11\", \"47\", \"31\", \" -   \", \"13\", \"50\", \"46\", \"3\", \"25\", \"2\", \"1\", \"25\", \"52\", \"9\", \"12\", \"56\", \"17\", \"2\", \"4\", \" -   \", \" -   \", \"4\", \"49\", \"44\", \" -   \", \"69\", \"30\", \"18\", \"1\", \"10\", \"6\", \"3\", \"40\", \"25\", \"8\", \"7\", \"25\", \"34\", \"35\", \" -   \", \"17\", \"32\", \"15\", \"8\", \"54\", \"14\", \"15\", \"25\", \"11\", \"50\", \"3\", \"6\", \"17\", \"57\", \"6\", \"4\", \"53\", \"22\", \"10\", \"3\", \"55\", \" -   \", \"11\", \"1\", \"54\", \"76\", \"9\", \"62\", \"19\", \"78\", \"38\", \"19\", \"32\", \"65\", \"2\", \"37\", \"4\", \"10\", \" -   \", \"43\", \"3\", \"14\", \"92\", \"21\", \"47\", \"21\", \" -   \", \"67\", \" -   \", \"8\", \"45\", \"19\", \"47\", \"92\", \"2\", \"37\", \"44\", \"27\", \"59\", \"6\", \"100\", \"8\", \"4\", \"8\", \"3\", \"11\", \"4\", \"29\", \" -   \", \"14\", \"83\", \"40\", \"29\", \"4\", \"1\", \"70\", \"62\", \"1\", \"63\", \"13\", \"17\", \" -   \", \"20\", \"12\", \"42\", \"62\", \"21\", \"8\", \"5\", \"22\", \"4\", \"1\", \"1\", \"51\", \"23\", \"5\", \"26\", \"1\", \"11\", \"6\", \"27\", \"4\", \"44\", \"31\", \"43\", \"1\", \"8\", \" -   \", \"21\", \"34\", \"29\", \"4\", \"21\", \"14\", \"97\", \"22\", \"98\", \" -   \", \"4\", \" -   \", \"19\", \"37\", \"48\", \"85\", \"75\", \" -   \", \"47\", \"69\", \"43\", \" -   \", \"12\", \"2\", \"25\", \"15\", \"1\", \"27\", \"1\", \"63\", \"3\", \"12\", \"32\", \"12\", \"28\", \"1\", \"5\", \"4\", \"108\", \"29\", \"30\", \"29\", \"4\", \"2\", \"3\", \"4\", \"15\", \"4\", \" -   \", \"1\", \" -   \", \"36\", \" -   \", \" -   \", \"3\", \"7\", \"3\", \"22\", \"41\", \"58\", \"16\", \"3\", \"11\", \"5\", \"5\", \"64\", \"32\", \"12\", \"18\", \" -   \", \"26\", \"16\", \"7\", \" -   \", \"4\", \"14\", \"5\", \"3\", \"12\", \"42\", \"36\", \"48\", \"34\", \"41\", \"44\", \" -   \", \"35\", \"8\", \"15\", \"1\", \"32\", \"33\", \"26\", \"9\", \"1\", \"29\", \"27\", \"8\", \"7\", \"15\", \"48\", \"26\", \"23\", \"1\", \"61\", \"40\", \"1\", \" -   \", \"3\", \" -   \", \"4\", \" -   \", \"61\", \"8\", \"15\", \"44\", \"17\", \"8\", \"31\", \"10\", \"47\", \"7\", \"87\", \"12\", \"37\", \"29\", \"3\", \"35\", \"44\", \"82\", \"35\", \"9\", \"35\", \"24\", \"80\", \"13\", \"30\", \"1\", \"66\", \"40\", \"5\", \"19\", \" -   \", \"30\", \"39\", \"66\", \"49\", \"19\", \"2\", \"13\", \"42\", \"4\", \"26\", \" -   \", \"54\", \"14\", \"3\", \"27\", \"26\", \"66\", \"12\", \"34\", \"2\", \"1\", \"19\", \"22\", \"2\", \"9\", \" -   \", \"41\", \"20\", \"32\", \"22\", \"16\", \" -   \", \"3\", \"3\", \"72\", \"22\", \"69\", \"84\", \"31\", \"4\", \"9\", \"1\", \"1\", \"10\", \" -   \", \"18\", \"50\", \" -   \", \"15\", \"25\", \"52\", \"7\", \"41\", \"14\", \"27\", \" -   \", \" -   \", \"25\", \" -   \", \"1\", \"14\", \"17\", \"5\", \"7\", \" -   \", \"5\", \"21\", \"38\", \"20\", \"33\", \"38\", \"12\", \"2\", \"35\", \"8\", \"10\", \"10\", \"2\", \"16\", \"14\", \"22\", \"24\", \"22\", \"60\", \"70\", \"7\", \"6\", \"5\", \"1\", \"52\", \"36\", \"2\", \"27\", \"59\", \"26\", \"55\", \"50\", \"8\", \"4\", \"78\", \"5\", \"8\", \"40\", \"24\", \" -   \", \"21\", \"23\", \"20\", \"14\", \"32\", \"30\", \"1\", \"32\", \"19\", \"1\", \"2\", \"3\", \"40\", \"46\", \"12\", \"27\", \"49\", \"25\", \"30\", \"12\", \"8\", \"51\", \"11\", \"60\", \"19\", \"16\", \"31\", \"37\", \"7\", \"2\", \" -   \", \"26\", \"41\", \"3\", \"5\", \"37\", \"76\", \"46\", \"8\", \"15\", \"12\", \"86\", \"53\", \"11\", \"46\", \"9\", \"56\", \"18\", \"16\", \"62\", \"10\", \"18\", \" -   \", \"9\", \"34\", \"59\", \"5\", \"7\", \"51\", \"26\", \"4\", \"3\", \"18\", \"11\", \"66\", \"34\", \"84\", \" -   \", \"64\", \" -   \", \"29\", \"17\", \"9\", \"7\", \"36\", \"40\", \"1\", \"49\", \"52\", \"47\", \" -   \", \"2\", \"75\", \" -   \", \"24\", \"37\", \" -   \", \"51\", \"19\", \" -   \", \" -   \", \"54\", \"16\", \"56\", \"32\", \"10\", \"16\", \"8\", \"28\", \"20\", \"32\", \"85\", \"27\", \"14\", \"16\", \"1\", \"1\", \"12\", \"5\", \"19\", \"21\", \"16\", \"5\", \"8\", \"8\", \"2\", \"35\", \"37\", \"91\", \"6\", \" -   \", \"8\", \"51\", \"18\", \"14\", \"35\", \"17\", \"23\", \"4\", \"3\", \"32\", \"16\", \"3\", \"56\", \"25\", \"20\", \"13\", \"26\", \"56\", \"47\", \"53\", \"64\", \"7\"], \"xbins\": {\"end\": 120, \"size\": 5, \"start\": 0}}, {\"name\": \"2000\", \"opacity\": 0.4, \"type\": \"histogram\", \"x\": [\" -   \", \" -   \", \" -   \", \" -   \", \" -   \", \" -   \", \" -   \", \" -   \", \" -   \", \" -   \", \" -   \", \" -   \", \" -   \", \" -   \", \" -   \", \" -   \", \" -   \", \" -   \", \" -   \", \" -   \", \" -   \", \" -   \", \" -   \", \" -   \", \" -   \", \" -   \", \" -   \", \" -   \", \" -   \", \" -   \", \" -   \", \" -   \", \" -   \", \" -   \", \" -   \", \" -   \", \" -   \", \" -   \", \" -   \", \" -   \", \" -   \", \" -   \", \" -   \", \" -   \", \" -   \", \" -   \", \" -   \", \" -   \", \" -   \", \" -   \", \" -   \", \" -   \", \" -   \", \" -   \", \" -   \", \" -   \", \" -   \", \" -   \", \" -   \", \" -   \", \" -   \", \" -   \", \" -   \", \" -   \", \" -   \", \" -   \", \" -   \", \" -   \", \" -   \", \" -   \", \" -   \", \" -   \", \" -   \", \" -   \", \" -   \", \" -   \", \" -   \", \" -   \", \" -   \", \" -   \", \" -   \", \" -   \", \" -   \", \" -   \", \" -   \", \" -   \", \" -   \", \" -   \", \" -   \", \" -   \", \" -   \", \" -   \", \" -   \", \" -   \", \" -   \", \" -   \", \" -   \", \" -   \", \"1\", \"1\", \"1\", \"1\", \"1\", \"1\", \"1\", \"1\", \"1\", \"1\", \"1\", \"1\", \"1\", \"1\", \"1\", \"1\", \"1\", \"1\", \"1\", \"1\", \"1\", \"1\", \"1\", \"1\", \"1\", \"1\", \"1\", \"1\", \"1\", \"1\", \"1\", \"1\", \"1\", \"1\", \"1\", \"1\", \"1\", \"1\", \"1\", \"1\", \"1\", \"1\", \"1\", \"2\", \"2\", \"2\", \"2\", \"2\", \"2\", \"2\", \"2\", \"2\", \"2\", \"2\", \"2\", \"2\", \"2\", \"2\", \"2\", \"2\", \"2\", \"2\", \"2\", \"2\", \"2\", \"2\", \"2\", \"2\", \"2\", \"2\", \"2\", \"2\", \"2\", \"2\", \"2\", \"2\", \"2\", \"2\", \"2\", \"2\", \"2\", \"2\", \"2\", \"2\", \"3\", \"3\", \"3\", \"3\", \"3\", \"3\", \"3\", \"3\", \"3\", \"3\", \"3\", \"3\", \"3\", \"3\", \"3\", \"3\", \"3\", \"3\", \"3\", \"3\", \"3\", \"3\", \"3\", \"3\", \"3\", \"3\", \"3\", \"3\", \"3\", \"3\", \"3\", \"3\", \"4\", \"4\", \"4\", \"4\", \"4\", \"4\", \"4\", \"4\", \"4\", \"4\", \"4\", \"4\", \"4\", \"4\", \"4\", \"4\", \"4\", \"4\", \"4\", \"4\", \"4\", \"4\", \"4\", \"4\", \"4\", \"4\", \"4\", \"4\", \"5\", \"5\", \"5\", \"5\", \"5\", \"5\", \"5\", \"5\", \"5\", \"5\", \"5\", \"5\", \"5\", \"5\", \"5\", \"5\", \"5\", \"5\", \"5\", \"5\", \"5\", \"5\", \"6\", \"6\", \"6\", \"6\", \"6\", \"6\", \"6\", \"6\", \"6\", \"6\", \"6\", \"6\", \"6\", \"6\", \"6\", \"6\", \"6\", \"6\", \"6\", \"6\", \"6\", \"6\", \"6\", \"6\", \"6\", \"7\", \"7\", \"7\", \"7\", \"7\", \"7\", \"7\", \"7\", \"7\", \"7\", \"7\", \"7\", \"7\", \"7\", \"7\", \"7\", \"7\", \"7\", \"7\", \"7\", \"7\", \"8\", \"8\", \"8\", \"8\", \"8\", \"8\", \"8\", \"8\", \"8\", \"8\", \"8\", \"8\", \"8\", \"8\", \"8\", \"8\", \"8\", \"8\", \"8\", \"8\", \"8\", \"9\", \"9\", \"9\", \"9\", \"9\", \"9\", \"9\", \"9\", \"9\", \"9\", \"9\", \"9\", \"9\", \"9\", \"9\", \"9\", \"9\", \"9\", \"9\", \"9\", \"9\", \"9\", \"10\", \"10\", \"10\", \"10\", \"10\", \"10\", \"10\", \"10\", \"10\", \"10\", \"10\", \"10\", \"11\", \"11\", \"11\", \"11\", \"11\", \"11\", \"11\", \"11\", \"11\", \"11\", \"11\", \"11\", \"11\", \"11\", \"11\", \"11\", \"11\", \"11\", \"11\", \"11\", \"12\", \"12\", \"12\", \"12\", \"12\", \"12\", \"12\", \"12\", \"12\", \"12\", \"12\", \"12\", \"12\", \"12\", \"12\", \"12\", \"12\", \"12\", \"12\", \"12\", \"12\", \"13\", \"13\", \"13\", \"13\", \"13\", \"13\", \"13\", \"13\", \"13\", \"13\", \"13\", \"13\", \"13\", \"13\", \"14\", \"14\", \"14\", \"14\", \"14\", \"14\", \"14\", \"14\", \"14\", \"14\", \"14\", \"14\", \"14\", \"14\", \"14\", \"15\", \"15\", \"15\", \"15\", \"15\", \"15\", \"15\", \"15\", \"16\", \"16\", \"16\", \"16\", \"16\", \"16\", \"16\", \"16\", \"16\", \"16\", \"16\", \"16\", \"16\", \"16\", \"16\", \"16\", \"16\", \"17\", \"17\", \"17\", \"17\", \"17\", \"17\", \"17\", \"17\", \"17\", \"17\", \"17\", \"17\", \"17\", \"17\", \"17\", \"17\", \"18\", \"18\", \"18\", \"18\", \"18\", \"18\", \"18\", \"18\", \"18\", \"18\", \"18\", \"18\", \"18\", \"18\", \"19\", \"19\", \"19\", \"19\", \"19\", \"19\", \"19\", \"19\", \"19\", \"20\", \"20\", \"20\", \"20\", \"20\", \"20\", \"20\", \"20\", \"20\", \"20\", \"20\", \"20\", \"20\", \"20\", \"20\", \"21\", \"21\", \"21\", \"21\", \"21\", \"21\", \"21\", \"21\", \"22\", \"22\", \"22\", \"22\", \"22\", \"22\", \"22\", \"22\", \"22\", \"22\", \"22\", \"22\", \"22\", \"22\", \"23\", \"23\", \"23\", \"23\", \"23\", \"23\", \"23\", \"23\", \"23\", \"23\", \"24\", \"24\", \"24\", \"24\", \"24\", \"24\", \"24\", \"24\", \"24\", \"25\", \"25\", \"25\", \"25\", \"25\", \"25\", \"25\", \"25\", \"25\", \"25\", \"25\", \"25\", \"25\", \"25\", \"25\", \"25\", \"26\", \"26\", \"26\", \"26\", \"26\", \"26\", \"26\", \"26\", \"26\", \"26\", \"27\", \"27\", \"27\", \"27\", \"27\", \"27\", \"27\", \"27\", \"28\", \"28\", \"28\", \"28\", \"28\", \"28\", \"28\", \"28\", \"28\", \"28\", \"28\", \"29\", \"29\", \"29\", \"29\", \"29\", \"29\", \"29\", \"29\", \"30\", \"30\", \"30\", \"30\", \"30\", \"30\", \"30\", \"30\", \"30\", \"30\", \"30\", \"31\", \"31\", \"31\", \"31\", \"31\", \"31\", \"31\", \"31\", \"31\", \"31\", \"31\", \"32\", \"32\", \"32\", \"32\", \"32\", \"32\", \"32\", \"32\", \"32\", \"33\", \"33\", \"33\", \"33\", \"33\", \"33\", \"34\", \"34\", \"34\", \"34\", \"34\", \"34\", \"34\", \"34\", \"34\", \"34\", \"34\", \"35\", \"35\", \"35\", \"35\", \"35\", \"35\", \"35\", \"35\", \"35\", \"35\", \"35\", \"36\", \"36\", \"36\", \"36\", \"36\", \"36\", \"37\", \"37\", \"37\", \"37\", \"37\", \"37\", \"38\", \"38\", \"38\", \"38\", \"38\", \"39\", \"39\", \"39\", \"39\", \"39\", \"39\", \"39\", \"39\", \"39\", \"40\", \"40\", \"40\", \"40\", \"40\", \"40\", \"40\", \"40\", \"40\", \"41\", \"41\", \"41\", \"42\", \"42\", \"42\", \"42\", \"42\", \"42\", \"42\", \"43\", \"43\", \"43\", \"44\", \"44\", \"44\", \"44\", \"44\", \"44\", \"45\", \"45\", \"45\", \"45\", \"45\", \"45\", \"46\", \"46\", \"46\", \"46\", \"46\", \"46\", \"46\", \"46\", \"46\", \"47\", \"47\", \"47\", \"47\", \"47\", \"48\", \"48\", \"48\", \"48\", \"49\", \"49\", \"49\", \"49\", \"50\", \"50\", \"50\", \"50\", \"50\", \"51\", \"51\", \"51\", \"51\", \"51\", \"51\", \"51\", \"52\", \"52\", \"52\", \"53\", \"53\", \"53\", \"54\", \"54\", \"54\", \"54\", \"55\", \"55\", \"55\", \"56\", \"56\", \"56\", \"56\", \"57\", \"57\", \"58\", \"59\", \"59\", \"59\", \"59\", \"60\", \"60\", \"60\", \"61\", \"62\", \"62\", \"62\", \"62\", \"62\", \"63\", \"63\", \"63\", \"64\", \"65\", \"65\", \"65\", \"66\", \"66\", \"66\", \"67\", \"67\", \"67\", \"68\", \"68\", \"70\", \"70\", \"70\", \"70\", \"71\", \"71\", \"72\", \"72\", \"72\", \"73\", \"73\", \"73\", \"73\", \"74\", \"75\", \"75\", \"77\", \"78\", \"78\", \"79\", \"81\", \"81\", \"84\", \"84\", \"85\", \"86\", \"91\", \"94\", \"96\"]}, {\"name\": \"1980\", \"opacity\": 0.4, \"type\": \"histogram\", \"x\": [\" -   \", \" -   \", \" -   \", \" -   \", \" -   \", \" -   \", \" -   \", \" -   \", \" -   \", \" -   \", \" -   \", \" -   \", \" -   \", \" -   \", \" -   \", \" -   \", \" -   \", \" -   \", \" -   \", \" -   \", \" -   \", \" -   \", \" -   \", \" -   \", \" -   \", \" -   \", \" -   \", \" -   \", \" -   \", \" -   \", \" -   \", \" -   \", \" -   \", \" -   \", \" -   \", \" -   \", \" -   \", \" -   \", \" -   \", \" -   \", \" -   \", \" -   \", \" -   \", \" -   \", \" -   \", \" -   \", \" -   \", \" -   \", \" -   \", \" -   \", \" -   \", \" -   \", \" -   \", \" -   \", \" -   \", \" -   \", \" -   \", \" -   \", \" -   \", \" -   \", \" -   \", \" -   \", \" -   \", \" -   \", \" -   \", \" -   \", \" -   \", \" -   \", \" -   \", \" -   \", \"1\", \"1\", \"1\", \"1\", \"1\", \"1\", \"1\", \"1\", \"1\", \"1\", \"1\", \"1\", \"1\", \"1\", \"1\", \"1\", \"1\", \"1\", \"1\", \"1\", \"1\", \"1\", \"1\", \"1\", \"1\", \"1\", \"1\", \"1\", \"1\", \"1\", \"1\", \"1\", \"1\", \"1\", \"1\", \"2\", \"2\", \"2\", \"2\", \"2\", \"2\", \"2\", \"2\", \"2\", \"2\", \"2\", \"2\", \"2\", \"2\", \"2\", \"2\", \"2\", \"2\", \"2\", \"2\", \"2\", \"2\", \"2\", \"2\", \"3\", \"3\", \"3\", \"3\", \"3\", \"3\", \"3\", \"3\", \"3\", \"3\", \"3\", \"3\", \"4\", \"4\", \"4\", \"4\", \"4\", \"4\", \"4\", \"4\", \"4\", \"4\", \"4\", \"5\", \"5\", \"5\", \"5\", \"5\", \"5\", \"5\", \"5\", \"5\", \"5\", \"5\", \"5\", \"6\", \"6\", \"6\", \"6\", \"6\", \"6\", \"6\", \"6\", \"6\", \"7\", \"7\", \"7\", \"7\", \"7\", \"7\", \"7\", \"7\", \"7\", \"7\", \"7\", \"7\", \"7\", \"7\", \"7\", \"8\", \"8\", \"8\", \"8\", \"8\", \"8\", \"8\", \"8\", \"9\", \"9\", \"9\", \"9\", \"9\", \"9\", \"10\", \"10\", \"10\", \"10\", \"10\", \"10\", \"10\", \"10\", \"10\", \"11\", \"11\", \"11\", \"11\", \"11\", \"11\", \"11\", \"11\", \"11\", \"11\", \"11\", \"12\", \"12\", \"12\", \"12\", \"12\", \"12\", \"12\", \"13\", \"13\", \"13\", \"13\", \"13\", \"13\", \"13\", \"13\", \"13\", \"13\", \"13\", \"13\", \"14\", \"14\", \"14\", \"14\", \"14\", \"14\", \"14\", \"14\", \"15\", \"15\", \"15\", \"15\", \"15\", \"15\", \"15\", \"15\", \"15\", \"15\", \"15\", \"16\", \"16\", \"16\", \"16\", \"16\", \"16\", \"16\", \"16\", \"16\", \"16\", \"17\", \"17\", \"17\", \"17\", \"17\", \"17\", \"17\", \"17\", \"18\", \"18\", \"18\", \"18\", \"18\", \"18\", \"18\", \"18\", \"18\", \"18\", \"18\", \"18\", \"19\", \"19\", \"19\", \"19\", \"19\", \"19\", \"19\", \"19\", \"19\", \"19\", \"20\", \"20\", \"20\", \"20\", \"20\", \"20\", \"20\", \"20\", \"20\", \"21\", \"21\", \"21\", \"21\", \"21\", \"21\", \"21\", \"21\", \"21\", \"21\", \"21\", \"21\", \"21\", \"21\", \"21\", \"22\", \"22\", \"22\", \"22\", \"23\", \"23\", \"23\", \"23\", \"23\", \"23\", \"23\", \"23\", \"23\", \"24\", \"24\", \"24\", \"24\", \"24\", \"24\", \"25\", \"25\", \"25\", \"25\", \"26\", \"26\", \"26\", \"26\", \"26\", \"26\", \"26\", \"26\", \"27\", \"27\", \"28\", \"28\", \"28\", \"28\", \"29\", \"30\", \"30\", \"30\", \"30\", \"30\", \"30\", \"30\", \"30\", \"31\", \"31\", \"31\", \"31\", \"31\", \"32\", \"32\", \"32\", \"32\", \"32\", \"32\", \"32\", \"33\", \"33\", \"33\", \"33\", \"33\", \"33\", \"33\", \"33\", \"33\", \"34\", \"34\", \"34\", \"34\", \"34\", \"34\", \"35\", \"35\", \"35\", \"35\", \"35\", \"35\", \"35\", \"36\", \"36\", \"36\", \"36\", \"36\", \"36\", \"36\", \"36\", \"37\", \"37\", \"37\", \"37\", \"37\", \"37\", \"37\", \"37\", \"38\", \"38\", \"38\", \"39\", \"39\", \"39\", \"39\", \"39\", \"39\", \"39\", \"39\", \"40\", \"40\", \"40\", \"40\", \"40\", \"40\", \"41\", \"41\", \"41\", \"41\", \"41\", \"42\", \"42\", \"43\", \"43\", \"43\", \"43\", \"43\", \"43\", \"44\", \"44\", \"44\", \"45\", \"45\", \"45\", \"45\", \"45\", \"45\", \"45\", \"46\", \"46\", \"46\", \"47\", \"47\", \"47\", \"47\", \"47\", \"47\", \"47\", \"48\", \"48\", \"48\", \"48\", \"49\", \"49\", \"49\", \"49\", \"49\", \"50\", \"50\", \"50\", \"51\", \"51\", \"51\", \"51\", \"52\", \"52\", \"53\", \"53\", \"53\", \"53\", \"54\", \"54\", \"54\", \"54\", \"56\", \"57\", \"57\", \"57\", \"58\", \"58\", \"58\", \"58\", \"58\", \"58\", \"59\", \"59\", \"60\", \"60\", \"60\", \"60\", \"61\", \"61\", \"61\", \"61\", \"61\", \"62\", \"62\", \"63\", \"63\", \"64\", \"65\", \"65\", \"65\", \"65\", \"66\", \"66\", \"66\", \"66\", \"66\", \"66\", \"67\", \"68\", \"68\", \"68\", \"69\", \"69\", \"70\", \"71\", \"71\", \"71\", \"72\", \"73\", \"73\", \"74\", \"74\", \"74\", \"74\", \"75\", \"75\", \"75\", \"75\", \"76\", \"77\", \"78\", \"78\", \"78\", \"79\", \"79\", \"79\", \"80\", \"81\", \"83\", \"85\", \"89\", \"89\", \"89\", \"90\", \"91\", \"92\", \"92\", \"93\", \"93\", \"94\", \"94\", \"97\", \"100\", \"101\", \"104\", \"105\", \"106\", \"125\", \"137\", \"137\"]}],\n",
       "                        {\"barmode\": \"overlay\", \"template\": {\"data\": {\"bar\": [{\"error_x\": {\"color\": \"#2a3f5f\"}, \"error_y\": {\"color\": \"#2a3f5f\"}, \"marker\": {\"line\": {\"color\": \"#E5ECF6\", \"width\": 0.5}}, \"type\": \"bar\"}], \"barpolar\": [{\"marker\": {\"line\": {\"color\": \"#E5ECF6\", \"width\": 0.5}}, \"type\": \"barpolar\"}], \"carpet\": [{\"aaxis\": {\"endlinecolor\": \"#2a3f5f\", \"gridcolor\": \"white\", \"linecolor\": \"white\", \"minorgridcolor\": \"white\", \"startlinecolor\": \"#2a3f5f\"}, \"baxis\": {\"endlinecolor\": \"#2a3f5f\", \"gridcolor\": \"white\", \"linecolor\": \"white\", \"minorgridcolor\": \"white\", \"startlinecolor\": \"#2a3f5f\"}, \"type\": \"carpet\"}], \"choropleth\": [{\"colorbar\": {\"outlinewidth\": 0, \"ticks\": \"\"}, \"type\": \"choropleth\"}], \"contour\": [{\"colorbar\": {\"outlinewidth\": 0, \"ticks\": \"\"}, \"colorscale\": [[0.0, \"#0d0887\"], [0.1111111111111111, \"#46039f\"], [0.2222222222222222, \"#7201a8\"], [0.3333333333333333, \"#9c179e\"], [0.4444444444444444, \"#bd3786\"], [0.5555555555555556, \"#d8576b\"], [0.6666666666666666, \"#ed7953\"], [0.7777777777777778, \"#fb9f3a\"], [0.8888888888888888, \"#fdca26\"], [1.0, \"#f0f921\"]], \"type\": \"contour\"}], \"contourcarpet\": [{\"colorbar\": {\"outlinewidth\": 0, \"ticks\": \"\"}, \"type\": \"contourcarpet\"}], \"heatmap\": [{\"colorbar\": {\"outlinewidth\": 0, \"ticks\": \"\"}, \"colorscale\": [[0.0, \"#0d0887\"], [0.1111111111111111, \"#46039f\"], [0.2222222222222222, \"#7201a8\"], [0.3333333333333333, \"#9c179e\"], [0.4444444444444444, \"#bd3786\"], [0.5555555555555556, \"#d8576b\"], [0.6666666666666666, \"#ed7953\"], [0.7777777777777778, \"#fb9f3a\"], [0.8888888888888888, \"#fdca26\"], [1.0, \"#f0f921\"]], \"type\": \"heatmap\"}], \"heatmapgl\": [{\"colorbar\": {\"outlinewidth\": 0, \"ticks\": \"\"}, \"colorscale\": [[0.0, \"#0d0887\"], [0.1111111111111111, \"#46039f\"], [0.2222222222222222, \"#7201a8\"], [0.3333333333333333, \"#9c179e\"], [0.4444444444444444, \"#bd3786\"], [0.5555555555555556, \"#d8576b\"], [0.6666666666666666, \"#ed7953\"], [0.7777777777777778, \"#fb9f3a\"], [0.8888888888888888, \"#fdca26\"], [1.0, \"#f0f921\"]], \"type\": \"heatmapgl\"}], \"histogram\": [{\"marker\": {\"colorbar\": {\"outlinewidth\": 0, \"ticks\": \"\"}}, \"type\": \"histogram\"}], \"histogram2d\": [{\"colorbar\": {\"outlinewidth\": 0, \"ticks\": \"\"}, \"colorscale\": [[0.0, \"#0d0887\"], [0.1111111111111111, \"#46039f\"], [0.2222222222222222, \"#7201a8\"], [0.3333333333333333, \"#9c179e\"], [0.4444444444444444, \"#bd3786\"], [0.5555555555555556, \"#d8576b\"], [0.6666666666666666, \"#ed7953\"], [0.7777777777777778, \"#fb9f3a\"], [0.8888888888888888, \"#fdca26\"], [1.0, \"#f0f921\"]], \"type\": \"histogram2d\"}], \"histogram2dcontour\": [{\"colorbar\": {\"outlinewidth\": 0, \"ticks\": \"\"}, \"colorscale\": [[0.0, \"#0d0887\"], [0.1111111111111111, \"#46039f\"], [0.2222222222222222, \"#7201a8\"], [0.3333333333333333, \"#9c179e\"], [0.4444444444444444, \"#bd3786\"], [0.5555555555555556, \"#d8576b\"], [0.6666666666666666, \"#ed7953\"], [0.7777777777777778, \"#fb9f3a\"], [0.8888888888888888, \"#fdca26\"], [1.0, \"#f0f921\"]], \"type\": \"histogram2dcontour\"}], \"mesh3d\": [{\"colorbar\": {\"outlinewidth\": 0, \"ticks\": \"\"}, \"type\": \"mesh3d\"}], \"parcoords\": [{\"line\": {\"colorbar\": {\"outlinewidth\": 0, \"ticks\": \"\"}}, \"type\": \"parcoords\"}], \"scatter\": [{\"marker\": {\"colorbar\": {\"outlinewidth\": 0, \"ticks\": \"\"}}, \"type\": \"scatter\"}], \"scatter3d\": [{\"line\": {\"colorbar\": {\"outlinewidth\": 0, \"ticks\": \"\"}}, \"marker\": {\"colorbar\": {\"outlinewidth\": 0, \"ticks\": \"\"}}, \"type\": \"scatter3d\"}], \"scattercarpet\": [{\"marker\": {\"colorbar\": {\"outlinewidth\": 0, \"ticks\": \"\"}}, \"type\": \"scattercarpet\"}], \"scattergeo\": [{\"marker\": {\"colorbar\": {\"outlinewidth\": 0, \"ticks\": \"\"}}, \"type\": \"scattergeo\"}], \"scattergl\": [{\"marker\": {\"colorbar\": {\"outlinewidth\": 0, \"ticks\": \"\"}}, \"type\": \"scattergl\"}], \"scattermapbox\": [{\"marker\": {\"colorbar\": {\"outlinewidth\": 0, \"ticks\": \"\"}}, \"type\": \"scattermapbox\"}], \"scatterpolar\": [{\"marker\": {\"colorbar\": {\"outlinewidth\": 0, \"ticks\": \"\"}}, \"type\": \"scatterpolar\"}], \"scatterpolargl\": [{\"marker\": {\"colorbar\": {\"outlinewidth\": 0, \"ticks\": \"\"}}, \"type\": \"scatterpolargl\"}], \"scatterternary\": [{\"marker\": {\"colorbar\": {\"outlinewidth\": 0, \"ticks\": \"\"}}, \"type\": \"scatterternary\"}], \"surface\": [{\"colorbar\": {\"outlinewidth\": 0, \"ticks\": \"\"}, \"colorscale\": [[0.0, \"#0d0887\"], [0.1111111111111111, \"#46039f\"], [0.2222222222222222, \"#7201a8\"], [0.3333333333333333, \"#9c179e\"], [0.4444444444444444, \"#bd3786\"], [0.5555555555555556, \"#d8576b\"], [0.6666666666666666, \"#ed7953\"], [0.7777777777777778, \"#fb9f3a\"], [0.8888888888888888, \"#fdca26\"], [1.0, \"#f0f921\"]], \"type\": \"surface\"}], \"table\": [{\"cells\": {\"fill\": {\"color\": \"#EBF0F8\"}, \"line\": {\"color\": \"white\"}}, \"header\": {\"fill\": {\"color\": \"#C8D4E3\"}, \"line\": {\"color\": \"white\"}}, \"type\": \"table\"}]}, \"layout\": {\"annotationdefaults\": {\"arrowcolor\": \"#2a3f5f\", \"arrowhead\": 0, \"arrowwidth\": 1}, \"colorscale\": {\"diverging\": [[0, \"#8e0152\"], [0.1, \"#c51b7d\"], [0.2, \"#de77ae\"], [0.3, \"#f1b6da\"], [0.4, \"#fde0ef\"], [0.5, \"#f7f7f7\"], [0.6, \"#e6f5d0\"], [0.7, \"#b8e186\"], [0.8, \"#7fbc41\"], [0.9, \"#4d9221\"], [1, \"#276419\"]], \"sequential\": [[0.0, \"#0d0887\"], [0.1111111111111111, \"#46039f\"], [0.2222222222222222, \"#7201a8\"], [0.3333333333333333, \"#9c179e\"], [0.4444444444444444, \"#bd3786\"], [0.5555555555555556, \"#d8576b\"], [0.6666666666666666, \"#ed7953\"], [0.7777777777777778, \"#fb9f3a\"], [0.8888888888888888, \"#fdca26\"], [1.0, \"#f0f921\"]], \"sequentialminus\": [[0.0, \"#0d0887\"], [0.1111111111111111, \"#46039f\"], [0.2222222222222222, \"#7201a8\"], [0.3333333333333333, \"#9c179e\"], [0.4444444444444444, \"#bd3786\"], [0.5555555555555556, \"#d8576b\"], [0.6666666666666666, \"#ed7953\"], [0.7777777777777778, \"#fb9f3a\"], [0.8888888888888888, \"#fdca26\"], [1.0, \"#f0f921\"]]}, \"colorway\": [\"#636efa\", \"#EF553B\", \"#00cc96\", \"#ab63fa\", \"#FFA15A\", \"#19d3f3\", \"#FF6692\", \"#B6E880\", \"#FF97FF\", \"#FECB52\"], \"font\": {\"color\": \"#2a3f5f\"}, \"geo\": {\"bgcolor\": \"white\", \"lakecolor\": \"white\", \"landcolor\": \"#E5ECF6\", \"showlakes\": true, \"showland\": true, \"subunitcolor\": \"white\"}, \"hoverlabel\": {\"align\": \"left\"}, \"hovermode\": \"closest\", \"mapbox\": {\"style\": \"light\"}, \"paper_bgcolor\": \"white\", \"plot_bgcolor\": \"#E5ECF6\", \"polar\": {\"angularaxis\": {\"gridcolor\": \"white\", \"linecolor\": \"white\", \"ticks\": \"\"}, \"bgcolor\": \"#E5ECF6\", \"radialaxis\": {\"gridcolor\": \"white\", \"linecolor\": \"white\", \"ticks\": \"\"}}, \"scene\": {\"xaxis\": {\"backgroundcolor\": \"#E5ECF6\", \"gridcolor\": \"white\", \"gridwidth\": 2, \"linecolor\": \"white\", \"showbackground\": true, \"ticks\": \"\", \"zerolinecolor\": \"white\"}, \"yaxis\": {\"backgroundcolor\": \"#E5ECF6\", \"gridcolor\": \"white\", \"gridwidth\": 2, \"linecolor\": \"white\", \"showbackground\": true, \"ticks\": \"\", \"zerolinecolor\": \"white\"}, \"zaxis\": {\"backgroundcolor\": \"#E5ECF6\", \"gridcolor\": \"white\", \"gridwidth\": 2, \"linecolor\": \"white\", \"showbackground\": true, \"ticks\": \"\", \"zerolinecolor\": \"white\"}}, \"shapedefaults\": {\"line\": {\"color\": \"#2a3f5f\"}}, \"ternary\": {\"aaxis\": {\"gridcolor\": \"white\", \"linecolor\": \"white\", \"ticks\": \"\"}, \"baxis\": {\"gridcolor\": \"white\", \"linecolor\": \"white\", \"ticks\": \"\"}, \"bgcolor\": \"#E5ECF6\", \"caxis\": {\"gridcolor\": \"white\", \"linecolor\": \"white\", \"ticks\": \"\"}}, \"title\": {\"x\": 0.05}, \"xaxis\": {\"automargin\": true, \"gridcolor\": \"white\", \"linecolor\": \"white\", \"ticks\": \"\", \"zerolinecolor\": \"white\", \"zerolinewidth\": 2}, \"yaxis\": {\"automargin\": true, \"gridcolor\": \"white\", \"linecolor\": \"white\", \"ticks\": \"\", \"zerolinecolor\": \"white\", \"zerolinewidth\": 2}}}, \"title\": {\"text\": \"NHL Points by Player - 1980, 2000, 2018\"}, \"xaxis\": {\"title\": {\"text\": \"Value\"}}, \"yaxis\": {\"title\": {\"text\": \"Count\"}}},\n",
       "                        {\"responsive\": true}\n",
       "                    ).then(function(){\n",
       "                            \n",
       "var gd = document.getElementById('448a0b43-0a28-43d6-8c6b-754220b4eb0e');\n",
       "var x = new MutationObserver(function (mutations, observer) {{\n",
       "        var display = window.getComputedStyle(gd).display;\n",
       "        if (!display || display === 'none') {{\n",
       "            console.log([gd, 'removed!']);\n",
       "            Plotly.purge(gd);\n",
       "            observer.disconnect();\n",
       "        }}\n",
       "}});\n",
       "\n",
       "// Listen for the removal of the full notebook cells\n",
       "var notebookContainer = gd.closest('#notebook-container');\n",
       "if (notebookContainer) {{\n",
       "    x.observe(notebookContainer, {childList: true});\n",
       "}}\n",
       "\n",
       "// Listen for the clearing of the current output cell\n",
       "var outputEl = gd.closest('.output');\n",
       "if (outputEl) {{\n",
       "    x.observe(outputEl, {childList: true});\n",
       "}}\n",
       "\n",
       "                        })\n",
       "                };\n",
       "                });\n",
       "            </script>\n",
       "        </div>"
      ]
     },
     "metadata": {},
     "output_type": "display_data"
    }
   ],
   "source": [
    "fig = go.Figure(data=[go.Histogram(\n",
    "         x=data_2018['PTS'],\n",
    "         name='2018',\n",
    "         xbins=dict(start=0,\n",
    "                    end=120,\n",
    "                    size=5))\n",
    "])\n",
    "# data_2000.head()\n",
    "fig.add_trace(go.Histogram(x=data_2000['PTS'], name='2000'))\n",
    "fig.add_trace(go.Histogram(x=data_1980['PTS'], name='1980'))\n",
    "\n",
    "fig.update_layout(\n",
    "    title_text='NHL Points by Player - 1980, 2000, 2018',\n",
    "    xaxis_title_text='Value',\n",
    "    yaxis_title_text='Count',\n",
    "    barmode='overlay'\n",
    ")\n",
    "\n",
    "fig.update_traces(opacity=0.4)\n",
    "\n",
    "fig.show()"
   ]
  },
  {
   "cell_type": "code",
   "execution_count": 21,
   "metadata": {},
   "outputs": [
    {
     "data": {
      "application/vnd.plotly.v1+json": {
       "config": {
        "plotlyServerURL": "https://plot.ly"
       },
       "data": [
        {
         "type": "histogram",
         "x": [
          "35",
          "16",
          "11",
          "1",
          "65",
          "4",
          " -   ",
          "12",
          "8",
          "30",
          "2",
          " -   ",
          "9",
          "22",
          "31",
          "10",
          "9",
          "11",
          "29",
          "61",
          "6",
          "33",
          "46",
          " -   ",
          "9",
          "33",
          "45",
          "71",
          "29",
          "71",
          "4",
          " -   ",
          "6",
          "13",
          "13",
          "78",
          "57",
          "3",
          "85",
          "22",
          "4",
          "17",
          "9",
          "36",
          " -   ",
          "16",
          "2",
          "79",
          "15",
          " -   ",
          "26",
          "21",
          "63",
          "26",
          " -   ",
          " -   ",
          "24",
          "9",
          "8",
          "1",
          "3",
          "12",
          "40",
          "49",
          "3",
          " -   ",
          " -   ",
          " -   ",
          "37",
          "55",
          "1",
          "1",
          "25",
          "5",
          "11",
          "1",
          "11",
          "13",
          "5",
          "9",
          " -   ",
          "11",
          "7",
          "12",
          "18",
          "1",
          "23",
          "43",
          "46",
          "35",
          "33",
          "12",
          "1",
          " -   ",
          "32",
          "21",
          "33",
          "6",
          "22",
          "28",
          "61",
          "7",
          "1",
          "43",
          "25",
          "1",
          "6",
          "67",
          "14",
          "44",
          " -   ",
          "45",
          "35",
          "20",
          "18",
          "24",
          "29",
          " -   ",
          "14",
          "6",
          "68",
          "2",
          "15",
          "16",
          "12",
          " -   ",
          "3",
          "22",
          " -   ",
          " -   ",
          "19",
          "2",
          "25",
          " -   ",
          "24",
          "14",
          "18",
          "13",
          "4",
          "4",
          "14",
          "3",
          "11",
          "17",
          "7",
          "2",
          "10",
          "18",
          "15",
          "35",
          "20",
          "25",
          "34",
          "23",
          "12",
          "21",
          "27",
          "57",
          "28",
          " -   ",
          "19",
          "61",
          "76",
          "37",
          " -   ",
          " -   ",
          " -   ",
          "89",
          "1",
          "22",
          "4",
          "65",
          "5",
          "3",
          " -   ",
          "16",
          " -   ",
          "25",
          "3",
          " -   ",
          "7",
          "12",
          "12",
          "1",
          "8",
          "52",
          "43",
          "12",
          "22",
          "20",
          "20",
          "13",
          "28",
          "14",
          "13",
          "2",
          "10",
          "22",
          "14",
          "45",
          "9",
          "32",
          "9",
          "11",
          "60",
          "4",
          "70",
          "46",
          "16",
          "48",
          "59",
          "23",
          "50",
          "2",
          "18",
          "24",
          "37",
          "41",
          "27",
          "1",
          "59",
          "34",
          "17",
          "60",
          "64",
          "1",
          "38",
          "34",
          "42",
          "14",
          "38",
          "32",
          "9",
          "23",
          " -   ",
          "22",
          "6",
          "13",
          "23",
          "16",
          "4",
          "33",
          "2",
          "9",
          " -   ",
          "33",
          "31",
          "1",
          "4",
          "41",
          "1",
          "48",
          "33",
          " -   ",
          "33",
          "4",
          "8",
          "3",
          " -   ",
          "23",
          "33",
          "13",
          "2",
          "18",
          " -   ",
          "64",
          "13",
          "32",
          "7",
          "7",
          "25",
          "11",
          "25",
          "21",
          "31",
          "51",
          "54",
          " -   ",
          "52",
          "1",
          " -   ",
          "3",
          "84",
          "6",
          "1",
          " -   ",
          "1",
          "61",
          "26",
          "5",
          "7",
          "38",
          "23",
          "18",
          "15",
          "102",
          " -   ",
          "19",
          "14",
          "35",
          "14",
          "2",
          "65",
          " -   ",
          "64",
          "36",
          "12",
          "67",
          "24",
          " -   ",
          "3",
          "33",
          "13",
          "1",
          "3",
          "3",
          "3",
          "2",
          "15",
          "16",
          "5",
          "48",
          "5",
          "9",
          "16",
          "1",
          "31",
          "9",
          "23",
          "9",
          "93",
          "24",
          "44",
          "1",
          "11",
          "32",
          " -   ",
          "6",
          "14",
          "10",
          "1",
          "5",
          "31",
          "24",
          "13",
          "55",
          "13",
          "9",
          "44",
          "1",
          "63",
          "11",
          "47",
          "31",
          " -   ",
          "13",
          "50",
          "46",
          "3",
          "25",
          "2",
          "1",
          "25",
          "52",
          "9",
          "12",
          "56",
          "17",
          "2",
          "4",
          " -   ",
          " -   ",
          "4",
          "49",
          "44",
          " -   ",
          "69",
          "30",
          "18",
          "1",
          "10",
          "6",
          "3",
          "40",
          "25",
          "8",
          "7",
          "25",
          "34",
          "35",
          " -   ",
          "17",
          "32",
          "15",
          "8",
          "54",
          "14",
          "15",
          "25",
          "11",
          "50",
          "3",
          "6",
          "17",
          "57",
          "6",
          "4",
          "53",
          "22",
          "10",
          "3",
          "55",
          " -   ",
          "11",
          "1",
          "54",
          "76",
          "9",
          "62",
          "19",
          "78",
          "38",
          "19",
          "32",
          "65",
          "2",
          "37",
          "4",
          "10",
          " -   ",
          "43",
          "3",
          "14",
          "92",
          "21",
          "47",
          "21",
          " -   ",
          "67",
          " -   ",
          "8",
          "45",
          "19",
          "47",
          "92",
          "2",
          "37",
          "44",
          "27",
          "59",
          "6",
          "100",
          "8",
          "4",
          "8",
          "3",
          "11",
          "4",
          "29",
          " -   ",
          "14",
          "83",
          "40",
          "29",
          "4",
          "1",
          "70",
          "62",
          "1",
          "63",
          "13",
          "17",
          " -   ",
          "20",
          "12",
          "42",
          "62",
          "21",
          "8",
          "5",
          "22",
          "4",
          "1",
          "1",
          "51",
          "23",
          "5",
          "26",
          "1",
          "11",
          "6",
          "27",
          "4",
          "44",
          "31",
          "43",
          "1",
          "8",
          " -   ",
          "21",
          "34",
          "29",
          "4",
          "21",
          "14",
          "97",
          "22",
          "98",
          " -   ",
          "4",
          " -   ",
          "19",
          "37",
          "48",
          "85",
          "75",
          " -   ",
          "47",
          "69",
          "43",
          " -   ",
          "12",
          "2",
          "25",
          "15",
          "1",
          "27",
          "1",
          "63",
          "3",
          "12",
          "32",
          "12",
          "28",
          "1",
          "5",
          "4",
          "108",
          "29",
          "30",
          "29",
          "4",
          "2",
          "3",
          "4",
          "15",
          "4",
          " -   ",
          "1",
          " -   ",
          "36",
          " -   ",
          " -   ",
          "3",
          "7",
          "3",
          "22",
          "41",
          "58",
          "16",
          "3",
          "11",
          "5",
          "5",
          "64",
          "32",
          "12",
          "18",
          " -   ",
          "26",
          "16",
          "7",
          " -   ",
          "4",
          "14",
          "5",
          "3",
          "12",
          "42",
          "36",
          "48",
          "34",
          "41",
          "44",
          " -   ",
          "35",
          "8",
          "15",
          "1",
          "32",
          "33",
          "26",
          "9",
          "1",
          "29",
          "27",
          "8",
          "7",
          "15",
          "48",
          "26",
          "23",
          "1",
          "61",
          "40",
          "1",
          " -   ",
          "3",
          " -   ",
          "4",
          " -   ",
          "61",
          "8",
          "15",
          "44",
          "17",
          "8",
          "31",
          "10",
          "47",
          "7",
          "87",
          "12",
          "37",
          "29",
          "3",
          "35",
          "44",
          "82",
          "35",
          "9",
          "35",
          "24",
          "80",
          "13",
          "30",
          "1",
          "66",
          "40",
          "5",
          "19",
          " -   ",
          "30",
          "39",
          "66",
          "49",
          "19",
          "2",
          "13",
          "42",
          "4",
          "26",
          " -   ",
          "54",
          "14",
          "3",
          "27",
          "26",
          "66",
          "12",
          "34",
          "2",
          "1",
          "19",
          "22",
          "2",
          "9",
          " -   ",
          "41",
          "20",
          "32",
          "22",
          "16",
          " -   ",
          "3",
          "3",
          "72",
          "22",
          "69",
          "84",
          "31",
          "4",
          "9",
          "1",
          "1",
          "10",
          " -   ",
          "18",
          "50",
          " -   ",
          "15",
          "25",
          "52",
          "7",
          "41",
          "14",
          "27",
          " -   ",
          " -   ",
          "25",
          " -   ",
          "1",
          "14",
          "17",
          "5",
          "7",
          " -   ",
          "5",
          "21",
          "38",
          "20",
          "33",
          "38",
          "12",
          "2",
          "35",
          "8",
          "10",
          "10",
          "2",
          "16",
          "14",
          "22",
          "24",
          "22",
          "60",
          "70",
          "7",
          "6",
          "5",
          "1",
          "52",
          "36",
          "2",
          "27",
          "59",
          "26",
          "55",
          "50",
          "8",
          "4",
          "78",
          "5",
          "8",
          "40",
          "24",
          " -   ",
          "21",
          "23",
          "20",
          "14",
          "32",
          "30",
          "1",
          "32",
          "19",
          "1",
          "2",
          "3",
          "40",
          "46",
          "12",
          "27",
          "49",
          "25",
          "30",
          "12",
          "8",
          "51",
          "11",
          "60",
          "19",
          "16",
          "31",
          "37",
          "7",
          "2",
          " -   ",
          "26",
          "41",
          "3",
          "5",
          "37",
          "76",
          "46",
          "8",
          "15",
          "12",
          "86",
          "53",
          "11",
          "46",
          "9",
          "56",
          "18",
          "16",
          "62",
          "10",
          "18",
          " -   ",
          "9",
          "34",
          "59",
          "5",
          "7",
          "51",
          "26",
          "4",
          "3",
          "18",
          "11",
          "66",
          "34",
          "84",
          " -   ",
          "64",
          " -   ",
          "29",
          "17",
          "9",
          "7",
          "36",
          "40",
          "1",
          "49",
          "52",
          "47",
          " -   ",
          "2",
          "75",
          " -   ",
          "24",
          "37",
          " -   ",
          "51",
          "19",
          " -   ",
          " -   ",
          "54",
          "16",
          "56",
          "32",
          "10",
          "16",
          "8",
          "28",
          "20",
          "32",
          "85",
          "27",
          "14",
          "16",
          "1",
          "1",
          "12",
          "5",
          "19",
          "21",
          "16",
          "5",
          "8",
          "8",
          "2",
          "35",
          "37",
          "91",
          "6",
          " -   ",
          "8",
          "51",
          "18",
          "14",
          "35",
          "17",
          "23",
          "4",
          "3",
          "32",
          "16",
          "3",
          "56",
          "25",
          "20",
          "13",
          "26",
          "56",
          "47",
          "53",
          "64",
          "7"
         ],
         "xaxis": "x",
         "yaxis": "y"
        },
        {
         "type": "histogram",
         "x": [
          " -   ",
          " -   ",
          " -   ",
          " -   ",
          " -   ",
          " -   ",
          " -   ",
          " -   ",
          " -   ",
          " -   ",
          " -   ",
          " -   ",
          " -   ",
          " -   ",
          " -   ",
          " -   ",
          " -   ",
          " -   ",
          " -   ",
          " -   ",
          " -   ",
          " -   ",
          " -   ",
          " -   ",
          " -   ",
          " -   ",
          " -   ",
          " -   ",
          " -   ",
          " -   ",
          " -   ",
          " -   ",
          " -   ",
          " -   ",
          " -   ",
          " -   ",
          " -   ",
          " -   ",
          " -   ",
          " -   ",
          " -   ",
          " -   ",
          " -   ",
          " -   ",
          " -   ",
          " -   ",
          " -   ",
          " -   ",
          " -   ",
          " -   ",
          " -   ",
          " -   ",
          " -   ",
          " -   ",
          " -   ",
          " -   ",
          " -   ",
          " -   ",
          " -   ",
          " -   ",
          " -   ",
          " -   ",
          " -   ",
          " -   ",
          " -   ",
          " -   ",
          " -   ",
          " -   ",
          " -   ",
          " -   ",
          " -   ",
          " -   ",
          " -   ",
          " -   ",
          " -   ",
          " -   ",
          " -   ",
          " -   ",
          " -   ",
          " -   ",
          " -   ",
          " -   ",
          " -   ",
          " -   ",
          " -   ",
          " -   ",
          " -   ",
          " -   ",
          " -   ",
          " -   ",
          " -   ",
          " -   ",
          " -   ",
          " -   ",
          " -   ",
          " -   ",
          " -   ",
          " -   ",
          "1",
          "1",
          "1",
          "1",
          "1",
          "1",
          "1",
          "1",
          "1",
          "1",
          "1",
          "1",
          "1",
          "1",
          "1",
          "1",
          "1",
          "1",
          "1",
          "1",
          "1",
          "1",
          "1",
          "1",
          "1",
          "1",
          "1",
          "1",
          "1",
          "1",
          "1",
          "1",
          "1",
          "1",
          "1",
          "1",
          "1",
          "1",
          "1",
          "1",
          "1",
          "1",
          "1",
          "2",
          "2",
          "2",
          "2",
          "2",
          "2",
          "2",
          "2",
          "2",
          "2",
          "2",
          "2",
          "2",
          "2",
          "2",
          "2",
          "2",
          "2",
          "2",
          "2",
          "2",
          "2",
          "2",
          "2",
          "2",
          "2",
          "2",
          "2",
          "2",
          "2",
          "2",
          "2",
          "2",
          "2",
          "2",
          "2",
          "2",
          "2",
          "2",
          "2",
          "2",
          "3",
          "3",
          "3",
          "3",
          "3",
          "3",
          "3",
          "3",
          "3",
          "3",
          "3",
          "3",
          "3",
          "3",
          "3",
          "3",
          "3",
          "3",
          "3",
          "3",
          "3",
          "3",
          "3",
          "3",
          "3",
          "3",
          "3",
          "3",
          "3",
          "3",
          "3",
          "3",
          "4",
          "4",
          "4",
          "4",
          "4",
          "4",
          "4",
          "4",
          "4",
          "4",
          "4",
          "4",
          "4",
          "4",
          "4",
          "4",
          "4",
          "4",
          "4",
          "4",
          "4",
          "4",
          "4",
          "4",
          "4",
          "4",
          "4",
          "4",
          "5",
          "5",
          "5",
          "5",
          "5",
          "5",
          "5",
          "5",
          "5",
          "5",
          "5",
          "5",
          "5",
          "5",
          "5",
          "5",
          "5",
          "5",
          "5",
          "5",
          "5",
          "5",
          "6",
          "6",
          "6",
          "6",
          "6",
          "6",
          "6",
          "6",
          "6",
          "6",
          "6",
          "6",
          "6",
          "6",
          "6",
          "6",
          "6",
          "6",
          "6",
          "6",
          "6",
          "6",
          "6",
          "6",
          "6",
          "7",
          "7",
          "7",
          "7",
          "7",
          "7",
          "7",
          "7",
          "7",
          "7",
          "7",
          "7",
          "7",
          "7",
          "7",
          "7",
          "7",
          "7",
          "7",
          "7",
          "7",
          "8",
          "8",
          "8",
          "8",
          "8",
          "8",
          "8",
          "8",
          "8",
          "8",
          "8",
          "8",
          "8",
          "8",
          "8",
          "8",
          "8",
          "8",
          "8",
          "8",
          "8",
          "9",
          "9",
          "9",
          "9",
          "9",
          "9",
          "9",
          "9",
          "9",
          "9",
          "9",
          "9",
          "9",
          "9",
          "9",
          "9",
          "9",
          "9",
          "9",
          "9",
          "9",
          "9",
          "10",
          "10",
          "10",
          "10",
          "10",
          "10",
          "10",
          "10",
          "10",
          "10",
          "10",
          "10",
          "11",
          "11",
          "11",
          "11",
          "11",
          "11",
          "11",
          "11",
          "11",
          "11",
          "11",
          "11",
          "11",
          "11",
          "11",
          "11",
          "11",
          "11",
          "11",
          "11",
          "12",
          "12",
          "12",
          "12",
          "12",
          "12",
          "12",
          "12",
          "12",
          "12",
          "12",
          "12",
          "12",
          "12",
          "12",
          "12",
          "12",
          "12",
          "12",
          "12",
          "12",
          "13",
          "13",
          "13",
          "13",
          "13",
          "13",
          "13",
          "13",
          "13",
          "13",
          "13",
          "13",
          "13",
          "13",
          "14",
          "14",
          "14",
          "14",
          "14",
          "14",
          "14",
          "14",
          "14",
          "14",
          "14",
          "14",
          "14",
          "14",
          "14",
          "15",
          "15",
          "15",
          "15",
          "15",
          "15",
          "15",
          "15",
          "16",
          "16",
          "16",
          "16",
          "16",
          "16",
          "16",
          "16",
          "16",
          "16",
          "16",
          "16",
          "16",
          "16",
          "16",
          "16",
          "16",
          "17",
          "17",
          "17",
          "17",
          "17",
          "17",
          "17",
          "17",
          "17",
          "17",
          "17",
          "17",
          "17",
          "17",
          "17",
          "17",
          "18",
          "18",
          "18",
          "18",
          "18",
          "18",
          "18",
          "18",
          "18",
          "18",
          "18",
          "18",
          "18",
          "18",
          "19",
          "19",
          "19",
          "19",
          "19",
          "19",
          "19",
          "19",
          "19",
          "20",
          "20",
          "20",
          "20",
          "20",
          "20",
          "20",
          "20",
          "20",
          "20",
          "20",
          "20",
          "20",
          "20",
          "20",
          "21",
          "21",
          "21",
          "21",
          "21",
          "21",
          "21",
          "21",
          "22",
          "22",
          "22",
          "22",
          "22",
          "22",
          "22",
          "22",
          "22",
          "22",
          "22",
          "22",
          "22",
          "22",
          "23",
          "23",
          "23",
          "23",
          "23",
          "23",
          "23",
          "23",
          "23",
          "23",
          "24",
          "24",
          "24",
          "24",
          "24",
          "24",
          "24",
          "24",
          "24",
          "25",
          "25",
          "25",
          "25",
          "25",
          "25",
          "25",
          "25",
          "25",
          "25",
          "25",
          "25",
          "25",
          "25",
          "25",
          "25",
          "26",
          "26",
          "26",
          "26",
          "26",
          "26",
          "26",
          "26",
          "26",
          "26",
          "27",
          "27",
          "27",
          "27",
          "27",
          "27",
          "27",
          "27",
          "28",
          "28",
          "28",
          "28",
          "28",
          "28",
          "28",
          "28",
          "28",
          "28",
          "28",
          "29",
          "29",
          "29",
          "29",
          "29",
          "29",
          "29",
          "29",
          "30",
          "30",
          "30",
          "30",
          "30",
          "30",
          "30",
          "30",
          "30",
          "30",
          "30",
          "31",
          "31",
          "31",
          "31",
          "31",
          "31",
          "31",
          "31",
          "31",
          "31",
          "31",
          "32",
          "32",
          "32",
          "32",
          "32",
          "32",
          "32",
          "32",
          "32",
          "33",
          "33",
          "33",
          "33",
          "33",
          "33",
          "34",
          "34",
          "34",
          "34",
          "34",
          "34",
          "34",
          "34",
          "34",
          "34",
          "34",
          "35",
          "35",
          "35",
          "35",
          "35",
          "35",
          "35",
          "35",
          "35",
          "35",
          "35",
          "36",
          "36",
          "36",
          "36",
          "36",
          "36",
          "37",
          "37",
          "37",
          "37",
          "37",
          "37",
          "38",
          "38",
          "38",
          "38",
          "38",
          "39",
          "39",
          "39",
          "39",
          "39",
          "39",
          "39",
          "39",
          "39",
          "40",
          "40",
          "40",
          "40",
          "40",
          "40",
          "40",
          "40",
          "40",
          "41",
          "41",
          "41",
          "42",
          "42",
          "42",
          "42",
          "42",
          "42",
          "42",
          "43",
          "43",
          "43",
          "44",
          "44",
          "44",
          "44",
          "44",
          "44",
          "45",
          "45",
          "45",
          "45",
          "45",
          "45",
          "46",
          "46",
          "46",
          "46",
          "46",
          "46",
          "46",
          "46",
          "46",
          "47",
          "47",
          "47",
          "47",
          "47",
          "48",
          "48",
          "48",
          "48",
          "49",
          "49",
          "49",
          "49",
          "50",
          "50",
          "50",
          "50",
          "50",
          "51",
          "51",
          "51",
          "51",
          "51",
          "51",
          "51",
          "52",
          "52",
          "52",
          "53",
          "53",
          "53",
          "54",
          "54",
          "54",
          "54",
          "55",
          "55",
          "55",
          "56",
          "56",
          "56",
          "56",
          "57",
          "57",
          "58",
          "59",
          "59",
          "59",
          "59",
          "60",
          "60",
          "60",
          "61",
          "62",
          "62",
          "62",
          "62",
          "62",
          "63",
          "63",
          "63",
          "64",
          "65",
          "65",
          "65",
          "66",
          "66",
          "66",
          "67",
          "67",
          "67",
          "68",
          "68",
          "70",
          "70",
          "70",
          "70",
          "71",
          "71",
          "72",
          "72",
          "72",
          "73",
          "73",
          "73",
          "73",
          "74",
          "75",
          "75",
          "77",
          "78",
          "78",
          "79",
          "81",
          "81",
          "84",
          "84",
          "85",
          "86",
          "91",
          "94",
          "96"
         ],
         "xaxis": "x2",
         "yaxis": "y2"
        },
        {
         "type": "histogram",
         "x": [
          " -   ",
          " -   ",
          " -   ",
          " -   ",
          " -   ",
          " -   ",
          " -   ",
          " -   ",
          " -   ",
          " -   ",
          " -   ",
          " -   ",
          " -   ",
          " -   ",
          " -   ",
          " -   ",
          " -   ",
          " -   ",
          " -   ",
          " -   ",
          " -   ",
          " -   ",
          " -   ",
          " -   ",
          " -   ",
          " -   ",
          " -   ",
          " -   ",
          " -   ",
          " -   ",
          " -   ",
          " -   ",
          " -   ",
          " -   ",
          " -   ",
          " -   ",
          " -   ",
          " -   ",
          " -   ",
          " -   ",
          " -   ",
          " -   ",
          " -   ",
          " -   ",
          " -   ",
          " -   ",
          " -   ",
          " -   ",
          " -   ",
          " -   ",
          " -   ",
          " -   ",
          " -   ",
          " -   ",
          " -   ",
          " -   ",
          " -   ",
          " -   ",
          " -   ",
          " -   ",
          " -   ",
          " -   ",
          " -   ",
          " -   ",
          " -   ",
          " -   ",
          " -   ",
          " -   ",
          " -   ",
          " -   ",
          "1",
          "1",
          "1",
          "1",
          "1",
          "1",
          "1",
          "1",
          "1",
          "1",
          "1",
          "1",
          "1",
          "1",
          "1",
          "1",
          "1",
          "1",
          "1",
          "1",
          "1",
          "1",
          "1",
          "1",
          "1",
          "1",
          "1",
          "1",
          "1",
          "1",
          "1",
          "1",
          "1",
          "1",
          "1",
          "2",
          "2",
          "2",
          "2",
          "2",
          "2",
          "2",
          "2",
          "2",
          "2",
          "2",
          "2",
          "2",
          "2",
          "2",
          "2",
          "2",
          "2",
          "2",
          "2",
          "2",
          "2",
          "2",
          "2",
          "3",
          "3",
          "3",
          "3",
          "3",
          "3",
          "3",
          "3",
          "3",
          "3",
          "3",
          "3",
          "4",
          "4",
          "4",
          "4",
          "4",
          "4",
          "4",
          "4",
          "4",
          "4",
          "4",
          "5",
          "5",
          "5",
          "5",
          "5",
          "5",
          "5",
          "5",
          "5",
          "5",
          "5",
          "5",
          "6",
          "6",
          "6",
          "6",
          "6",
          "6",
          "6",
          "6",
          "6",
          "7",
          "7",
          "7",
          "7",
          "7",
          "7",
          "7",
          "7",
          "7",
          "7",
          "7",
          "7",
          "7",
          "7",
          "7",
          "8",
          "8",
          "8",
          "8",
          "8",
          "8",
          "8",
          "8",
          "9",
          "9",
          "9",
          "9",
          "9",
          "9",
          "10",
          "10",
          "10",
          "10",
          "10",
          "10",
          "10",
          "10",
          "10",
          "11",
          "11",
          "11",
          "11",
          "11",
          "11",
          "11",
          "11",
          "11",
          "11",
          "11",
          "12",
          "12",
          "12",
          "12",
          "12",
          "12",
          "12",
          "13",
          "13",
          "13",
          "13",
          "13",
          "13",
          "13",
          "13",
          "13",
          "13",
          "13",
          "13",
          "14",
          "14",
          "14",
          "14",
          "14",
          "14",
          "14",
          "14",
          "15",
          "15",
          "15",
          "15",
          "15",
          "15",
          "15",
          "15",
          "15",
          "15",
          "15",
          "16",
          "16",
          "16",
          "16",
          "16",
          "16",
          "16",
          "16",
          "16",
          "16",
          "17",
          "17",
          "17",
          "17",
          "17",
          "17",
          "17",
          "17",
          "18",
          "18",
          "18",
          "18",
          "18",
          "18",
          "18",
          "18",
          "18",
          "18",
          "18",
          "18",
          "19",
          "19",
          "19",
          "19",
          "19",
          "19",
          "19",
          "19",
          "19",
          "19",
          "20",
          "20",
          "20",
          "20",
          "20",
          "20",
          "20",
          "20",
          "20",
          "21",
          "21",
          "21",
          "21",
          "21",
          "21",
          "21",
          "21",
          "21",
          "21",
          "21",
          "21",
          "21",
          "21",
          "21",
          "22",
          "22",
          "22",
          "22",
          "23",
          "23",
          "23",
          "23",
          "23",
          "23",
          "23",
          "23",
          "23",
          "24",
          "24",
          "24",
          "24",
          "24",
          "24",
          "25",
          "25",
          "25",
          "25",
          "26",
          "26",
          "26",
          "26",
          "26",
          "26",
          "26",
          "26",
          "27",
          "27",
          "28",
          "28",
          "28",
          "28",
          "29",
          "30",
          "30",
          "30",
          "30",
          "30",
          "30",
          "30",
          "30",
          "31",
          "31",
          "31",
          "31",
          "31",
          "32",
          "32",
          "32",
          "32",
          "32",
          "32",
          "32",
          "33",
          "33",
          "33",
          "33",
          "33",
          "33",
          "33",
          "33",
          "33",
          "34",
          "34",
          "34",
          "34",
          "34",
          "34",
          "35",
          "35",
          "35",
          "35",
          "35",
          "35",
          "35",
          "36",
          "36",
          "36",
          "36",
          "36",
          "36",
          "36",
          "36",
          "37",
          "37",
          "37",
          "37",
          "37",
          "37",
          "37",
          "37",
          "38",
          "38",
          "38",
          "39",
          "39",
          "39",
          "39",
          "39",
          "39",
          "39",
          "39",
          "40",
          "40",
          "40",
          "40",
          "40",
          "40",
          "41",
          "41",
          "41",
          "41",
          "41",
          "42",
          "42",
          "43",
          "43",
          "43",
          "43",
          "43",
          "43",
          "44",
          "44",
          "44",
          "45",
          "45",
          "45",
          "45",
          "45",
          "45",
          "45",
          "46",
          "46",
          "46",
          "47",
          "47",
          "47",
          "47",
          "47",
          "47",
          "47",
          "48",
          "48",
          "48",
          "48",
          "49",
          "49",
          "49",
          "49",
          "49",
          "50",
          "50",
          "50",
          "51",
          "51",
          "51",
          "51",
          "52",
          "52",
          "53",
          "53",
          "53",
          "53",
          "54",
          "54",
          "54",
          "54",
          "56",
          "57",
          "57",
          "57",
          "58",
          "58",
          "58",
          "58",
          "58",
          "58",
          "59",
          "59",
          "60",
          "60",
          "60",
          "60",
          "61",
          "61",
          "61",
          "61",
          "61",
          "62",
          "62",
          "63",
          "63",
          "64",
          "65",
          "65",
          "65",
          "65",
          "66",
          "66",
          "66",
          "66",
          "66",
          "66",
          "67",
          "68",
          "68",
          "68",
          "69",
          "69",
          "70",
          "71",
          "71",
          "71",
          "72",
          "73",
          "73",
          "74",
          "74",
          "74",
          "74",
          "75",
          "75",
          "75",
          "75",
          "76",
          "77",
          "78",
          "78",
          "78",
          "79",
          "79",
          "79",
          "80",
          "81",
          "83",
          "85",
          "89",
          "89",
          "89",
          "90",
          "91",
          "92",
          "92",
          "93",
          "93",
          "94",
          "94",
          "97",
          "100",
          "101",
          "104",
          "105",
          "106",
          "125",
          "137",
          "137"
         ],
         "xaxis": "x3",
         "yaxis": "y3"
        }
       ],
       "layout": {
        "annotations": [
         {
          "font": {
           "size": 16
          },
          "showarrow": false,
          "text": "2018",
          "x": 0.14444444444444446,
          "xanchor": "center",
          "xref": "paper",
          "y": 1,
          "yanchor": "bottom",
          "yref": "paper"
         },
         {
          "font": {
           "size": 16
          },
          "showarrow": false,
          "text": "2000",
          "x": 0.5,
          "xanchor": "center",
          "xref": "paper",
          "y": 1,
          "yanchor": "bottom",
          "yref": "paper"
         },
         {
          "font": {
           "size": 16
          },
          "showarrow": false,
          "text": "1980",
          "x": 0.8555555555555556,
          "xanchor": "center",
          "xref": "paper",
          "y": 1,
          "yanchor": "bottom",
          "yref": "paper"
         }
        ],
        "showlegend": false,
        "template": {
         "data": {
          "bar": [
           {
            "error_x": {
             "color": "#2a3f5f"
            },
            "error_y": {
             "color": "#2a3f5f"
            },
            "marker": {
             "line": {
              "color": "#E5ECF6",
              "width": 0.5
             }
            },
            "type": "bar"
           }
          ],
          "barpolar": [
           {
            "marker": {
             "line": {
              "color": "#E5ECF6",
              "width": 0.5
             }
            },
            "type": "barpolar"
           }
          ],
          "carpet": [
           {
            "aaxis": {
             "endlinecolor": "#2a3f5f",
             "gridcolor": "white",
             "linecolor": "white",
             "minorgridcolor": "white",
             "startlinecolor": "#2a3f5f"
            },
            "baxis": {
             "endlinecolor": "#2a3f5f",
             "gridcolor": "white",
             "linecolor": "white",
             "minorgridcolor": "white",
             "startlinecolor": "#2a3f5f"
            },
            "type": "carpet"
           }
          ],
          "choropleth": [
           {
            "colorbar": {
             "outlinewidth": 0,
             "ticks": ""
            },
            "type": "choropleth"
           }
          ],
          "contour": [
           {
            "colorbar": {
             "outlinewidth": 0,
             "ticks": ""
            },
            "colorscale": [
             [
              0,
              "#0d0887"
             ],
             [
              0.1111111111111111,
              "#46039f"
             ],
             [
              0.2222222222222222,
              "#7201a8"
             ],
             [
              0.3333333333333333,
              "#9c179e"
             ],
             [
              0.4444444444444444,
              "#bd3786"
             ],
             [
              0.5555555555555556,
              "#d8576b"
             ],
             [
              0.6666666666666666,
              "#ed7953"
             ],
             [
              0.7777777777777778,
              "#fb9f3a"
             ],
             [
              0.8888888888888888,
              "#fdca26"
             ],
             [
              1,
              "#f0f921"
             ]
            ],
            "type": "contour"
           }
          ],
          "contourcarpet": [
           {
            "colorbar": {
             "outlinewidth": 0,
             "ticks": ""
            },
            "type": "contourcarpet"
           }
          ],
          "heatmap": [
           {
            "colorbar": {
             "outlinewidth": 0,
             "ticks": ""
            },
            "colorscale": [
             [
              0,
              "#0d0887"
             ],
             [
              0.1111111111111111,
              "#46039f"
             ],
             [
              0.2222222222222222,
              "#7201a8"
             ],
             [
              0.3333333333333333,
              "#9c179e"
             ],
             [
              0.4444444444444444,
              "#bd3786"
             ],
             [
              0.5555555555555556,
              "#d8576b"
             ],
             [
              0.6666666666666666,
              "#ed7953"
             ],
             [
              0.7777777777777778,
              "#fb9f3a"
             ],
             [
              0.8888888888888888,
              "#fdca26"
             ],
             [
              1,
              "#f0f921"
             ]
            ],
            "type": "heatmap"
           }
          ],
          "heatmapgl": [
           {
            "colorbar": {
             "outlinewidth": 0,
             "ticks": ""
            },
            "colorscale": [
             [
              0,
              "#0d0887"
             ],
             [
              0.1111111111111111,
              "#46039f"
             ],
             [
              0.2222222222222222,
              "#7201a8"
             ],
             [
              0.3333333333333333,
              "#9c179e"
             ],
             [
              0.4444444444444444,
              "#bd3786"
             ],
             [
              0.5555555555555556,
              "#d8576b"
             ],
             [
              0.6666666666666666,
              "#ed7953"
             ],
             [
              0.7777777777777778,
              "#fb9f3a"
             ],
             [
              0.8888888888888888,
              "#fdca26"
             ],
             [
              1,
              "#f0f921"
             ]
            ],
            "type": "heatmapgl"
           }
          ],
          "histogram": [
           {
            "marker": {
             "colorbar": {
              "outlinewidth": 0,
              "ticks": ""
             }
            },
            "type": "histogram"
           }
          ],
          "histogram2d": [
           {
            "colorbar": {
             "outlinewidth": 0,
             "ticks": ""
            },
            "colorscale": [
             [
              0,
              "#0d0887"
             ],
             [
              0.1111111111111111,
              "#46039f"
             ],
             [
              0.2222222222222222,
              "#7201a8"
             ],
             [
              0.3333333333333333,
              "#9c179e"
             ],
             [
              0.4444444444444444,
              "#bd3786"
             ],
             [
              0.5555555555555556,
              "#d8576b"
             ],
             [
              0.6666666666666666,
              "#ed7953"
             ],
             [
              0.7777777777777778,
              "#fb9f3a"
             ],
             [
              0.8888888888888888,
              "#fdca26"
             ],
             [
              1,
              "#f0f921"
             ]
            ],
            "type": "histogram2d"
           }
          ],
          "histogram2dcontour": [
           {
            "colorbar": {
             "outlinewidth": 0,
             "ticks": ""
            },
            "colorscale": [
             [
              0,
              "#0d0887"
             ],
             [
              0.1111111111111111,
              "#46039f"
             ],
             [
              0.2222222222222222,
              "#7201a8"
             ],
             [
              0.3333333333333333,
              "#9c179e"
             ],
             [
              0.4444444444444444,
              "#bd3786"
             ],
             [
              0.5555555555555556,
              "#d8576b"
             ],
             [
              0.6666666666666666,
              "#ed7953"
             ],
             [
              0.7777777777777778,
              "#fb9f3a"
             ],
             [
              0.8888888888888888,
              "#fdca26"
             ],
             [
              1,
              "#f0f921"
             ]
            ],
            "type": "histogram2dcontour"
           }
          ],
          "mesh3d": [
           {
            "colorbar": {
             "outlinewidth": 0,
             "ticks": ""
            },
            "type": "mesh3d"
           }
          ],
          "parcoords": [
           {
            "line": {
             "colorbar": {
              "outlinewidth": 0,
              "ticks": ""
             }
            },
            "type": "parcoords"
           }
          ],
          "scatter": [
           {
            "marker": {
             "colorbar": {
              "outlinewidth": 0,
              "ticks": ""
             }
            },
            "type": "scatter"
           }
          ],
          "scatter3d": [
           {
            "line": {
             "colorbar": {
              "outlinewidth": 0,
              "ticks": ""
             }
            },
            "marker": {
             "colorbar": {
              "outlinewidth": 0,
              "ticks": ""
             }
            },
            "type": "scatter3d"
           }
          ],
          "scattercarpet": [
           {
            "marker": {
             "colorbar": {
              "outlinewidth": 0,
              "ticks": ""
             }
            },
            "type": "scattercarpet"
           }
          ],
          "scattergeo": [
           {
            "marker": {
             "colorbar": {
              "outlinewidth": 0,
              "ticks": ""
             }
            },
            "type": "scattergeo"
           }
          ],
          "scattergl": [
           {
            "marker": {
             "colorbar": {
              "outlinewidth": 0,
              "ticks": ""
             }
            },
            "type": "scattergl"
           }
          ],
          "scattermapbox": [
           {
            "marker": {
             "colorbar": {
              "outlinewidth": 0,
              "ticks": ""
             }
            },
            "type": "scattermapbox"
           }
          ],
          "scatterpolar": [
           {
            "marker": {
             "colorbar": {
              "outlinewidth": 0,
              "ticks": ""
             }
            },
            "type": "scatterpolar"
           }
          ],
          "scatterpolargl": [
           {
            "marker": {
             "colorbar": {
              "outlinewidth": 0,
              "ticks": ""
             }
            },
            "type": "scatterpolargl"
           }
          ],
          "scatterternary": [
           {
            "marker": {
             "colorbar": {
              "outlinewidth": 0,
              "ticks": ""
             }
            },
            "type": "scatterternary"
           }
          ],
          "surface": [
           {
            "colorbar": {
             "outlinewidth": 0,
             "ticks": ""
            },
            "colorscale": [
             [
              0,
              "#0d0887"
             ],
             [
              0.1111111111111111,
              "#46039f"
             ],
             [
              0.2222222222222222,
              "#7201a8"
             ],
             [
              0.3333333333333333,
              "#9c179e"
             ],
             [
              0.4444444444444444,
              "#bd3786"
             ],
             [
              0.5555555555555556,
              "#d8576b"
             ],
             [
              0.6666666666666666,
              "#ed7953"
             ],
             [
              0.7777777777777778,
              "#fb9f3a"
             ],
             [
              0.8888888888888888,
              "#fdca26"
             ],
             [
              1,
              "#f0f921"
             ]
            ],
            "type": "surface"
           }
          ],
          "table": [
           {
            "cells": {
             "fill": {
              "color": "#EBF0F8"
             },
             "line": {
              "color": "white"
             }
            },
            "header": {
             "fill": {
              "color": "#C8D4E3"
             },
             "line": {
              "color": "white"
             }
            },
            "type": "table"
           }
          ]
         },
         "layout": {
          "annotationdefaults": {
           "arrowcolor": "#2a3f5f",
           "arrowhead": 0,
           "arrowwidth": 1
          },
          "colorscale": {
           "diverging": [
            [
             0,
             "#8e0152"
            ],
            [
             0.1,
             "#c51b7d"
            ],
            [
             0.2,
             "#de77ae"
            ],
            [
             0.3,
             "#f1b6da"
            ],
            [
             0.4,
             "#fde0ef"
            ],
            [
             0.5,
             "#f7f7f7"
            ],
            [
             0.6,
             "#e6f5d0"
            ],
            [
             0.7,
             "#b8e186"
            ],
            [
             0.8,
             "#7fbc41"
            ],
            [
             0.9,
             "#4d9221"
            ],
            [
             1,
             "#276419"
            ]
           ],
           "sequential": [
            [
             0,
             "#0d0887"
            ],
            [
             0.1111111111111111,
             "#46039f"
            ],
            [
             0.2222222222222222,
             "#7201a8"
            ],
            [
             0.3333333333333333,
             "#9c179e"
            ],
            [
             0.4444444444444444,
             "#bd3786"
            ],
            [
             0.5555555555555556,
             "#d8576b"
            ],
            [
             0.6666666666666666,
             "#ed7953"
            ],
            [
             0.7777777777777778,
             "#fb9f3a"
            ],
            [
             0.8888888888888888,
             "#fdca26"
            ],
            [
             1,
             "#f0f921"
            ]
           ],
           "sequentialminus": [
            [
             0,
             "#0d0887"
            ],
            [
             0.1111111111111111,
             "#46039f"
            ],
            [
             0.2222222222222222,
             "#7201a8"
            ],
            [
             0.3333333333333333,
             "#9c179e"
            ],
            [
             0.4444444444444444,
             "#bd3786"
            ],
            [
             0.5555555555555556,
             "#d8576b"
            ],
            [
             0.6666666666666666,
             "#ed7953"
            ],
            [
             0.7777777777777778,
             "#fb9f3a"
            ],
            [
             0.8888888888888888,
             "#fdca26"
            ],
            [
             1,
             "#f0f921"
            ]
           ]
          },
          "colorway": [
           "#636efa",
           "#EF553B",
           "#00cc96",
           "#ab63fa",
           "#FFA15A",
           "#19d3f3",
           "#FF6692",
           "#B6E880",
           "#FF97FF",
           "#FECB52"
          ],
          "font": {
           "color": "#2a3f5f"
          },
          "geo": {
           "bgcolor": "white",
           "lakecolor": "white",
           "landcolor": "#E5ECF6",
           "showlakes": true,
           "showland": true,
           "subunitcolor": "white"
          },
          "hoverlabel": {
           "align": "left"
          },
          "hovermode": "closest",
          "mapbox": {
           "style": "light"
          },
          "paper_bgcolor": "white",
          "plot_bgcolor": "#E5ECF6",
          "polar": {
           "angularaxis": {
            "gridcolor": "white",
            "linecolor": "white",
            "ticks": ""
           },
           "bgcolor": "#E5ECF6",
           "radialaxis": {
            "gridcolor": "white",
            "linecolor": "white",
            "ticks": ""
           }
          },
          "scene": {
           "xaxis": {
            "backgroundcolor": "#E5ECF6",
            "gridcolor": "white",
            "gridwidth": 2,
            "linecolor": "white",
            "showbackground": true,
            "ticks": "",
            "zerolinecolor": "white"
           },
           "yaxis": {
            "backgroundcolor": "#E5ECF6",
            "gridcolor": "white",
            "gridwidth": 2,
            "linecolor": "white",
            "showbackground": true,
            "ticks": "",
            "zerolinecolor": "white"
           },
           "zaxis": {
            "backgroundcolor": "#E5ECF6",
            "gridcolor": "white",
            "gridwidth": 2,
            "linecolor": "white",
            "showbackground": true,
            "ticks": "",
            "zerolinecolor": "white"
           }
          },
          "shapedefaults": {
           "line": {
            "color": "#2a3f5f"
           }
          },
          "ternary": {
           "aaxis": {
            "gridcolor": "white",
            "linecolor": "white",
            "ticks": ""
           },
           "baxis": {
            "gridcolor": "white",
            "linecolor": "white",
            "ticks": ""
           },
           "bgcolor": "#E5ECF6",
           "caxis": {
            "gridcolor": "white",
            "linecolor": "white",
            "ticks": ""
           }
          },
          "title": {
           "x": 0.05
          },
          "xaxis": {
           "automargin": true,
           "gridcolor": "white",
           "linecolor": "white",
           "ticks": "",
           "zerolinecolor": "white",
           "zerolinewidth": 2
          },
          "yaxis": {
           "automargin": true,
           "gridcolor": "white",
           "linecolor": "white",
           "ticks": "",
           "zerolinecolor": "white",
           "zerolinewidth": 2
          }
         }
        },
        "xaxis": {
         "anchor": "y",
         "domain": [
          0,
          0.2888888888888889
         ]
        },
        "xaxis2": {
         "anchor": "y2",
         "domain": [
          0.35555555555555557,
          0.6444444444444445
         ]
        },
        "xaxis3": {
         "anchor": "y3",
         "domain": [
          0.7111111111111111,
          1
         ]
        },
        "yaxis": {
         "anchor": "x",
         "domain": [
          0,
          1
         ]
        },
        "yaxis2": {
         "anchor": "x2",
         "domain": [
          0,
          1
         ]
        },
        "yaxis3": {
         "anchor": "x3",
         "domain": [
          0,
          1
         ]
        }
       }
      },
      "text/html": [
       "<div>\n",
       "        \n",
       "        \n",
       "            <div id=\"91bff21a-efed-49f5-92c7-e86cd5e33055\" class=\"plotly-graph-div\" style=\"height:525px; width:100%;\"></div>\n",
       "            <script type=\"text/javascript\">\n",
       "                require([\"plotly\"], function(Plotly) {\n",
       "                    window.PLOTLYENV=window.PLOTLYENV || {};\n",
       "                    \n",
       "                if (document.getElementById(\"91bff21a-efed-49f5-92c7-e86cd5e33055\")) {\n",
       "                    Plotly.newPlot(\n",
       "                        '91bff21a-efed-49f5-92c7-e86cd5e33055',\n",
       "                        [{\"type\": \"histogram\", \"x\": [\"35\", \"16\", \"11\", \"1\", \"65\", \"4\", \" -   \", \"12\", \"8\", \"30\", \"2\", \" -   \", \"9\", \"22\", \"31\", \"10\", \"9\", \"11\", \"29\", \"61\", \"6\", \"33\", \"46\", \" -   \", \"9\", \"33\", \"45\", \"71\", \"29\", \"71\", \"4\", \" -   \", \"6\", \"13\", \"13\", \"78\", \"57\", \"3\", \"85\", \"22\", \"4\", \"17\", \"9\", \"36\", \" -   \", \"16\", \"2\", \"79\", \"15\", \" -   \", \"26\", \"21\", \"63\", \"26\", \" -   \", \" -   \", \"24\", \"9\", \"8\", \"1\", \"3\", \"12\", \"40\", \"49\", \"3\", \" -   \", \" -   \", \" -   \", \"37\", \"55\", \"1\", \"1\", \"25\", \"5\", \"11\", \"1\", \"11\", \"13\", \"5\", \"9\", \" -   \", \"11\", \"7\", \"12\", \"18\", \"1\", \"23\", \"43\", \"46\", \"35\", \"33\", \"12\", \"1\", \" -   \", \"32\", \"21\", \"33\", \"6\", \"22\", \"28\", \"61\", \"7\", \"1\", \"43\", \"25\", \"1\", \"6\", \"67\", \"14\", \"44\", \" -   \", \"45\", \"35\", \"20\", \"18\", \"24\", \"29\", \" -   \", \"14\", \"6\", \"68\", \"2\", \"15\", \"16\", \"12\", \" -   \", \"3\", \"22\", \" -   \", \" -   \", \"19\", \"2\", \"25\", \" -   \", \"24\", \"14\", \"18\", \"13\", \"4\", \"4\", \"14\", \"3\", \"11\", \"17\", \"7\", \"2\", \"10\", \"18\", \"15\", \"35\", \"20\", \"25\", \"34\", \"23\", \"12\", \"21\", \"27\", \"57\", \"28\", \" -   \", \"19\", \"61\", \"76\", \"37\", \" -   \", \" -   \", \" -   \", \"89\", \"1\", \"22\", \"4\", \"65\", \"5\", \"3\", \" -   \", \"16\", \" -   \", \"25\", \"3\", \" -   \", \"7\", \"12\", \"12\", \"1\", \"8\", \"52\", \"43\", \"12\", \"22\", \"20\", \"20\", \"13\", \"28\", \"14\", \"13\", \"2\", \"10\", \"22\", \"14\", \"45\", \"9\", \"32\", \"9\", \"11\", \"60\", \"4\", \"70\", \"46\", \"16\", \"48\", \"59\", \"23\", \"50\", \"2\", \"18\", \"24\", \"37\", \"41\", \"27\", \"1\", \"59\", \"34\", \"17\", \"60\", \"64\", \"1\", \"38\", \"34\", \"42\", \"14\", \"38\", \"32\", \"9\", \"23\", \" -   \", \"22\", \"6\", \"13\", \"23\", \"16\", \"4\", \"33\", \"2\", \"9\", \" -   \", \"33\", \"31\", \"1\", \"4\", \"41\", \"1\", \"48\", \"33\", \" -   \", \"33\", \"4\", \"8\", \"3\", \" -   \", \"23\", \"33\", \"13\", \"2\", \"18\", \" -   \", \"64\", \"13\", \"32\", \"7\", \"7\", \"25\", \"11\", \"25\", \"21\", \"31\", \"51\", \"54\", \" -   \", \"52\", \"1\", \" -   \", \"3\", \"84\", \"6\", \"1\", \" -   \", \"1\", \"61\", \"26\", \"5\", \"7\", \"38\", \"23\", \"18\", \"15\", \"102\", \" -   \", \"19\", \"14\", \"35\", \"14\", \"2\", \"65\", \" -   \", \"64\", \"36\", \"12\", \"67\", \"24\", \" -   \", \"3\", \"33\", \"13\", \"1\", \"3\", \"3\", \"3\", \"2\", \"15\", \"16\", \"5\", \"48\", \"5\", \"9\", \"16\", \"1\", \"31\", \"9\", \"23\", \"9\", \"93\", \"24\", \"44\", \"1\", \"11\", \"32\", \" -   \", \"6\", \"14\", \"10\", \"1\", \"5\", \"31\", \"24\", \"13\", \"55\", \"13\", \"9\", \"44\", \"1\", \"63\", \"11\", \"47\", \"31\", \" -   \", \"13\", \"50\", \"46\", \"3\", \"25\", \"2\", \"1\", \"25\", \"52\", \"9\", \"12\", \"56\", \"17\", \"2\", \"4\", \" -   \", \" -   \", \"4\", \"49\", \"44\", \" -   \", \"69\", \"30\", \"18\", \"1\", \"10\", \"6\", \"3\", \"40\", \"25\", \"8\", \"7\", \"25\", \"34\", \"35\", \" -   \", \"17\", \"32\", \"15\", \"8\", \"54\", \"14\", \"15\", \"25\", \"11\", \"50\", \"3\", \"6\", \"17\", \"57\", \"6\", \"4\", \"53\", \"22\", \"10\", \"3\", \"55\", \" -   \", \"11\", \"1\", \"54\", \"76\", \"9\", \"62\", \"19\", \"78\", \"38\", \"19\", \"32\", \"65\", \"2\", \"37\", \"4\", \"10\", \" -   \", \"43\", \"3\", \"14\", \"92\", \"21\", \"47\", \"21\", \" -   \", \"67\", \" -   \", \"8\", \"45\", \"19\", \"47\", \"92\", \"2\", \"37\", \"44\", \"27\", \"59\", \"6\", \"100\", \"8\", \"4\", \"8\", \"3\", \"11\", \"4\", \"29\", \" -   \", \"14\", \"83\", \"40\", \"29\", \"4\", \"1\", \"70\", \"62\", \"1\", \"63\", \"13\", \"17\", \" -   \", \"20\", \"12\", \"42\", \"62\", \"21\", \"8\", \"5\", \"22\", \"4\", \"1\", \"1\", \"51\", \"23\", \"5\", \"26\", \"1\", \"11\", \"6\", \"27\", \"4\", \"44\", \"31\", \"43\", \"1\", \"8\", \" -   \", \"21\", \"34\", \"29\", \"4\", \"21\", \"14\", \"97\", \"22\", \"98\", \" -   \", \"4\", \" -   \", \"19\", \"37\", \"48\", \"85\", \"75\", \" -   \", \"47\", \"69\", \"43\", \" -   \", \"12\", \"2\", \"25\", \"15\", \"1\", \"27\", \"1\", \"63\", \"3\", \"12\", \"32\", \"12\", \"28\", \"1\", \"5\", \"4\", \"108\", \"29\", \"30\", \"29\", \"4\", \"2\", \"3\", \"4\", \"15\", \"4\", \" -   \", \"1\", \" -   \", \"36\", \" -   \", \" -   \", \"3\", \"7\", \"3\", \"22\", \"41\", \"58\", \"16\", \"3\", \"11\", \"5\", \"5\", \"64\", \"32\", \"12\", \"18\", \" -   \", \"26\", \"16\", \"7\", \" -   \", \"4\", \"14\", \"5\", \"3\", \"12\", \"42\", \"36\", \"48\", \"34\", \"41\", \"44\", \" -   \", \"35\", \"8\", \"15\", \"1\", \"32\", \"33\", \"26\", \"9\", \"1\", \"29\", \"27\", \"8\", \"7\", \"15\", \"48\", \"26\", \"23\", \"1\", \"61\", \"40\", \"1\", \" -   \", \"3\", \" -   \", \"4\", \" -   \", \"61\", \"8\", \"15\", \"44\", \"17\", \"8\", \"31\", \"10\", \"47\", \"7\", \"87\", \"12\", \"37\", \"29\", \"3\", \"35\", \"44\", \"82\", \"35\", \"9\", \"35\", \"24\", \"80\", \"13\", \"30\", \"1\", \"66\", \"40\", \"5\", \"19\", \" -   \", \"30\", \"39\", \"66\", \"49\", \"19\", \"2\", \"13\", \"42\", \"4\", \"26\", \" -   \", \"54\", \"14\", \"3\", \"27\", \"26\", \"66\", \"12\", \"34\", \"2\", \"1\", \"19\", \"22\", \"2\", \"9\", \" -   \", \"41\", \"20\", \"32\", \"22\", \"16\", \" -   \", \"3\", \"3\", \"72\", \"22\", \"69\", \"84\", \"31\", \"4\", \"9\", \"1\", \"1\", \"10\", \" -   \", \"18\", \"50\", \" -   \", \"15\", \"25\", \"52\", \"7\", \"41\", \"14\", \"27\", \" -   \", \" -   \", \"25\", \" -   \", \"1\", \"14\", \"17\", \"5\", \"7\", \" -   \", \"5\", \"21\", \"38\", \"20\", \"33\", \"38\", \"12\", \"2\", \"35\", \"8\", \"10\", \"10\", \"2\", \"16\", \"14\", \"22\", \"24\", \"22\", \"60\", \"70\", \"7\", \"6\", \"5\", \"1\", \"52\", \"36\", \"2\", \"27\", \"59\", \"26\", \"55\", \"50\", \"8\", \"4\", \"78\", \"5\", \"8\", \"40\", \"24\", \" -   \", \"21\", \"23\", \"20\", \"14\", \"32\", \"30\", \"1\", \"32\", \"19\", \"1\", \"2\", \"3\", \"40\", \"46\", \"12\", \"27\", \"49\", \"25\", \"30\", \"12\", \"8\", \"51\", \"11\", \"60\", \"19\", \"16\", \"31\", \"37\", \"7\", \"2\", \" -   \", \"26\", \"41\", \"3\", \"5\", \"37\", \"76\", \"46\", \"8\", \"15\", \"12\", \"86\", \"53\", \"11\", \"46\", \"9\", \"56\", \"18\", \"16\", \"62\", \"10\", \"18\", \" -   \", \"9\", \"34\", \"59\", \"5\", \"7\", \"51\", \"26\", \"4\", \"3\", \"18\", \"11\", \"66\", \"34\", \"84\", \" -   \", \"64\", \" -   \", \"29\", \"17\", \"9\", \"7\", \"36\", \"40\", \"1\", \"49\", \"52\", \"47\", \" -   \", \"2\", \"75\", \" -   \", \"24\", \"37\", \" -   \", \"51\", \"19\", \" -   \", \" -   \", \"54\", \"16\", \"56\", \"32\", \"10\", \"16\", \"8\", \"28\", \"20\", \"32\", \"85\", \"27\", \"14\", \"16\", \"1\", \"1\", \"12\", \"5\", \"19\", \"21\", \"16\", \"5\", \"8\", \"8\", \"2\", \"35\", \"37\", \"91\", \"6\", \" -   \", \"8\", \"51\", \"18\", \"14\", \"35\", \"17\", \"23\", \"4\", \"3\", \"32\", \"16\", \"3\", \"56\", \"25\", \"20\", \"13\", \"26\", \"56\", \"47\", \"53\", \"64\", \"7\"], \"xaxis\": \"x\", \"yaxis\": \"y\"}, {\"type\": \"histogram\", \"x\": [\" -   \", \" -   \", \" -   \", \" -   \", \" -   \", \" -   \", \" -   \", \" -   \", \" -   \", \" -   \", \" -   \", \" -   \", \" -   \", \" -   \", \" -   \", \" -   \", \" -   \", \" -   \", \" -   \", \" -   \", \" -   \", \" -   \", \" -   \", \" -   \", \" -   \", \" -   \", \" -   \", \" -   \", \" -   \", \" -   \", \" -   \", \" -   \", \" -   \", \" -   \", \" -   \", \" -   \", \" -   \", \" -   \", \" -   \", \" -   \", \" -   \", \" -   \", \" -   \", \" -   \", \" -   \", \" -   \", \" -   \", \" -   \", \" -   \", \" -   \", \" -   \", \" -   \", \" -   \", \" -   \", \" -   \", \" -   \", \" -   \", \" -   \", \" -   \", \" -   \", \" -   \", \" -   \", \" -   \", \" -   \", \" -   \", \" -   \", \" -   \", \" -   \", \" -   \", \" -   \", \" -   \", \" -   \", \" -   \", \" -   \", \" -   \", \" -   \", \" -   \", \" -   \", \" -   \", \" -   \", \" -   \", \" -   \", \" -   \", \" -   \", \" -   \", \" -   \", \" -   \", \" -   \", \" -   \", \" -   \", \" -   \", \" -   \", \" -   \", \" -   \", \" -   \", \" -   \", \" -   \", \" -   \", \"1\", \"1\", \"1\", \"1\", \"1\", \"1\", \"1\", \"1\", \"1\", \"1\", \"1\", \"1\", \"1\", \"1\", \"1\", \"1\", \"1\", \"1\", \"1\", \"1\", \"1\", \"1\", \"1\", \"1\", \"1\", \"1\", \"1\", \"1\", \"1\", \"1\", \"1\", \"1\", \"1\", \"1\", \"1\", \"1\", \"1\", \"1\", \"1\", \"1\", \"1\", \"1\", \"1\", \"2\", \"2\", \"2\", \"2\", \"2\", \"2\", \"2\", \"2\", \"2\", \"2\", \"2\", \"2\", \"2\", \"2\", \"2\", \"2\", \"2\", \"2\", \"2\", \"2\", \"2\", \"2\", \"2\", \"2\", \"2\", \"2\", \"2\", \"2\", \"2\", \"2\", \"2\", \"2\", \"2\", \"2\", \"2\", \"2\", \"2\", \"2\", \"2\", \"2\", \"2\", \"3\", \"3\", \"3\", \"3\", \"3\", \"3\", \"3\", \"3\", \"3\", \"3\", \"3\", \"3\", \"3\", \"3\", \"3\", \"3\", \"3\", \"3\", \"3\", \"3\", \"3\", \"3\", \"3\", \"3\", \"3\", \"3\", \"3\", \"3\", \"3\", \"3\", \"3\", \"3\", \"4\", \"4\", \"4\", \"4\", \"4\", \"4\", \"4\", \"4\", \"4\", \"4\", \"4\", \"4\", \"4\", \"4\", \"4\", \"4\", \"4\", \"4\", \"4\", \"4\", \"4\", \"4\", \"4\", \"4\", \"4\", \"4\", \"4\", \"4\", \"5\", \"5\", \"5\", \"5\", \"5\", \"5\", \"5\", \"5\", \"5\", \"5\", \"5\", \"5\", \"5\", \"5\", \"5\", \"5\", \"5\", \"5\", \"5\", \"5\", \"5\", \"5\", \"6\", \"6\", \"6\", \"6\", \"6\", \"6\", \"6\", \"6\", \"6\", \"6\", \"6\", \"6\", \"6\", \"6\", \"6\", \"6\", \"6\", \"6\", \"6\", \"6\", \"6\", \"6\", \"6\", \"6\", \"6\", \"7\", \"7\", \"7\", \"7\", \"7\", \"7\", \"7\", \"7\", \"7\", \"7\", \"7\", \"7\", \"7\", \"7\", \"7\", \"7\", \"7\", \"7\", \"7\", \"7\", \"7\", \"8\", \"8\", \"8\", \"8\", \"8\", \"8\", \"8\", \"8\", \"8\", \"8\", \"8\", \"8\", \"8\", \"8\", \"8\", \"8\", \"8\", \"8\", \"8\", \"8\", \"8\", \"9\", \"9\", \"9\", \"9\", \"9\", \"9\", \"9\", \"9\", \"9\", \"9\", \"9\", \"9\", \"9\", \"9\", \"9\", \"9\", \"9\", \"9\", \"9\", \"9\", \"9\", \"9\", \"10\", \"10\", \"10\", \"10\", \"10\", \"10\", \"10\", \"10\", \"10\", \"10\", \"10\", \"10\", \"11\", \"11\", \"11\", \"11\", \"11\", \"11\", \"11\", \"11\", \"11\", \"11\", \"11\", \"11\", \"11\", \"11\", \"11\", \"11\", \"11\", \"11\", \"11\", \"11\", \"12\", \"12\", \"12\", \"12\", \"12\", \"12\", \"12\", \"12\", \"12\", \"12\", \"12\", \"12\", \"12\", \"12\", \"12\", \"12\", \"12\", \"12\", \"12\", \"12\", \"12\", \"13\", \"13\", \"13\", \"13\", \"13\", \"13\", \"13\", \"13\", \"13\", \"13\", \"13\", \"13\", \"13\", \"13\", \"14\", \"14\", \"14\", \"14\", \"14\", \"14\", \"14\", \"14\", \"14\", \"14\", \"14\", \"14\", \"14\", \"14\", \"14\", \"15\", \"15\", \"15\", \"15\", \"15\", \"15\", \"15\", \"15\", \"16\", \"16\", \"16\", \"16\", \"16\", \"16\", \"16\", \"16\", \"16\", \"16\", \"16\", \"16\", \"16\", \"16\", \"16\", \"16\", \"16\", \"17\", \"17\", \"17\", \"17\", \"17\", \"17\", \"17\", \"17\", \"17\", \"17\", \"17\", \"17\", \"17\", \"17\", \"17\", \"17\", \"18\", \"18\", \"18\", \"18\", \"18\", \"18\", \"18\", \"18\", \"18\", \"18\", \"18\", \"18\", \"18\", \"18\", \"19\", \"19\", \"19\", \"19\", \"19\", \"19\", \"19\", \"19\", \"19\", \"20\", \"20\", \"20\", \"20\", \"20\", \"20\", \"20\", \"20\", \"20\", \"20\", \"20\", \"20\", \"20\", \"20\", \"20\", \"21\", \"21\", \"21\", \"21\", \"21\", \"21\", \"21\", \"21\", \"22\", \"22\", \"22\", \"22\", \"22\", \"22\", \"22\", \"22\", \"22\", \"22\", \"22\", \"22\", \"22\", \"22\", \"23\", \"23\", \"23\", \"23\", \"23\", \"23\", \"23\", \"23\", \"23\", \"23\", \"24\", \"24\", \"24\", \"24\", \"24\", \"24\", \"24\", \"24\", \"24\", \"25\", \"25\", \"25\", \"25\", \"25\", \"25\", \"25\", \"25\", \"25\", \"25\", \"25\", \"25\", \"25\", \"25\", \"25\", \"25\", \"26\", \"26\", \"26\", \"26\", \"26\", \"26\", \"26\", \"26\", \"26\", \"26\", \"27\", \"27\", \"27\", \"27\", \"27\", \"27\", \"27\", \"27\", \"28\", \"28\", \"28\", \"28\", \"28\", \"28\", \"28\", \"28\", \"28\", \"28\", \"28\", \"29\", \"29\", \"29\", \"29\", \"29\", \"29\", \"29\", \"29\", \"30\", \"30\", \"30\", \"30\", \"30\", \"30\", \"30\", \"30\", \"30\", \"30\", \"30\", \"31\", \"31\", \"31\", \"31\", \"31\", \"31\", \"31\", \"31\", \"31\", \"31\", \"31\", \"32\", \"32\", \"32\", \"32\", \"32\", \"32\", \"32\", \"32\", \"32\", \"33\", \"33\", \"33\", \"33\", \"33\", \"33\", \"34\", \"34\", \"34\", \"34\", \"34\", \"34\", \"34\", \"34\", \"34\", \"34\", \"34\", \"35\", \"35\", \"35\", \"35\", \"35\", \"35\", \"35\", \"35\", \"35\", \"35\", \"35\", \"36\", \"36\", \"36\", \"36\", \"36\", \"36\", \"37\", \"37\", \"37\", \"37\", \"37\", \"37\", \"38\", \"38\", \"38\", \"38\", \"38\", \"39\", \"39\", \"39\", \"39\", \"39\", \"39\", \"39\", \"39\", \"39\", \"40\", \"40\", \"40\", \"40\", \"40\", \"40\", \"40\", \"40\", \"40\", \"41\", \"41\", \"41\", \"42\", \"42\", \"42\", \"42\", \"42\", \"42\", \"42\", \"43\", \"43\", \"43\", \"44\", \"44\", \"44\", \"44\", \"44\", \"44\", \"45\", \"45\", \"45\", \"45\", \"45\", \"45\", \"46\", \"46\", \"46\", \"46\", \"46\", \"46\", \"46\", \"46\", \"46\", \"47\", \"47\", \"47\", \"47\", \"47\", \"48\", \"48\", \"48\", \"48\", \"49\", \"49\", \"49\", \"49\", \"50\", \"50\", \"50\", \"50\", \"50\", \"51\", \"51\", \"51\", \"51\", \"51\", \"51\", \"51\", \"52\", \"52\", \"52\", \"53\", \"53\", \"53\", \"54\", \"54\", \"54\", \"54\", \"55\", \"55\", \"55\", \"56\", \"56\", \"56\", \"56\", \"57\", \"57\", \"58\", \"59\", \"59\", \"59\", \"59\", \"60\", \"60\", \"60\", \"61\", \"62\", \"62\", \"62\", \"62\", \"62\", \"63\", \"63\", \"63\", \"64\", \"65\", \"65\", \"65\", \"66\", \"66\", \"66\", \"67\", \"67\", \"67\", \"68\", \"68\", \"70\", \"70\", \"70\", \"70\", \"71\", \"71\", \"72\", \"72\", \"72\", \"73\", \"73\", \"73\", \"73\", \"74\", \"75\", \"75\", \"77\", \"78\", \"78\", \"79\", \"81\", \"81\", \"84\", \"84\", \"85\", \"86\", \"91\", \"94\", \"96\"], \"xaxis\": \"x2\", \"yaxis\": \"y2\"}, {\"type\": \"histogram\", \"x\": [\" -   \", \" -   \", \" -   \", \" -   \", \" -   \", \" -   \", \" -   \", \" -   \", \" -   \", \" -   \", \" -   \", \" -   \", \" -   \", \" -   \", \" -   \", \" -   \", \" -   \", \" -   \", \" -   \", \" -   \", \" -   \", \" -   \", \" -   \", \" -   \", \" -   \", \" -   \", \" -   \", \" -   \", \" -   \", \" -   \", \" -   \", \" -   \", \" -   \", \" -   \", \" -   \", \" -   \", \" -   \", \" -   \", \" -   \", \" -   \", \" -   \", \" -   \", \" -   \", \" -   \", \" -   \", \" -   \", \" -   \", \" -   \", \" -   \", \" -   \", \" -   \", \" -   \", \" -   \", \" -   \", \" -   \", \" -   \", \" -   \", \" -   \", \" -   \", \" -   \", \" -   \", \" -   \", \" -   \", \" -   \", \" -   \", \" -   \", \" -   \", \" -   \", \" -   \", \" -   \", \"1\", \"1\", \"1\", \"1\", \"1\", \"1\", \"1\", \"1\", \"1\", \"1\", \"1\", \"1\", \"1\", \"1\", \"1\", \"1\", \"1\", \"1\", \"1\", \"1\", \"1\", \"1\", \"1\", \"1\", \"1\", \"1\", \"1\", \"1\", \"1\", \"1\", \"1\", \"1\", \"1\", \"1\", \"1\", \"2\", \"2\", \"2\", \"2\", \"2\", \"2\", \"2\", \"2\", \"2\", \"2\", \"2\", \"2\", \"2\", \"2\", \"2\", \"2\", \"2\", \"2\", \"2\", \"2\", \"2\", \"2\", \"2\", \"2\", \"3\", \"3\", \"3\", \"3\", \"3\", \"3\", \"3\", \"3\", \"3\", \"3\", \"3\", \"3\", \"4\", \"4\", \"4\", \"4\", \"4\", \"4\", \"4\", \"4\", \"4\", \"4\", \"4\", \"5\", \"5\", \"5\", \"5\", \"5\", \"5\", \"5\", \"5\", \"5\", \"5\", \"5\", \"5\", \"6\", \"6\", \"6\", \"6\", \"6\", \"6\", \"6\", \"6\", \"6\", \"7\", \"7\", \"7\", \"7\", \"7\", \"7\", \"7\", \"7\", \"7\", \"7\", \"7\", \"7\", \"7\", \"7\", \"7\", \"8\", \"8\", \"8\", \"8\", \"8\", \"8\", \"8\", \"8\", \"9\", \"9\", \"9\", \"9\", \"9\", \"9\", \"10\", \"10\", \"10\", \"10\", \"10\", \"10\", \"10\", \"10\", \"10\", \"11\", \"11\", \"11\", \"11\", \"11\", \"11\", \"11\", \"11\", \"11\", \"11\", \"11\", \"12\", \"12\", \"12\", \"12\", \"12\", \"12\", \"12\", \"13\", \"13\", \"13\", \"13\", \"13\", \"13\", \"13\", \"13\", \"13\", \"13\", \"13\", \"13\", \"14\", \"14\", \"14\", \"14\", \"14\", \"14\", \"14\", \"14\", \"15\", \"15\", \"15\", \"15\", \"15\", \"15\", \"15\", \"15\", \"15\", \"15\", \"15\", \"16\", \"16\", \"16\", \"16\", \"16\", \"16\", \"16\", \"16\", \"16\", \"16\", \"17\", \"17\", \"17\", \"17\", \"17\", \"17\", \"17\", \"17\", \"18\", \"18\", \"18\", \"18\", \"18\", \"18\", \"18\", \"18\", \"18\", \"18\", \"18\", \"18\", \"19\", \"19\", \"19\", \"19\", \"19\", \"19\", \"19\", \"19\", \"19\", \"19\", \"20\", \"20\", \"20\", \"20\", \"20\", \"20\", \"20\", \"20\", \"20\", \"21\", \"21\", \"21\", \"21\", \"21\", \"21\", \"21\", \"21\", \"21\", \"21\", \"21\", \"21\", \"21\", \"21\", \"21\", \"22\", \"22\", \"22\", \"22\", \"23\", \"23\", \"23\", \"23\", \"23\", \"23\", \"23\", \"23\", \"23\", \"24\", \"24\", \"24\", \"24\", \"24\", \"24\", \"25\", \"25\", \"25\", \"25\", \"26\", \"26\", \"26\", \"26\", \"26\", \"26\", \"26\", \"26\", \"27\", \"27\", \"28\", \"28\", \"28\", \"28\", \"29\", \"30\", \"30\", \"30\", \"30\", \"30\", \"30\", \"30\", \"30\", \"31\", \"31\", \"31\", \"31\", \"31\", \"32\", \"32\", \"32\", \"32\", \"32\", \"32\", \"32\", \"33\", \"33\", \"33\", \"33\", \"33\", \"33\", \"33\", \"33\", \"33\", \"34\", \"34\", \"34\", \"34\", \"34\", \"34\", \"35\", \"35\", \"35\", \"35\", \"35\", \"35\", \"35\", \"36\", \"36\", \"36\", \"36\", \"36\", \"36\", \"36\", \"36\", \"37\", \"37\", \"37\", \"37\", \"37\", \"37\", \"37\", \"37\", \"38\", \"38\", \"38\", \"39\", \"39\", \"39\", \"39\", \"39\", \"39\", \"39\", \"39\", \"40\", \"40\", \"40\", \"40\", \"40\", \"40\", \"41\", \"41\", \"41\", \"41\", \"41\", \"42\", \"42\", \"43\", \"43\", \"43\", \"43\", \"43\", \"43\", \"44\", \"44\", \"44\", \"45\", \"45\", \"45\", \"45\", \"45\", \"45\", \"45\", \"46\", \"46\", \"46\", \"47\", \"47\", \"47\", \"47\", \"47\", \"47\", \"47\", \"48\", \"48\", \"48\", \"48\", \"49\", \"49\", \"49\", \"49\", \"49\", \"50\", \"50\", \"50\", \"51\", \"51\", \"51\", \"51\", \"52\", \"52\", \"53\", \"53\", \"53\", \"53\", \"54\", \"54\", \"54\", \"54\", \"56\", \"57\", \"57\", \"57\", \"58\", \"58\", \"58\", \"58\", \"58\", \"58\", \"59\", \"59\", \"60\", \"60\", \"60\", \"60\", \"61\", \"61\", \"61\", \"61\", \"61\", \"62\", \"62\", \"63\", \"63\", \"64\", \"65\", \"65\", \"65\", \"65\", \"66\", \"66\", \"66\", \"66\", \"66\", \"66\", \"67\", \"68\", \"68\", \"68\", \"69\", \"69\", \"70\", \"71\", \"71\", \"71\", \"72\", \"73\", \"73\", \"74\", \"74\", \"74\", \"74\", \"75\", \"75\", \"75\", \"75\", \"76\", \"77\", \"78\", \"78\", \"78\", \"79\", \"79\", \"79\", \"80\", \"81\", \"83\", \"85\", \"89\", \"89\", \"89\", \"90\", \"91\", \"92\", \"92\", \"93\", \"93\", \"94\", \"94\", \"97\", \"100\", \"101\", \"104\", \"105\", \"106\", \"125\", \"137\", \"137\"], \"xaxis\": \"x3\", \"yaxis\": \"y3\"}],\n",
       "                        {\"annotations\": [{\"font\": {\"size\": 16}, \"showarrow\": false, \"text\": \"2018\", \"x\": 0.14444444444444446, \"xanchor\": \"center\", \"xref\": \"paper\", \"y\": 1.0, \"yanchor\": \"bottom\", \"yref\": \"paper\"}, {\"font\": {\"size\": 16}, \"showarrow\": false, \"text\": \"2000\", \"x\": 0.5, \"xanchor\": \"center\", \"xref\": \"paper\", \"y\": 1.0, \"yanchor\": \"bottom\", \"yref\": \"paper\"}, {\"font\": {\"size\": 16}, \"showarrow\": false, \"text\": \"1980\", \"x\": 0.8555555555555556, \"xanchor\": \"center\", \"xref\": \"paper\", \"y\": 1.0, \"yanchor\": \"bottom\", \"yref\": \"paper\"}], \"showlegend\": false, \"template\": {\"data\": {\"bar\": [{\"error_x\": {\"color\": \"#2a3f5f\"}, \"error_y\": {\"color\": \"#2a3f5f\"}, \"marker\": {\"line\": {\"color\": \"#E5ECF6\", \"width\": 0.5}}, \"type\": \"bar\"}], \"barpolar\": [{\"marker\": {\"line\": {\"color\": \"#E5ECF6\", \"width\": 0.5}}, \"type\": \"barpolar\"}], \"carpet\": [{\"aaxis\": {\"endlinecolor\": \"#2a3f5f\", \"gridcolor\": \"white\", \"linecolor\": \"white\", \"minorgridcolor\": \"white\", \"startlinecolor\": \"#2a3f5f\"}, \"baxis\": {\"endlinecolor\": \"#2a3f5f\", \"gridcolor\": \"white\", \"linecolor\": \"white\", \"minorgridcolor\": \"white\", \"startlinecolor\": \"#2a3f5f\"}, \"type\": \"carpet\"}], \"choropleth\": [{\"colorbar\": {\"outlinewidth\": 0, \"ticks\": \"\"}, \"type\": \"choropleth\"}], \"contour\": [{\"colorbar\": {\"outlinewidth\": 0, \"ticks\": \"\"}, \"colorscale\": [[0.0, \"#0d0887\"], [0.1111111111111111, \"#46039f\"], [0.2222222222222222, \"#7201a8\"], [0.3333333333333333, \"#9c179e\"], [0.4444444444444444, \"#bd3786\"], [0.5555555555555556, \"#d8576b\"], [0.6666666666666666, \"#ed7953\"], [0.7777777777777778, \"#fb9f3a\"], [0.8888888888888888, \"#fdca26\"], [1.0, \"#f0f921\"]], \"type\": \"contour\"}], \"contourcarpet\": [{\"colorbar\": {\"outlinewidth\": 0, \"ticks\": \"\"}, \"type\": \"contourcarpet\"}], \"heatmap\": [{\"colorbar\": {\"outlinewidth\": 0, \"ticks\": \"\"}, \"colorscale\": [[0.0, \"#0d0887\"], [0.1111111111111111, \"#46039f\"], [0.2222222222222222, \"#7201a8\"], [0.3333333333333333, \"#9c179e\"], [0.4444444444444444, \"#bd3786\"], [0.5555555555555556, \"#d8576b\"], [0.6666666666666666, \"#ed7953\"], [0.7777777777777778, \"#fb9f3a\"], [0.8888888888888888, \"#fdca26\"], [1.0, \"#f0f921\"]], \"type\": \"heatmap\"}], \"heatmapgl\": [{\"colorbar\": {\"outlinewidth\": 0, \"ticks\": \"\"}, \"colorscale\": [[0.0, \"#0d0887\"], [0.1111111111111111, \"#46039f\"], [0.2222222222222222, \"#7201a8\"], [0.3333333333333333, \"#9c179e\"], [0.4444444444444444, \"#bd3786\"], [0.5555555555555556, \"#d8576b\"], [0.6666666666666666, \"#ed7953\"], [0.7777777777777778, \"#fb9f3a\"], [0.8888888888888888, \"#fdca26\"], [1.0, \"#f0f921\"]], \"type\": \"heatmapgl\"}], \"histogram\": [{\"marker\": {\"colorbar\": {\"outlinewidth\": 0, \"ticks\": \"\"}}, \"type\": \"histogram\"}], \"histogram2d\": [{\"colorbar\": {\"outlinewidth\": 0, \"ticks\": \"\"}, \"colorscale\": [[0.0, \"#0d0887\"], [0.1111111111111111, \"#46039f\"], [0.2222222222222222, \"#7201a8\"], [0.3333333333333333, \"#9c179e\"], [0.4444444444444444, \"#bd3786\"], [0.5555555555555556, \"#d8576b\"], [0.6666666666666666, \"#ed7953\"], [0.7777777777777778, \"#fb9f3a\"], [0.8888888888888888, \"#fdca26\"], [1.0, \"#f0f921\"]], \"type\": \"histogram2d\"}], \"histogram2dcontour\": [{\"colorbar\": {\"outlinewidth\": 0, \"ticks\": \"\"}, \"colorscale\": [[0.0, \"#0d0887\"], [0.1111111111111111, \"#46039f\"], [0.2222222222222222, \"#7201a8\"], [0.3333333333333333, \"#9c179e\"], [0.4444444444444444, \"#bd3786\"], [0.5555555555555556, \"#d8576b\"], [0.6666666666666666, \"#ed7953\"], [0.7777777777777778, \"#fb9f3a\"], [0.8888888888888888, \"#fdca26\"], [1.0, \"#f0f921\"]], \"type\": \"histogram2dcontour\"}], \"mesh3d\": [{\"colorbar\": {\"outlinewidth\": 0, \"ticks\": \"\"}, \"type\": \"mesh3d\"}], \"parcoords\": [{\"line\": {\"colorbar\": {\"outlinewidth\": 0, \"ticks\": \"\"}}, \"type\": \"parcoords\"}], \"scatter\": [{\"marker\": {\"colorbar\": {\"outlinewidth\": 0, \"ticks\": \"\"}}, \"type\": \"scatter\"}], \"scatter3d\": [{\"line\": {\"colorbar\": {\"outlinewidth\": 0, \"ticks\": \"\"}}, \"marker\": {\"colorbar\": {\"outlinewidth\": 0, \"ticks\": \"\"}}, \"type\": \"scatter3d\"}], \"scattercarpet\": [{\"marker\": {\"colorbar\": {\"outlinewidth\": 0, \"ticks\": \"\"}}, \"type\": \"scattercarpet\"}], \"scattergeo\": [{\"marker\": {\"colorbar\": {\"outlinewidth\": 0, \"ticks\": \"\"}}, \"type\": \"scattergeo\"}], \"scattergl\": [{\"marker\": {\"colorbar\": {\"outlinewidth\": 0, \"ticks\": \"\"}}, \"type\": \"scattergl\"}], \"scattermapbox\": [{\"marker\": {\"colorbar\": {\"outlinewidth\": 0, \"ticks\": \"\"}}, \"type\": \"scattermapbox\"}], \"scatterpolar\": [{\"marker\": {\"colorbar\": {\"outlinewidth\": 0, \"ticks\": \"\"}}, \"type\": \"scatterpolar\"}], \"scatterpolargl\": [{\"marker\": {\"colorbar\": {\"outlinewidth\": 0, \"ticks\": \"\"}}, \"type\": \"scatterpolargl\"}], \"scatterternary\": [{\"marker\": {\"colorbar\": {\"outlinewidth\": 0, \"ticks\": \"\"}}, \"type\": \"scatterternary\"}], \"surface\": [{\"colorbar\": {\"outlinewidth\": 0, \"ticks\": \"\"}, \"colorscale\": [[0.0, \"#0d0887\"], [0.1111111111111111, \"#46039f\"], [0.2222222222222222, \"#7201a8\"], [0.3333333333333333, \"#9c179e\"], [0.4444444444444444, \"#bd3786\"], [0.5555555555555556, \"#d8576b\"], [0.6666666666666666, \"#ed7953\"], [0.7777777777777778, \"#fb9f3a\"], [0.8888888888888888, \"#fdca26\"], [1.0, \"#f0f921\"]], \"type\": \"surface\"}], \"table\": [{\"cells\": {\"fill\": {\"color\": \"#EBF0F8\"}, \"line\": {\"color\": \"white\"}}, \"header\": {\"fill\": {\"color\": \"#C8D4E3\"}, \"line\": {\"color\": \"white\"}}, \"type\": \"table\"}]}, \"layout\": {\"annotationdefaults\": {\"arrowcolor\": \"#2a3f5f\", \"arrowhead\": 0, \"arrowwidth\": 1}, \"colorscale\": {\"diverging\": [[0, \"#8e0152\"], [0.1, \"#c51b7d\"], [0.2, \"#de77ae\"], [0.3, \"#f1b6da\"], [0.4, \"#fde0ef\"], [0.5, \"#f7f7f7\"], [0.6, \"#e6f5d0\"], [0.7, \"#b8e186\"], [0.8, \"#7fbc41\"], [0.9, \"#4d9221\"], [1, \"#276419\"]], \"sequential\": [[0.0, \"#0d0887\"], [0.1111111111111111, \"#46039f\"], [0.2222222222222222, \"#7201a8\"], [0.3333333333333333, \"#9c179e\"], [0.4444444444444444, \"#bd3786\"], [0.5555555555555556, \"#d8576b\"], [0.6666666666666666, \"#ed7953\"], [0.7777777777777778, \"#fb9f3a\"], [0.8888888888888888, \"#fdca26\"], [1.0, \"#f0f921\"]], \"sequentialminus\": [[0.0, \"#0d0887\"], [0.1111111111111111, \"#46039f\"], [0.2222222222222222, \"#7201a8\"], [0.3333333333333333, \"#9c179e\"], [0.4444444444444444, \"#bd3786\"], [0.5555555555555556, \"#d8576b\"], [0.6666666666666666, \"#ed7953\"], [0.7777777777777778, \"#fb9f3a\"], [0.8888888888888888, \"#fdca26\"], [1.0, \"#f0f921\"]]}, \"colorway\": [\"#636efa\", \"#EF553B\", \"#00cc96\", \"#ab63fa\", \"#FFA15A\", \"#19d3f3\", \"#FF6692\", \"#B6E880\", \"#FF97FF\", \"#FECB52\"], \"font\": {\"color\": \"#2a3f5f\"}, \"geo\": {\"bgcolor\": \"white\", \"lakecolor\": \"white\", \"landcolor\": \"#E5ECF6\", \"showlakes\": true, \"showland\": true, \"subunitcolor\": \"white\"}, \"hoverlabel\": {\"align\": \"left\"}, \"hovermode\": \"closest\", \"mapbox\": {\"style\": \"light\"}, \"paper_bgcolor\": \"white\", \"plot_bgcolor\": \"#E5ECF6\", \"polar\": {\"angularaxis\": {\"gridcolor\": \"white\", \"linecolor\": \"white\", \"ticks\": \"\"}, \"bgcolor\": \"#E5ECF6\", \"radialaxis\": {\"gridcolor\": \"white\", \"linecolor\": \"white\", \"ticks\": \"\"}}, \"scene\": {\"xaxis\": {\"backgroundcolor\": \"#E5ECF6\", \"gridcolor\": \"white\", \"gridwidth\": 2, \"linecolor\": \"white\", \"showbackground\": true, \"ticks\": \"\", \"zerolinecolor\": \"white\"}, \"yaxis\": {\"backgroundcolor\": \"#E5ECF6\", \"gridcolor\": \"white\", \"gridwidth\": 2, \"linecolor\": \"white\", \"showbackground\": true, \"ticks\": \"\", \"zerolinecolor\": \"white\"}, \"zaxis\": {\"backgroundcolor\": \"#E5ECF6\", \"gridcolor\": \"white\", \"gridwidth\": 2, \"linecolor\": \"white\", \"showbackground\": true, \"ticks\": \"\", \"zerolinecolor\": \"white\"}}, \"shapedefaults\": {\"line\": {\"color\": \"#2a3f5f\"}}, \"ternary\": {\"aaxis\": {\"gridcolor\": \"white\", \"linecolor\": \"white\", \"ticks\": \"\"}, \"baxis\": {\"gridcolor\": \"white\", \"linecolor\": \"white\", \"ticks\": \"\"}, \"bgcolor\": \"#E5ECF6\", \"caxis\": {\"gridcolor\": \"white\", \"linecolor\": \"white\", \"ticks\": \"\"}}, \"title\": {\"x\": 0.05}, \"xaxis\": {\"automargin\": true, \"gridcolor\": \"white\", \"linecolor\": \"white\", \"ticks\": \"\", \"zerolinecolor\": \"white\", \"zerolinewidth\": 2}, \"yaxis\": {\"automargin\": true, \"gridcolor\": \"white\", \"linecolor\": \"white\", \"ticks\": \"\", \"zerolinecolor\": \"white\", \"zerolinewidth\": 2}}}, \"xaxis\": {\"anchor\": \"y\", \"domain\": [0.0, 0.2888888888888889]}, \"xaxis2\": {\"anchor\": \"y2\", \"domain\": [0.35555555555555557, 0.6444444444444445]}, \"xaxis3\": {\"anchor\": \"y3\", \"domain\": [0.7111111111111111, 1.0]}, \"yaxis\": {\"anchor\": \"x\", \"domain\": [0.0, 1.0]}, \"yaxis2\": {\"anchor\": \"x2\", \"domain\": [0.0, 1.0]}, \"yaxis3\": {\"anchor\": \"x3\", \"domain\": [0.0, 1.0]}},\n",
       "                        {\"responsive\": true}\n",
       "                    ).then(function(){\n",
       "                            \n",
       "var gd = document.getElementById('91bff21a-efed-49f5-92c7-e86cd5e33055');\n",
       "var x = new MutationObserver(function (mutations, observer) {{\n",
       "        var display = window.getComputedStyle(gd).display;\n",
       "        if (!display || display === 'none') {{\n",
       "            console.log([gd, 'removed!']);\n",
       "            Plotly.purge(gd);\n",
       "            observer.disconnect();\n",
       "        }}\n",
       "}});\n",
       "\n",
       "// Listen for the removal of the full notebook cells\n",
       "var notebookContainer = gd.closest('#notebook-container');\n",
       "if (notebookContainer) {{\n",
       "    x.observe(notebookContainer, {childList: true});\n",
       "}}\n",
       "\n",
       "// Listen for the clearing of the current output cell\n",
       "var outputEl = gd.closest('.output');\n",
       "if (outputEl) {{\n",
       "    x.observe(outputEl, {childList: true});\n",
       "}}\n",
       "\n",
       "                        })\n",
       "                };\n",
       "                });\n",
       "            </script>\n",
       "        </div>"
      ]
     },
     "metadata": {},
     "output_type": "display_data"
    }
   ],
   "source": [
    "import plotly.graph_objects as go\n",
    "from plotly.subplots import make_subplots\n",
    "\n",
    "fig = make_subplots(rows=1, cols=3,\n",
    "                    subplot_titles=('2018', '2000', '1980')\n",
    ")\n",
    "trace1 = go.Histogram(x=data_2018['PTS'])\n",
    "trace2 = go.Histogram(x=data_2000['PTS'])\n",
    "trace3 = go.Histogram(x=data_1980['PTS'])\n",
    "\n",
    "fig.append_trace(trace1, 1, 1)\n",
    "fig.append_trace(trace2, 1, 2)\n",
    "fig.append_trace(trace3, 1, 3)\n",
    "\n",
    "fig.update_layout(showlegend=False)\n",
    "\n",
    "fig.show()"
   ]
  }
 ],
 "metadata": {
  "kernelspec": {
   "display_name": "Python 3",
   "language": "python",
   "name": "python3"
  },
  "language_info": {
   "codemirror_mode": {
    "name": "ipython",
    "version": 3
   },
   "file_extension": ".py",
   "mimetype": "text/x-python",
   "name": "python",
   "nbconvert_exporter": "python",
   "pygments_lexer": "ipython3",
   "version": "3.7.3"
  },
  "toc": {
   "base_numbering": 1,
   "nav_menu": {},
   "number_sections": true,
   "sideBar": true,
   "skip_h1_title": false,
   "title_cell": "Table of Contents",
   "title_sidebar": "Contents",
   "toc_cell": false,
   "toc_position": {},
   "toc_section_display": true,
   "toc_window_display": false
  }
 },
 "nbformat": 4,
 "nbformat_minor": 2
}
