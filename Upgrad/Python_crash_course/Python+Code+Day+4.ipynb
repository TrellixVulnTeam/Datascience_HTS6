{
 "cells": [
  {
   "cell_type": "code",
   "execution_count": 1,
   "metadata": {},
   "outputs": [],
   "source": [
    "#String Slicing"
   ]
  },
  {
   "cell_type": "code",
   "execution_count": 2,
   "metadata": {},
   "outputs": [],
   "source": [
    "alpha=\"abcdefghijklmnopqrstuvwxyz\""
   ]
  },
  {
   "cell_type": "code",
   "execution_count": 8,
   "metadata": {},
   "outputs": [
    {
     "name": "stdout",
     "output_type": "stream",
     "text": [
      "alpha -  abcdefghijklmnopqrstuvwxyz\n",
      "alpha[0] -  a\n",
      "alpha[3:15] -  defghijklmno\n",
      "alpha[3:15:3] -  dgjm\n",
      "alpha[-1] -  z\n",
      "alpha[::2] -  acegikmoqsuwy\n",
      "alpha*2 -  abcdefghijklmnopqrstuvwxyzabcdefghijklmnopqrstuvwxyz\n",
      "alpha[2:-24] - ab\n",
      "alpha[5:] -  fghijklmnopqrstuvwxyz\n",
      "alpha[:5] -  abcde\n",
      "len(alpha) -  26\n"
     ]
    }
   ],
   "source": [
    "print(\"alpha - \",alpha)\n",
    "print(\"alpha[0] - \",alpha[0])\n",
    "print(\"alpha[3:15] - \",alpha[3:15])\n",
    "print(\"alpha[3:15:3] - \",alpha[3:15:3])\n",
    "print(\"alpha[-1] - \",alpha[-1])\n",
    "print(\"alpha[::2] - \",alpha[::2])\n",
    "print(\"alpha*2 - \",alpha*2)\n",
    "print(\"alpha[2:-24] -\",alpha[-26:-24])\n",
    "print(\"alpha[5:] - \",alpha[5:])\n",
    "print(\"alpha[:5] - \",alpha[:5])\n",
    "print(\"len(alpha) - \",len(alpha))"
   ]
  },
  {
   "cell_type": "code",
   "execution_count": null,
   "metadata": {},
   "outputs": [],
   "source": [
    "# Displaying file Informations \n",
    "#Demo1\n"
   ]
  },
  {
   "cell_type": "code",
   "execution_count": 9,
   "metadata": {},
   "outputs": [
    {
     "name": "stdout",
     "output_type": "stream",
     "text": [
      "File Name:  d:\\upgrad\\info.txt\n",
      "File State :  False\n",
      "File Mode :  r\n"
     ]
    }
   ],
   "source": [
    "file= open(\"d:\\\\upgrad\\\\info.txt\",\"r\")  #Open(path,mode) is a function??\n",
    "\n",
    "#Display File Name:\n",
    "\n",
    "print(\"File Name: \",file.name)\n",
    "print(\"File State : \",file.closed)\n",
    "print(\"File Mode : \",file.mode)\n",
    "\n",
    "# Very Importent ! Close the File.....\n",
    "file.close() # lets close the file."
   ]
  },
  {
   "cell_type": "code",
   "execution_count": null,
   "metadata": {},
   "outputs": [],
   "source": [
    "#Exception Handling.... <----\n",
    "try:\n",
    "    file = open(\"d:\\\\upgrad\\\\info.txt\",\"r\")\n",
    "    #Some Magic Code Here...\n",
    "except Exception as e:\n",
    "    print(\"Oops! Something Unexpected Happened\")\n",
    "file.close()\n",
    "\n",
    "print(\"Thank you for playing Fair...\")"
   ]
  },
  {
   "cell_type": "code",
   "execution_count": null,
   "metadata": {},
   "outputs": [],
   "source": [
    "#Reading and Writing Files............"
   ]
  },
  {
   "cell_type": "code",
   "execution_count": null,
   "metadata": {},
   "outputs": [],
   "source": [
    "# Code Optimization.\n",
    "with open(\"d:\\\\upgrad\\\\info.txt\",\"r\") as file:\n",
    "    #some magic here\n",
    "    pass\n",
    "# with BLock: it automatically clears/removes the object(file) from the memory"
   ]
  },
  {
   "cell_type": "code",
   "execution_count": 13,
   "metadata": {},
   "outputs": [
    {
     "name": "stdout",
     "output_type": "stream",
     "text": [
      "Hey! i have saved your data!!!\n"
     ]
    }
   ],
   "source": [
    "#Write Operations \n",
    "\n",
    "file_writer=  open(\"d:\\\\upgrad\\\\story.txt\",\"a\")\n",
    "\n",
    "data=input(\"enter some data\\n\")\n",
    "\n",
    "file_writer.write(data)\n",
    "\n",
    "file_writer.write(\"This is Eigth Line\\n\")\n",
    "\n",
    "file_writer.write(\"This is Ninth\\n\")\n",
    "\n",
    "file_writer.close()\n",
    "\n",
    "print(\"Hey! i have saved your data!!!\")\n",
    "\n",
    "# Observe the Mode (w)(write)\n",
    "# Observe the write (method) used to write the data inside file.\n",
    "# Third Observation  , if the file is non existing w(mode) will create the file.\n"
   ]
  },
  {
   "cell_type": "code",
   "execution_count": null,
   "metadata": {},
   "outputs": [],
   "source": [
    "# Fun with File Reading in Python"
   ]
  },
  {
   "cell_type": "code",
   "execution_count": 18,
   "metadata": {},
   "outputs": [
    {
     "name": "stdout",
     "output_type": "stream",
     "text": [
      "Data from File -- \n",
      "\n",
      "India is an amazing country\n",
      "china is fa\n"
     ]
    }
   ],
   "source": [
    "# read() read(n)\n",
    "file_reader = open(r\"d:\\upgrad\\story.txt\",\"r\")\n",
    "data = file_reader.read(3) # returns the complete content of file.\n",
    "print(\"Data from File -- \\n\")\n",
    "print(data)\n",
    "file_reader.close()"
   ]
  },
  {
   "cell_type": "code",
   "execution_count": 23,
   "metadata": {},
   "outputs": [
    {
     "name": "stdout",
     "output_type": "stream",
     "text": [
      "Data from File -- \n",
      "\n",
      "India is an \n"
     ]
    }
   ],
   "source": [
    "# readline() readline(5)\n",
    "file_reader = open(r\"d:\\upgrad\\story.txt\",\"r\")\n",
    "data = file_reader.readline(12) # returns the complete content of file.\n",
    "print(\"Data from File -- \\n\")\n",
    "print(data)\n",
    "file_reader.close()"
   ]
  },
  {
   "cell_type": "code",
   "execution_count": 26,
   "metadata": {},
   "outputs": [
    {
     "name": "stdout",
     "output_type": "stream",
     "text": [
      "Data from File -- \n",
      "\n",
      "Indi\n"
     ]
    }
   ],
   "source": [
    "fr = open(r\"d:\\upgrad\\story.txt\",\"r\")\n",
    "data = fr.readline(4) # returns the complete content of file.\n",
    "print(\"Data from File -- \\n\")\n",
    "print(data)\n",
    "fr.close()"
   ]
  },
  {
   "cell_type": "code",
   "execution_count": 27,
   "metadata": {},
   "outputs": [
    {
     "name": "stdout",
     "output_type": "stream",
     "text": [
      "Indi\n"
     ]
    }
   ],
   "source": [
    "f = open(\"d:\\\\upgrad\\\\story.txt\",\"r\")\n",
    "print(f.readline(4))\n",
    "f.close()"
   ]
  },
  {
   "cell_type": "code",
   "execution_count": 30,
   "metadata": {},
   "outputs": [
    {
     "name": "stdout",
     "output_type": "stream",
     "text": [
      "Data from File -- \n",
      "\n",
      "India is an amazing country\n",
      "\n",
      "china is famous for tourism\n",
      "\n",
      "america is a country famous for advanced technologies\n",
      "\n",
      "spain is famous for their language.\n",
      "\n"
     ]
    }
   ],
   "source": [
    "#readlines()\n",
    "file_reader = open(r\"d:\\upgrad\\story.txt\",\"r\")\n",
    "data = file_reader.readlines() # returns the complete content of file.\n",
    "print(\"Data from File -- \\n\")\n",
    "#print(data)\n",
    "file_reader.close()\n",
    "\n",
    "for line in data:\n",
    "    print(line)\n",
    "    \n",
    "# String <-read() <-List readlines()\n"
   ]
  },
  {
   "cell_type": "code",
   "execution_count": 31,
   "metadata": {},
   "outputs": [
    {
     "name": "stdout",
     "output_type": "stream",
     "text": [
      "India is an amazing country\n",
      "\n",
      "china is famous for tourism\n",
      "\n",
      "america is a country famous for advanced technologies\n",
      "\n",
      "spain is famous for their language.\n",
      "\n"
     ]
    }
   ],
   "source": [
    "#Magical Style of reading the file.\n",
    "# Lets read the complete file line / line\n",
    "\n",
    "f = open(r'd:\\upgrad\\story.txt','r')\n",
    "\n",
    "for line in f:\n",
    "    print(line)\n"
   ]
  },
  {
   "cell_type": "code",
   "execution_count": 32,
   "metadata": {},
   "outputs": [],
   "source": [
    "f.close()"
   ]
  },
  {
   "cell_type": "code",
   "execution_count": null,
   "metadata": {},
   "outputs": [],
   "source": []
  },
  {
   "cell_type": "code",
   "execution_count": null,
   "metadata": {},
   "outputs": [],
   "source": []
  },
  {
   "cell_type": "code",
   "execution_count": null,
   "metadata": {},
   "outputs": [],
   "source": []
  }
 ],
 "metadata": {
  "kernelspec": {
   "display_name": "Python 3",
   "language": "python",
   "name": "python3"
  },
  "language_info": {
   "codemirror_mode": {
    "name": "ipython",
    "version": 3
   },
   "file_extension": ".py",
   "mimetype": "text/x-python",
   "name": "python",
   "nbconvert_exporter": "python",
   "pygments_lexer": "ipython3",
   "version": "3.6.5"
  }
 },
 "nbformat": 4,
 "nbformat_minor": 2
}
