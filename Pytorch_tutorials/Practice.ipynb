{
 "cells": [
  {
   "cell_type": "code",
   "execution_count": 2,
   "metadata": {},
   "outputs": [
    {
     "name": "stdout",
     "output_type": "stream",
     "text": [
      "The original elements before deep copying\n",
      "1 2 [3, 5] 4 \r\n",
      "The new list of elements after deep copying \n",
      "1 2 [7, 5] 4 \r\n",
      "The new list of elements after deep copying \n",
      "1 2 [7, 5] 4 \r\n",
      "The original elements after deep copying\n",
      "1 2 [7, 5] 4 "
     ]
    }
   ],
   "source": [
    "# Python code to demonstrate copy operations \n",
    "\n",
    "# importing \"copy\" for copy operations \n",
    "import copy \n",
    "\n",
    "# initializing list 1 \n",
    "li1 = [1, 2, [3,5], 4] \n",
    "\n",
    "# using deepcopy to deep copy \n",
    "li2 = copy.deepcopy(li1) \n",
    "\n",
    "# using shallow copy\n",
    "li3 = copy.copy(li1)\n",
    "\n",
    "# original elements of list \n",
    "print (\"The original elements before deep copying\") \n",
    "for i in range(0,len(li1)): \n",
    "    print (li1[i],end=\" \") \n",
    "\n",
    "print(\"\\r\") \n",
    "\n",
    "# adding and element to new list \n",
    "li2[2][0] = 7\n",
    "li3[2][0] = 7\n",
    "\n",
    "\n",
    "# Change is reflected in l2 \n",
    "print (\"The new list of elements after deep copying \") \n",
    "for i in range(0,len( li1)): \n",
    "    print (li2[i],end=\" \") \n",
    "\n",
    "print(\"\\r\") \n",
    "\n",
    "# Change is reflected in l2 \n",
    "print (\"The new list of elements after shallow copying \") \n",
    "for i in range(0,len( li1)): \n",
    "    print (li3[i],end=\" \") \n",
    "print(\"\\r\") \n",
    "\n",
    "\n",
    "# Change is NOT reflected in original list \n",
    "# as it is a deep copy \n",
    "print (\"The original elements after deep copying\") \n",
    "for i in range(0,len( li1)): \n",
    "    print (li1[i],end=\" \") \n"
   ]
  }
 ],
 "metadata": {
  "kernelspec": {
   "display_name": "Python 3",
   "language": "python",
   "name": "python3"
  },
  "language_info": {
   "codemirror_mode": {
    "name": "ipython",
    "version": 3
   },
   "file_extension": ".py",
   "mimetype": "text/x-python",
   "name": "python",
   "nbconvert_exporter": "python",
   "pygments_lexer": "ipython3",
   "version": "3.6.5"
  }
 },
 "nbformat": 4,
 "nbformat_minor": 2
}
