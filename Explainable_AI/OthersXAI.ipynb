{
 "cells": [
  {
   "cell_type": "markdown",
   "metadata": {},
   "source": [
    "Tutorials on AI 360\n",
    "\n",
    "https://github.com/Trusted-AI/AIX360/blob/master/examples/README.md\n",
    "\n",
    "Could not install it"
   ]
  },
  {
   "cell_type": "code",
   "execution_count": 3,
   "metadata": {},
   "outputs": [
    {
     "name": "stdout",
     "output_type": "stream",
     "text": [
      "Collecting package metadata (current_repodata.json): done\n",
      "Solving environment: done\n",
      "\n",
      "\n",
      "==> WARNING: A newer version of conda exists. <==\n",
      "  current version: 4.8.3\n",
      "  latest version: 4.9.2\n",
      "\n",
      "Please update conda by running\n",
      "\n",
      "    $ conda update -n base -c defaults conda\n",
      "\n",
      "\n",
      "\n",
      "## Package Plan ##\n",
      "\n",
      "  environment location: /Applications/anaconda3/envs/aix360\n",
      "\n",
      "  added / updated specs:\n",
      "    - python=3.6\n",
      "\n",
      "\n",
      "The following NEW packages will be INSTALLED:\n",
      "\n",
      "  ca-certificates    pkgs/main/osx-64::ca-certificates-2020.12.8-hecd8cb5_0\n",
      "  certifi            pkgs/main/osx-64::certifi-2020.12.5-py36hecd8cb5_0\n",
      "  libcxx             pkgs/main/osx-64::libcxx-10.0.0-1\n",
      "  libedit            pkgs/main/osx-64::libedit-3.1.20191231-h1de35cc_1\n",
      "  libffi             pkgs/main/osx-64::libffi-3.3-hb1e8313_2\n",
      "  ncurses            pkgs/main/osx-64::ncurses-6.2-h0a44026_1\n",
      "  openssl            pkgs/main/osx-64::openssl-1.1.1i-h9ed2024_0\n",
      "  pip                pkgs/main/osx-64::pip-20.3.3-py36hecd8cb5_0\n",
      "  python             pkgs/main/osx-64::python-3.6.12-h26836e1_2\n",
      "  readline           pkgs/main/osx-64::readline-8.0-h1de35cc_0\n",
      "  setuptools         pkgs/main/osx-64::setuptools-51.0.0-py36hecd8cb5_2\n",
      "  sqlite             pkgs/main/osx-64::sqlite-3.33.0-hffcf06c_0\n",
      "  tk                 pkgs/main/osx-64::tk-8.6.10-hb0a8c7a_0\n",
      "  wheel              pkgs/main/noarch::wheel-0.36.2-pyhd3eb1b0_0\n",
      "  xz                 pkgs/main/osx-64::xz-5.2.5-h1de35cc_0\n",
      "  zlib               pkgs/main/osx-64::zlib-1.2.11-h1de35cc_3\n",
      "\n",
      "\n",
      "Proceed ([y]/n)? ^C\n",
      "\n",
      "CondaSystemExit: \n",
      "Operation aborted.  Exiting.\n",
      "\n",
      "\n",
      "CommandNotFoundError: Your shell has not been properly configured to use 'conda activate'.\n",
      "To initialize your shell, run\n",
      "\n",
      "    $ conda init <SHELL_NAME>\n",
      "\n",
      "Currently supported shells are:\n",
      "  - bash\n",
      "  - fish\n",
      "  - tcsh\n",
      "  - xonsh\n",
      "  - zsh\n",
      "  - powershell\n",
      "\n",
      "See 'conda init --help' for more information and options.\n",
      "\n",
      "IMPORTANT: You may need to close and restart your shell after running 'conda init'.\n",
      "\n",
      "\n"
     ]
    }
   ],
   "source": [
    "# !conda create --name aix360 python=3.6\n",
    "# !conda activate aix360 -y"
   ]
  },
  {
   "cell_type": "code",
   "execution_count": null,
   "metadata": {},
   "outputs": [],
   "source": []
  },
  {
   "cell_type": "code",
   "execution_count": null,
   "metadata": {},
   "outputs": [],
   "source": [
    "import warnings\n",
    "warnings.filterwarnings('ignore')\n",
    "\n",
    "# Load FICO HELOC data with special values converted to np.nan\n",
    "from aix360.datasets.heloc_dataset import HELOCDataset, nan_preprocessing\n",
    "data = HELOCDataset(custom_preprocessing=nan_preprocessing).data()\n",
    "# Separate target variable\n",
    "y = data.pop('RiskPerformance')\n",
    "\n",
    "# Split data into training and test sets using fixed random seed\n",
    "from sklearn.model_selection import train_test_split\n",
    "dfTrain, dfTest, yTrain, yTest = train_test_split(data, y, random_state=0, stratify=y)\n",
    "dfTrain.head().transpose()"
   ]
  },
  {
   "cell_type": "markdown",
   "metadata": {},
   "source": [
    "**What if tool**\n",
    "\n",
    "https://pair-code.github.io/what-if-tool/\n",
    "\n",
    "**Skater**\n",
    "\n",
    "https://github.com/oracle/Skater"
   ]
  },
  {
   "cell_type": "code",
   "execution_count": null,
   "metadata": {},
   "outputs": [],
   "source": []
  }
 ],
 "metadata": {
  "kernelspec": {
   "display_name": "Python 3",
   "language": "python",
   "name": "python3"
  },
  "language_info": {
   "codemirror_mode": {
    "name": "ipython",
    "version": 3
   },
   "file_extension": ".py",
   "mimetype": "text/x-python",
   "name": "python",
   "nbconvert_exporter": "python",
   "pygments_lexer": "ipython3",
   "version": "3.7.6"
  },
  "toc": {
   "base_numbering": 1,
   "nav_menu": {},
   "number_sections": true,
   "sideBar": true,
   "skip_h1_title": false,
   "title_cell": "Table of Contents",
   "title_sidebar": "Contents",
   "toc_cell": false,
   "toc_position": {},
   "toc_section_display": true,
   "toc_window_display": false
  },
  "varInspector": {
   "cols": {
    "lenName": 16,
    "lenType": 16,
    "lenVar": 40
   },
   "kernels_config": {
    "python": {
     "delete_cmd_postfix": "",
     "delete_cmd_prefix": "del ",
     "library": "var_list.py",
     "varRefreshCmd": "print(var_dic_list())"
    },
    "r": {
     "delete_cmd_postfix": ") ",
     "delete_cmd_prefix": "rm(",
     "library": "var_list.r",
     "varRefreshCmd": "cat(var_dic_list()) "
    }
   },
   "types_to_exclude": [
    "module",
    "function",
    "builtin_function_or_method",
    "instance",
    "_Feature"
   ],
   "window_display": false
  }
 },
 "nbformat": 4,
 "nbformat_minor": 4
}
