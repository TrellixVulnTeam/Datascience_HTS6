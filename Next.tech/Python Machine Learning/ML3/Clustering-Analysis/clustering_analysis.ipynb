{
 "cells": [
  {
   "cell_type": "markdown",
   "metadata": {},
   "source": [
    "# K-Means Clustering"
   ]
  },
  {
   "cell_type": "code",
   "execution_count": null,
   "metadata": {},
   "outputs": [],
   "source": [
    "import matplotlib.pyplot as plt\n",
    "import numpy as np\n",
    "import pandas as pd"
   ]
  },
  {
   "cell_type": "code",
   "execution_count": null,
   "metadata": {},
   "outputs": [],
   "source": [
    "from sklearn.datasets import make_blobs\n",
    "\n",
    "# create dataset\n",
    "X, y = make_blobs(\n",
    "    n_samples=150, n_features=2,\n",
    "    centers=3, cluster_std=0.5,\n",
    "    shuffle=True, random_state=0\n",
    ")\n",
    "\n",
    "# plot\n",
    "plt.figure(figsize=(10, 10))\n",
    "plt.scatter(\n",
    "    X[:, 0], X[:, 1],\n",
    "    c='white', marker='o',\n",
    "    edgecolor='black', s=50\n",
    ")\n",
    "plt.grid()\n",
    "plt.show()"
   ]
  },
  {
   "cell_type": "code",
   "execution_count": null,
   "metadata": {},
   "outputs": [],
   "source": [
    "from sklearn.cluster import KMeans\n",
    "\n",
    "km = KMeans(\n",
    "    n_clusters=3, init='random',\n",
    "    n_init=10, max_iter=300, \n",
    "    tol=1e-04, random_state=0\n",
    ")\n",
    "y_km = km.fit_predict(X)"
   ]
  },
  {
   "cell_type": "code",
   "execution_count": null,
   "metadata": {},
   "outputs": [],
   "source": [
    "# plot\n",
    "plt.figure(figsize=(10, 10))\n",
    "plt.scatter(\n",
    "    X[y_km == 0, 0], X[y_km == 0, 1],\n",
    "    s=50, c='lightgreen',\n",
    "    marker='s', edgecolor='black',\n",
    "    label='cluster 1'\n",
    ")\n",
    "plt.scatter(\n",
    "    X[y_km == 1, 0], X[y_km == 1, 1],\n",
    "    s=50, c='orange',\n",
    "    marker='o', edgecolor='black',\n",
    "    label='cluster 2'\n",
    ")\n",
    "plt.scatter(\n",
    "    X[y_km == 2, 0], X[y_km == 2, 1],\n",
    "    s=50, c='lightblue',\n",
    "    marker='v', edgecolor='black',\n",
    "    label='cluster 3'\n",
    ")\n",
    "plt.scatter(\n",
    "    km.cluster_centers_[:, 0], km.cluster_centers_[:, 1],\n",
    "    s=250, marker='*',\n",
    "    c='red', edgecolor='black',\n",
    "    label='centroids'\n",
    ")\n",
    "plt.legend(scatterpoints=1)\n",
    "plt.grid()\n",
    "plt.show()"
   ]
  },
  {
   "cell_type": "markdown",
   "metadata": {},
   "source": [
    "# Elbow Method and Silhouette Plots"
   ]
  },
  {
   "cell_type": "code",
   "execution_count": null,
   "metadata": {},
   "outputs": [],
   "source": [
    "print(f'Distortion: {km.inertia_:.2f}')"
   ]
  },
  {
   "cell_type": "code",
   "execution_count": null,
   "metadata": {},
   "outputs": [],
   "source": [
    "# calculate distortion for a range of number of cluster\n",
    "distortions = []\n",
    "for i in range(1, 11):\n",
    "    km = KMeans(\n",
    "        n_clusters=i, init='k-means++',\n",
    "        n_init=10, max_iter=300,\n",
    "        random_state=0\n",
    "    )\n",
    "    km.fit(X)\n",
    "    distortions.append(km.inertia_)\n",
    "\n",
    "# plot\n",
    "plt.figure(figsize=(10, 5))\n",
    "plt.plot(range(1, 11), distortions, marker='o')\n",
    "plt.xlabel('Number of clusters')\n",
    "plt.ylabel('Distortion')\n",
    "plt.show()"
   ]
  },
  {
   "cell_type": "code",
   "execution_count": null,
   "metadata": {},
   "outputs": [],
   "source": [
    "from matplotlib import cm\n",
    "from sklearn.metrics import silhouette_samples\n",
    "\n",
    "# initialize and fit k-means\n",
    "km = KMeans(\n",
    "    n_clusters=3, init='k-means++',\n",
    "    n_init=10, max_iter=300,\n",
    "    tol=1e-04, random_state=0\n",
    ")\n",
    "y_km = km.fit_predict(X)\n",
    "\n",
    "# find cluster labels and number of clusters\n",
    "cluster_labels = np.unique(y_km)\n",
    "n_clusters = cluster_labels.shape[0]\n",
    "\n",
    "# calculate silhouettes\n",
    "silhouette_vals = silhouette_samples(X, y_km, metric='euclidean')"
   ]
  },
  {
   "cell_type": "code",
   "execution_count": null,
   "metadata": {},
   "outputs": [],
   "source": [
    "# plot silhouette\n",
    "plt.figure(figsize=(10, 10))\n",
    "y_ax_lower, y_ax_upper = 0, 0\n",
    "yticks = []\n",
    "for i, c in enumerate(cluster_labels):\n",
    "    c_silhouette_vals = silhouette_vals[y_km == c]\n",
    "    c_silhouette_vals.sort()\n",
    "    y_ax_upper += len(c_silhouette_vals)\n",
    "    color = cm.jet(float(i) / n_clusters)\n",
    "    plt.barh(\n",
    "        range(y_ax_lower, y_ax_upper),\n",
    "        c_silhouette_vals, \n",
    "        height=1.0, edgecolor='none',\n",
    "        color=color\n",
    "     )\n",
    "    yticks.append((y_ax_lower + y_ax_upper) / 2.)\n",
    "    y_ax_lower += len(c_silhouette_vals)\n",
    "\n",
    "# calculate silhouette score    \n",
    "silhouette_avg = np.mean(silhouette_vals)\n",
    "\n",
    "plt.axvline(silhouette_avg, color=\"red\", linestyle=\"--\") \n",
    "plt.yticks(yticks, cluster_labels + 1)\n",
    "plt.ylabel('Cluster')\n",
    "plt.xlabel('Silhouette coefficient')\n",
    "plt.show()"
   ]
  },
  {
   "cell_type": "code",
   "execution_count": null,
   "metadata": {},
   "outputs": [],
   "source": [
    "# initialize and fit k-means\n",
    "km = KMeans(\n",
    "    n_clusters=2, init='k-means++',\n",
    "    n_init=10, max_iter=300,\n",
    "    tol=1e-04, random_state=0\n",
    ")\n",
    "y_km = km.fit_predict(X)\n",
    "\n",
    "# plot\n",
    "plt.figure(figsize=(10, 10))\n",
    "plt.scatter(\n",
    "    X[y_km == 0, 0], X[y_km == 0, 1],\n",
    "    s=50, c='lightgreen',\n",
    "    edgecolor='black',\n",
    "    marker='s', label='cluster 1'\n",
    ")\n",
    "plt.scatter(\n",
    "    X[y_km == 1, 0], X[y_km == 1, 1],\n",
    "    s=50, c='orange',\n",
    "    edgecolor='black',\n",
    "    marker='o', label='cluster 2'\n",
    ")\n",
    "plt.scatter(\n",
    "    km.cluster_centers_[:, 0], km.cluster_centers_[:, 1],\n",
    "    s=250, marker='*',\n",
    "    c='red', label='centroids'\n",
    ")\n",
    "plt.legend()\n",
    "plt.grid()\n",
    "plt.show()"
   ]
  },
  {
   "cell_type": "code",
   "execution_count": null,
   "metadata": {},
   "outputs": [],
   "source": [
    "# find cluster labels and number of clusters\n",
    "cluster_labels = np.unique(y_km)\n",
    "n_clusters = cluster_labels.shape[0]\n",
    "\n",
    "# calculate silhouettes\n",
    "silhouette_vals = silhouette_samples(X, y_km, metric='euclidean')\n",
    "\n",
    "# plot silhouette\n",
    "plt.figure(figsize=(10, 10))\n",
    "y_ax_lower, y_ax_upper = 0, 0\n",
    "yticks = []\n",
    "for i, c in enumerate(cluster_labels):\n",
    "    c_silhouette_vals = silhouette_vals[y_km == c]\n",
    "    c_silhouette_vals.sort()\n",
    "    y_ax_upper += len(c_silhouette_vals)\n",
    "    color = cm.jet(i / n_clusters)\n",
    "    plt.barh(\n",
    "        range(y_ax_lower, y_ax_upper), \n",
    "        c_silhouette_vals, \n",
    "        height=1.0, edgecolor='none', \n",
    "        color=color\n",
    "    )\n",
    "    yticks.append((y_ax_lower + y_ax_upper) / 2)\n",
    "    y_ax_lower += len(c_silhouette_vals)\n",
    "\n",
    "# calculate silhouette score    \n",
    "silhouette_avg = np.mean(silhouette_vals)\n",
    "\n",
    "plt.axvline(silhouette_avg, color=\"red\", linestyle=\"--\")\n",
    "plt.yticks(yticks, cluster_labels + 1)\n",
    "plt.ylabel('Cluster')\n",
    "plt.xlabel('Silhouette coefficient')\n",
    "plt.show()"
   ]
  },
  {
   "cell_type": "markdown",
   "metadata": {},
   "source": [
    "# Hierarchical Clustering"
   ]
  },
  {
   "cell_type": "code",
   "execution_count": null,
   "metadata": {},
   "outputs": [],
   "source": [
    "np.random.seed(123)\n",
    "\n",
    "# create dummy data\n",
    "variables = ['X', 'Y', 'Z']\n",
    "labels = ['ID_0', 'ID_1', 'ID_2', 'ID_3', 'ID_4']\n",
    "X = np.random.random_sample([5, 3]) * 10\n",
    "# store as dataframe\n",
    "df = pd.DataFrame(X, columns=variables, index=labels)\n",
    "df"
   ]
  },
  {
   "cell_type": "code",
   "execution_count": null,
   "metadata": {},
   "outputs": [],
   "source": [
    "from scipy.spatial.distance import pdist, squareform\n",
    "\n",
    "row_dist = pd.DataFrame(\n",
    "    squareform(pdist(df, metric='euclidean')),\n",
    "    columns=labels, index=labels\n",
    ")\n",
    "row_dist"
   ]
  },
  {
   "cell_type": "code",
   "execution_count": null,
   "metadata": {},
   "outputs": [],
   "source": [
    "from scipy.cluster.hierarchy import linkage\n",
    "\n",
    "help(linkage)"
   ]
  },
  {
   "cell_type": "code",
   "execution_count": null,
   "metadata": {},
   "outputs": [],
   "source": [
    "row_clusters = linkage(pdist(df, metric='euclidean'), method='complete')\n",
    "\n",
    "# or\n",
    "# row_clusters = linkage(df.values, method='complete', metric='euclidean')"
   ]
  },
  {
   "cell_type": "code",
   "execution_count": null,
   "metadata": {},
   "outputs": [],
   "source": [
    "# show clustering results as dataframe\n",
    "pd.DataFrame(\n",
    "    row_clusters,\n",
    "    columns=['row label 1', 'row label 2', 'distance', 'no. of items in clust.'],\n",
    "    index=[f'cluster {(i+1)}' for i in range(row_clusters.shape[0])]\n",
    ")"
   ]
  },
  {
   "cell_type": "code",
   "execution_count": null,
   "metadata": {},
   "outputs": [],
   "source": [
    "from scipy.cluster.hierarchy import dendrogram\n",
    "\n",
    "# plot dendrogram\n",
    "plt.figure(figsize=(10, 5))\n",
    "row_dendr = dendrogram(row_clusters, labels=labels)\n",
    "\n",
    "plt.tight_layout()\n",
    "plt.ylabel('Euclidean distance')\n",
    "plt.show()"
   ]
  },
  {
   "cell_type": "code",
   "execution_count": null,
   "metadata": {},
   "outputs": [],
   "source": [
    "fig = plt.figure(figsize=(10, 10), facecolor='white')\n",
    "axd = fig.add_axes([0.09, 0.1, 0.2, 0.6])\n",
    "\n",
    "# plot dendrogram and turn 90 degrees\n",
    "row_dendr = dendrogram(row_clusters, orientation='left')\n",
    "\n",
    "# reorder data by label\n",
    "df_rowclust = df.iloc[row_dendr['leaves'][::-1]]\n",
    "\n",
    "# construct heatmap\n",
    "axm = fig.add_axes([0.23, 0.1, 0.6, 0.6])\n",
    "cax = axm.matshow(df_rowclust, interpolation='nearest', cmap='hot_r')\n",
    "\n",
    "# remove ticks and spines\n",
    "axd.set_xticks([])\n",
    "axd.set_yticks([])\n",
    "for i in axd.spines.values():\n",
    "    i.set_visible(False)\n",
    "    \n",
    "# add colorbar\n",
    "fig.colorbar(cax)\n",
    "\n",
    "# add feature and sample names to axis tick labels\n",
    "axm.set_xticklabels([''] + list(df_rowclust.columns))\n",
    "axm.set_yticklabels([''] + list(df_rowclust.index))\n",
    "plt.show()"
   ]
  },
  {
   "cell_type": "code",
   "execution_count": null,
   "metadata": {},
   "outputs": [],
   "source": [
    "from sklearn.cluster import AgglomerativeClustering\n",
    "\n",
    "# cluster with k=3\n",
    "ac = AgglomerativeClustering(n_clusters=3, affinity='euclidean', linkage='complete')\n",
    "labels = ac.fit_predict(X)\n",
    "print(f'Cluster labels: {labels}')"
   ]
  },
  {
   "cell_type": "code",
   "execution_count": null,
   "metadata": {},
   "outputs": [],
   "source": [
    "# cluster with k=2\n",
    "ac = AgglomerativeClustering(n_clusters=2, affinity='euclidean', linkage='complete')\n",
    "labels = ac.fit_predict(X)\n",
    "print(f'Cluster labels: {labels}')"
   ]
  },
  {
   "cell_type": "markdown",
   "metadata": {},
   "source": [
    "# DBSCAN"
   ]
  },
  {
   "cell_type": "code",
   "execution_count": null,
   "metadata": {},
   "outputs": [],
   "source": [
    "from sklearn.datasets import make_moons\n",
    "\n",
    "# create make_moons dataset\n",
    "X, y = make_moons(n_samples=200, noise=0.05, random_state=0)\n",
    "plt.scatter(X[:, 0], X[:, 1])\n",
    "plt.show()"
   ]
  },
  {
   "cell_type": "code",
   "execution_count": null,
   "metadata": {},
   "outputs": [],
   "source": [
    "f, (ax1, ax2) = plt.subplots(1, 2, figsize=(15, 5))\n",
    "\n",
    "# initialze and fit with kmeans\n",
    "km = KMeans(n_clusters=2, random_state=0)\n",
    "y_km = km.fit_predict(X)\n",
    "\n",
    "# plot\n",
    "ax1.scatter(\n",
    "    X[y_km == 0, 0], X[y_km == 0, 1],\n",
    "    c='lightblue', edgecolor='black',\n",
    "    marker='o', s=40,\n",
    "    label='cluster 1'\n",
    ")\n",
    "ax1.scatter(\n",
    "    X[y_km == 1, 0], X[y_km == 1, 1],\n",
    "    c='red', edgecolor='black',\n",
    "    marker='s', s=40,\n",
    "    label='cluster 2'\n",
    ")\n",
    "ax1.set_title('K-means clustering')\n",
    "ac = AgglomerativeClustering(\n",
    "    n_clusters=2,\n",
    "    affinity='euclidean',\n",
    "    linkage='complete'\n",
    ")\n",
    "\n",
    "# fit with AgglomerativeClustering\n",
    "y_ac = ac.fit_predict(X)\n",
    "\n",
    "# plot\n",
    "ax2.scatter(\n",
    "    X[y_ac == 0, 0], X[y_ac == 0, 1],\n",
    "    c='lightblue', edgecolor='black',\n",
    "    marker='o', s=40,\n",
    "    label='cluster 1'\n",
    ")\n",
    "ax2.scatter(\n",
    "    X[y_ac == 1, 0], X[y_ac == 1, 1],\n",
    "    c='red', edgecolor='black',\n",
    "    marker='s', s=40,\n",
    "    label='cluster 2'\n",
    ")\n",
    "ax2.set_title('Agglomerative clustering')\n",
    "\n",
    "plt.legend()\n",
    "plt.show()"
   ]
  },
  {
   "cell_type": "code",
   "execution_count": null,
   "metadata": {},
   "outputs": [],
   "source": [
    "from sklearn.cluster import DBSCAN\n",
    "\n",
    "# initialize and fit DBSCAN\n",
    "db = DBSCAN(eps=0.2, min_samples=5, metric='euclidean')\n",
    "y_db = db.fit_predict(X)\n",
    "\n",
    "# plot\n",
    "plt.scatter(\n",
    "    X[y_db == 0, 0], X[y_db == 0, 1],\n",
    "    c='lightblue', edgecolor='black',\n",
    "    marker='o', s=40,\n",
    "    label='cluster 1'\n",
    ")\n",
    "plt.scatter(\n",
    "    X[y_db == 1, 0], X[y_db == 1, 1],\n",
    "    c='red', edgecolor='black',\n",
    "    marker='s', s=40,\n",
    "    label='cluster 2'\n",
    ")\n",
    "plt.legend()\n",
    "plt.show()"
   ]
  }
 ],
 "metadata": {
  "kernelspec": {
   "display_name": "Python 3",
   "language": "python",
   "name": "python3"
  },
  "language_info": {
   "codemirror_mode": {
    "name": "ipython",
    "version": 3
   },
   "file_extension": ".py",
   "mimetype": "text/x-python",
   "name": "python",
   "nbconvert_exporter": "python",
   "pygments_lexer": "ipython3",
   "version": "3.6.6"
  }
 },
 "nbformat": 4,
 "nbformat_minor": 2
}
