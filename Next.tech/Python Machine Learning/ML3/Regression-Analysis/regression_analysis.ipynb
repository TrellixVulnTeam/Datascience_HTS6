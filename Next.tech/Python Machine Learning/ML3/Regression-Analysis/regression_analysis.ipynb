{
 "cells": [
  {
   "cell_type": "markdown",
   "metadata": {},
   "source": [
    "# Boston Housing Dataset"
   ]
  },
  {
   "cell_type": "code",
   "execution_count": null,
   "metadata": {},
   "outputs": [],
   "source": [
    "import pandas as pd\n",
    "import numpy as np\n",
    "import matplotlib.pyplot as plt\n",
    "import seaborn as sns"
   ]
  },
  {
   "cell_type": "code",
   "execution_count": null,
   "metadata": {},
   "outputs": [],
   "source": [
    "# import dataset and give headers\n",
    "df = pd.read_csv('housing.csv', header=None)\n",
    "df.columns = ['CRIM', 'ZN', 'INDUS', 'CHAS',\n",
    "              'NOX', 'RM', 'AGE', 'DIS', 'RAD',\n",
    "              'TAX', 'PTRATIO', 'B', 'LSTAT', 'MEDV']"
   ]
  },
  {
   "cell_type": "code",
   "execution_count": null,
   "metadata": {},
   "outputs": [],
   "source": [
    "df.head()"
   ]
  },
  {
   "cell_type": "code",
   "execution_count": null,
   "metadata": {},
   "outputs": [],
   "source": [
    "# create pairplot\n",
    "cols = ['LSTAT', 'INDUS', 'NOX', 'RM', 'MEDV']\n",
    "sns.pairplot(df[cols], height=2.5)\n",
    "plt.tight_layout()\n",
    "plt.show()"
   ]
  },
  {
   "cell_type": "code",
   "execution_count": null,
   "metadata": {},
   "outputs": [],
   "source": [
    "# create correlation matrix\n",
    "cm = np.corrcoef(df[cols].values.T)\n",
    "\n",
    "# create heatmap\n",
    "sns.set(font_scale=1.5)\n",
    "hm = sns.heatmap(\n",
    "    cm, cbar=True, annot=True, \n",
    "    square=True, fmt='.2f',\n",
    "    annot_kws={'size': 15},\n",
    "    yticklabels=cols,\n",
    "    xticklabels=cols)\n",
    "plt.show()"
   ]
  },
  {
   "cell_type": "markdown",
   "metadata": {},
   "source": [
    "# Implementing OLS Linear Regression"
   ]
  },
  {
   "cell_type": "code",
   "execution_count": null,
   "metadata": {},
   "outputs": [],
   "source": [
    "from linearregressiongd import LinearRegressionGD\n",
    "from sklearn.preprocessing import StandardScaler\n",
    "\n",
    "X = df[['RM']].values\n",
    "y = df['MEDV'].values\n",
    "\n",
    "# initalize and fit scalers\n",
    "sc_x = StandardScaler()\n",
    "sc_y = StandardScaler()\n",
    "X_std = sc_x.fit_transform(X)\n",
    "y_std = sc_y.fit_transform(y[:, np.newaxis]).flatten()\n",
    "\n",
    "# intialize and fit linear regression model\n",
    "lr = LinearRegressionGD()\n",
    "lr.fit(X_std, y_std)"
   ]
  },
  {
   "cell_type": "code",
   "execution_count": null,
   "metadata": {},
   "outputs": [],
   "source": [
    "# plot\n",
    "plt.figure(figsize=(10, 10))\n",
    "plt.plot(range(1, lr.n_iter+1), lr.cost_)\n",
    "plt.ylabel('SSE')\n",
    "plt.xlabel('Epoch')\n",
    "plt.show()"
   ]
  },
  {
   "cell_type": "code",
   "execution_count": null,
   "metadata": {},
   "outputs": [],
   "source": [
    "def lin_regplot(X, y, model):\n",
    "    plt.scatter(X, y, c='steelblue', edgecolor='white', s=70)\n",
    "    plt.plot(X, model.predict(X), color='black', lw=2)\n",
    "    return None"
   ]
  },
  {
   "cell_type": "code",
   "execution_count": null,
   "metadata": {},
   "outputs": [],
   "source": [
    "plt.figure(figsize=(10, 10))\n",
    "lin_regplot(X_std, y_std, lr)\n",
    "plt.xlabel('Average number of rooms [RM] (standardized)')\n",
    "plt.ylabel('Price in $1000s [MEDV] (standardized)')\n",
    "plt.show()"
   ]
  },
  {
   "cell_type": "code",
   "execution_count": null,
   "metadata": {},
   "outputs": [],
   "source": [
    "num_rooms_std = sc_x.transform(np.array(5.0).reshape(-1, 1))\n",
    "price_std = lr.predict(num_rooms_std)\n",
    "\n",
    "pred_price_std = sc_y.inverse_transform(price_std)\n",
    "print(pred_price_std)\n",
    "\n",
    "print(f\"Price in $1000s: {pred_price_std[0]:.3f}\")"
   ]
  },
  {
   "cell_type": "code",
   "execution_count": null,
   "metadata": {},
   "outputs": [],
   "source": [
    "print(f'Slope:\\t\\t {lr.w_[1]:.3f}')\n",
    "print(f'Intercept:\\t {lr.w_[0]:.3f}')"
   ]
  },
  {
   "cell_type": "markdown",
   "metadata": {},
   "source": [
    "# Estimating Coefficient of a Regression Model via `scikit-learn`"
   ]
  },
  {
   "cell_type": "code",
   "execution_count": null,
   "metadata": {},
   "outputs": [],
   "source": [
    "from sklearn.linear_model import LinearRegression\n",
    "\n",
    "slr = LinearRegression()\n",
    "slr.fit(X, y)\n",
    "\n",
    "print(f'Slope:\\t\\t {slr.coef_[0]:.3f}')\n",
    "print(f'Intercept:\\t {slr.intercept_:.3f}')"
   ]
  },
  {
   "cell_type": "code",
   "execution_count": null,
   "metadata": {},
   "outputs": [],
   "source": [
    "plt.figure(figsize=(10, 10))\n",
    "lin_regplot(X, y, slr)\n",
    "plt.xlabel('Average number of rooms [RM]')\n",
    "plt.ylabel('Price in $1000s [MEDV]')\n",
    "plt.show()"
   ]
  },
  {
   "cell_type": "markdown",
   "metadata": {},
   "source": [
    "# Robust Regressino Models Using RANSAC"
   ]
  },
  {
   "cell_type": "code",
   "execution_count": null,
   "metadata": {},
   "outputs": [],
   "source": [
    "from sklearn.linear_model import RANSACRegressor\n",
    "\n",
    "# initialize and fit RANSAC regressor\n",
    "ransac = RANSACRegressor(\n",
    "    LinearRegression(), \n",
    "    max_trials=100, \n",
    "    min_samples=50, \n",
    "    loss='absolute_loss', \n",
    "    residual_threshold=5.0, \n",
    "    random_state=0\n",
    ")\n",
    "ransac.fit(X, y)"
   ]
  },
  {
   "cell_type": "code",
   "execution_count": null,
   "metadata": {},
   "outputs": [],
   "source": [
    "# obtain inliers and outliers\n",
    "inlier_mask = ransac.inlier_mask_\n",
    "outlier_mask = np.logical_not(inlier_mask)\n",
    "\n",
    "# make predictions\n",
    "line_X = np.arange(3, 10, 1)\n",
    "line_y_ransac = ransac.predict(line_X[:, np.newaxis])\n",
    "\n",
    "# plot\n",
    "plt.figure(figsize=(10, 10))\n",
    "plt.scatter(\n",
    "    X[inlier_mask], y[inlier_mask],\n",
    "    c='steelblue', edgecolor='white', \n",
    "    marker='o', label='Inliers'\n",
    ")\n",
    "plt.scatter(\n",
    "    X[outlier_mask], y[outlier_mask],\n",
    "    c='limegreen', edgecolor='white', \n",
    "    marker='s', label='Outliers'\n",
    ")\n",
    "plt.plot(line_X, line_y_ransac, color='black', lw=2)   \n",
    "plt.xlabel('Average number of rooms [RM]')\n",
    "plt.ylabel('Price in $1000s [MEDV]')\n",
    "plt.legend(loc='upper left')\n",
    "plt.show()"
   ]
  },
  {
   "cell_type": "code",
   "execution_count": null,
   "metadata": {},
   "outputs": [],
   "source": [
    "print(f'Slope:\\t\\t {ransac.estimator_.coef_[0]:.3f}')\n",
    "print(f'Intercept:\\t {ransac.estimator_.intercept_:.3f}')"
   ]
  },
  {
   "cell_type": "markdown",
   "metadata": {},
   "source": [
    "# Evaluating Performance"
   ]
  },
  {
   "cell_type": "code",
   "execution_count": null,
   "metadata": {},
   "outputs": [],
   "source": [
    "from sklearn.model_selection import train_test_split\n",
    "\n",
    "# prepare data\n",
    "X = df.iloc[:, :-1].values\n",
    "y = df['MEDV'].values\n",
    "X_train, X_test, y_train, y_test = train_test_split(X, y, test_size=0.3, random_state=0)\n",
    "\n",
    "# initialize and fit linear regression model\n",
    "slr = LinearRegression()\n",
    "slr.fit(X_train, y_train)\n",
    "\n",
    "# make predictions\n",
    "y_train_pred = slr.predict(X_train)\n",
    "y_test_pred = slr.predict(X_test)"
   ]
  },
  {
   "cell_type": "code",
   "execution_count": null,
   "metadata": {},
   "outputs": [],
   "source": [
    "# create residual plot\n",
    "plt.figure(figsize=(10, 10))\n",
    "plt.scatter(\n",
    "    y_train_pred,  y_train_pred - y_train,\n",
    "    c='steelblue', marker='o', edgecolor='white',\n",
    "    label='Training data'\n",
    ")\n",
    "plt.scatter(\n",
    "    y_test_pred,  y_test_pred - y_test,\n",
    "    c='limegreen', marker='s', edgecolor='white',\n",
    "    label='Test data'\n",
    ")\n",
    "plt.xlabel('Predicted values')\n",
    "plt.ylabel('Residuals')\n",
    "plt.legend(loc='upper left')\n",
    "plt.hlines(y=0, xmin=-10, xmax=50, color='black', lw=2)\n",
    "plt.xlim([-10, 50])\n",
    "plt.show()"
   ]
  },
  {
   "cell_type": "code",
   "execution_count": null,
   "metadata": {},
   "outputs": [],
   "source": [
    "from sklearn.metrics import mean_squared_error\n",
    "\n",
    "print(f'MSE train:\\t {mean_squared_error(y_train, y_train_pred):.3f}')\n",
    "print(f'MSE test:\\t {mean_squared_error(y_test, y_test_pred):.3f}')"
   ]
  },
  {
   "cell_type": "code",
   "execution_count": null,
   "metadata": {},
   "outputs": [],
   "source": [
    "from sklearn.metrics import r2_score\n",
    "\n",
    "print(f'R^2 train:\\t {r2_score(y_train, y_train_pred):.3f}')\n",
    "print(f'R^2 test:\\t {r2_score(y_test, y_test_pred):.3f}')"
   ]
  },
  {
   "cell_type": "markdown",
   "metadata": {},
   "source": [
    "# Using Regularized Methods"
   ]
  },
  {
   "cell_type": "code",
   "execution_count": null,
   "metadata": {},
   "outputs": [],
   "source": [
    "from sklearn.linear_model import Ridge\n",
    "\n",
    "ridge = Ridge(alpha=1.0)"
   ]
  },
  {
   "cell_type": "code",
   "execution_count": null,
   "metadata": {},
   "outputs": [],
   "source": [
    "from sklearn.linear_model import Lasso\n",
    "\n",
    "lasso = Lasso(alpha=1.0)"
   ]
  },
  {
   "cell_type": "code",
   "execution_count": null,
   "metadata": {},
   "outputs": [],
   "source": [
    "from sklearn.linear_model import ElasticNet\n",
    "\n",
    "elanet = ElasticNet(alpha=1.0, l1_ratio=0.5)"
   ]
  },
  {
   "cell_type": "markdown",
   "metadata": {},
   "source": [
    "# Polynomial Regression"
   ]
  },
  {
   "cell_type": "code",
   "execution_count": null,
   "metadata": {},
   "outputs": [],
   "source": [
    "from sklearn.preprocessing import PolynomialFeatures\n",
    "\n",
    "# create dummy data\n",
    "X = np.array(\n",
    "    [258.0, 270.0, 294.0, 320.0, 342.0, \n",
    "     368.0, 396.0, 446.0, 480.0, 586.0]\n",
    ")[:, np.newaxis]\n",
    "\n",
    "y = np.array(\n",
    "    [236.4, 234.4, 252.8, 298.6, 314.2, \n",
    "     342.2, 360.8, 368.0, 391.2, 390.8]\n",
    ")\n",
    "\n",
    "lr = LinearRegression()                    # initialize linreg model\n",
    "pr = LinearRegression()                    # initialize polyreg model\n",
    "quadratic = PolynomialFeatures(degree=2)   # set d = 2\n",
    "X_quad = quadratic.fit_transform(X)        # transform features"
   ]
  },
  {
   "cell_type": "code",
   "execution_count": null,
   "metadata": {},
   "outputs": [],
   "source": [
    "# fit linreg model\n",
    "lr.fit(X, y)\n",
    "X_fit = np.arange(250,600,10)[:, np.newaxis]\n",
    "y_lin_fit = lr.predict(X_fit)"
   ]
  },
  {
   "cell_type": "code",
   "execution_count": null,
   "metadata": {},
   "outputs": [],
   "source": [
    "# fit polyreg model\n",
    "pr.fit(X_quad, y)\n",
    "y_quad_fit = pr.predict(quadratic.fit_transform(X_fit))"
   ]
  },
  {
   "cell_type": "code",
   "execution_count": null,
   "metadata": {},
   "outputs": [],
   "source": [
    "# plot\n",
    "plt.figure(figsize=(10, 10))\n",
    "plt.scatter(X, y, label='training points')\n",
    "plt.plot(X_fit, y_lin_fit, label='linear fit', linestyle='--')\n",
    "plt.plot(X_fit, y_quad_fit, label='quadratic fit')\n",
    "plt.legend(loc='upper left')\n",
    "plt.show()"
   ]
  },
  {
   "cell_type": "code",
   "execution_count": null,
   "metadata": {},
   "outputs": [],
   "source": [
    "# make predictions\n",
    "y_lin_pred = lr.predict(X)\n",
    "y_quad_pred = pr.predict(X_quad)\n",
    "\n",
    "# calculate MSE and R-squared\n",
    "print(f'Training MSE linear:\\t {mean_squared_error(y, y_lin_pred):.3f}')\n",
    "print(f'Training MSE quadratic:\\t {mean_squared_error(y, y_quad_pred):.3f}')\n",
    "print(f'Training R^2 linear:\\t {r2_score(y, y_lin_pred):.3f}')\n",
    "print(f'Training R^2 quadratic:\\t {r2_score(y, y_quad_pred):.3f}')"
   ]
  },
  {
   "cell_type": "code",
   "execution_count": null,
   "metadata": {},
   "outputs": [],
   "source": [
    "X = df[['LSTAT']].values\n",
    "X_fit = np.arange(X.min(), X.max(), 1)[:, np.newaxis]\n",
    "y = df['MEDV'].values\n",
    "\n",
    "# create quadratic and cubic features\n",
    "quadratic = PolynomialFeatures(degree=2)\n",
    "cubic = PolynomialFeatures(degree=3)\n",
    "X_quad = quadratic.fit_transform(X)\n",
    "X_cubic = cubic.fit_transform(X)"
   ]
  },
  {
   "cell_type": "code",
   "execution_count": null,
   "metadata": {},
   "outputs": [],
   "source": [
    "# fit linreg model, make predictions, calculate R-squared\n",
    "regr = LinearRegression()\n",
    "regr = regr.fit(X, y)\n",
    "y_lin_fit = regr.predict(X_fit)\n",
    "linear_r2 = r2_score(y, regr.predict(X))"
   ]
  },
  {
   "cell_type": "code",
   "execution_count": null,
   "metadata": {},
   "outputs": [],
   "source": [
    "# fit quadratic model, make predictions, calculate R-squared\n",
    "regr = regr.fit(X_quad, y)\n",
    "y_quad_fit = regr.predict(quadratic.fit_transform(X_fit))\n",
    "quadratic_r2 = r2_score(y, regr.predict(X_quad))"
   ]
  },
  {
   "cell_type": "code",
   "execution_count": null,
   "metadata": {},
   "outputs": [],
   "source": [
    "# fit cubic model, make predictions, calculate R-squared\n",
    "regr = regr.fit(X_cubic, y)\n",
    "y_cubic_fit = regr.predict(cubic.fit_transform(X_fit))\n",
    "cubic_r2 = r2_score(y, regr.predict(X_cubic))"
   ]
  },
  {
   "cell_type": "code",
   "execution_count": null,
   "metadata": {},
   "outputs": [],
   "source": [
    "# plot results\n",
    "plt.figure(figsize=(10, 10))\n",
    "plt.scatter(X, y, label='training points', color='lightgray')\n",
    "plt.plot(\n",
    "    X_fit, y_lin_fit,\n",
    "    label=f'linear (d=1), R^2 = {linear_r2:.2f}',\n",
    "    color='blue', lw=2, linestyle=':'\n",
    ")\n",
    "plt.plot(\n",
    "    X_fit, y_quad_fit,\n",
    "    label=f'quadratic (d=2), R^2 = {quadratic_r2:.2f}',\n",
    "    color='red', lw=2, linestyle='-'\n",
    ")\n",
    "plt.plot(\n",
    "    X_fit, y_cubic_fit,\n",
    "    label=f'cubic (d=3), R^2 = {cubic_r2:.2f}',\n",
    "    color='green', lw=2, linestyle='--'\n",
    ")\n",
    "\n",
    "plt.xlabel('% lower status of the population [LSTAT]')\n",
    "plt.ylabel('Price in $1000s [MEDV]')\n",
    "plt.legend(loc='upper right')\n",
    "plt.show()"
   ]
  },
  {
   "cell_type": "code",
   "execution_count": null,
   "metadata": {},
   "outputs": [],
   "source": [
    "# transform features\n",
    "X_log = np.log(X)\n",
    "y_sqrt = np.sqrt(y)\n",
    "\n",
    "# fit features\n",
    "X_fit = np.arange(X_log.min()-1, X_log.max()+1, 1)[:, np.newaxis]\n",
    "regr = regr.fit(X_log, y_sqrt)\n",
    "y_lin_fit = regr.predict(X_fit)\n",
    "linear_r2 = r2_score(y_sqrt, regr.predict(X_log))\n",
    "\n",
    "# plot results\n",
    "plt.figure(figsize=(10, 10))\n",
    "plt.scatter(\n",
    "    X_log, y_sqrt,\n",
    "    label='training points',\n",
    "    color='lightgray'\n",
    ")\n",
    "plt.plot(\n",
    "    X_fit, y_lin_fit, \n",
    "    label='linear (d=1), $R^2=%.2f$' % linear_r2,\n",
    "    color='blue', lw=2\n",
    ")\n",
    "plt.xlabel('log(% lower status of the population [LSTAT])')\n",
    "plt.ylabel('$\\sqrt{Price \\; in \\; \\$1000s \\; [MEDV]}$')\n",
    "plt.legend(loc='lower left')\n",
    "plt.show()"
   ]
  },
  {
   "cell_type": "markdown",
   "metadata": {},
   "source": [
    "# Dealing with Nonlinear Relationships Using Random Forests"
   ]
  },
  {
   "cell_type": "code",
   "execution_count": null,
   "metadata": {},
   "outputs": [],
   "source": [
    "from sklearn.tree import DecisionTreeRegressor\n",
    "\n",
    "X = df[['LSTAT']].values\n",
    "y = df['MEDV'].values\n",
    "\n",
    "# initialize and fit decision tree\n",
    "tree = DecisionTreeRegressor(max_depth=3)\n",
    "tree.fit(X, y)\n",
    "\n",
    "sort_idx = X.flatten().argsort()\n",
    "\n",
    "# plot\n",
    "plt.figure(figsize=(10, 10))\n",
    "lin_regplot(X[sort_idx], y[sort_idx], tree)\n",
    "plt.xlabel('% lower status of the population [LSTAT]')\n",
    "plt.ylabel('Price in $1000s [MEDV]')\n",
    "plt.show()"
   ]
  },
  {
   "cell_type": "code",
   "execution_count": null,
   "metadata": {},
   "outputs": [],
   "source": [
    "from sklearn.ensemble import RandomForestRegressor\n",
    "\n",
    "# define features and target and split into train and test sets\n",
    "X = df.iloc[:, :-1].values\n",
    "y = df['MEDV'].values\n",
    "X_train, X_test, y_train, y_test = train_test_split(\n",
    "    X, y,\n",
    "    test_size=0.4,\n",
    "    random_state=1\n",
    ")\n",
    "\n",
    "# initalize and fit rf regressor\n",
    "forest = RandomForestRegressor(\n",
    "    n_estimators=1000, \n",
    "    criterion='mse', \n",
    "    random_state=1, \n",
    "    n_jobs=-1\n",
    ")\n",
    "forest.fit(X_train, y_train)\n",
    "\n",
    "# make predictions\n",
    "y_train_pred = forest.predict(X_train)\n",
    "y_test_pred = forest.predict(X_test)\n",
    "\n",
    "# calculate mse and r2\n",
    "print(f'MSE train:\\t {mean_squared_error(y_train, y_train_pred):.3f}')\n",
    "print(f'MSE test:\\t {mean_squared_error(y_test, y_test_pred):.3f}')\n",
    "print(f'R^2 train:\\t {r2_score(y_train, y_train_pred):.3f}')\n",
    "print(f'R^2 test:\\t {r2_score(y_test, y_test_pred):.3f}')"
   ]
  },
  {
   "cell_type": "code",
   "execution_count": null,
   "metadata": {},
   "outputs": [],
   "source": [
    "# plot residuals\n",
    "plt.figure(figsize=(10, 10))\n",
    "plt.scatter(\n",
    "    y_train_pred, y_train_pred - y_train,\n",
    "    c='steelblue', edgecolor='white',\n",
    "    marker='o', s=35,\n",
    "    alpha=0.9, label='Training data'\n",
    ")\n",
    "plt.scatter(\n",
    "    y_test_pred, y_test_pred - y_test,\n",
    "    c='limegreen', edgecolor='white',\n",
    "    marker='s', s=35,\n",
    "    alpha=0.9, label='Test data'\n",
    ")\n",
    "plt.xlabel('Predicted values')\n",
    "plt.ylabel('Residuals')\n",
    "plt.legend(loc='upper left')\n",
    "plt.hlines(y=0, xmin=-10, xmax=50, lw=2, color='black')\n",
    "plt.xlim([-10, 50])\n",
    "plt.show()"
   ]
  }
 ],
 "metadata": {
  "kernelspec": {
   "display_name": "Python 3",
   "language": "python",
   "name": "python3"
  },
  "language_info": {
   "codemirror_mode": {
    "name": "ipython",
    "version": 3
   },
   "file_extension": ".py",
   "mimetype": "text/x-python",
   "name": "python",
   "nbconvert_exporter": "python",
   "pygments_lexer": "ipython3",
   "version": "3.6.6"
  }
 },
 "nbformat": 4,
 "nbformat_minor": 2
}
