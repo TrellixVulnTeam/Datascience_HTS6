{
 "cells": [
  {
   "cell_type": "code",
   "execution_count": null,
   "metadata": {},
   "outputs": [],
   "source": [
    "import numpy as np"
   ]
  },
  {
   "cell_type": "markdown",
   "metadata": {},
   "source": [
    "# Loading a Trained Model"
   ]
  },
  {
   "cell_type": "code",
   "execution_count": null,
   "metadata": {},
   "outputs": [],
   "source": [
    "import os\n",
    "import pickle\n",
    "\n",
    "from movieclassifier.vectorizer import vect\n",
    "\n",
    "# unpickle classifier\n",
    "clf = pickle.load(\n",
    "    open(os.path.join('./movieclassifier/pkl_objects','classifier.pkl'), 'rb')\n",
    ")"
   ]
  },
  {
   "cell_type": "code",
   "execution_count": null,
   "metadata": {},
   "outputs": [],
   "source": [
    "# map integers to sentiment\n",
    "label = {0:'negative', 1:'positive'}\n",
    "\n",
    "# define and transform example document\n",
    "example = ['I love this movie']\n",
    "X = vect.transform(example)\n",
    "\n",
    "# predict example and calculate probability\n",
    "print(f'Prediction: {label[clf.predict(X)[0]]}')\n",
    "print(f'Probability: {(np.max(clf.predict_proba(X))*100):.2f}')"
   ]
  },
  {
   "cell_type": "markdown",
   "metadata": {},
   "source": [
    "# Setting Up a SQLite Database"
   ]
  },
  {
   "cell_type": "code",
   "execution_count": null,
   "metadata": {},
   "outputs": [],
   "source": [
    "import sqlite3\n",
    "\n",
    "if os.path.exists('movieclassifier/reviews.sqlite'):\n",
    "    os.remove('movieclassifier/reviews.sqlite')\n",
    "\n",
    "# create connection and cursor\n",
    "conn = sqlite3.connect('movieclassifier/reviews.sqlite')\n",
    "c = conn.cursor()\n",
    "\n",
    "# create review_db table\n",
    "c.execute('CREATE TABLE review_db'\\\n",
    "          ' (review TEXT, sentiment INTEGER, date TEXT)')\n",
    "\n",
    "# create samples\n",
    "example1 = 'I love this movie'\n",
    "c.execute(\"INSERT INTO review_db\"\\\n",
    "          \" (review, sentiment, date) VALUES\"\\\n",
    "          \" (?, ?, DATETIME('now'))\", (example1, 1))\n",
    "\n",
    "example2 = 'I disliked this movie'\n",
    "c.execute(\"INSERT INTO review_db\"\\\n",
    "          \" (review, sentiment, date) VALUES\"\\\n",
    "          \" (?, ?, DATETIME('now'))\", (example2, 0))\n",
    "\n",
    "# save changes and close connection\n",
    "conn.commit()\n",
    "conn.close()"
   ]
  },
  {
   "cell_type": "code",
   "execution_count": null,
   "metadata": {},
   "outputs": [],
   "source": [
    "# connect to database\n",
    "conn = sqlite3.connect('movieclassifier/reviews.sqlite')\n",
    "c = conn.cursor()\n",
    "\n",
    "# execute query\n",
    "c.execute(\"SELECT * FROM review_db WHERE date\"\\\n",
    "    \" BETWEEN '2019-01-01 00:00:00' AND DATETIME('now')\")\n",
    "results = c.fetchall()\n",
    "\n",
    "# close connection\n",
    "conn.close()\n",
    "\n",
    "print(results)"
   ]
  }
 ],
 "metadata": {
  "kernelspec": {
   "display_name": "Python 3",
   "language": "python",
   "name": "python3"
  },
  "language_info": {
   "codemirror_mode": {
    "name": "ipython",
    "version": 3
   },
   "file_extension": ".py",
   "mimetype": "text/x-python",
   "name": "python",
   "nbconvert_exporter": "python",
   "pygments_lexer": "ipython3",
   "version": "3.6.6"
  }
 },
 "nbformat": 4,
 "nbformat_minor": 2
}
