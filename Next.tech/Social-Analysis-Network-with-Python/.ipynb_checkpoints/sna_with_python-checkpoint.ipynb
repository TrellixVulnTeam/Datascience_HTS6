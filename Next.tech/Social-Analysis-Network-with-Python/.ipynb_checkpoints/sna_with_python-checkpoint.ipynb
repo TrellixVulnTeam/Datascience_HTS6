{
 "cells": [
  {
   "cell_type": "markdown",
   "metadata": {},
   "source": [
    "# Introduction to Graph Theory"
   ]
  },
  {
   "cell_type": "code",
   "execution_count": null,
   "metadata": {},
   "outputs": [],
   "source": [
    "%matplotlib inline\n",
    "import networkx as nx\n",
    "import matplotlib.pyplot as plt"
   ]
  },
  {
   "cell_type": "code",
   "execution_count": null,
   "metadata": {},
   "outputs": [],
   "source": [
    "G = nx.Graph()\n",
    "G.add_edge(1,2)\n",
    "nx.draw_networkx(G)\n",
    "plt.show()"
   ]
  },
  {
   "cell_type": "code",
   "execution_count": null,
   "metadata": {},
   "outputs": [],
   "source": [
    "G.add_nodes_from([3, 4])\n",
    "nx.draw_networkx(G)\n",
    "plt.show()"
   ]
  },
  {
   "cell_type": "code",
   "execution_count": null,
   "metadata": {},
   "outputs": [],
   "source": [
    "G.add_edge(3,4)\n",
    "G.add_edges_from([(2, 3), (4, 1)])\n",
    "nx.draw_networkx(G)\n",
    "plt.show()"
   ]
  },
  {
   "cell_type": "code",
   "execution_count": null,
   "metadata": {},
   "outputs": [],
   "source": [
    "G.nodes()\n",
    "G.edges()"
   ]
  },
  {
   "cell_type": "code",
   "execution_count": null,
   "metadata": {},
   "outputs": [],
   "source": [
    "list(nx.generate_adjlist(G))"
   ]
  },
  {
   "cell_type": "code",
   "execution_count": null,
   "metadata": {},
   "outputs": [],
   "source": [
    "nx.to_dict_of_lists(G)"
   ]
  },
  {
   "cell_type": "code",
   "execution_count": null,
   "metadata": {},
   "outputs": [],
   "source": [
    "nx.to_edgelist(G)"
   ]
  },
  {
   "cell_type": "code",
   "execution_count": null,
   "metadata": {},
   "outputs": [],
   "source": [
    "nx.to_numpy_matrix(G)\n",
    "print(nx.to_scipy_sparse_matrix(G))\n",
    "nx.convert_matrix.to_pandas_adjacency(G)"
   ]
  },
  {
   "cell_type": "code",
   "execution_count": null,
   "metadata": {},
   "outputs": [],
   "source": [
    "G.add_edge(1, 3)\n",
    "nx.draw_networkx(G)\n",
    "plt.show()"
   ]
  },
  {
   "cell_type": "code",
   "execution_count": null,
   "metadata": {},
   "outputs": [],
   "source": [
    "G.degree()"
   ]
  },
  {
   "cell_type": "code",
   "execution_count": null,
   "metadata": {},
   "outputs": [],
   "source": [
    "k = nx.fast_gnp_random_graph(10000, 0.01).degree()\n",
    "plt.hist(list(dict(k).values()))\n",
    "plt.show()"
   ]
  },
  {
   "cell_type": "markdown",
   "metadata": {},
   "source": [
    "# Node Connectivity"
   ]
  },
  {
   "cell_type": "code",
   "execution_count": null,
   "metadata": {},
   "outputs": [],
   "source": [
    "G = nx.krackhardt_kite_graph()\n",
    "nx.draw_networkx(G)\n",
    "plt.show()"
   ]
  },
  {
   "cell_type": "code",
   "execution_count": null,
   "metadata": {},
   "outputs": [],
   "source": [
    "print(nx.has_path(G, source=1, target=9))\n",
    "print(nx.shortest_path(G, source=1, target=9))\n",
    "print(nx.shortest_path_length(G, source=1, target=9))"
   ]
  },
  {
   "cell_type": "code",
   "execution_count": null,
   "metadata": {},
   "outputs": [],
   "source": [
    "print(list(nx.shortest_simple_paths(G, source=1, target=9)))"
   ]
  },
  {
   "cell_type": "code",
   "execution_count": null,
   "metadata": {},
   "outputs": [],
   "source": [
    "paths = list(nx.all_pairs_shortest_path(G))\n",
    "paths[5][1]"
   ]
  },
  {
   "cell_type": "markdown",
   "metadata": {},
   "source": [
    "# Node Centrality"
   ]
  },
  {
   "cell_type": "code",
   "execution_count": null,
   "metadata": {},
   "outputs": [],
   "source": [
    "nx.betweenness_centrality(G)"
   ]
  },
  {
   "cell_type": "code",
   "execution_count": null,
   "metadata": {},
   "outputs": [],
   "source": [
    "nx.degree_centrality(G)"
   ]
  },
  {
   "cell_type": "code",
   "execution_count": null,
   "metadata": {},
   "outputs": [],
   "source": [
    "nx.closeness_centrality(G)"
   ]
  },
  {
   "cell_type": "code",
   "execution_count": null,
   "metadata": {},
   "outputs": [],
   "source": [
    "nx.harmonic_centrality(G)"
   ]
  },
  {
   "cell_type": "code",
   "execution_count": null,
   "metadata": {},
   "outputs": [],
   "source": [
    "nx.eigenvector_centrality(G)"
   ]
  },
  {
   "cell_type": "code",
   "execution_count": null,
   "metadata": {},
   "outputs": [],
   "source": [
    "nx.clustering(G)"
   ]
  },
  {
   "cell_type": "markdown",
   "metadata": {},
   "source": [
    "# Partitioning a Network"
   ]
  },
  {
   "cell_type": "code",
   "execution_count": null,
   "metadata": {},
   "outputs": [],
   "source": [
    "import community   # Module for community detection and clustering"
   ]
  },
  {
   "cell_type": "code",
   "execution_count": null,
   "metadata": {},
   "outputs": [],
   "source": [
    "G = nx.powerlaw_cluster_graph(100, 1, .4, seed=101)\n",
    "partition = community.best_partition(G)\n",
    "\n",
    "for i in set(partition.values()):\n",
    "    print(\"Community\", i)\n",
    "    members = [nodes for nodes in partition.keys()\n",
    "               if partition[nodes] == i]\n",
    "    print(members)\n",
    "\n",
    "values = [partition.get(node) for node in G.nodes()]\n",
    "nx.draw(G, pos=nx.fruchterman_reingold_layout(G),\n",
    "    cmap=plt.get_cmap('jet'), \n",
    "    node_color=values, \n",
    "    node_size=150,\n",
    "    with_labels=False)\n",
    "plt.show()\n",
    "\n",
    "print (\"Modularity score:\", community.modularity(partition, G))"
   ]
  },
  {
   "cell_type": "code",
   "execution_count": null,
   "metadata": {},
   "outputs": [],
   "source": [
    "G = nx.krackhardt_kite_graph()\n",
    "d = nx.coloring.greedy_color(G)\n",
    "print(d)\n",
    "nx.draw_networkx(G, \n",
    "   node_color=[d[n] for n in sorted(d.keys())])\n",
    "plt.show()"
   ]
  },
  {
   "cell_type": "markdown",
   "metadata": {},
   "source": [
    "# Graph Loading, Dumping, and Sampling"
   ]
  },
  {
   "cell_type": "code",
   "execution_count": null,
   "metadata": {},
   "outputs": [],
   "source": [
    "dump_file_base = \"dumped_graph\"\n",
    "\n",
    "# Be sure the dump_file file doesn't exist\n",
    "def remove_file(filename):\n",
    "    import os\n",
    "    if os.path.exists(filename):\n",
    "        os.remove(filename)\n",
    "\n",
    "G = nx.krackhardt_kite_graph()\n",
    "\n",
    "# GML format write and read\n",
    "GML_file = dump_file_base + '.gml'\n",
    "remove_file(GML_file)\n",
    "\n",
    "to_string = lambda x: str(x)\n",
    "nx.write_gml(G, GML_file, stringizer=to_string)\n",
    "to_int = lambda x: int(x)\n",
    "G2 = nx.read_gml(GML_file, destringizer = to_int)\n",
    "\n",
    "assert(G.edges() == G2.edges())"
   ]
  },
  {
   "cell_type": "code",
   "execution_count": null,
   "metadata": {},
   "outputs": [],
   "source": [
    "import snowball_sampling\n",
    "\n",
    "my_social_network = nx.Graph()\n",
    "snowball_sampling.snowball_sampling(my_social_network, 2, 'alberto')\n",
    "nx.draw(my_social_network)\n",
    "ax = plt.gca()\n",
    "ax.collections[0].set_edgecolor(\"#000000\")\n",
    "plt.show()"
   ]
  },
  {
   "cell_type": "code",
   "execution_count": null,
   "metadata": {},
   "outputs": [],
   "source": [
    "my_sampled_social_network = nx.Graph()\n",
    "snowball_sampling.snowball_sampling(my_sampled_social_network, 3,   \n",
    "                                    'alberto', sampling_rate=0.2)\n",
    "nx.draw(my_sampled_social_network)\n",
    "ax = plt.gca()\n",
    "ax.collections[0].set_edgecolor(\"#000000\")\n",
    "plt.show()"
   ]
  }
 ],
 "metadata": {
  "kernelspec": {
   "display_name": "Python 3",
   "language": "python",
   "name": "python3"
  },
  "language_info": {
   "codemirror_mode": {
    "name": "ipython",
    "version": 3
   },
   "file_extension": ".py",
   "mimetype": "text/x-python",
   "name": "python",
   "nbconvert_exporter": "python",
   "pygments_lexer": "ipython3",
   "version": "3.6.7"
  }
 },
 "nbformat": 4,
 "nbformat_minor": 2
}
