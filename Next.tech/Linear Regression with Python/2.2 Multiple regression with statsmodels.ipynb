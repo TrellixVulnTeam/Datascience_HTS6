{
 "cells": [
  {
   "cell_type": "markdown",
   "metadata": {},
   "source": [
    "# Multiple Regression with `statsmodels`"
   ]
  },
  {
   "cell_type": "markdown",
   "metadata": {},
   "source": [
    "We briefly touched on multiple linear regression in the Linear Regression Concepts lesson…let’s dive in deeper and learn how to implement it!\n",
    "\n",
    "A multiple linear regression is simply a linear regression that involves more than one predictor variable. It is represented as:\n",
    "\n",
    "$Y = \\alpha + \\beta_1*X_1  + \\beta_2*X_2 + \\dots  + \\beta_p*X_p$  \n",
    "\n",
    "Each *β<sub>i</sub>* will be estimated using the least sum of squares method.\n",
    "\n",
    "As mentioned previously, values of the RSE generally decrease as we add variables that are significant predictors of the output variable – hence, using more variables can increase the efficiency of a model.\n",
    "\n",
    "However, it also increases the complexity of model building since process of selecting variables to be kept and discarded can become tedious.\n",
    "\n",
    "With this simple dataset of three predictor variables, there can be seven possible models:\n",
    "\n",
    "1. Sales ~ TV\n",
    "2. Sales ~ Newspaper\n",
    "3. Sales ~ Radio\n",
    "4. Sales ~ TV + Radio\n",
    "5. Sales ~ TV + Newspaper\n",
    "6. Sales ~ Newspaper + Radio\n",
    "7. Sales ~ TV + Radio + Newspaper\n",
    "\n",
    "Generally, if there are p possible predictor variables, there can be *(2<sup>p</sup> - 1)* possible models – this can get large very quickly!\n",
    "\n",
    "Thankfully, there are a few guidelines to filter some of these and then navigate towards the most efficient one.\n",
    "\n",
    "- Keep variables with low p-values and eliminate ones with high p-values\n",
    "- Keep variables that increase the value of **adjusted-*R<sup>2</sup>*** – this penalizes the model for adding insignificant variables and increases when we add significant variables. It is calculated by: ![](https://latex.codecogs.com/gif.latex?%5Cbar%7BR%7D%5E2%20%3D%201%20-%20%281-R%5E2%29%5Cfrac%7Bn-1%7D%7Bn-p-1%7D)\n",
    "\n",
    "Based on these guidelines, there are two approaches to select the predictor variables in the final model:\n",
    "\n",
    "- **Forward selection**: start with a null model (no predictors), then add predictors one by one. If the p-value for the variable is small enough and the value of the adjusted-*R<sup>2</sup>* goes up, the predictor is included in the model. Otherwise, it is not included.\n",
    "- **Backward selection**: starts with a model that has all the possible predictors and discard some of them. If the p-value of a predictor variable is large and adjusted-*R<sup>2</sup>* is lower when removed, it is discarded from the model. Otherwise, it remains a part of the model.\n",
    "\n",
    "Many statistical programs give us an option to select from these approaches while implementing multiple linear regression.\n",
    "\n",
    "For now, let’s manually add a few variables and see how it changes the model parameters and efficacy. First, add the `newspaper` variable to the model:"
   ]
  },
  {
   "cell_type": "code",
   "execution_count": null,
   "metadata": {},
   "outputs": [],
   "source": [
    "# Import necessary libaries\n",
    "import pandas as pd\n",
    "import numpy as np\n",
    "import statsmodels.formula.api as smf\n",
    "\n",
    "# Import and display first five rows of advertising dataset\n",
    "advert = pd.read_csv('advertising.csv')\n",
    "advert.head()"
   ]
  },
  {
   "cell_type": "code",
   "execution_count": null,
   "metadata": {},
   "outputs": [],
   "source": [
    "# Initialise and fit new model with TV and Newspaper as predictors\n",
    "model2 = smf.ols('Sales ~ TV + Newspaper', data=advert).fit()\n",
    "print(model2.summary())"
   ]
  },
  {
   "cell_type": "markdown",
   "metadata": {},
   "source": [
    "As you see, the p-values for the coefficients are very small, suggesting that all the estimates are significant. The equation for this model will be:\n",
    "\n",
    "![](https://latex.codecogs.com/gif.latex?%5Ctext%7BSales%7D%3D5.77+0.046*%5Ctext%7BTV%7D+0.044*%5Ctext%7BNewspaper%7D)\n",
    "\n",
    "The values of *R<sup>2</sup>* and adjusted *R<sup>2</sup>* are 0.646 and 0.642, which is just a minor improvement from before.\n",
    "\n",
    "To calculate the RSE:"
   ]
  },
  {
   "cell_type": "code",
   "execution_count": null,
   "metadata": {},
   "outputs": [],
   "source": [
    "# Store parameters\n",
    "alpha = model2.params[0]\n",
    "beta1 = model2.params[1]\n",
    "beta2 = model2.params[2]\n",
    "\n",
    "# Calculate RSE\n",
    "advert['sales_pred'] = model2.predict()\n",
    "advert['SSD'] = (advert['Sales'] - advert['sales_pred'])**2\n",
    "SSD = advert['SSD'].sum()\n",
    "RSE = np.sqrt(SSD / 197)   # n = 200, p = 2\n",
    "salesmean = np.mean(advert['Sales'])\n",
    "error = RSE / salesmean\n",
    "\n",
    "print(f'RSE = {RSE}\\nMean sale = {salesmean}\\nError = {np.round(error, 4)*100}%')"
   ]
  },
  {
   "cell_type": "markdown",
   "metadata": {},
   "source": [
    "Only a small decrease in RSE and error...\n",
    "\n",
    "Let’s take a closer look at the summary above. The Adj-R<sup>2</sup> increases slightly, but the F-statistic decreases (from 312.1 to 179.6), as does the associated p-value. This suggests that adding `newspaper` didn't improve the model significantly.\n",
    "\n",
    "Let's try adding `radio` instead:"
   ]
  },
  {
   "cell_type": "code",
   "execution_count": null,
   "metadata": {},
   "outputs": [],
   "source": [
    "# Initialise and fit new model with TV and Radio as predictors\n",
    "model3 = smf.ols('Sales ~ TV + Radio', data=advert).fit()\n",
    "print(model3.summary())"
   ]
  },
  {
   "cell_type": "markdown",
   "metadata": {},
   "source": [
    "This gives us the model:\n",
    "\n",
    "![](https://latex.codecogs.com/gif.latex?%5Ctext%7BSales%7D%3D2.92+0.046*%5Ctext%7BTV%7D+0.188*%5Ctext%7BRadio%7D)\n",
    "\n",
    "The adjusted *R<sup>2</sup>* value has improved considerably, as did the F-statistic, indicating an efficient model.\n",
    "\n",
    "The RSE can be calculated using the same method above:"
   ]
  },
  {
   "cell_type": "code",
   "execution_count": null,
   "metadata": {},
   "outputs": [],
   "source": [
    "# Store parameters\n",
    "alpha = model3.params[0]\n",
    "beta1 = model3.params[1]\n",
    "beta2 = model3.params[2]\n",
    "\n",
    "# Calculate RSE\n",
    "advert['sales_pred'] = model3.predict()\n",
    "advert['SSD'] = (advert['Sales'] - advert['sales_pred'])**2\n",
    "SSD = advert['SSD'].sum()\n",
    "RSE = np.sqrt(SSD / 197)   # n = 200, p = 2\n",
    "salesmean = np.mean(advert['Sales'])\n",
    "error = RSE / salesmean\n",
    "\n",
    "print(f'RSE = {RSE}\\nMean sale = {salesmean}\\nError = {np.round(error, 4)*100}%')"
   ]
  },
  {
   "cell_type": "markdown",
   "metadata": {},
   "source": [
    "An improvement!\n",
    "\n",
    "Thus, we can conclude that `radio` is a great addition to the model.  `TV` and `radio` advertising costs together are able to predict sales well. But, can we improve it a bit further by combining all three predictor variables?\n",
    "\n",
    "See if you can figure out how to do this on your own!"
   ]
  },
  {
   "cell_type": "code",
   "execution_count": null,
   "metadata": {},
   "outputs": [],
   "source": [
    "# Initialise and fit new model with TV, Newspaper, and Radio as predictors\n",
    "\n",
    "# Print summary of regression results\n",
    "\n",
    "# Store parameters - there are now three betas\n",
    "\n",
    "# Calculate RSE - don't forget that the number of predictors p is now 3\n"
   ]
  },
  {
   "cell_type": "markdown",
   "metadata": {},
   "source": [
    "You should get the equation:\n",
    "\n",
    "![](https://latex.codecogs.com/gif.latex?%5Ctext%7BSales%7D%3D2.939+0.046*%5Ctext%7BTV%7D-0.001*%5Ctext%7BNewspaper%7D+0.188*%5Ctext%7BRadio%7D)\n",
    "\n",
    "You should also find that:\n",
    "\n",
    "- RSE increases slightly,\n",
    "- the coefficient for `newspaper` is negative, and\n",
    "- the F-statistic decreases considerably from 859.6 to 570.3.\n",
    "\n",
    "All these suggest that the model actually became less efficient on addition of `newspaper`. \n",
    "\n",
    "Why?\n",
    "\n",
    "We will discuss **multicollinearity** in the next step – to get started, go back to the notebook directory in Jupyter by pressing `File` > `Open…` in the toolbar at the top, then open the notebook called `2.3 Multicollinearity.ipynb`."
   ]
  }
 ],
 "metadata": {
  "kernelspec": {
   "display_name": "Python 3",
   "language": "python",
   "name": "python3"
  },
  "language_info": {
   "codemirror_mode": {
    "name": "ipython",
    "version": 3
   },
   "file_extension": ".py",
   "mimetype": "text/x-python",
   "name": "python",
   "nbconvert_exporter": "python",
   "pygments_lexer": "ipython3",
   "version": "3.6.6"
  }
 },
 "nbformat": 4,
 "nbformat_minor": 2
}
