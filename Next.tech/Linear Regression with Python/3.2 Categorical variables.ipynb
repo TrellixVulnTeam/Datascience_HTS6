{
 "cells": [
  {
   "cell_type": "code",
   "execution_count": null,
   "metadata": {},
   "outputs": [],
   "source": [
    "# Import necessary libaries and data\n",
    "import pandas as pd\n",
    "from sklearn.linear_model import LinearRegression"
   ]
  },
  {
   "cell_type": "markdown",
   "metadata": {},
   "source": [
    "# Categorical Variables"
   ]
  },
  {
   "cell_type": "markdown",
   "metadata": {},
   "source": [
    "Until now, we have assumed that the predictor variables can only be quantitative. But what if a dataset contains a qualitative variable? How do we process these variables so they can be used in a model?\n",
    "\n",
    "Let’s create a dummy dataset:"
   ]
  },
  {
   "cell_type": "code",
   "execution_count": null,
   "metadata": {},
   "outputs": [],
   "source": [
    "data = {\n",
    "    'Age (X1)': [42, 24, 47, 50, 60],\n",
    "    'Monthly Income (X2)': [7313, 17747, 22845, 18552, 14439],\n",
    "    'Gender (X3)': ['Female', 'Female', 'Male', 'Female', 'Male'],\n",
    "    'Total Spend (Y)': [4198.385084, 4134.976648, 5166.614455, 7784.447676, 3254.160485]\n",
    "}\n",
    "df = pd.DataFrame.from_dict(data)\n",
    "df"
   ]
  },
  {
   "cell_type": "markdown",
   "metadata": {},
   "source": [
    "The column `Gender` is categorical, with `male` and `female` as the possible values. To handle this, we can define a dummy variable *X<sub>3</sub>* :\n",
    "\n",
    "![](https://latex.codecogs.com/gif.latex?X_3%20%3D%20%5Cbegin%7Bcases%7D1%5Ctext%7B%20if%20customer%20is%20female%7D%20%5C%5C%200%5Ctext%7B%20if%20customer%20is%20male%7D%20%5Cend%7Bcases%7D)\n",
    "\n",
    "Our linear regression model becomes:\n",
    "\n",
    "![](https://latex.codecogs.com/gif.latex?Y_e%20%3D%20%5Cbegin%7Bcases%7D%20%5Calpha%20+%20%5Cbeta_1X_1%20+%20%5Cbeta_2X_2%20+%20%5Cbeta_3%20%5Ctext%7B%20if%20customer%20is%20female%7D%20%5C%5C%20%5Calpha%20+%20%5Cbeta_1X_1%20+%20%5Cbeta_2X_2%20%5Ctext%7B%20%5C%20%5C%20%5C%20%5C%20%5C%20%5C%20%5C%20if%20customer%20is%20male%7D%20%5Cend%7Bcases%7D)\n",
    "\n",
    "In Python, we create dummy variables using the `pandas` method `get_dummies`: "
   ]
  },
  {
   "cell_type": "code",
   "execution_count": null,
   "metadata": {},
   "outputs": [],
   "source": [
    "dummy_gender = pd.get_dummies(df['Gender (X3)'], prefix='Sex')\n",
    "dummy_gender"
   ]
  },
  {
   "cell_type": "markdown",
   "metadata": {},
   "source": [
    "If `Gender` is `Female`, the variable `Sex_Female` is encoded as `1` (for True) and `Sex_Male` is `0` (for False). If `Gender` is `Male`, it is encoded as the opposite. \n",
    "\n",
    "Now you can join this back to the original dataframe, and build a linear regression model as per usual, using `Sex_Female` and `Sex_Male` as predictors in place of `Gender`. "
   ]
  },
  {
   "cell_type": "code",
   "execution_count": null,
   "metadata": {},
   "outputs": [],
   "source": [
    "# Append Sex_Female and Sex_Males columns and drop Gender column\n",
    "df_new = df.join(dummy_gender).drop(['Gender (X3)'], 1)\n",
    "df_new"
   ]
  },
  {
   "cell_type": "code",
   "execution_count": null,
   "metadata": {},
   "outputs": [],
   "source": [
    "# Create linear regression model using scikit-learn\n",
    "predictors = ['Age (X1)', 'Monthly Income (X2)', 'Sex_Female', 'Sex_Male']\n",
    "X = df_new[predictors]\n",
    "Y = df_new['Total Spend (Y)']\n",
    "lm = LinearRegression()\n",
    "lm.fit(X, Y)\n",
    "print(f'alpha = {lm.intercept_}')\n",
    "print(f'betas = {lm.coef_}')\n",
    "print(f'R2 = {lm.score(X, Y)}')"
   ]
  },
  {
   "cell_type": "markdown",
   "metadata": {},
   "source": [
    "Great! Now we know how to handle missing values, outliers, and categorical variables. In our final step, we will discuss how to handle non-linear relationships! \n",
    "\n",
    "Return to the notebook directory in Jupyter by pressing `File` > `Open…` in the toolbar at the top, then open the notebook called `3.3 Non-linear transformations.ipynb`."
   ]
  }
 ],
 "metadata": {
  "kernelspec": {
   "display_name": "Python 3",
   "language": "python",
   "name": "python3"
  },
  "language_info": {
   "codemirror_mode": {
    "name": "ipython",
    "version": 3
   },
   "file_extension": ".py",
   "mimetype": "text/x-python",
   "name": "python",
   "nbconvert_exporter": "python",
   "pygments_lexer": "ipython3",
   "version": "3.6.6"
  }
 },
 "nbformat": 4,
 "nbformat_minor": 2
}
