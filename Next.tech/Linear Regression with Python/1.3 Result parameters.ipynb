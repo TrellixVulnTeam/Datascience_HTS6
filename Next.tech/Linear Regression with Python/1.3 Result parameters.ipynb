{
 "cells": [
  {
   "cell_type": "markdown",
   "metadata": {},
   "source": [
    "# Result Parameters"
   ]
  },
  {
   "cell_type": "markdown",
   "metadata": {},
   "source": [
    "Apart from the *R<sup>2</sup>* statistic, there are other statistics and parameters that you need to look at in order to determine if the model is efficient. We will discuss some commonly used statistics – Residual Standard Errors, p-values, and F-statistics.\n",
    "\n",
    "### Residual Standard Errors (RSE)\n",
    "\n",
    "RSE is a common statistic used to calculate the accuracy of values predicted by a model. It is an estimate of the standard deviation of the error term, `res`. For a simple linear regression model, RSE is defined as:\n",
    "\n",
    "![](https://latex.codecogs.com/gif.latex?RSE%20%3D%20%5Csqrt%20%7B%5Cfrac%7B1%7D%7Bn-2%7D%20*%20%5Csum_%7Bi%3D1%7D%5E%7Bn%7D%28%5Ctext%7Byact%7D-%5Ctext%7Bypred%7D%29%5E2%7D)\n",
    "\n",
    "where *n* is the number of records in the dataset.\n",
    "\n",
    "Since $\\text{SSD} = \\sum( \\text{yact} - \\text{ypred})^2$, RSE can be rewritten as:\n",
    "\n",
    "![](https://latex.codecogs.com/gif.latex?RSE%20%3D%20%5Csqrt%7B%5Cfrac%7B1%7D%7Bn-2%7D*%5Ctext%7BSSD%7D%7D)\n",
    "\n",
    "In general, \n",
    "\n",
    "![](https://latex.codecogs.com/gif.latex?RSE%20%3D%20%5Csqrt%7B%5Cfrac%7B1%7D%7Bn-p-1%7D*%5Ctext%7BSSD%7D%7D)\n",
    "\n",
    "where *p* is the number of predictor variables in the model.\n",
    "\n",
    "This is important to know since we will not always just have one predictor variable *X*. \n",
    "\n",
    "A **multiple linear regression** model is a linear regression model with multiple predictors, written as ![](https://latex.codecogs.com/gif.latex?Y%20%3D%20%5Calpha%20+%20%5Cbeta_1%20*%20X_1%20+%20%5Cbeta_2%20*%20X_2%20+%20%5Cdots%20+%20%5Cbeta_p%20*%20X_p)\n",
    "\n",
    "As you see, the parameters and predictors are subscripted from 1 up to the number of predictors *p*. \n",
    "\n",
    "In multiple regression, the value of RSE generally decreases as we add variables that are more significant predictors of the output variable.\n",
    "\n",
    "Using our simulated data from the previous steps, the following code snippet shows how the RSE for a model can be calculated:"
   ]
  },
  {
   "cell_type": "code",
   "execution_count": null,
   "metadata": {},
   "outputs": [],
   "source": [
    "# Import necessary libraries\n",
    "import pandas as pd\n",
    "import numpy as np\n",
    "\n",
    "# Generate same data as in previous step\n",
    "np.random.seed(0)\n",
    "X = 2.5 * np.random.randn(100) + 1.5\n",
    "res = 0.5 * np.random.randn(100)\n",
    "yact = 2 + 0.3 * X + res\n",
    "df = pd.DataFrame(\n",
    "    {'X': X,\n",
    "     'yact': yact}\n",
    ")\n",
    "\n",
    "# Calculate beta and alpha as in previous step\n",
    "xmean = np.mean(X)\n",
    "ymean = np.mean(yact)\n",
    "df['xycov'] = (df['X'] - xmean) * (df['yact'] - ymean)\n",
    "df['xvar'] = (df['X'] - xmean)**2\n",
    "beta = df['xycov'].sum() / df['xvar'].sum()\n",
    "alpha = ymean - (beta * xmean)\n",
    "\n",
    "# Store predictions as in previous step\n",
    "df['ypred'] = alpha + beta * df['X']\n",
    "\n",
    "# Show first five rows of dataframe\n",
    "df.head()"
   ]
  },
  {
   "cell_type": "code",
   "execution_count": null,
   "metadata": {},
   "outputs": [],
   "source": [
    "# Calculate SSD\n",
    "df['SSD'] = (df['yact'] - df['ypred'])**2\n",
    "SSD = df['SSD'].sum()\n",
    "\n",
    "# Calculate RSE\n",
    "RSE = np.sqrt(SSD / 98)   # n = 100\n",
    "print(f'RSE = {RSE}')"
   ]
  },
  {
   "cell_type": "markdown",
   "metadata": {},
   "source": [
    "The value of `RSE` comes out to be 0.52. \n",
    "\n",
    "As you might have guessed, the smaller the residual standard errors, the better the model is. \n",
    "\n",
    "The benchmark to compare this to is the mean of the actual values, `yact`. As shown previously, this value is `ymean = 2.54`. In plain English, this means we observe an error of 0.46 over 2.54 – approximately 20.48%.\n",
    "\n"
   ]
  },
  {
   "cell_type": "code",
   "execution_count": null,
   "metadata": {},
   "outputs": [],
   "source": [
    "error = RSE / ymean\n",
    "print(f'Mean Y = {ymean}.')\n",
    "print(f'Error = {error}.')"
   ]
  },
  {
   "cell_type": "markdown",
   "metadata": {},
   "source": [
    "### p-values\n",
    "\n",
    "The calculation of ɑ and β are estimates, not exact calculations. Whether their values are significant or not needs to be tested using a **hypothesis test**.\n",
    "\n",
    "In the equation, $y = \\alpha + \\beta X$, if we set *β = 0*, there will be no relation between y and X. Therefore, the hypothesis tests whether the value of *β* is non-zero or not.\n",
    "\n",
    "![](https://latex.codecogs.com/gif.latex?%5Cbegin%7Balign*%7D%20%26%5Ctext%7BNull%20hypothesis%20%7D%20H_0%3A%20%5Cbeta%20%3D%200%20%5C%5C%20%26%5Ctext%7BAlternative%20hypothesis%20%7DH_1%3A%20%5Cbeta%20%3C%3E%200%20%5Cend%7Balign*%7D)\n",
    "\n",
    "Whenever a regression task is performed and β is calculated, there will be an accompanying **p-value** corresponding to this hypothesis test. We will not go through how this is calculated in this course (you can learn more [here](https://www.dummies.com/education/math/statistics/how-to-determine-a-p-value-when-testing-a-null-hypothesis/)), since it is calculated automatically by ready-made methods in Python. \n",
    "\n",
    "If the p-value is less than a chosen **significance level** (e.g. 0.05) then the null hypothesis that *β = 0* is rejected and *β* is taken to be significant and non-zero.\n",
    "\n",
    "In the case of multiple linear regression, the p-value associated with each *β<sub>i</sub>* can be used to weed out insignificant predictors from the model. The higher the p-value for *β<sub>i</sub>*, the less significant *X<sub>i</sub>* is to the model."
   ]
  },
  {
   "cell_type": "markdown",
   "metadata": {},
   "source": [
    "### F-statistics\n",
    "\n",
    "In a multiple regression model, apart from testing the significance of individual variables by checking the p-values, it is also necessary to check whether, as a group all the predictors are significant. This can be done using the following hypothesis:\n",
    "\n",
    "![](https://latex.codecogs.com/gif.latex?%5Cbegin%7Balign*%7D%20%26%5Ctext%7BNull%20hypothesis%20%7D%20H_0%3A%20%5Cbeta_1%20%3D%20%5Cbeta_2%20%3D%20%5Cdots%20%3D%20%5Cbeta_p%20%3D%200%20%5C%5C%20%26%5Ctext%7BAlternative%20hypothesis%20%7DH_1%3A%20%5Ctext%7B%20Any%20%7D%20%5Cbeta_i%20%3C%3E%200%20%5Cend%7Balign*%7D)\n",
    "\n",
    "The statistic that is used to test this hypothesis is called the **F-statistic** and is defined as follows:\n",
    "\n",
    "![](https://latex.codecogs.com/gif.latex?%5Ctext%7BF-statistic%7D%3D%20%5Cfrac%7B%28%5Ctext%7BSST%7D%20-%20%5Ctext%7BSSD%7D%29/p%7D%7B%5Ctext%7BSSD%7D/%28n-p-1%29%7D)\n",
    "\n",
    "where n = number of rows in the dataset and p = number of predictor variables in the model.\n",
    "\n",
    "There is a p-value that is associated with this F-statistic. If the p-value is smaller than the chosen significance level, the null hypothesis can be rejected.\n",
    "\n",
    "It is important to look at the F-statistic because:\n",
    "\n",
    "- p-values are about individual relationships between predictors and the outcome variable. However, one predictor's relationship with the output might be impacted by the presence of other variables.\n",
    "- When the number of predictors in the model is very large and all the $\\beta_i$ are very close to zero, the individual p-values associated with the predictors might give very small values so we might incorrectly conclude that there is a relationship between the predictors and the outcome."
   ]
  },
  {
   "cell_type": "markdown",
   "metadata": {},
   "source": [
    "Congrats on finishing this lesson! To wrap up, reopen the instructions panel on the left, then press Next Step."
   ]
  }
 ],
 "metadata": {
  "kernelspec": {
   "display_name": "Python 3",
   "language": "python",
   "name": "python3"
  },
  "language_info": {
   "codemirror_mode": {
    "name": "ipython",
    "version": 3
   },
   "file_extension": ".py",
   "mimetype": "text/x-python",
   "name": "python",
   "nbconvert_exporter": "python",
   "pygments_lexer": "ipython3",
   "version": "3.6.6"
  }
 },
 "nbformat": 4,
 "nbformat_minor": 2
}
