{
 "cells": [
  {
   "cell_type": "markdown",
   "metadata": {},
   "source": [
    "# Simple Linear Regression with `statsmodels`"
   ]
  },
  {
   "cell_type": "markdown",
   "metadata": {},
   "source": [
    "The Python libraries `statsmodels` and `scikit-learn` make implementing linear regression very easy - much easier than implementing from scratch like we did in the last lesson.\n",
    "\n",
    "We will start with the `statsmodels` library. First, let's import the `advertising` data."
   ]
  },
  {
   "cell_type": "code",
   "execution_count": null,
   "metadata": {},
   "outputs": [],
   "source": [
    "# Import necessary libaries\n",
    "import pandas as pd\n",
    "import numpy as np\n",
    "from matplotlib import pyplot as plt\n",
    "%matplotlib inline\n",
    "\n",
    "# Import and display first five rows of advertising dataset\n",
    "advert = pd.read_csv('advertising.csv')\n",
    "advert.head()"
   ]
  },
  {
   "cell_type": "markdown",
   "metadata": {},
   "source": [
    "This dataset contains data about the advertising budget spent on TV, Radio, and Newspapers for a particular product and the resulting sales. We expect a positive correlation between such advertising costs and sales. \n",
    "\n",
    "Let’s start with TV advertising costs to create a simple linear regression model. First let’s plot the variables to get a better sense of their relationship:"
   ]
  },
  {
   "cell_type": "code",
   "execution_count": null,
   "metadata": {},
   "outputs": [],
   "source": [
    "# Create scatter plot\n",
    "plt.figure(figsize=(12, 6))\n",
    "plt.plot(advert['TV'], advert['Sales'], 'o')\n",
    "plt.xlabel('TV Advertising Costs')\n",
    "plt.ylabel('Sales')\n",
    "plt.title('TV vs Sales')\n",
    "\n",
    "plt.show()"
   ]
  },
  {
   "cell_type": "markdown",
   "metadata": {},
   "source": [
    "As TV advertisement cost increases, sales also increase – they are positively correlated! \n",
    "\n",
    "Now with the `statsmodels` library, let’s create a line of best fit using the least sum of square method."
   ]
  },
  {
   "cell_type": "code",
   "execution_count": null,
   "metadata": {},
   "outputs": [],
   "source": [
    "import statsmodels.formula.api as smf\n",
    "\n",
    "# Initialise and fit linear regression model using `statsmodels`\n",
    "model1 = smf.ols('Sales ~ TV', data=advert)\n",
    "model1 = model1.fit()"
   ]
  },
  {
   "cell_type": "markdown",
   "metadata": {},
   "source": [
    "In the above code, we used `statsmodels`’ `ols` function to initialise our simple linear regression model. This takes the formula `y ~ X`, where `X` is the predictor variable (TV advertising costs) and `y` is the output variable (Sales). Then, we fit the model by calling the OLS object’s `fit()` method. If you’d like to learn more about `ols`, you can read the documentation [here](https://www.statsmodels.org/dev/generated/statsmodels.regression.linear_model.OLS.html).\n",
    "\n",
    "Calling `.params` will show us the model’s parameters:"
   ]
  },
  {
   "cell_type": "code",
   "execution_count": null,
   "metadata": {},
   "outputs": [],
   "source": [
    "model1.params"
   ]
  },
  {
   "cell_type": "markdown",
   "metadata": {},
   "source": [
    "In the notation that we have been using, $\\alpha$ is the intercept and  $\\beta$ is the slope i.e.:\n",
    "\n",
    "$\\alpha = 7.032, \\beta = 0.047$\n",
    "\n",
    "Thus, the equation for the model will be:\n",
    "\n",
    "$\\text{Sales} = 7.032 + 0.047*\\text{TV}$\n",
    "\n",
    "Let's also check an indicator of the model efficacy, *R<sup>2</sup>*. Luckily, `statsmodel` gives us a ready-made method for doing this so we don’t need to code all the math ourselves:"
   ]
  },
  {
   "cell_type": "code",
   "execution_count": null,
   "metadata": {},
   "outputs": [],
   "source": [
    "model1.rsquared"
   ]
  },
  {
   "cell_type": "markdown",
   "metadata": {},
   "source": [
    "We can also take a look at the model summary by writing this snippet:"
   ]
  },
  {
   "cell_type": "code",
   "execution_count": null,
   "metadata": {},
   "outputs": [],
   "source": [
    "print(model1.summary())"
   ]
  },
  {
   "cell_type": "markdown",
   "metadata": {},
   "source": [
    "There is a lot here. Of these results, we have discussed:\n",
    "- R-squared\n",
    "- F-statistic\n",
    "- Prob (F-statistic) - this is the p-value of the F-statistic\n",
    "- Intercept coef - this is `alpha`\n",
    "- TV coef - this is `beta` for predictor `TV`\n",
    "- P>|t| - this is the p-value for our coefficients\n",
    "\n",
    "You can learn more about the other linear regression results [here](https://www.statsmodels.org/dev/generated/statsmodels.regression.linear_model.RegressionResults.html).\n",
    "\n",
    "Now that we’ve fit a simple regression model, we can try to predict the values of sales based on the equation we just derived!"
   ]
  },
  {
   "cell_type": "code",
   "execution_count": null,
   "metadata": {},
   "outputs": [],
   "source": [
    "sales_pred = model1.predict(advert['TV'])"
   ]
  },
  {
   "cell_type": "markdown",
   "metadata": {},
   "source": [
    "The `.predict` method predicts sales value for each row based on the model equation using TV costs. This is the equivalent of manually typing out our equation: `sales_pred = 7.032 + 0.047*(advert['TV'])`.\n",
    "\n",
    "We can visualise our regression model by plotting `sales_pred` against the TV advertising costs to find the line of best fit:"
   ]
  },
  {
   "cell_type": "code",
   "execution_count": null,
   "metadata": {},
   "outputs": [],
   "source": [
    "# Plot regression against actual data\n",
    "plt.figure(figsize=(12, 6))\n",
    "plt.plot(advert['TV'], advert['Sales'], 'o')           # scatter plot showing actual data\n",
    "plt.plot(advert['TV'], sales_pred, 'r', linewidth=2)   # regression line\n",
    "plt.xlabel('TV Advertising Costs')\n",
    "plt.ylabel('Sales')\n",
    "plt.title('TV vs Sales')\n",
    "\n",
    "plt.show()"
   ]
  },
  {
   "cell_type": "markdown",
   "metadata": {},
   "source": [
    "Now let's calculate the RSE to measure how accurate our model is in predicting sales:"
   ]
  },
  {
   "cell_type": "code",
   "execution_count": null,
   "metadata": {},
   "outputs": [],
   "source": [
    "# Create new column to store predictions\n",
    "advert['sales_pred'] = sales_pred\n",
    "\n",
    "# Calculate RSE\n",
    "advert['SSD'] = (advert['Sales'] - advert['sales_pred'])**2\n",
    "SSD = advert['SSD'].sum()\n",
    "RSE = np.sqrt(SSD / 198)   # n = 200\n",
    "salesmean = np.mean(advert['Sales'])\n",
    "error = RSE / salesmean\n",
    "\n",
    "print(f'RSE = {RSE}\\nMean sale = {salesmean}\\nError = {np.round(error, 4)*100}%')"
   ]
  },
  {
   "cell_type": "markdown",
   "metadata": {},
   "source": [
    "Thus, this model has an average accuracy of 76.76%. This can definitely be improved upon!\n",
    "\n",
    "In the next step, we will add more features as predictors and see whether it improves our model. Go back to the notebook directory in Jupyter by pressing `File` > `Open…` in the toolbar at the top, then open the notebook called `2.2 Multiple regression with statsmodels.ipynb`."
   ]
  }
 ],
 "metadata": {
  "kernelspec": {
   "display_name": "Python 3",
   "language": "python",
   "name": "python3"
  },
  "language_info": {
   "codemirror_mode": {
    "name": "ipython",
    "version": 3
   },
   "file_extension": ".py",
   "mimetype": "text/x-python",
   "name": "python",
   "nbconvert_exporter": "python",
   "pygments_lexer": "ipython3",
   "version": "3.6.6"
  }
 },
 "nbformat": 4,
 "nbformat_minor": 2
}
