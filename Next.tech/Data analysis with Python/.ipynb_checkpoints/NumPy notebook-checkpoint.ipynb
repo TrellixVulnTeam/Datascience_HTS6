{
 "cells": [
  {
   "cell_type": "markdown",
   "metadata": {},
   "source": [
    "# Why `NumPy`?"
   ]
  },
  {
   "cell_type": "code",
   "execution_count": 1,
   "metadata": {},
   "outputs": [
    {
     "data": {
      "application/javascript": [
       "IPython.notebook.set_autosave_interval(5000)"
      ]
     },
     "metadata": {},
     "output_type": "display_data"
    },
    {
     "name": "stdout",
     "output_type": "stream",
     "text": [
      "Autosaving every 5 seconds\n"
     ]
    }
   ],
   "source": [
    "# Run this Jupyter magic function to start - this autosaves your notebook every 5 seconds\n",
    "%autosave 5"
   ]
  },
  {
   "cell_type": "code",
   "execution_count": 2,
   "metadata": {},
   "outputs": [
    {
     "data": {
      "text/plain": [
       "[33.333333333333336,\n",
       " 31.914893617021278,\n",
       " 30.909090909090907,\n",
       " 21.666666666666668,\n",
       " 20.0]"
      ]
     },
     "execution_count": 2,
     "metadata": {},
     "output_type": "execute_result"
    }
   ],
   "source": [
    "# Create two lists, distances and times\n",
    "distances = [10, 15, 17, 26, 20]\n",
    "times = [0.3, 0.47, 0.55, 1.20, 1.0]\n",
    "\n",
    "# Calculate speeds with Python\n",
    "speeds = []\n",
    "for i in range(len(distances)):\n",
    "    speeds.append(distances[i] / times[i])\n",
    "\n",
    "speeds"
   ]
  },
  {
   "cell_type": "code",
   "execution_count": 3,
   "metadata": {},
   "outputs": [
    {
     "data": {
      "text/plain": [
       "[33.333333333333336,\n",
       " 31.914893617021278,\n",
       " 30.909090909090907,\n",
       " 21.666666666666668,\n",
       " 20.0]"
      ]
     },
     "execution_count": 3,
     "metadata": {},
     "output_type": "execute_result"
    }
   ],
   "source": [
    "# Calculate speeds with Python list comprehension\n",
    "[d / t for d, t in zip(distances, times)] \n"
   ]
  },
  {
   "cell_type": "code",
   "execution_count": 4,
   "metadata": {
    "eid": "a5d3a152"
   },
   "outputs": [
    {
     "ename": "TypeError",
     "evalue": "unsupported operand type(s) for /: 'list' and 'list'",
     "output_type": "error",
     "traceback": [
      "\u001b[0;31m---------------------------------------------------------------------------\u001b[0m",
      "\u001b[0;31mTypeError\u001b[0m                                 Traceback (most recent call last)",
      "\u001b[0;32m<ipython-input-4-b122ca38adc2>\u001b[0m in \u001b[0;36m<module>\u001b[0;34m\u001b[0m\n\u001b[1;32m      1\u001b[0m \u001b[0;31m# TASK --- Divide `distances` by `times` to see an error message\u001b[0m\u001b[0;34m\u001b[0m\u001b[0;34m\u001b[0m\u001b[0;34m\u001b[0m\u001b[0m\n\u001b[0;32m----> 2\u001b[0;31m \u001b[0mdistances\u001b[0m\u001b[0;34m/\u001b[0m\u001b[0mtimes\u001b[0m\u001b[0;34m\u001b[0m\u001b[0;34m\u001b[0m\u001b[0m\n\u001b[0m",
      "\u001b[0;31mTypeError\u001b[0m: unsupported operand type(s) for /: 'list' and 'list'"
     ]
    }
   ],
   "source": [
    "# TASK --- Divide `distances` by `times` to see an error message\n",
    "distances/times\n"
   ]
  },
  {
   "cell_type": "markdown",
   "metadata": {},
   "source": [
    "# `Numpy` Arrays"
   ]
  },
  {
   "cell_type": "code",
   "execution_count": 5,
   "metadata": {},
   "outputs": [],
   "source": [
    "import numpy as np"
   ]
  },
  {
   "cell_type": "markdown",
   "metadata": {},
   "source": [
    "## Creating arrays in  `NumPy`\n",
    "### Creating arrays from lists"
   ]
  },
  {
   "cell_type": "code",
   "execution_count": 6,
   "metadata": {},
   "outputs": [
    {
     "data": {
      "text/plain": [
       "array([10, 15, 17, 26, 20])"
      ]
     },
     "execution_count": 6,
     "metadata": {},
     "output_type": "execute_result"
    }
   ],
   "source": [
    "# Transform `distances` list to array\n",
    "distances = np.array(distances)\n",
    "distances"
   ]
  },
  {
   "cell_type": "code",
   "execution_count": 7,
   "metadata": {},
   "outputs": [
    {
     "data": {
      "text/plain": [
       "array([0.3 , 0.47, 0.55, 1.2 , 1.  ])"
      ]
     },
     "execution_count": 7,
     "metadata": {},
     "output_type": "execute_result"
    }
   ],
   "source": [
    "# Transform `times` list to array\n",
    "times = np.array(times)\n",
    "times"
   ]
  },
  {
   "cell_type": "code",
   "execution_count": 8,
   "metadata": {},
   "outputs": [
    {
     "data": {
      "text/plain": [
       "numpy.ndarray"
      ]
     },
     "execution_count": 8,
     "metadata": {},
     "output_type": "execute_result"
    }
   ],
   "source": [
    "# Find the type of array\n",
    "type(distances)"
   ]
  },
  {
   "cell_type": "code",
   "execution_count": 9,
   "metadata": {},
   "outputs": [
    {
     "data": {
      "text/plain": [
       "array([[1, 2],\n",
       "       [3, 4]])"
      ]
     },
     "execution_count": 9,
     "metadata": {},
     "output_type": "execute_result"
    }
   ],
   "source": [
    "# Create two dimensional array\n",
    "A = np.array([[1, 2], [3, 4]])\n",
    "A"
   ]
  },
  {
   "cell_type": "markdown",
   "metadata": {},
   "source": [
    "### Creating arrays from built-in `NumPy` functions"
   ]
  },
  {
   "cell_type": "code",
   "execution_count": 10,
   "metadata": {},
   "outputs": [
    {
     "data": {
      "text/plain": [
       "array([0, 0, 0, 0, 0, 0, 0, 0, 0, 0])"
      ]
     },
     "execution_count": 10,
     "metadata": {},
     "output_type": "execute_result"
    }
   ],
   "source": [
    "# Create array of zeros\n",
    "np.zeros(10, dtype=int)"
   ]
  },
  {
   "cell_type": "code",
   "execution_count": 11,
   "metadata": {},
   "outputs": [
    {
     "data": {
      "text/plain": [
       "array([[1., 1., 1., 1., 1.],\n",
       "       [1., 1., 1., 1., 1.],\n",
       "       [1., 1., 1., 1., 1.]])"
      ]
     },
     "execution_count": 11,
     "metadata": {},
     "output_type": "execute_result"
    }
   ],
   "source": [
    "# Create array of ones\n",
    "np.ones(shape=(3, 5), dtype=float)"
   ]
  },
  {
   "cell_type": "code",
   "execution_count": 12,
   "metadata": {},
   "outputs": [
    {
     "data": {
      "text/plain": [
       "array([ 0,  2,  4,  6,  8, 10, 12, 14, 16, 18])"
      ]
     },
     "execution_count": 12,
     "metadata": {},
     "output_type": "execute_result"
    }
   ],
   "source": [
    "# Create array with linear sequence using `arange`\n",
    "np.arange(start=0, stop=20, step=2)"
   ]
  },
  {
   "cell_type": "code",
   "execution_count": 13,
   "metadata": {},
   "outputs": [
    {
     "data": {
      "text/plain": [
       "array([0.        , 0.05263158, 0.10526316, 0.15789474, 0.21052632,\n",
       "       0.26315789, 0.31578947, 0.36842105, 0.42105263, 0.47368421,\n",
       "       0.52631579, 0.57894737, 0.63157895, 0.68421053, 0.73684211,\n",
       "       0.78947368, 0.84210526, 0.89473684, 0.94736842, 1.        ])"
      ]
     },
     "execution_count": 13,
     "metadata": {},
     "output_type": "execute_result"
    }
   ],
   "source": [
    "# Create array with linear sequence using `linspace`\n",
    "np.linspace(0, 1, 20)"
   ]
  },
  {
   "cell_type": "markdown",
   "metadata": {},
   "source": [
    "## Attributes of arrays"
   ]
  },
  {
   "cell_type": "code",
   "execution_count": 14,
   "metadata": {
    "eid": "c2d89e0b"
   },
   "outputs": [],
   "source": [
    "# TASK --- Create a 3x4 matrix of 1s of float type called M\n",
    "M=np.ones(shape=(3,4) , dtype=float)"
   ]
  },
  {
   "cell_type": "code",
   "execution_count": 15,
   "metadata": {},
   "outputs": [
    {
     "data": {
      "text/plain": [
       "2"
      ]
     },
     "execution_count": 15,
     "metadata": {},
     "output_type": "execute_result"
    }
   ],
   "source": [
    "# Find dimensions of matrix M\n",
    "M.ndim"
   ]
  },
  {
   "cell_type": "code",
   "execution_count": 16,
   "metadata": {},
   "outputs": [
    {
     "data": {
      "text/plain": [
       "(3, 4)"
      ]
     },
     "execution_count": 16,
     "metadata": {},
     "output_type": "execute_result"
    }
   ],
   "source": [
    "# Find shape of matrix M\n",
    "M.shape"
   ]
  },
  {
   "cell_type": "code",
   "execution_count": 17,
   "metadata": {},
   "outputs": [
    {
     "data": {
      "text/plain": [
       "12"
      ]
     },
     "execution_count": 17,
     "metadata": {},
     "output_type": "execute_result"
    }
   ],
   "source": [
    "# Find size of matrix M\n",
    "M.size"
   ]
  },
  {
   "cell_type": "markdown",
   "metadata": {},
   "source": [
    "# Working With Arrays\n",
    "## Vectorized operations with arrays"
   ]
  },
  {
   "cell_type": "code",
   "execution_count": 18,
   "metadata": {},
   "outputs": [
    {
     "name": "stdout",
     "output_type": "stream",
     "text": [
      "[ 0  2  4  6  8 10 12 14 16 18]\n",
      "Addition:  [ 1  3  5  7  9 11 13 15 17 19]\n"
     ]
    }
   ],
   "source": [
    "# Create vector x\n",
    "x = np.arange(0, 20, 2)\n",
    "print(x)\n",
    "\n",
    "# Perform addition on vector x\n",
    "print('Addition: ', x + 1)"
   ]
  },
  {
   "cell_type": "code",
   "execution_count": 19,
   "metadata": {},
   "outputs": [
    {
     "name": "stdout",
     "output_type": "stream",
     "text": [
      "Subtraction:  [-3 -1  1  3  5  7  9 11 13 15]\n",
      "Multiplication:  [ 0  4  8 12 16 20 24 28 32 36]\n",
      "Division:  [0.  0.2 0.4 0.6 0.8 1.  1.2 1.4 1.6 1.8]\n"
     ]
    }
   ],
   "source": [
    "# Perform subtraction on vector\n",
    "print('Subtraction: ', x - 3)\n",
    "\n",
    "# Perform multiplication on vector\n",
    "print('Multiplication: ', x * 2)\n",
    "\n",
    "# Perform division on vector\n",
    "print('Division: ', x / 10)"
   ]
  },
  {
   "cell_type": "code",
   "execution_count": 20,
   "metadata": {
    "eid": "a35985a0"
   },
   "outputs": [
    {
     "data": {
      "text/plain": [
       "array([33.33333333, 31.91489362, 30.90909091, 21.66666667, 20.        ])"
      ]
     },
     "execution_count": 20,
     "metadata": {},
     "output_type": "execute_result"
    }
   ],
   "source": [
    "# TASK --- Calculate speeds using array division\n",
    "distances/times"
   ]
  },
  {
   "cell_type": "markdown",
   "metadata": {},
   "source": [
    "## Universal functions with arrays"
   ]
  },
  {
   "cell_type": "code",
   "execution_count": 21,
   "metadata": {},
   "outputs": [
    {
     "data": {
      "text/plain": [
       "array([ 0.        ,  0.90929743, -0.7568025 , -0.2794155 ,  0.98935825,\n",
       "       -0.54402111, -0.53657292,  0.99060736, -0.28790332, -0.75098725])"
      ]
     },
     "execution_count": 21,
     "metadata": {},
     "output_type": "execute_result"
    }
   ],
   "source": [
    "# Perform univeral functions on vector x\n",
    "np.sin(x)"
   ]
  },
  {
   "cell_type": "code",
   "execution_count": 22,
   "metadata": {},
   "outputs": [
    {
     "data": {
      "text/plain": [
       "array([1.00000000e+00, 7.38905610e+00, 5.45981500e+01, 4.03428793e+02,\n",
       "       2.98095799e+03, 2.20264658e+04, 1.62754791e+05, 1.20260428e+06,\n",
       "       8.88611052e+06, 6.56599691e+07])"
      ]
     },
     "execution_count": 22,
     "metadata": {},
     "output_type": "execute_result"
    }
   ],
   "source": [
    "# Perform univeral functions on vector x\n",
    "np.exp(x)"
   ]
  },
  {
   "cell_type": "code",
   "execution_count": 23,
   "metadata": {
    "eid": "9fc488f5"
   },
   "outputs": [
    {
     "data": {
      "text/plain": [
       "array([1.        , 1.73205081, 2.23606798, 2.64575131, 3.        ,\n",
       "       3.31662479, 3.60555128, 3.87298335, 4.12310563, 4.35889894])"
      ]
     },
     "execution_count": 23,
     "metadata": {},
     "output_type": "execute_result"
    }
   ],
   "source": [
    "# TASK --- Calculate the square root of the natural logarithm for the values of `x + 1`\n",
    "np.sqrt(x+1)"
   ]
  },
  {
   "cell_type": "markdown",
   "metadata": {},
   "source": [
    "## Common manipulations with arrays\n",
    "### Indexing"
   ]
  },
  {
   "cell_type": "code",
   "execution_count": 24,
   "metadata": {},
   "outputs": [
    {
     "data": {
      "text/plain": [
       "array([-0.5, -0.4, -0.3, -0.2, -0.1,  0. ,  0.1,  0.2,  0.3,  0.4,  0.5,\n",
       "        0.6])"
      ]
     },
     "execution_count": 24,
     "metadata": {},
     "output_type": "execute_result"
    }
   ],
   "source": [
    "# Create one-dimensional array\n",
    "one_dim = np.linspace(-0.5, 0.6, 12)\n",
    "one_dim"
   ]
  },
  {
   "cell_type": "code",
   "execution_count": 25,
   "metadata": {},
   "outputs": [
    {
     "data": {
      "text/plain": [
       "-0.5"
      ]
     },
     "execution_count": 25,
     "metadata": {},
     "output_type": "execute_result"
    }
   ],
   "source": [
    "# Access first element of one_dim\n",
    "one_dim[0]"
   ]
  },
  {
   "cell_type": "code",
   "execution_count": 26,
   "metadata": {},
   "outputs": [
    {
     "data": {
      "text/plain": [
       "array([ 1. , -0.4, -0.3, -0.2, -0.1,  0. ,  0.1,  0.2,  0.3,  0.4,  0.5,\n",
       "        0.6])"
      ]
     },
     "execution_count": 26,
     "metadata": {},
     "output_type": "execute_result"
    }
   ],
   "source": [
    "# Change the first element of one_dim\n",
    "one_dim[0] = 1\n",
    "one_dim"
   ]
  },
  {
   "cell_type": "code",
   "execution_count": 27,
   "metadata": {},
   "outputs": [
    {
     "data": {
      "text/plain": [
       "array([[ 3,  5,  2,  4],\n",
       "       [ 7,  6,  5,  5],\n",
       "       [ 1,  6, -1, -1]])"
      ]
     },
     "execution_count": 27,
     "metadata": {},
     "output_type": "execute_result"
    }
   ],
   "source": [
    "# Create two-dimensional array\n",
    "two_dim = np.array([[3, 5, 2, 4], [7, 6, 5, 5], [1, 6, -1, -1]])\n",
    "two_dim"
   ]
  },
  {
   "cell_type": "code",
   "execution_count": 28,
   "metadata": {},
   "outputs": [
    {
     "data": {
      "text/plain": [
       "4"
      ]
     },
     "execution_count": 28,
     "metadata": {},
     "output_type": "execute_result"
    }
   ],
   "source": [
    "# Access the fourth element of the first row of two_dim\n",
    "two_dim[0, 3]"
   ]
  },
  {
   "cell_type": "code",
   "execution_count": 29,
   "metadata": {
    "eid": "fbfc9c69"
   },
   "outputs": [],
   "source": [
    "# TASK --- Change the value of the first element in the first rows of two_dim to -1\n",
    "two_dim[0,0] = -1"
   ]
  },
  {
   "cell_type": "markdown",
   "metadata": {},
   "source": [
    "### Slicing"
   ]
  },
  {
   "cell_type": "code",
   "execution_count": 30,
   "metadata": {},
   "outputs": [
    {
     "data": {
      "text/plain": [
       "array([ 1. , -0.4, -0.3, -0.2, -0.1])"
      ]
     },
     "execution_count": 30,
     "metadata": {},
     "output_type": "execute_result"
    }
   ],
   "source": [
    "# Access the first five elements of one_dim\n",
    "one_dim[0:5]"
   ]
  },
  {
   "cell_type": "code",
   "execution_count": 31,
   "metadata": {},
   "outputs": [
    {
     "data": {
      "text/plain": [
       "array([0.2, 0.3, 0.4, 0.5, 0.6])"
      ]
     },
     "execution_count": 31,
     "metadata": {},
     "output_type": "execute_result"
    }
   ],
   "source": [
    "# Access the last five elements of one_dim\n",
    "one_dim[-5:]"
   ]
  },
  {
   "cell_type": "code",
   "execution_count": 32,
   "metadata": {},
   "outputs": [
    {
     "data": {
      "text/plain": [
       "array([[-1,  5],\n",
       "       [ 7,  6]])"
      ]
     },
     "execution_count": 32,
     "metadata": {},
     "output_type": "execute_result"
    }
   ],
   "source": [
    "# Access the first two elements in the first two rows of two_dim\n",
    "two_dim[:2, :2]"
   ]
  },
  {
   "cell_type": "code",
   "execution_count": 33,
   "metadata": {},
   "outputs": [
    {
     "data": {
      "text/plain": [
       "array([[ 5,  2],\n",
       "       [ 6,  5],\n",
       "       [ 6, -1]])"
      ]
     },
     "execution_count": 33,
     "metadata": {},
     "output_type": "execute_result"
    }
   ],
   "source": [
    "# Access the second and third elements in all rows of two_dim\n",
    "two_dim[:, 1:3]"
   ]
  },
  {
   "cell_type": "code",
   "execution_count": 34,
   "metadata": {
    "eid": "17b57f05"
   },
   "outputs": [],
   "source": [
    "# TASK --- Change all the values of the first two elements of all columns of two_dim to zero\n",
    "two_dim[:2,:]=0"
   ]
  },
  {
   "cell_type": "markdown",
   "metadata": {},
   "source": [
    "### Reshaping"
   ]
  },
  {
   "cell_type": "code",
   "execution_count": 35,
   "metadata": {},
   "outputs": [
    {
     "data": {
      "text/plain": [
       "array([[ 1. , -0.4, -0.3],\n",
       "       [-0.2, -0.1,  0. ],\n",
       "       [ 0.1,  0.2,  0.3],\n",
       "       [ 0.4,  0.5,  0.6]])"
      ]
     },
     "execution_count": 35,
     "metadata": {},
     "output_type": "execute_result"
    }
   ],
   "source": [
    "# Reshape one_dim to two-dimensional 4x3 matrix\n",
    "one_dim = one_dim.reshape(4, 3)\n",
    "one_dim"
   ]
  },
  {
   "cell_type": "code",
   "execution_count": 36,
   "metadata": {},
   "outputs": [
    {
     "data": {
      "text/plain": [
       "array([ 0,  0,  0,  0,  0,  0,  0,  0,  1,  6, -1, -1])"
      ]
     },
     "execution_count": 36,
     "metadata": {},
     "output_type": "execute_result"
    }
   ],
   "source": [
    "# Flatten two_dim to vector\n",
    "two_dim = two_dim.flatten()\n",
    "two_dim"
   ]
  },
  {
   "cell_type": "code",
   "execution_count": 38,
   "metadata": {
    "eid": "d17f57ef"
   },
   "outputs": [
    {
     "data": {
      "text/plain": [
       "(12,)"
      ]
     },
     "execution_count": 38,
     "metadata": {},
     "output_type": "execute_result"
    }
   ],
   "source": [
    "# TASK --- Print the shape of two_dim\n",
    "two_dim.shape"
   ]
  },
  {
   "cell_type": "code",
   "execution_count": 39,
   "metadata": {
    "eid": "8889ebf8"
   },
   "outputs": [],
   "source": [
    "# TASK --- Reshape two_dim to be a 2x6 matrix\n",
    "two_dim =two_dim.reshape(2,6)"
   ]
  },
  {
   "cell_type": "markdown",
   "metadata": {},
   "source": [
    "# Using `NumPy` for Simulations\n",
    "## Coin toss"
   ]
  },
  {
   "cell_type": "code",
   "execution_count": 40,
   "metadata": {},
   "outputs": [
    {
     "data": {
      "text/plain": [
       "array([1])"
      ]
     },
     "execution_count": 40,
     "metadata": {},
     "output_type": "execute_result"
    }
   ],
   "source": [
    "# Simulate a coin toss with one coin\n",
    "np.random.randint(low=0, high=2, size=1)"
   ]
  },
  {
   "cell_type": "code",
   "execution_count": 41,
   "metadata": {},
   "outputs": [
    {
     "name": "stdout",
     "output_type": "stream",
     "text": [
      "[0 1 1 1 0 1 1 1 0 1]\n",
      "Number of heads:  7\n"
     ]
    }
   ],
   "source": [
    "# Simulate a coin toss with 10 coins and count number of `heads`\n",
    "experiment = np.random.randint(0, 2, 10)\n",
    "print(experiment)\n",
    "print('Number of heads: ', experiment.sum())"
   ]
  },
  {
   "cell_type": "code",
   "execution_count": 42,
   "metadata": {},
   "outputs": [
    {
     "data": {
      "text/plain": [
       "array([[0, 1, 0, 1, 0, 1, 1, 0, 1, 0],\n",
       "       [0, 0, 0, 0, 0, 0, 0, 1, 0, 1],\n",
       "       [1, 1, 0, 1, 1, 1, 0, 0, 0, 1],\n",
       "       [1, 1, 0, 1, 0, 1, 0, 0, 1, 1],\n",
       "       [1, 0, 0, 1, 1, 0, 0, 0, 0, 1]])"
      ]
     },
     "execution_count": 42,
     "metadata": {},
     "output_type": "execute_result"
    }
   ],
   "source": [
    "# Simulate 10000 experiments\n",
    "coin_matrix = np.random.randint(0, 2, (10000, 10))\n",
    "coin_matrix[:5]"
   ]
  },
  {
   "cell_type": "code",
   "execution_count": 43,
   "metadata": {},
   "outputs": [
    {
     "data": {
      "text/plain": [
       "array([5, 2, 6, ..., 5, 5, 4])"
      ]
     },
     "execution_count": 43,
     "metadata": {},
     "output_type": "execute_result"
    }
   ],
   "source": [
    "# Count number of `heads` in each experiment\n",
    "heads = coin_matrix.sum(axis=1)\n",
    "heads"
   ]
  },
  {
   "cell_type": "code",
   "execution_count": 44,
   "metadata": {},
   "outputs": [
    {
     "data": {
      "text/plain": [
       "49952"
      ]
     },
     "execution_count": 44,
     "metadata": {},
     "output_type": "execute_result"
    }
   ],
   "source": [
    "# Count number of `heads` in all experiments\n",
    "heads_all = coin_matrix.sum()\n",
    "heads_all"
   ]
  },
  {
   "cell_type": "code",
   "execution_count": 45,
   "metadata": {},
   "outputs": [
    {
     "data": {
      "text/plain": [
       "4.9952"
      ]
     },
     "execution_count": 45,
     "metadata": {},
     "output_type": "execute_result"
    }
   ],
   "source": [
    "# Find the mean number of `heads` over all experiment\n",
    "np.mean(heads)"
   ]
  },
  {
   "cell_type": "code",
   "execution_count": 46,
   "metadata": {},
   "outputs": [
    {
     "name": "stdout",
     "output_type": "stream",
     "text": [
      "Median:  5.0\n",
      "Minimum:  0\n",
      "Maximum:  10\n",
      "Standard deviation:  1.5684951259089075\n"
     ]
    }
   ],
   "source": [
    "# Find the median number of `heads` over all experiments\n",
    "print('Median: ', np.median(heads))\n",
    "# Find the minimum number of `heads` over all experiments\n",
    "print('Minimum: ', np.min(heads))\n",
    "# Find the maximum number of `heads` over all experiments\n",
    "print('Maximum: ', np.max(heads))\n",
    "# Find the standard deviation of `heads` over all experiments\n",
    "print('Standard deviation: ', np.std(heads))"
   ]
  },
  {
   "cell_type": "code",
   "execution_count": 47,
   "metadata": {},
   "outputs": [
    {
     "data": {
      "text/plain": [
       "array([   9,   96,  424, 1183, 2035, 2537, 2025, 1154,  434,   96,    7])"
      ]
     },
     "execution_count": 47,
     "metadata": {},
     "output_type": "execute_result"
    }
   ],
   "source": [
    "# Find the distribution of the number of `heads` over all experiments \n",
    "np.bincount(heads)"
   ]
  },
  {
   "cell_type": "markdown",
   "metadata": {},
   "source": [
    "## Simulating stock returns"
   ]
  },
  {
   "cell_type": "code",
   "execution_count": 48,
   "metadata": {
    "scrolled": true
   },
   "outputs": [
    {
     "data": {
      "text/plain": [
       "array([ 0.00455821, -0.0303691 , -0.00338311,  0.00378376, -0.00385444,\n",
       "       -0.03219   ,  0.00566423,  0.00732923, -0.02293917, -0.01731666,\n",
       "        0.01886862, -0.00167728,  0.00466221, -0.02804776,  0.04270458,\n",
       "        0.00088627, -0.01028269,  0.01514975,  0.00109978,  0.00708034,\n",
       "       -0.01620512,  0.02240872, -0.02490118, -0.00096111,  0.01118058,\n",
       "        0.00369407, -0.02033013, -0.01912497,  0.0236252 ,  0.00580802,\n",
       "        0.00538168, -0.01060596, -0.04585348,  0.00551196, -0.00845386,\n",
       "       -0.00361429, -0.02541659, -0.01357989, -0.00143523,  0.01909898,\n",
       "        0.00563176, -0.00888125, -0.02382561,  0.03128718, -0.01032243,\n",
       "       -0.02093937, -0.00252496, -0.00660338,  0.02801682,  0.0188331 ,\n",
       "       -0.02348198,  0.04755782,  0.02872178,  0.01772274,  0.02375089,\n",
       "       -0.00744657, -0.01624766,  0.01327331, -0.00469738,  0.01356008,\n",
       "       -0.04962144, -0.03096782,  0.01945311, -0.00661317, -0.01617331,\n",
       "       -0.00304363,  0.0017105 , -0.00241073, -0.0088429 , -0.04808302,\n",
       "       -0.00843337,  0.00199279,  0.00510684,  0.02297183,  0.0038099 ,\n",
       "       -0.03767944,  0.00886884, -0.00551586, -0.01764951, -0.00927943,\n",
       "        0.04255718, -0.00674828,  0.00712271, -0.00853048, -0.03168017,\n",
       "       -0.00371405, -0.0106739 ,  0.03261779, -0.01155809, -0.01138275,\n",
       "       -0.04489744,  0.0090158 ,  0.01139121,  0.01329712, -0.01943214,\n",
       "        0.00374511,  0.00515212,  0.01552517, -0.01740307,  0.03276513,\n",
       "        0.00967352, -0.02451195, -0.01730514,  0.0039497 ,  0.03905877,\n",
       "        0.02060089,  0.04100173,  0.00351182,  0.00967256,  0.00378138,\n",
       "        0.00924546, -0.00550133,  0.0241584 , -0.04931497,  0.01913536,\n",
       "        0.00996944, -0.04392441,  0.01154475,  0.01326409, -0.01508498,\n",
       "       -0.04907298, -0.0073869 , -0.01305155, -0.0031425 ,  0.00317491,\n",
       "       -0.00897013, -0.01868753,  0.02453814, -0.00594022,  0.01265619,\n",
       "        0.01523748,  0.0452134 ,  0.01220776,  0.015936  , -0.01358239,\n",
       "        0.05062515,  0.02026599, -0.0264317 , -0.03375099,  0.00331798,\n",
       "        0.00628504,  0.00108476, -0.01074002, -0.00651148, -0.00140081,\n",
       "        0.04147089,  0.00697238, -0.01363049,  0.02746941, -0.00720024,\n",
       "        0.00405868,  0.01399059,  0.02050854,  0.00872496, -0.00160909,\n",
       "        0.04593769, -0.00678547,  0.03473016, -0.00557212, -0.00420257,\n",
       "       -0.00124532,  0.01045154, -0.01836514, -0.04453059, -0.02516986,\n",
       "       -0.01585134, -0.0023864 ,  0.02258923,  0.00909183, -0.05103532,\n",
       "       -0.01145252,  0.00295562, -0.01229845, -0.00592764,  0.00466628,\n",
       "       -0.0122981 ,  0.02605093, -0.00968553, -0.01512184, -0.00699005,\n",
       "       -0.01213085, -0.03878435,  0.03978092, -0.02760332, -0.0117099 ,\n",
       "        0.0088915 ,  0.01186275,  0.01204281, -0.02384565, -0.01144331,\n",
       "       -0.00411812,  0.01048085, -0.00538853, -0.02442419,  0.03961644,\n",
       "        0.02979506,  0.02554589, -0.01077996, -0.00246369,  0.0041857 ,\n",
       "       -0.03380448, -0.01948421,  0.0022708 ,  0.001933  , -0.0208833 ,\n",
       "       -0.0110878 , -0.02155914, -0.00289176,  0.02482183, -0.04327635,\n",
       "       -0.02171362, -0.02024121,  0.01419344, -0.00718778,  0.03096035,\n",
       "        0.02176364,  0.01013922,  0.01330027, -0.01739002,  0.00564394,\n",
       "       -0.01793817,  0.00359899,  0.00822522, -0.02956004, -0.00615071,\n",
       "        0.00160274,  0.00511758,  0.03868289, -0.00501957,  0.03413177,\n",
       "       -0.00903869, -0.00956315,  0.01101834,  0.04466428, -0.01613576,\n",
       "        0.00879625, -0.01621715, -0.01384649,  0.03623147,  0.00493207,\n",
       "        0.02118062,  0.01761982,  0.00939345,  0.01017925, -0.00252273,\n",
       "        0.03609399, -0.00130536,  0.04764484,  0.04956039, -0.00837745])"
      ]
     },
     "execution_count": 48,
     "metadata": {},
     "output_type": "execute_result"
    }
   ],
   "source": [
    "# Simulate stock returns\n",
    "returns = np.random.normal(0.001, 0.02, 250)\n",
    "returns"
   ]
  },
  {
   "cell_type": "code",
   "execution_count": 49,
   "metadata": {},
   "outputs": [],
   "source": [
    "# Calculate prices for each day in the trading year, starting from an initial price of 100\n",
    "initial_price = 100\n",
    "price = initial_price * np.exp(returns.cumsum())"
   ]
  },
  {
   "cell_type": "code",
   "execution_count": 50,
   "metadata": {},
   "outputs": [
    {
     "data": {
      "image/png": "[encoded data removed]",
      "text/plain": [
       "<Figure size 432x288 with 1 Axes>"
      ]
     },
     "metadata": {
      "needs_background": "light"
     },
     "output_type": "display_data"
    }
   ],
   "source": [
    "# Plot prices using matplotlib\n",
    "import matplotlib.pyplot as plt\n",
    "%matplotlib inline\n",
    "plt.plot(price);"
   ]
  },
  {
   "cell_type": "code",
   "execution_count": 51,
   "metadata": {
    "eid": "cc13c3fd"
   },
   "outputs": [
    {
     "data": {
      "text/plain": [
       "88.36800342467212"
      ]
     },
     "execution_count": 51,
     "metadata": {},
     "output_type": "execute_result"
    }
   ],
   "source": [
    "# TASK --- Find the mean price\n",
    "np.mean(price)"
   ]
  },
  {
   "cell_type": "code",
   "execution_count": 52,
   "metadata": {
    "eid": "e01eceaa"
   },
   "outputs": [
    {
     "data": {
      "text/plain": [
       "88.0950788483732"
      ]
     },
     "execution_count": 52,
     "metadata": {},
     "output_type": "execute_result"
    }
   ],
   "source": [
    "# TASK --- Find the maximum price\n",
    "np.max(price)"
   ]
  },
  {
   "cell_type": "code",
   "execution_count": 53,
   "metadata": {
    "eid": "72d90917"
   },
   "outputs": [
    {
     "data": {
      "text/plain": [
       "75.94288477213188"
      ]
     },
     "execution_count": 53,
     "metadata": {},
     "output_type": "execute_result"
    }
   ],
   "source": [
    "# TASK --- Find the minimum price\n",
    "np.min(price)"
   ]
  }
 ],
 "metadata": {
  "kernelspec": {
   "display_name": "Python 3",
   "language": "python",
   "name": "python3"
  },
  "language_info": {
   "codemirror_mode": {
    "name": "ipython",
    "version": 3
   },
   "file_extension": ".py",
   "mimetype": "text/x-python",
   "name": "python",
   "nbconvert_exporter": "python",
   "pygments_lexer": "ipython3",
   "version": "3.7.3"
  },
  "toc": {
   "base_numbering": 1,
   "nav_menu": {},
   "number_sections": true,
   "sideBar": true,
   "skip_h1_title": false,
   "title_cell": "Table of Contents",
   "title_sidebar": "Contents",
   "toc_cell": false,
   "toc_position": {},
   "toc_section_display": true,
   "toc_window_display": false
  }
 },
 "nbformat": 4,
 "nbformat_minor": 2
}
