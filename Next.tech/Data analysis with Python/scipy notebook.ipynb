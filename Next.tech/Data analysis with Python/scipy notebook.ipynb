{
 "cells": [
  {
   "cell_type": "markdown",
   "metadata": {},
   "source": [
    "# Introduction"
   ]
  },
  {
   "cell_type": "code",
   "execution_count": null,
   "metadata": {},
   "outputs": [],
   "source": [
    "%autosave 5"
   ]
  },
  {
   "cell_type": "code",
   "execution_count": null,
   "metadata": {},
   "outputs": [],
   "source": [
    "# Import libraries\n",
    "import pandas as pd\n",
    "import numpy as np\n",
    "import seaborn as sns\n",
    "import matplotlib.pyplot as plt\n",
    "%matplotlib inline\n",
    "\n",
    "# Import data\n",
    "data = pd.read_csv('student.csv')\n",
    "\n",
    "# Show first five rows\n",
    "data.head()"
   ]
  },
  {
   "cell_type": "code",
   "execution_count": null,
   "metadata": {},
   "outputs": [],
   "source": [
    "# Create function to calculate weight average of alcohol consumption\n",
    "def weighted_alc(Dalc, Walc):\n",
    "    return (5 * Dalc + 2 * Walc) / 7\n",
    "\n",
    "# Create variable `alc`\n",
    "data['alc'] = weighted_alc(data['Dalc'], data['Walc']) <= 2\n",
    "data['alc'] = data['alc'].map({True: 'Low', False: 'High'})\n",
    "\n",
    "# Show first five rows\n",
    "data['alc'].head()"
   ]
  },
  {
   "cell_type": "markdown",
   "metadata": {},
   "source": [
    "# Confidence intervals"
   ]
  },
  {
   "cell_type": "code",
   "execution_count": null,
   "metadata": {},
   "outputs": [],
   "source": [
    "# Import scipy.stats\n",
    "import scipy.stats as stats"
   ]
  },
  {
   "cell_type": "markdown",
   "metadata": {},
   "source": [
    "## Confidence interval for a mean"
   ]
  },
  {
   "cell_type": "code",
   "execution_count": null,
   "metadata": {},
   "outputs": [],
   "source": [
    "# Find sample mean of final grade\n",
    "sample_mean_grade = data['G3'].mean()\n",
    "sample_mean_grade"
   ]
  },
  {
   "cell_type": "code",
   "execution_count": null,
   "metadata": {},
   "outputs": [],
   "source": [
    "# Find sample size\n",
    "sample_size = data.shape[0]\n",
    "sample_size"
   ]
  },
  {
   "cell_type": "code",
   "execution_count": null,
   "metadata": {},
   "outputs": [],
   "source": [
    "# Find standard error of the mean of final grade\n",
    "std_error_grade = data['G3'].std() / np.sqrt(sample_size)\n",
    "std_error_grade"
   ]
  },
  {
   "cell_type": "code",
   "execution_count": null,
   "metadata": {},
   "outputs": [],
   "source": [
    "# Calculate the 95% CI for mean final grade\n",
    "stats.norm.interval(0.95, loc=sample_mean_grade, scale=std_error_grade)"
   ]
  },
  {
   "cell_type": "markdown",
   "metadata": {},
   "source": [
    "## Confidence interval for a proportion"
   ]
  },
  {
   "cell_type": "code",
   "execution_count": null,
   "metadata": {},
   "outputs": [],
   "source": [
    "# Find sample proportion of students with high alcohol consumption\n",
    "sample_prop = data['alc'].value_counts(normalize=True)['High']\n",
    "sample_prop"
   ]
  },
  {
   "cell_type": "code",
   "execution_count": null,
   "metadata": {
    "eid": "3b51c5f2"
   },
   "outputs": [],
   "source": [
    "# TASK --- Calculate the 99% CI for proportion of students with high alcohol consumption\n"
   ]
  },
  {
   "cell_type": "markdown",
   "metadata": {},
   "source": [
    "# Probability calculations"
   ]
  },
  {
   "cell_type": "code",
   "execution_count": null,
   "metadata": {},
   "outputs": [],
   "source": [
    "# Binomial distribution pmf for k=5\n",
    "stats.binom.pmf(k=5, n=10, p=0.25)"
   ]
  },
  {
   "cell_type": "code",
   "execution_count": null,
   "metadata": {},
   "outputs": [],
   "source": [
    "# Binomial distribution pmf for all k\n",
    "all_pmf = stats.binom.pmf(k=np.arange(11), n=10, p=0.25)\n",
    "all_pmf"
   ]
  },
  {
   "cell_type": "code",
   "execution_count": null,
   "metadata": {},
   "outputs": [],
   "source": [
    "# Calculate cumulative distribution function\n",
    "cdf = stats.binom.cdf(k=np.arange(11), n=10, p=0.25)\n",
    "\n",
    "# Plot binomial dist pmf and cdf\n",
    "fig, ax = plt.subplots(1, 2, figsize=(14, 4))\n",
    "sns.barplot(x=np.arange(11), y=all_pmf, ax=ax[0]\n",
    "           ).set_title('Probability Mass Function')\n",
    "sns.lineplot(x=np.arange(11), y=cdf, ax=ax[1]\n",
    "            ).set_title('Cumulative Distribution Function')\n",
    "plt.show()"
   ]
  },
  {
   "cell_type": "code",
   "execution_count": null,
   "metadata": {
    "eid": "0cf6e575"
   },
   "outputs": [],
   "source": [
    "# TASK --- Calculate probability of 4 or less students with high alcohol consumption in class of 20\n"
   ]
  },
  {
   "cell_type": "markdown",
   "metadata": {},
   "source": [
    "# Hypothesis testing"
   ]
  },
  {
   "cell_type": "markdown",
   "metadata": {},
   "source": [
    "### Variance in grades in students with low vs. high alcohol consumption"
   ]
  },
  {
   "cell_type": "code",
   "execution_count": null,
   "metadata": {},
   "outputs": [],
   "source": [
    "# Split grade data into two groups based on alcohol consumption level\n",
    "grades_low_alc = data[data['alc'] == 'Low']['G3']\n",
    "grades_high_alc = data[data['alc'] == 'High']['G3']"
   ]
  },
  {
   "cell_type": "code",
   "execution_count": null,
   "metadata": {
    "scrolled": true
   },
   "outputs": [],
   "source": [
    "# Perform Bartlett's Test\n",
    "stats.bartlett(grades_low_alc, grades_high_alc)"
   ]
  },
  {
   "cell_type": "markdown",
   "metadata": {},
   "source": [
    "### Effect of alcohol consumption on academic performance"
   ]
  },
  {
   "cell_type": "code",
   "execution_count": null,
   "metadata": {},
   "outputs": [],
   "source": [
    "# Plot academic performance by group\n",
    "sns.boxplot(x='alc', y='G3', data=data)\n",
    "plt.show()"
   ]
  },
  {
   "cell_type": "code",
   "execution_count": null,
   "metadata": {},
   "outputs": [],
   "source": [
    "# Perform t-test\n",
    "stats.ttest_ind(grades_low_alc, grades_high_alc, equal_var=True)"
   ]
  },
  {
   "cell_type": "markdown",
   "metadata": {},
   "source": [
    "### Alcohol consumption by males vs. females"
   ]
  },
  {
   "cell_type": "code",
   "execution_count": null,
   "metadata": {},
   "outputs": [],
   "source": [
    "# Plot `sex` and `acl`\n",
    "fig, ax = plt.subplots(1, 2, figsize=(10, 5))\n",
    "sns.countplot(data['sex'], ax=ax[0]).set_title('Sex')\n",
    "sns.countplot(data['alc'], ax=ax[1]).set_title('Alcohol Consumption')\n",
    "plt.show()"
   ]
  },
  {
   "cell_type": "code",
   "execution_count": null,
   "metadata": {
    "scrolled": true
   },
   "outputs": [],
   "source": [
    "# Plot `acl`, conditioning on `sex`\n",
    "cond_plot = sns.FacetGrid(data, col='sex', hue='alc', height=4, aspect=1)\n",
    "cond_plot.map(sns.countplot, 'alc', order=['Low', 'High'])\n",
    "plt.show()"
   ]
  },
  {
   "cell_type": "code",
   "execution_count": null,
   "metadata": {},
   "outputs": [],
   "source": [
    "# Create contingency table\n",
    "sex_alc_table = pd.crosstab(data['alc'], data['sex'])\n",
    "sex_alc_table"
   ]
  },
  {
   "cell_type": "code",
   "execution_count": null,
   "metadata": {},
   "outputs": [],
   "source": [
    "# Calculate proportions of high alcohol consumers for each group\n",
    "m_high_prop = sex_alc_table['M']['High'] / sex_alc_table['M'].sum()\n",
    "f_high_prop = sex_alc_table['F']['High'] / sex_alc_table['F'].sum()\n",
    "\n",
    "print(f'Proportion of males with high alc: {m_high_prop}')\n",
    "print(f'Proportion of females with high alc: {f_high_prop}')"
   ]
  },
  {
   "cell_type": "code",
   "execution_count": null,
   "metadata": {},
   "outputs": [],
   "source": [
    "# Perform chi-squared test\n",
    "chi_stat, p_value, dof, expected_freq = stats.chi2_contingency(sex_alc_table)\n",
    "\n",
    "print(f'Test statistic: {chi_stat}')\n",
    "print(f'p-value: {p_value}')\n",
    "print(f'Degs of freedom: {dof}')\n",
    "print(f'Expected frequencies: {expected_freq}')"
   ]
  },
  {
   "cell_type": "code",
   "execution_count": null,
   "metadata": {
    "scrolled": true
   },
   "outputs": [],
   "source": [
    "# Store expected frequencies in pandas DataFrame\n",
    "expected_freq_table = pd.DataFrame(expected_freq,\n",
    "                                   index=['High', 'Low'],\n",
    "                                   columns=['F', 'M'])\n",
    "expected_freq_table"
   ]
  },
  {
   "cell_type": "markdown",
   "metadata": {},
   "source": [
    "#  Activity: Putting it all together\n",
    "## Alcohol consumption by school"
   ]
  },
  {
   "cell_type": "code",
   "execution_count": null,
   "metadata": {
    "eid": "11287b5c"
   },
   "outputs": [],
   "source": [
    "# TASK --- Plot `school` and `alc`\n",
    "fig, ax = plt.subplots(1, 2, figsize=(10, 5))\n"
   ]
  },
  {
   "cell_type": "code",
   "execution_count": null,
   "metadata": {
    "eid": "d65db58f"
   },
   "outputs": [],
   "source": [
    "# TASK --- Plot `alc`, conditioning on `school`\n"
   ]
  },
  {
   "cell_type": "code",
   "execution_count": null,
   "metadata": {
    "eid": "fc1fe5b8"
   },
   "outputs": [],
   "source": [
    "# TASK --- Create contingency table\n"
   ]
  },
  {
   "cell_type": "code",
   "execution_count": null,
   "metadata": {
    "eid": "d3d2d466"
   },
   "outputs": [],
   "source": [
    "# TASK --- Calculate proportions of high alcohol consumers for each group\n"
   ]
  },
  {
   "cell_type": "code",
   "execution_count": null,
   "metadata": {
    "eid": "5d24614f"
   },
   "outputs": [],
   "source": [
    "# TASK --- Perform chi-squared test\n"
   ]
  },
  {
   "cell_type": "code",
   "execution_count": null,
   "metadata": {
    "eid": "9d98541d"
   },
   "outputs": [],
   "source": [
    "# TASK --- Store expected frequencies in pandas DataFrame\n"
   ]
  }
 ],
 "metadata": {
  "kernelspec": {
   "display_name": "Python 3",
   "language": "python",
   "name": "python3"
  },
  "language_info": {
   "codemirror_mode": {
    "name": "ipython",
    "version": 3
   },
   "file_extension": ".py",
   "mimetype": "text/x-python",
   "name": "python",
   "nbconvert_exporter": "python",
   "pygments_lexer": "ipython3",
   "version": "3.6.6"
  }
 },
 "nbformat": 4,
 "nbformat_minor": 2
}
