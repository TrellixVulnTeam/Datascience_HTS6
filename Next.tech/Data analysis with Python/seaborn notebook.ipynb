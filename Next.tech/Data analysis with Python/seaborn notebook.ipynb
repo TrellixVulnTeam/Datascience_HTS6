{
 "cells": [
  {
   "cell_type": "markdown",
   "metadata": {},
   "source": [
    "# Objectives of EDA"
   ]
  },
  {
   "cell_type": "code",
   "execution_count": null,
   "metadata": {},
   "outputs": [],
   "source": [
    "import warnings\n",
    "warnings.filterwarnings('ignore')\n",
    "%autosave 5"
   ]
  },
  {
   "cell_type": "code",
   "execution_count": null,
   "metadata": {
    "scrolled": true
   },
   "outputs": [],
   "source": [
    "# Import libraries\n",
    "import pandas as pd\n",
    "import matplotlib.pyplot as plt\n",
    "%matplotlib inline\n",
    "\n",
    "# Import data\n",
    "housing = pd.read_csv('house.csv')\n",
    "housing.info()"
   ]
  },
  {
   "cell_type": "code",
   "execution_count": null,
   "metadata": {
    "scrolled": true
   },
   "outputs": [],
   "source": [
    "# Get list of numerical variables\n",
    "print(list(housing.select_dtypes('number').columns))"
   ]
  },
  {
   "cell_type": "code",
   "execution_count": null,
   "metadata": {
    "scrolled": true
   },
   "outputs": [],
   "source": [
    "# Get list of categorical variables\n",
    "print(list(housing.select_dtypes('object').columns))"
   ]
  },
  {
   "cell_type": "code",
   "execution_count": null,
   "metadata": {},
   "outputs": [],
   "source": [
    "# Redefine DataFrame to include selected variables\n",
    "numerical = [\n",
    "    'SalePrice',\n",
    "    'LotArea',\n",
    "    'OverallQual',\n",
    "    'OverallCond',\n",
    "    'YearBuilt',\n",
    "    '1stFlrSF',\n",
    "    '2ndFlrSF',\n",
    "    'BedroomAbvGr'\n",
    "]\n",
    "\n",
    "categorical = [\n",
    "    'MSZoning',\n",
    "    'LotShape',\n",
    "    'Neighborhood',\n",
    "    'CentralAir',\n",
    "    'SaleCondition',\n",
    "    'MoSold',\n",
    "    'YrSold'\n",
    "]\n",
    "\n",
    "housing = housing[numerical + categorical]\n",
    "housing.shape"
   ]
  },
  {
   "cell_type": "markdown",
   "metadata": {},
   "source": [
    "# Understanding variables with `seaborn`\n",
    "## Target variable"
   ]
  },
  {
   "cell_type": "code",
   "execution_count": null,
   "metadata": {},
   "outputs": [],
   "source": [
    "# Get summary statistics for SalePrice\n",
    "housing['SalePrice'].describe()"
   ]
  },
  {
   "cell_type": "code",
   "execution_count": null,
   "metadata": {},
   "outputs": [],
   "source": [
    "# Plot distribution of SalePrice using matplotlib\n",
    "plt.figure(figsize=(8,5))\n",
    "plt.hist(housing['SalePrice'], bins=20)\n",
    "plt.xlabel('Sale Price')\n",
    "plt.ylabel('Count')\n",
    "plt.grid(True)\n",
    "plt.show()"
   ]
  },
  {
   "cell_type": "code",
   "execution_count": null,
   "metadata": {},
   "outputs": [],
   "source": [
    "# Plot distribution of SalePrice using seaborn\n",
    "import seaborn as sns\n",
    "\n",
    "sns.set(style='whitegrid',               # changes style (white background with grid)\n",
    "        palette=\"deep\",                  # changes color palette\n",
    "        font_scale=1.1,                  # increases font size\n",
    "        rc={\"figure.figsize\": [8, 5]})   # sets figure size\n",
    "\n",
    "sns.distplot(\n",
    "    housing['SalePrice'], norm_hist=False, kde=False, bins=20, hist_kws={\"alpha\": 1}\n",
    ").set(xlabel='Sale Price', ylabel='Count')\n",
    "plt.show()"
   ]
  },
  {
   "cell_type": "markdown",
   "metadata": {},
   "source": [
    "## Numerical variables"
   ]
  },
  {
   "cell_type": "code",
   "execution_count": null,
   "metadata": {},
   "outputs": [],
   "source": [
    "# Plot numerical variables using pandas + matplotlib\n",
    "housing[numerical].hist(bins=15, figsize=(15, 6), layout=(2, 4))\n",
    "plt.tight_layout()\n",
    "plt.show()"
   ]
  },
  {
   "cell_type": "code",
   "execution_count": null,
   "metadata": {},
   "outputs": [],
   "source": [
    "# Create 'Age' variable and replace 'YearBuilt' with it\n",
    "housing['Age'] = housing['YrSold'] - housing['YearBuilt']\n",
    "numerical.remove('YearBuilt')\n",
    "numerical.append('Age')\n",
    "\n",
    "# Replot numerical variables\n",
    "housing[numerical].hist(bins=15, figsize=(15, 6), layout=(2, 4))\n",
    "plt.tight_layout()\n",
    "plt.show()"
   ]
  },
  {
   "cell_type": "markdown",
   "metadata": {},
   "source": [
    "## Categorical variables"
   ]
  },
  {
   "cell_type": "code",
   "execution_count": null,
   "metadata": {},
   "outputs": [],
   "source": [
    "# Plot distribution of SaleCondition using matplotlib\n",
    "housing['SaleCondition'].value_counts().plot(kind='bar', title='SaleCondition')\n",
    "plt.show()"
   ]
  },
  {
   "cell_type": "code",
   "execution_count": null,
   "metadata": {},
   "outputs": [],
   "source": [
    "# Plot distribution of SaleCondition using seaborn\n",
    "sns.countplot(housing['SaleCondition'])\n",
    "plt.show()"
   ]
  },
  {
   "cell_type": "code",
   "execution_count": null,
   "metadata": {},
   "outputs": [],
   "source": [
    "# Plot categorical variables using matplotlib + seaborn\n",
    "fig, ax = plt.subplots(2, 4, figsize=(20, 10))\n",
    "for variable, subplot in zip(categorical, ax.flatten()):\n",
    "    sns.countplot(housing[variable], ax=subplot)\n",
    "    for label in subplot.get_xticklabels():\n",
    "        label.set_rotation(90)\n",
    "\n",
    "# Since there are only 7 variables and 8 plots, we will remove this plot's axis\n",
    "# You can remove this line to see how the figure would look otherwise\n",
    "ax[-1,-1].axis('off')\n",
    "\n",
    "fig.tight_layout()\n",
    "plt.show()"
   ]
  },
  {
   "cell_type": "code",
   "execution_count": null,
   "metadata": {},
   "outputs": [],
   "source": [
    "# Write function that returns list of categories with more than 30 observations\n",
    "def above30(series):\n",
    "    counts = series.value_counts()\n",
    "    return list(counts[counts >= 30].index)"
   ]
  },
  {
   "cell_type": "code",
   "execution_count": null,
   "metadata": {},
   "outputs": [],
   "source": [
    "# Apply function to each categorical variable\n",
    "categories_to_keep = housing[categorical].apply(above30, axis=0)\n",
    "print(categories_to_keep)\n",
    "\n",
    "# Loop through categorical variables to keep only categories with more than 30 observations\n",
    "for variables in categorical:\n",
    "    housing = housing.loc[housing[variables].isin(categories_to_keep[variables])]"
   ]
  },
  {
   "cell_type": "code",
   "execution_count": null,
   "metadata": {},
   "outputs": [],
   "source": [
    "# Print shape of new DataFrame\n",
    "housing.shape"
   ]
  },
  {
   "cell_type": "code",
   "execution_count": null,
   "metadata": {},
   "outputs": [],
   "source": [
    "# Plot categorical variables using matplotlib + seaborn\n",
    "fig, ax = plt.subplots(2, 4, figsize=(20, 10))\n",
    "for variable, subplot in zip(categorical, ax.flatten()):\n",
    "    sns.countplot(housing[variable], ax=subplot)\n",
    "    for label in subplot.get_xticklabels():\n",
    "        label.set_rotation(90)\n",
    "\n",
    "# Since there are only 7 variables and 8 plots, we will remove this plot's axis\n",
    "# You can remove this line to see how the figure would look otherwise\n",
    "ax[-1,-1].axis('off')\n",
    "\n",
    "fig.tight_layout()\n",
    "plt.show()"
   ]
  },
  {
   "cell_type": "markdown",
   "metadata": {},
   "source": [
    "# Relationships between variables\n",
    "## Scatter plots"
   ]
  },
  {
   "cell_type": "code",
   "execution_count": null,
   "metadata": {},
   "outputs": [],
   "source": [
    "# Plot relationship between 1stFlrSF and SalePrice using matplotlib\n",
    "plt.scatter(x=housing['1stFlrSF'], y=housing['SalePrice'])\n",
    "plt.xlabel('1stFlrSF')\n",
    "plt.ylabel('SalePrice')\n",
    "plt.show()"
   ]
  },
  {
   "cell_type": "code",
   "execution_count": null,
   "metadata": {},
   "outputs": [],
   "source": [
    "# Plot relationship between 1stFlrSF and SalePrice using seaborn\n",
    "sns.scatterplot(x=housing['1stFlrSF'], y=housing['SalePrice'])\n",
    "plt.show()"
   ]
  },
  {
   "cell_type": "code",
   "execution_count": null,
   "metadata": {},
   "outputs": [],
   "source": [
    "# Plot scatter + marginal plot between 1stFlrSF and SalePrice\n",
    "sns.jointplot(x=housing['1stFlrSF'], y=housing['SalePrice'])\n",
    "plt.show()"
   ]
  },
  {
   "cell_type": "code",
   "execution_count": null,
   "metadata": {},
   "outputs": [],
   "source": [
    "# Plot scatters between SalePrice, LotArea, OverallQual, and OverallCond\n",
    "sns.pairplot(housing[numerical[:4]])\n",
    "plt.show()"
   ]
  },
  {
   "cell_type": "code",
   "execution_count": null,
   "metadata": {},
   "outputs": [],
   "source": [
    "# Plot scatters between SalePrice, 1stFlrSF, 2ndFlrSF, BedroomAbvGr, and Age\n",
    "sns.pairplot(housing[['SalePrice'] + numerical[4:]])\n",
    "plt.show()"
   ]
  },
  {
   "cell_type": "markdown",
   "metadata": {},
   "source": [
    "## Box plots"
   ]
  },
  {
   "cell_type": "code",
   "execution_count": null,
   "metadata": {},
   "outputs": [],
   "source": [
    "# Plot box plots between SalePrice and categorical variables\n",
    "fig, ax = plt.subplots(3, 3, figsize=(15, 10))\n",
    "for var, subplot in zip(categorical, ax.flatten()):\n",
    "    sns.boxplot(x=var, y='SalePrice', data=housing, ax=subplot)\n",
    "    for label in subplot.get_xticklabels():\n",
    "        label.set_rotation(90)\n",
    "\n",
    "# Since there are only 7 variables and 9 plots, we will remove these plots' axis\n",
    "ax[-1,-1].axis('off')\n",
    "ax[-1,-2].axis('off')\n",
    "        \n",
    "fig.tight_layout()\n",
    "plt.show()"
   ]
  },
  {
   "cell_type": "code",
   "execution_count": null,
   "metadata": {},
   "outputs": [],
   "source": [
    "# Sort neighborhoods by median SalePrice from lowest to highest\n",
    "sorted_nb = housing.groupby(['Neighborhood'])['SalePrice'].median().sort_values()\n",
    "print(sorted_nb)"
   ]
  },
  {
   "cell_type": "code",
   "execution_count": null,
   "metadata": {},
   "outputs": [],
   "source": [
    "# Create sorted boxplot between Neighborhood and SalePrice\n",
    "sns.boxplot(x=housing['Neighborhood'], y=housing['SalePrice'], order=list(sorted_nb.index))\n",
    "plt.xticks(rotation=90)\n",
    "plt.show()"
   ]
  },
  {
   "cell_type": "markdown",
   "metadata": {},
   "source": [
    "## Conditional plots"
   ]
  },
  {
   "cell_type": "code",
   "execution_count": null,
   "metadata": {},
   "outputs": [],
   "source": [
    "## Reset defaults to make font smaller, figure bigger, and remove grid\n",
    "sns.set(style='white', palette=\"deep\", font_scale=0.9, rc={\"figure.figsize\": [20, 10]})\n",
    "\n",
    "# Create scatter plot between OverallQual and SalePrice, conditioning on Neighborhood\n",
    "cond_plot = sns.FacetGrid(data=housing, col='Neighborhood', col_wrap=4)\n",
    "cond_plot.map(sns.scatterplot, 'OverallQual', 'SalePrice')\n",
    "plt.show()"
   ]
  },
  {
   "cell_type": "code",
   "execution_count": null,
   "metadata": {},
   "outputs": [],
   "source": [
    "# Create scatter plot between Age and SalePrice, conditioning on YrSold and SaleCondition\n",
    "cond_plot = sns.FacetGrid(data=housing, col='YrSold', row='SaleCondition', hue='CentralAir')\n",
    "cond_plot.map(sns.scatterplot, 'Age', 'SalePrice').add_legend()\n",
    "plt.tight_layout()\n",
    "plt.show()"
   ]
  },
  {
   "cell_type": "markdown",
   "metadata": {},
   "source": [
    "## TASK:"
   ]
  },
  {
   "cell_type": "code",
   "execution_count": null,
   "metadata": {
    "eid": "b082c5f4"
   },
   "outputs": [],
   "source": [
    "# TASK --- Create a complex conditional plot\n"
   ]
  }
 ],
 "metadata": {
  "kernelspec": {
   "display_name": "Python 3",
   "language": "python",
   "name": "python3"
  },
  "language_info": {
   "codemirror_mode": {
    "name": "ipython",
    "version": 3
   },
   "file_extension": ".py",
   "mimetype": "text/x-python",
   "name": "python",
   "nbconvert_exporter": "python",
   "pygments_lexer": "ipython3",
   "version": "3.6.6"
  }
 },
 "nbformat": 4,
 "nbformat_minor": 2
}
