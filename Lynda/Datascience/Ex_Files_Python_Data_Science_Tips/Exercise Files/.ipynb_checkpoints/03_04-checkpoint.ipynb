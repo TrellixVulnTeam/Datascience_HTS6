{
 "cells": [
  {
   "cell_type": "code",
   "execution_count": null,
   "metadata": {},
   "outputs": [],
   "source": [
    "# Start by importing our libraries\n",
    "%matplotlib inline\n",
    "from ggplot import *"
   ]
  },
  {
   "cell_type": "code",
   "execution_count": null,
   "metadata": {},
   "outputs": [],
   "source": [
    "# Let's start w/ a scatterplot\n",
    "ggplot(mpg, aes(x='cty', y='hwy')) + geom_point()"
   ]
  },
  {
   "cell_type": "code",
   "execution_count": null,
   "metadata": {},
   "outputs": [],
   "source": [
    "# Let's add a title\n",
    "ggplot(mpg, aes(x='cty', y='hwy')) + geom_point() + \\\n",
    "    ggtitle(\"City vs. Highway Miles per Gallon\")"
   ]
  },
  {
   "cell_type": "code",
   "execution_count": null,
   "metadata": {},
   "outputs": [],
   "source": [
    "# Now let's add some custom labels\n",
    "ggplot(mpg, aes(x='cty', y='hwy')) + geom_point() + ggtitle(\"City vs. Highway Miles per Gallon\") + \\\n",
    "    xlab(\"City MPG (Miles per Gallon)\") + \\\n",
    "    ylab(\"Highway MPG (Miles per Gallon)\")"
   ]
  },
  {
   "cell_type": "code",
   "execution_count": null,
   "metadata": {},
   "outputs": [],
   "source": [
    "# Color might help here\n",
    "ggplot(mpg, aes(x='cty', y='hwy', color='class')) + geom_point() + ggtitle(\"City vs. Highway Miles per Gallon\") + \\\n",
    "    xlab(\"City MPG (Miles per Gallon)\") + \\\n",
    "    ylab(\"Highway MPG (Miles per Gallon)\") + \\\n",
    "    scale_color_brewer(type='qual')"
   ]
  },
  {
   "cell_type": "code",
   "execution_count": null,
   "metadata": {},
   "outputs": [],
   "source": [
    "# How about splitting these out?\n",
    "ggplot(mpg, aes(x='cty', y='hwy', color='class')) + geom_point() + ggtitle(\"City vs. Highway Miles per Gallon\") + \\\n",
    "    xlab(\"City MPG (Miles per Gallon)\") + \\\n",
    "    ylab(\"Highway MPG (Miles per Gallon)\") + \\\n",
    "    scale_color_brewer(type='qual') + \\\n",
    "    facet_wrap(x='year',y='cyl')"
   ]
  },
  {
   "cell_type": "code",
   "execution_count": null,
   "metadata": {
    "collapsed": true
   },
   "outputs": [],
   "source": []
  }
 ],
 "metadata": {
  "anaconda-cloud": {},
  "kernelspec": {
   "display_name": "Python 2",
   "language": "python",
   "name": "python2"
  },
  "language_info": {
   "codemirror_mode": {
    "name": "ipython",
    "version": 2
   },
   "file_extension": ".py",
   "mimetype": "text/x-python",
   "name": "python",
   "nbconvert_exporter": "python",
   "pygments_lexer": "ipython2",
   "version": "2.7.17"
  },
  "toc": {
   "base_numbering": 1,
   "nav_menu": {},
   "number_sections": true,
   "sideBar": true,
   "skip_h1_title": false,
   "title_cell": "Table of Contents",
   "title_sidebar": "Contents",
   "toc_cell": false,
   "toc_position": {},
   "toc_section_display": true,
   "toc_window_display": false
  }
 },
 "nbformat": 4,
 "nbformat_minor": 1
}
