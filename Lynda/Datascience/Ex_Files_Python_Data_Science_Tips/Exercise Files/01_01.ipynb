{
 "cells": [
  {
   "cell_type": "code",
   "execution_count": 1,
   "metadata": {},
   "outputs": [],
   "source": [
    "import json"
   ]
  },
  {
   "cell_type": "code",
   "execution_count": 3,
   "metadata": {},
   "outputs": [],
   "source": [
    "# load json file from /data folder\n",
    "with open('data/monthlySalesbyCategoryMultiple.json') as json_data:\n",
    "    d = json.load(json_data) # Dictionary"
   ]
  },
  {
   "cell_type": "code",
   "execution_count": 4,
   "metadata": {},
   "outputs": [
    {
     "name": "stdout",
     "output_type": "stream",
     "text": [
      "{u'contents': [{u'category': u'Furniture',\n",
      "                u'monthlySales': [{u'month': 20130101, u'sales': 38},\n",
      "                                  {u'month': 20130201, u'sales': 35},\n",
      "                                  {u'month': 20130301, u'sales': 41},\n",
      "                                  {u'month': 20130401, u'sales': 55},\n",
      "                                  {u'month': 20130501, u'sales': 58},\n",
      "                                  {u'month': 20130601, u'sales': 66},\n",
      "                                  {u'month': 20130701, u'sales': 74},\n",
      "                                  {u'month': 20130801, u'sales': 78},\n",
      "                                  {u'month': 20130901, u'sales': 38},\n",
      "                                  {u'month': 20131001, u'sales': 30},\n",
      "                                  {u'month': 20131101, u'sales': 26},\n",
      "                                  {u'month': 20131201, u'sales': 29}],\n",
      "                u'region': u'West'},\n",
      "               {u'category': u'Technology',\n",
      "                u'monthlySales': [{u'month': 20130101, u'sales': 54},\n",
      "                                  {u'month': 20130201, u'sales': 66},\n",
      "                                  {u'month': 20130301, u'sales': 77},\n",
      "                                  {u'month': 20130401, u'sales': 70},\n",
      "                                  {u'month': 20130501, u'sales': 60},\n",
      "                                  {u'month': 20130601, u'sales': 63},\n",
      "                                  {u'month': 20130701, u'sales': 55},\n",
      "                                  {u'month': 20130801, u'sales': 47},\n",
      "                                  {u'month': 20130901, u'sales': 55},\n",
      "                                  {u'month': 20131001, u'sales': 30},\n",
      "                                  {u'month': 20131101, u'sales': 22},\n",
      "                                  {u'month': 20131201, u'sales': 77}],\n",
      "                u'region': u'West'}]}\n"
     ]
    }
   ],
   "source": [
    "# see what the dictionary looks like\n",
    "from pprint import pprint as pp\n",
    "pp(d)"
   ]
  },
  {
   "cell_type": "code",
   "execution_count": 5,
   "metadata": {},
   "outputs": [
    {
     "name": "stdout",
     "output_type": "stream",
     "text": [
      "[u'contents']\n"
     ]
    }
   ],
   "source": [
    "# print keys at the top level\n",
    "print d.keys()"
   ]
  },
  {
   "cell_type": "code",
   "execution_count": 6,
   "metadata": {},
   "outputs": [
    {
     "name": "stdout",
     "output_type": "stream",
     "text": [
      "[u'category', u'monthlySales', u'region']\n",
      "[u'category', u'monthlySales', u'region']\n"
     ]
    }
   ],
   "source": [
    "# print keys at the second level\n",
    "for a in d['contents']:\n",
    "    print a.keys()"
   ]
  },
  {
   "cell_type": "code",
   "execution_count": 7,
   "metadata": {},
   "outputs": [
    {
     "name": "stdout",
     "output_type": "stream",
     "text": [
      "[u'sales', u'month']\n",
      "[u'sales', u'month']\n",
      "[u'sales', u'month']\n",
      "[u'sales', u'month']\n",
      "[u'sales', u'month']\n",
      "[u'sales', u'month']\n",
      "[u'sales', u'month']\n",
      "[u'sales', u'month']\n",
      "[u'sales', u'month']\n",
      "[u'sales', u'month']\n",
      "[u'sales', u'month']\n",
      "[u'sales', u'month']\n",
      "[u'sales', u'month']\n",
      "[u'sales', u'month']\n",
      "[u'sales', u'month']\n",
      "[u'sales', u'month']\n",
      "[u'sales', u'month']\n",
      "[u'sales', u'month']\n",
      "[u'sales', u'month']\n",
      "[u'sales', u'month']\n",
      "[u'sales', u'month']\n",
      "[u'sales', u'month']\n",
      "[u'sales', u'month']\n",
      "[u'sales', u'month']\n"
     ]
    }
   ],
   "source": [
    "# print keys at the third level\n",
    "for a in d['contents']:\n",
    "    for b in a['monthlySales']:\n",
    "        print b.keys()"
   ]
  },
  {
   "cell_type": "code",
   "execution_count": 8,
   "metadata": {
    "scrolled": true
   },
   "outputs": [
    {
     "name": "stdout",
     "output_type": "stream",
     "text": [
      "contents: [{u'category': u'Furniture',\n",
      "  u'monthlySales': [{u'month': 20130101, u'sales': 38},\n",
      "                    {u'month': 20130201, u'sales': 35},\n",
      "                    {u'month': 20130301, u'sales': 41},\n",
      "                    {u'month': 20130401, u'sales': 55},\n",
      "                    {u'month': 20130501, u'sales': 58},\n",
      "                    {u'month': 20130601, u'sales': 66},\n",
      "                    {u'month': 20130701, u'sales': 74},\n",
      "                    {u'month': 20130801, u'sales': 78},\n",
      "                    {u'month': 20130901, u'sales': 38},\n",
      "                    {u'month': 20131001, u'sales': 30},\n",
      "                    {u'month': 20131101, u'sales': 26},\n",
      "                    {u'month': 20131201, u'sales': 29}],\n",
      "  u'region': u'West'},\n",
      " {u'category': u'Technology',\n",
      "  u'monthlySales': [{u'month': 20130101, u'sales': 54},\n",
      "                    {u'month': 20130201, u'sales': 66},\n",
      "                    {u'month': 20130301, u'sales': 77},\n",
      "                    {u'month': 20130401, u'sales': 70},\n",
      "                    {u'month': 20130501, u'sales': 60},\n",
      "                    {u'month': 20130601, u'sales': 63},\n",
      "                    {u'month': 20130701, u'sales': 55},\n",
      "                    {u'month': 20130801, u'sales': 47},\n",
      "                    {u'month': 20130901, u'sales': 55},\n",
      "                    {u'month': 20131001, u'sales': 30},\n",
      "                    {u'month': 20131101, u'sales': 22},\n",
      "                    {u'month': 20131201, u'sales': 77}],\n",
      "  u'region': u'West'}]\n",
      " None\n"
     ]
    }
   ],
   "source": [
    "# print the keys and values at the first level\n",
    "for key, value in d.items():\n",
    "    print key + ': ', pp(value)"
   ]
  },
  {
   "cell_type": "code",
   "execution_count": 9,
   "metadata": {},
   "outputs": [
    {
     "name": "stdout",
     "output_type": "stream",
     "text": [
      "category:  Furniture\n",
      "monthlySales:  [{u'sales': 38, u'month': 20130101}, {u'sales': 35, u'month': 20130201}, {u'sales': 41, u'month': 20130301}, {u'sales': 55, u'month': 20130401}, {u'sales': 58, u'month': 20130501}, {u'sales': 66, u'month': 20130601}, {u'sales': 74, u'month': 20130701}, {u'sales': 78, u'month': 20130801}, {u'sales': 38, u'month': 20130901}, {u'sales': 30, u'month': 20131001}, {u'sales': 26, u'month': 20131101}, {u'sales': 29, u'month': 20131201}]\n",
      "region:  West\n",
      "category:  Technology\n",
      "monthlySales:  [{u'sales': 54, u'month': 20130101}, {u'sales': 66, u'month': 20130201}, {u'sales': 77, u'month': 20130301}, {u'sales': 70, u'month': 20130401}, {u'sales': 60, u'month': 20130501}, {u'sales': 63, u'month': 20130601}, {u'sales': 55, u'month': 20130701}, {u'sales': 47, u'month': 20130801}, {u'sales': 55, u'month': 20130901}, {u'sales': 30, u'month': 20131001}, {u'sales': 22, u'month': 20131101}, {u'sales': 77, u'month': 20131201}]\n",
      "region:  West\n"
     ]
    }
   ],
   "source": [
    "# print the keys and values at the second level\n",
    "for a in d['contents']:\n",
    "    for key, value in a.items():\n",
    "        print key + ': ', value    "
   ]
  },
  {
   "cell_type": "code",
   "execution_count": 10,
   "metadata": {},
   "outputs": [
    {
     "name": "stdout",
     "output_type": "stream",
     "text": [
      "sales:  38\n",
      "month:  20130101\n",
      "sales:  35\n",
      "month:  20130201\n",
      "sales:  41\n",
      "month:  20130301\n",
      "sales:  55\n",
      "month:  20130401\n",
      "sales:  58\n",
      "month:  20130501\n",
      "sales:  66\n",
      "month:  20130601\n",
      "sales:  74\n",
      "month:  20130701\n",
      "sales:  78\n",
      "month:  20130801\n",
      "sales:  38\n",
      "month:  20130901\n",
      "sales:  30\n",
      "month:  20131001\n",
      "sales:  26\n",
      "month:  20131101\n",
      "sales:  29\n",
      "month:  20131201\n",
      "sales:  54\n",
      "month:  20130101\n",
      "sales:  66\n",
      "month:  20130201\n",
      "sales:  77\n",
      "month:  20130301\n",
      "sales:  70\n",
      "month:  20130401\n",
      "sales:  60\n",
      "month:  20130501\n",
      "sales:  63\n",
      "month:  20130601\n",
      "sales:  55\n",
      "month:  20130701\n",
      "sales:  47\n",
      "month:  20130801\n",
      "sales:  55\n",
      "month:  20130901\n",
      "sales:  30\n",
      "month:  20131001\n",
      "sales:  22\n",
      "month:  20131101\n",
      "sales:  77\n",
      "month:  20131201\n"
     ]
    }
   ],
   "source": [
    "# print the keys and values at the third level\n",
    "for a in d['contents']:\n",
    "    for b in a['monthlySales']:\n",
    "        for key, value in b.items():\n",
    "            print key + \": \", value"
   ]
  },
  {
   "cell_type": "code",
   "execution_count": null,
   "metadata": {
    "collapsed": true
   },
   "outputs": [],
   "source": []
  }
 ],
 "metadata": {
  "kernelspec": {
   "display_name": "Python 2",
   "language": "python",
   "name": "python2"
  },
  "language_info": {
   "codemirror_mode": {
    "name": "ipython",
    "version": 2
   },
   "file_extension": ".py",
   "mimetype": "text/x-python",
   "name": "python",
   "nbconvert_exporter": "python",
   "pygments_lexer": "ipython2",
   "version": "2.7.17"
  },
  "toc": {
   "base_numbering": 1,
   "nav_menu": {},
   "number_sections": true,
   "sideBar": true,
   "skip_h1_title": false,
   "title_cell": "Table of Contents",
   "title_sidebar": "Contents",
   "toc_cell": false,
   "toc_position": {},
   "toc_section_display": true,
   "toc_window_display": false
  }
 },
 "nbformat": 4,
 "nbformat_minor": 2
}
