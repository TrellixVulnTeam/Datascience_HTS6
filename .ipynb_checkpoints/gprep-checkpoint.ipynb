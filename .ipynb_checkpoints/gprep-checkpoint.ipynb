{
 "cells": [
  {
   "cell_type": "code",
   "execution_count": 25,
   "metadata": {},
   "outputs": [
    {
     "name": "stdout",
     "output_type": "stream",
     "text": [
      "1 2\n",
      "1 3\n",
      "2 1\n",
      "2 3\n",
      "3 1\n",
      "3 2\n"
     ]
    }
   ],
   "source": [
    "row, col = 0, 0\n",
    "\n",
    "# Use this print statement within your inner loop\n",
    "while row <3:\n",
    "    row+=1\n",
    "    while col <3:\n",
    "        col+=1\n",
    "        if(row==col and col<3):\n",
    "            col+=1\n",
    "        if (col>=3 and row>=3):\n",
    "            break\n",
    "        else:\n",
    "            print(row, col)    \n",
    "        \n",
    "        if col>=3 and row <3:\n",
    "            col=0\n",
    "            row+=1\n",
    "              \n",
    "       "
   ]
  },
  {
   "cell_type": "code",
   "execution_count": 29,
   "metadata": {},
   "outputs": [
    {
     "name": "stdout",
     "output_type": "stream",
     "text": [
      "Please enter a number: 6\n",
      "Please enter a number: 18\n",
      "6\n"
     ]
    }
   ],
   "source": [
    "number1 = int(input('Please enter a number: '))\n",
    "number2 = int(input('Please enter a number: '))\n",
    "if (number1>number2):\n",
    "    num=number2\n",
    "else:\n",
    "    num=number1\n",
    "i=1\n",
    "result =1\n",
    "while i<=num:\n",
    "    if(number1%i==0 and number2%i==0):\n",
    "        result=i\n",
    "    i+=1    \n",
    "# Use print() to print the result, like this:\n",
    "print(result)"
   ]
  },
  {
   "cell_type": "code",
   "execution_count": 31,
   "metadata": {},
   "outputs": [
    {
     "name": "stdout",
     "output_type": "stream",
     "text": [
      "Please enter a number: 4\n",
      "Please enter a number: 12\n",
      "12\n"
     ]
    }
   ],
   "source": [
    "# Example input() statement\n",
    "number1 = int(input('Please enter a number: '))\n",
    "number2 = int(input('Please enter a number: '))\n",
    "if (number1>number2):\n",
    "    num=number2\n",
    "    bignum=number1\n",
    "else:\n",
    "    num=number1\n",
    "    bignum=number2\n",
    "i=1\n",
    "result =1\n",
    "while i<=num:\n",
    "    if((bignum*i)%num == 0):\n",
    "        result= bignum*i\n",
    "        break\n",
    "    i+=1    \n",
    "# Use print() to print the result, like this:\n",
    "print(result)\n"
   ]
  },
  {
   "cell_type": "code",
   "execution_count": 33,
   "metadata": {},
   "outputs": [
    {
     "name": "stdout",
     "output_type": "stream",
     "text": [
      "Please enter a number: 4\n",
      "The number you inputted is not a prime number.\n"
     ]
    }
   ],
   "source": [
    "number = int(input('Please enter a number: '))\n",
    "i=1\n",
    "# Here are the print statements that you should use.\n",
    "while i<number:\n",
    "    i+=1\n",
    "    if(i==number):\n",
    "        print('The number you inputted is a prime number.')\n",
    "        break\n",
    "    if(number%i == 0):\n",
    "        print('The number you inputted is not a prime number.')\n",
    "        break\n",
    "    "
   ]
  },
  {
   "cell_type": "code",
   "execution_count": 39,
   "metadata": {},
   "outputs": [
    {
     "name": "stdout",
     "output_type": "stream",
     "text": [
      "Please enter a string: HI\n",
      "HI!!!\n"
     ]
    }
   ],
   "source": [
    "# Example input() statement\n",
    "s = input('Please enter a string: ')\n",
    "if(s.islower()):\n",
    "    s=s.upper()+'!!!'\n",
    "    print(s)\n",
    "elif(s.isupper()):\n",
    "    s=s.lower()\n",
    "    print(s)\n",
    "else:\n",
    "    print(s)\n",
    "       # Print the string when you are done\n"
   ]
  },
  {
   "cell_type": "code",
   "execution_count": 54,
   "metadata": {},
   "outputs": [
    {
     "name": "stdout",
     "output_type": "stream",
     "text": [
      "Please enter a string: Hi\n",
      "Hi\n",
      "Hi\n"
     ]
    }
   ],
   "source": [
    "# Example input() statement\n",
    "s = input('Please enter a string: ')\n",
    "if s.endswith('!!!'):\n",
    "    s.replace('!!!', '.')\n",
    "# Print the string when you are done\n",
    "print(s)\n",
    "s='Hi'\n",
    "s.replace('Hi', 'pi')\n",
    "# Print the string when you are done\n",
    "print(s)\n"
   ]
  },
  {
   "cell_type": "code",
   "execution_count": 3,
   "metadata": {},
   "outputs": [
    {
     "name": "stdout",
     "output_type": "stream",
     "text": [
      "Please enter a number: 5\n",
      "The number you inputted is a prime number.\n"
     ]
    }
   ],
   "source": [
    "number = int(input('Please enter a number: '))\n",
    "\n",
    "for i in range(2,number+1):\n",
    "    if(number%i == 0 and i<number):\n",
    "        print('The number you inputted is not a prime number.')\n",
    "        break\n",
    "    if(i==number):  \n",
    "        print('The number you inputted is a prime number.')"
   ]
  },
  {
   "cell_type": "code",
   "execution_count": 8,
   "metadata": {},
   "outputs": [
    {
     "name": "stdout",
     "output_type": "stream",
     "text": [
      "Please enter a string: Hello\n",
      "Please enter a letter to count: h\n",
      "1\n"
     ]
    }
   ],
   "source": [
    "# First get the string\n",
    "s = input('Please enter a string: ')\n",
    "# Then get the letter to count\n",
    "l = input('Please enter a letter to count: ')\n",
    "s=s.lower()\n",
    "l=l.lower()\n",
    "count=0\n",
    "for i in s:\n",
    "    #print(i)\n",
    "    if(l==i):\n",
    "        count+=1\n",
    "# Print the number of times letter is in the inputted string\n",
    "print(count)"
   ]
  },
  {
   "cell_type": "code",
   "execution_count": 10,
   "metadata": {},
   "outputs": [
    {
     "name": "stdout",
     "output_type": "stream",
     "text": [
      "[6, 2]\n"
     ]
    }
   ],
   "source": [
    "l1 = [0, 3, 6, 9, 10, 2, 5]\n",
    "l2 = [2, 6, 4, 7, 8, 1, 15]\n",
    "\n",
    "# An empty list\n",
    "common = []\n",
    "\n",
    "for i in l1:\n",
    "    for j in l2:\n",
    "        if(i==j):\n",
    "            common.append(i)\n",
    "\n",
    "# Print the result\n",
    "print(common)"
   ]
  },
  {
   "cell_type": "code",
   "execution_count": 28,
   "metadata": {},
   "outputs": [
    {
     "name": "stdout",
     "output_type": "stream",
     "text": [
      "Please enter a string: hello\n",
      "e\n",
      "hllo\n",
      "o\n",
      "hll\n"
     ]
    },
    {
     "data": {
      "text/plain": [
       "'hll'"
      ]
     },
     "execution_count": 28,
     "metadata": {},
     "output_type": "execute_result"
    }
   ],
   "source": [
    "s = input('Please enter a string: ')\n",
    "result=s\n",
    "v = ['a','e','i','o','u']\n",
    "for i in result:\n",
    "    if i in v:\n",
    "        print(i)\n",
    "        result=result.replace(str(i),'')\n",
    "        print(result)\n",
    "         # Print your result here\n",
    "#result.replace('e','')        \n",
    "# print(result)"
   ]
  },
  {
   "cell_type": "code",
   "execution_count": 36,
   "metadata": {},
   "outputs": [
    {
     "name": "stdout",
     "output_type": "stream",
     "text": [
      "Please enter a string: hello\n",
      "hElLo\n"
     ]
    }
   ],
   "source": [
    "s = input('Please enter a string: ')\n",
    "b=''\n",
    "for i in range(len(s)):\n",
    "    if ((i+1)%2==0):\n",
    "        b+=(s[i].upper())\n",
    "    else:\n",
    "        b+=s[i]\n",
    "        \n",
    "# Print the result\n",
    "print(b)"
   ]
  },
  {
   "cell_type": "code",
   "execution_count": 39,
   "metadata": {},
   "outputs": [
    {
     "name": "stdout",
     "output_type": "stream",
     "text": [
      "[1, 2, 3, 4, 6, 7, 8, 9, 9, 10, 200]\n"
     ]
    }
   ],
   "source": [
    "my_list = list(range(1, 11))\n",
    "my_list[4] = 200\n",
    "my_list.append(9)\n",
    "my_list.sort()\n",
    "print(my_list)"
   ]
  },
  {
   "cell_type": "code",
   "execution_count": 40,
   "metadata": {},
   "outputs": [
    {
     "name": "stdout",
     "output_type": "stream",
     "text": [
      "('diamond', 'spade')\n"
     ]
    }
   ],
   "source": [
    "suit_tup = ('diamond', 'club', 'spade', 'heart')\n",
    "print(suit_tup[::2])"
   ]
  },
  {
   "cell_type": "code",
   "execution_count": 45,
   "metadata": {},
   "outputs": [],
   "source": [
    "def count_pair_sums(arr, number=0):\n",
    "#     number = 15\n",
    "#     arr = [7, 7, 8, 8]\n",
    "    '''\n",
    "    Given an array, find the count of how many pairs of numbers in the array sum\n",
    "    to the input number\n",
    "\n",
    "    Parameters\n",
    "    ----------\n",
    "    arr: {list} list of integers (positive and negative)\n",
    "    number: number to see if pairs sum to (default 0)\n",
    "\n",
    "    Returns\n",
    "    -------\n",
    "    {int} the number of pairs found that sum to given number\n",
    "    '''\n",
    "    length = len(arr)\n",
    "    count=0\n",
    "    for i in range(length):\n",
    "        for j in range(length):\n",
    "            if  (arr[i]+arr[j]==number and i!=j):\n",
    "                count=count+1    \n",
    "    print(int(count/2))"
   ]
  },
  {
   "cell_type": "code",
   "execution_count": 47,
   "metadata": {},
   "outputs": [
    {
     "name": "stdout",
     "output_type": "stream",
     "text": [
      "6\n"
     ]
    }
   ],
   "source": [
    "count_pair_sums([1, 1, 1, 1], 2)"
   ]
  },
  {
   "cell_type": "code",
   "execution_count": 78,
   "metadata": {},
   "outputs": [
    {
     "data": {
      "text/plain": [
       "set()"
      ]
     },
     "execution_count": 78,
     "metadata": {},
     "output_type": "execute_result"
    }
   ],
   "source": [
    "import random\n",
    "random.random()\n",
    "import numpy as np\n",
    "x=np.arange(3)\n",
    "x\n",
    "x.shape\n",
    "arr=np.array([0.2, 0.8, 0.3, 0.6])\n",
    "#np.sum(y)/len(y)\n",
    "mean=np.sum(arr)/len(arr)\n",
    "arr_ind=arr[arr>mean]\n",
    "#arr_new=arr[arr_ind]\n",
    "arr_ind    \n",
    "#    return(arr_new)\n",
    "A=np.arange(0,9).reshape(3,3)\n",
    "B=np.arange(10,19).reshape(3,3)\n",
    "B=np.arange(10,13).reshape(3,1)\n",
    "\n",
    "np.min(f)\n",
    "if(A.shape == B.shape):\n",
    "    C=np.add(A,B)\n",
    "else:\n",
    "    C=False\n",
    "a = set([\"A\",\"B\"])#,\"C\",\"D\"])\n",
    "b = set([\"C\",\"D\"])#,\"E\",\"F\"])\n",
    "a.intersection(b)"
   ]
  },
  {
   "cell_type": "code",
   "execution_count": 79,
   "metadata": {},
   "outputs": [],
   "source": [
    "def deMorgans(E=set(), F=set(), S=set()):\n",
    "    '''\n",
    "    Return, as a tuple of the form (Law A, Law B), each of the sets\n",
    "    associated with De Morgan's laws as applied to sets E and F.\n",
    "\n",
    "    Return \"Improper Specification\" if three sets are not supplied\n",
    "    or if the events E and F are not subsets of the sample space S.\n",
    "    \n",
    "    Parameters\n",
    "    ----------\n",
    "    E : {set} First event space\n",
    "    F : {set} Second event space\n",
    "    S : {set} Complete sample space\n",
    "\n",
    "    Returns\n",
    "    -------\n",
    "    tuple({set}, {set}) or {str} \n",
    "\n",
    "    Example:\n",
    "    >>> DeMorgans(set([1,2,3]), set([2,3,4]), set([0,1,2,3,4,5]))\n",
    "    (set([0, 5]), set([0, 1, 4, 5])\n",
    "    '''\n",
    "\n",
    "    if check_specs(E, F, S) == \"fail\":\n",
    "        return \"Improper Specification\"\n",
    "    else:\n",
    "        law_a = lawA(E, F, S)\n",
    "        law_b = lawB(E, F, S)\n",
    "    return (law_a, law_b)\n",
    "\n",
    "\n",
    "def check_specs(E, F, S):\n",
    "    if(S.intersection(E)!=set() and S.intersection(F)!=set()):\n",
    "        spec='pass'\n",
    "    else:\n",
    "        spec='fail'\n",
    "    return(spec)\n",
    "\n",
    "\n",
    "def lawA(E, F, S):\n",
    "    complement_E = S.difference(E)\n",
    "    complement_F = S.difference(F)\n",
    "    law_a=complement_F.intersection(complement_E)\n",
    "    return(law_a)\n",
    "\n",
    "\n",
    "def lawB(E, F, S):\n",
    "    complement_E = S.difference(E)\n",
    "    complement_F = S.difference(F)\n",
    "    law_b=complement_F.union(complement_E)\n",
    "    return(law_b)"
   ]
  },
  {
   "cell_type": "code",
   "execution_count": 81,
   "metadata": {},
   "outputs": [
    {
     "data": {
      "text/plain": [
       "(set(), {'A', 'B', 'C', 'D'})"
      ]
     },
     "execution_count": 81,
     "metadata": {},
     "output_type": "execute_result"
    }
   ],
   "source": [
    "deMorgans(E=a, F=b, S=a.union(b))"
   ]
  }
 ],
 "metadata": {
  "kernelspec": {
   "display_name": "Python 3",
   "language": "python",
   "name": "python3"
  },
  "language_info": {
   "codemirror_mode": {
    "name": "ipython",
    "version": 3
   },
   "file_extension": ".py",
   "mimetype": "text/x-python",
   "name": "python",
   "nbconvert_exporter": "python",
   "pygments_lexer": "ipython3",
   "version": "3.7.3"
  },
  "toc": {
   "base_numbering": 1,
   "nav_menu": {},
   "number_sections": true,
   "sideBar": true,
   "skip_h1_title": false,
   "title_cell": "Table of Contents",
   "title_sidebar": "Contents",
   "toc_cell": false,
   "toc_position": {},
   "toc_section_display": true,
   "toc_window_display": false
  }
 },
 "nbformat": 4,
 "nbformat_minor": 2
}
